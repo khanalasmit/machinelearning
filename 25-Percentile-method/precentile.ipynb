{
 "cells": [
  {
   "cell_type": "markdown",
   "id": "f0535974",
   "metadata": {},
   "source": [
    "### **Percentile Method of Outliers Detection**"
   ]
  },
  {
   "cell_type": "markdown",
   "id": "3f7decaf",
   "metadata": {},
   "source": [
    "95% percentile means 95% of the data are behind that data set when arranged and 50 percetile is the median of the data."
   ]
  },
  {
   "cell_type": "markdown",
   "id": "cf527ad5",
   "metadata": {},
   "source": [
    "Capping in the percentile method is called **winsorization** Technique."
   ]
  },
  {
   "cell_type": "markdown",
   "id": "cef9d427",
   "metadata": {},
   "source": [
    "We remove the data more than ceratain percentile or cap those values in this method. We decide the limit of the percentile above which we will remove the data."
   ]
  },
  {
   "cell_type": "code",
   "execution_count": 1,
   "id": "1090556a",
   "metadata": {},
   "outputs": [],
   "source": [
    "import numpy as np\n",
    "import pandas as pd\n",
    "import seaborn as sns\n",
    "import matplotlib.pyplot as plt"
   ]
  },
  {
   "cell_type": "code",
   "execution_count": null,
   "id": "943d93a1",
   "metadata": {},
   "outputs": [],
   "source": []
  }
 ],
 "metadata": {
  "kernelspec": {
   "display_name": "Python 3",
   "language": "python",
   "name": "python3"
  },
  "language_info": {
   "codemirror_mode": {
    "name": "ipython",
    "version": 3
   },
   "file_extension": ".py",
   "mimetype": "text/x-python",
   "name": "python",
   "nbconvert_exporter": "python",
   "pygments_lexer": "ipython3",
   "version": "3.12.4"
  }
 },
 "nbformat": 4,
 "nbformat_minor": 5
}
