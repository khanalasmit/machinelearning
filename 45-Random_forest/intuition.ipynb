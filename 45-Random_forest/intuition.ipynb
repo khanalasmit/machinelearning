{
 "cells": [
  {
   "cell_type": "markdown",
   "id": "c1c2c610",
   "metadata": {},
   "source": [
    "## **RANDOM FOREST**"
   ]
  },
  {
   "cell_type": "markdown",
   "id": "6dbd67ee",
   "metadata": {},
   "source": [
    "It is the type of the ensemble learning. It is the bagging technique where a single model is trained on the multiple datas with varying hyperparameters and result is based on the voting for a classifier and the mean for the regression. It is a type of bagging techique so there are some differences."
   ]
  },
  {
   "cell_type": "markdown",
   "id": "31c28138",
   "metadata": {},
   "source": [
    "* It is group of tress\n",
    "* It is bagging based techinque where we do bootstaped aggretation. Sampling is done and the result is aggreagated. Thus the name.\n",
    "* Using decision tree as the base model gives us the random forest. The data is given by row sampling, column sampling"
   ]
  }
 ],
 "metadata": {
  "language_info": {
   "name": "python"
  }
 },
 "nbformat": 4,
 "nbformat_minor": 5
}
