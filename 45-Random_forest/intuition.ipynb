{
 "cells": [
  {
   "cell_type": "markdown",
   "id": "c1c2c610",
   "metadata": {},
   "source": [
    "## **RANDOM FOREST**"
   ]
  },
  {
   "cell_type": "markdown",
   "id": "6dbd67ee",
   "metadata": {},
   "source": [
    "It is the type of the ensemble learning. It is the bagging technique where a single model is trained on the multiple datas with varying hyperparameters and result is based on the voting for a classifier and the mean for the regression. It is a type of bagging techique so there are some differences."
   ]
  },
  {
   "cell_type": "markdown",
   "id": "31c28138",
   "metadata": {},
   "source": [
    "* It is group of tress\n",
    "* It is bagging based techinque where we do bootstaped aggretation. Sampling is done and the result is aggreagated. Thus the name.\n",
    "* Using decision tree as the base model gives us the random forest. The data is given by row sampling, column sampling, combination of both."
   ]
  },
  {
   "cell_type": "markdown",
   "id": "2a45a607",
   "metadata": {},
   "source": [
    "\n",
    "## **Key Differences Between Bagging and Random Forest**\n",
    "\n",
    "### **1. Feature Selection**\n",
    "- **Bagging**: Uses **all features** for each split in every tree\n",
    "- **Random Forest**: Uses **random subset of features** (√p features for classification, p/3 for regression) at each split\n",
    "\n",
    "### **2. Base Estimator**\n",
    "- **Bagging**: Can use **any base estimator** (Decision Trees, SVM, etc.)\n",
    "- **Random Forest**: **Only uses Decision Trees** as base estimators\n",
    "\n",
    "### **3. Randomness**\n",
    "- **Bagging**: Randomness only from **bootstrap sampling** of rows\n",
    "- **Random Forest**: **Double randomness** - bootstrap sampling + random feature selection\n",
    "\n",
    "### **4. Overfitting Control**\n",
    "- **Bagging**: Reduces overfitting through **ensemble averaging**\n",
    "- **Random Forest**: **Better overfitting control** due to feature randomness + ensemble\n",
    "\n",
    "### **5. Tree Depth**\n",
    "- **Bagging**: Trees can be **pruned or controlled depth**\n",
    "- **Random Forest**: Trees are typically grown **deep/unpruned** (high variance, low bias)\n",
    "\n",
    "### **6. Feature Importance**\n",
    "- **Bagging**: Limited feature importance analysis\n",
    "- **Random Forest**: **Built-in feature importance** calculation\n",
    "\n",
    "### **Summary**\n",
    "Random Forest is a **specialized type of bagging** that:\n",
    "- Only uses Decision Trees\n",
    "- Adds feature randomness at each split\n",
    "- Generally performs better than"
   ]
  },
  {
   "cell_type": "markdown",
   "id": "2fa35f92",
   "metadata": {},
   "source": []
  }
 ],
 "metadata": {
  "language_info": {
   "name": "python"
  }
 },
 "nbformat": 4,
 "nbformat_minor": 5
}
