{
 "cells": [
  {
   "cell_type": "markdown",
   "id": "f70a993a",
   "metadata": {},
   "source": [
    "### **HYPER PARAMETERS IN RANDOM FOREST CLASSIFIER AND REGRESSOR**"
   ]
  },
  {
   "cell_type": "markdown",
   "id": "0bbde3f0",
   "metadata": {},
   "source": [
    "#### **TO TRAIN RANDOM FOREST**\n",
    "* **num estimators**:number of decision trees to use\n",
    "* **max features**:number of max features to use each time\n",
    "* **bootstrap**:if we waana randomly select the features sampled"
   ]
  },
  {
   "cell_type": "markdown",
   "id": "4951a205",
   "metadata": {},
   "source": [
    "#### **TO TRAIN THE DECSION TREE INSIDE FOREST**\n",
    "* **"
   ]
  }
 ],
 "metadata": {
  "language_info": {
   "name": "python"
  }
 },
 "nbformat": 4,
 "nbformat_minor": 5
}
