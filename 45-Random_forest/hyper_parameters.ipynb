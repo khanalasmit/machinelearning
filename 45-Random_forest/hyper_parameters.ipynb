{
 "cells": [
  {
   "cell_type": "markdown",
   "id": "f70a993a",
   "metadata": {},
   "source": [
    "### **HYPER PARAMETERS IN RANDOM FOREST CLASSIFIER AND REGRESSOR**"
   ]
  },
  {
   "cell_type": "markdown",
   "id": "0bbde3f0",
   "metadata": {},
   "source": [
    "#### **TO TRAIN RANDOM FOREST**\n",
    "* **num estimators**:number of decision trees to use\n",
    "* **max features**:number of max features to use each time\n",
    "    - *int*:consider max features\n",
    "    - *float*:fraction and round(max_features*n_features)\n",
    "    - *auto* :square root of n_features\n",
    "    - *log2*:$log_2(n features)$\n",
    "    - *none*:all the features\n",
    "* **bootstrap**:if we waana randomly select the features with or without replacement during sampling"
   ]
  },
  {
   "cell_type": "markdown",
   "id": "4951a205",
   "metadata": {},
   "source": [
    "#### **TO TRAIN THE DECSION TREE INSIDE FOREST**\n",
    "* **criteria**:\n",
    "    - *gini* or *entropy*"
   ]
  },
  {
   "cell_type": "markdown",
   "id": "6ee84aed",
   "metadata": {},
   "source": []
  }
 ],
 "metadata": {
  "language_info": {
   "name": "python"
  }
 },
 "nbformat": 4,
 "nbformat_minor": 5
}
