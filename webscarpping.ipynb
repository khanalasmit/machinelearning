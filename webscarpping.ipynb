{
 "cells": [
  {
   "cell_type": "markdown",
   "id": "9aa7e0b8",
   "metadata": {},
   "source": [
    "* <p style='font-size:25px'> WEB SCARPPING IS DONE IN THIS FILE USING SELENIUM </p>"
   ]
  },
  {
   "cell_type": "code",
   "execution_count": 35,
   "id": "9cf5c456",
   "metadata": {},
   "outputs": [],
   "source": [
    "from selenium import webdriver\n",
    "import time\n",
    "from selenium.webdriver.common.by import By\n",
    "from selenium.webdriver.common.keys import Keys\n",
    "from selenium.webdriver.support.wait import WebDriverWait\n",
    "from selenium.webdriver.support import expected_conditions as EC\n",
    "from bs4 import BeautifulSoup\n",
    "import pandas as pd\n",
    "import math"
   ]
  },
  {
   "cell_type": "code",
   "execution_count": null,
   "id": "bf29dc67",
   "metadata": {},
   "outputs": [],
   "source": [
    "driver = webdriver.Chrome()\n",
    "driver.get('https://www.youtube.com')\n",
    "# 'youtube' in driver.title\n",
    "elem = driver.find_element(By.NAME, 'search_query')\n",
    "elem.clear()\n",
    "elem.send_keys('total gaming')\n",
    "elem.send_keys(Keys.RETURN)\n",
    "time.sleep(20)\n",
    "driver.quit()"
   ]
  },
  {
   "cell_type": "code",
   "execution_count": 12,
   "id": "4b350351",
   "metadata": {},
   "outputs": [],
   "source": [
    "driver=webdriver.Chrome()\n",
    "driver.get('https://www.youtube.com')\n",
    "try:\n",
    "    element=WebDriverWait(driver,10).until(\n",
    "        EC.presence_of_element_located((By.NAME,'search_query'))\n",
    "    )\n",
    "except:\n",
    "    driver.quit()\n",
    "driver.quit()"
   ]
  },
  {
   "cell_type": "markdown",
   "id": "13577611",
   "metadata": {},
   "source": [
    "* <p style='font:Aerial'><b>MAKING A AUTOMATED WEB SCRAPPING PIECE OF CODE TO GOTO YOUTUBE, SEARCH FOR TOTAL GAMING AND THEN SEARCH FIND THE VIEWS OF THE CHANNEL IN PAST 2 MONTHS (OF EACH VIDEOS) , GOTO ANOTHER SIMILAR CHANNEL AND DO THE COMPARISION</b></p>"
   ]
  },
  {
   "cell_type": "code",
   "execution_count": 48,
   "id": "0d497803",
   "metadata": {},
   "outputs": [],
   "source": [
    "def channel_bot(name):\n",
    "    driver = webdriver.Chrome()\n",
    "    driver.get('https://www.youtube.com')\n",
    "    try:\n",
    "        element = WebDriverWait(driver, 10).until(\n",
    "            EC.presence_of_element_located((By.NAME, 'search_query'))\n",
    "        )\n",
    "        element.clear()\n",
    "        element.send_keys(name)\n",
    "        element.send_keys(Keys.RETURN)  \n",
    "        channel_button = WebDriverWait(driver, 10).until(\n",
    "            EC.element_to_be_clickable((By.XPATH, \"(//ytd-channel-renderer//a[@id='main-link'])[1]\"))\n",
    "        )\n",
    "        #driver.execute_script(\"arguments[0].scrollIntoView();\", channel_button)\n",
    "        channel_button.click()\n",
    "        videos_button=WebDriverWait(driver,10).until(\n",
    "            EC.element_to_be_clickable((By.XPATH,\"//yt-tab-shape[@tab-title='Videos']\"))\n",
    "        )\n",
    "        videos_button.click()\n",
    "        time.sleep(120)\n",
    "        html=driver.page_source\n",
    "        soup=BeautifulSoup(html,'html.parser')\n",
    "        return soup\n",
    "        \n",
    "    except:\n",
    "        print('some error occured')\n",
    "        driver.quit()\n",
    "    finally:\n",
    "        driver.quit()  \n"
   ]
  },
  {
   "cell_type": "code",
   "execution_count": 52,
   "id": "093baa53",
   "metadata": {},
   "outputs": [],
   "source": [
    "soup=channel_bot('freecodecamp.org')"
   ]
  },
  {
   "cell_type": "code",
   "execution_count": 53,
   "id": "2cad7dda",
   "metadata": {},
   "outputs": [],
   "source": [
    "view_df=pd.DataFrame()"
   ]
  },
  {
   "cell_type": "code",
   "execution_count": null,
   "id": "fd27fea9",
   "metadata": {},
   "outputs": [
    {
     "name": "stdout",
     "output_type": "stream",
     "text": [
      "0\n"
     ]
    }
   ],
   "source": [
    "view_list = soup.find_all('span', {'class': 'inline-metadata-item'})\n",
    "video_title=soup.find_all('yt-formatted-string',{'id':'video-title'})\n",
    "num = 0\n",
    "data = {'title':[],'views': [], 'time': []}\n",
    "for item in view_list:\n",
    "    if num % 2 == 0:\n",
    "        data['views'].append(item.get_text())\n",
    "    else:\n",
    "        data['time'].append(item.get_text())\n",
    "    num += 1\n",
    "\n",
    "for title in video_title:\n",
    "    data['title'].append(title.get_text())\n",
    "print(len(data['title']))\n",
    "print(len(data['views']))"
   ]
  },
  {
   "cell_type": "code",
   "execution_count": null,
   "id": "a0fb610d",
   "metadata": {},
   "outputs": [],
   "source": []
  }
 ],
 "metadata": {
  "kernelspec": {
   "display_name": "Python 3",
   "language": "python",
   "name": "python3"
  },
  "language_info": {
   "codemirror_mode": {
    "name": "ipython",
    "version": 3
   },
   "file_extension": ".py",
   "mimetype": "text/x-python",
   "name": "python",
   "nbconvert_exporter": "python",
   "pygments_lexer": "ipython3",
   "version": "3.12.4"
  }
 },
 "nbformat": 4,
 "nbformat_minor": 5
}
