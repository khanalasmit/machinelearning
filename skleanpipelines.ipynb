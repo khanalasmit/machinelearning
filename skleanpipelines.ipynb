{
 "cells": [
  {
   "cell_type": "markdown",
   "id": "8d3cdd69",
   "metadata": {},
   "source": [
    "## <b>Sklearn Pipelines</b>"
   ]
  },
  {
   "cell_type": "markdown",
   "id": "2d0ddeed",
   "metadata": {},
   "source": []
  }
 ],
 "metadata": {
  "language_info": {
   "name": "python"
  }
 },
 "nbformat": 4,
 "nbformat_minor": 5
}
