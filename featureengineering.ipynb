{
 "cells": [
  {
   "cell_type": "markdown",
   "id": "068a09e7",
   "metadata": {},
   "source": [
    "## <p><b>                                    FEATURE ENGINEERING       </b></p>"
   ]
  },
  {
   "cell_type": "markdown",
   "id": "88075f82",
   "metadata": {},
   "source": [
    "Feature engineering includes\n",
    "* Feature construction\n",
    "* Feature extraction\n",
    "* Feature selection\n",
    "* Feature scaling\n",
    "These all are used to make the data suitable to feed to the machine learning algorithm to make the machine learning algoritm perform better. Example: Large no of dimension may cause the machine learning algorithm overfit and may not work better thus the <b>Feature extraction </b> is done in this case. Similary, in the dataset with multiple features, the scale of the data may cause one feature to be overly important. "
   ]
  },
  {
   "cell_type": "markdown",
   "id": "61cf553c",
   "metadata": {},
   "source": [
    "## <b> FEATURE SCALING <b> \n"
   ]
  },
  {
   "cell_type": "markdown",
   "id": "26b8461e",
   "metadata": {},
   "source": [
    "Feature scaling is a technique to standardize the independent features present in the data in a fixed range.\n",
    "\n",
    "Types of feature scaling:\n",
    "* feature standardization(z-score noramalization)\n",
    "* feature normalization\n"
   ]
  },
  {
   "cell_type": "markdown",
   "id": "ea6f5ee0",
   "metadata": {},
   "source": [
    "### Standardization"
   ]
  },
  {
   "cell_type": "code",
   "execution_count": 52,
   "id": "95634b51",
   "metadata": {},
   "outputs": [],
   "source": [
    "import numpy as np\n",
    "import pandas as pd\n",
    "import matplotlib.pyplot as plt\n",
    "import seaborn as sns"
   ]
  },
  {
   "cell_type": "code",
   "execution_count": 53,
   "id": "a469024a",
   "metadata": {},
   "outputs": [],
   "source": [
    "ads=pd.read_csv('advertising.csv')\n",
    "X_data=ads.iloc[:,:4]\n",
    "Y_data=ads['Clicked on Ad']"
   ]
  },
  {
   "cell_type": "code",
   "execution_count": 54,
   "id": "0abd3018",
   "metadata": {},
   "outputs": [
    {
     "data": {
      "text/html": [
       "<div>\n",
       "<style scoped>\n",
       "    .dataframe tbody tr th:only-of-type {\n",
       "        vertical-align: middle;\n",
       "    }\n",
       "\n",
       "    .dataframe tbody tr th {\n",
       "        vertical-align: top;\n",
       "    }\n",
       "\n",
       "    .dataframe thead th {\n",
       "        text-align: right;\n",
       "    }\n",
       "</style>\n",
       "<table border=\"1\" class=\"dataframe\">\n",
       "  <thead>\n",
       "    <tr style=\"text-align: right;\">\n",
       "      <th></th>\n",
       "      <th>Daily Time Spent on Site</th>\n",
       "      <th>Age</th>\n",
       "      <th>Area Income</th>\n",
       "      <th>Daily Internet Usage</th>\n",
       "    </tr>\n",
       "  </thead>\n",
       "  <tbody>\n",
       "    <tr>\n",
       "      <th>0</th>\n",
       "      <td>68.95</td>\n",
       "      <td>35</td>\n",
       "      <td>61833.90</td>\n",
       "      <td>256.09</td>\n",
       "    </tr>\n",
       "    <tr>\n",
       "      <th>1</th>\n",
       "      <td>80.23</td>\n",
       "      <td>31</td>\n",
       "      <td>68441.85</td>\n",
       "      <td>193.77</td>\n",
       "    </tr>\n",
       "    <tr>\n",
       "      <th>2</th>\n",
       "      <td>69.47</td>\n",
       "      <td>26</td>\n",
       "      <td>59785.94</td>\n",
       "      <td>236.50</td>\n",
       "    </tr>\n",
       "    <tr>\n",
       "      <th>3</th>\n",
       "      <td>74.15</td>\n",
       "      <td>29</td>\n",
       "      <td>54806.18</td>\n",
       "      <td>245.89</td>\n",
       "    </tr>\n",
       "    <tr>\n",
       "      <th>4</th>\n",
       "      <td>68.37</td>\n",
       "      <td>35</td>\n",
       "      <td>73889.99</td>\n",
       "      <td>225.58</td>\n",
       "    </tr>\n",
       "  </tbody>\n",
       "</table>\n",
       "</div>"
      ],
      "text/plain": [
       "   Daily Time Spent on Site  Age  Area Income  Daily Internet Usage\n",
       "0                     68.95   35     61833.90                256.09\n",
       "1                     80.23   31     68441.85                193.77\n",
       "2                     69.47   26     59785.94                236.50\n",
       "3                     74.15   29     54806.18                245.89\n",
       "4                     68.37   35     73889.99                225.58"
      ]
     },
     "execution_count": 54,
     "metadata": {},
     "output_type": "execute_result"
    }
   ],
   "source": [
    "X_data.head()"
   ]
  },
  {
   "cell_type": "code",
   "execution_count": 55,
   "id": "65f7ec63",
   "metadata": {},
   "outputs": [
    {
     "data": {
      "text/plain": [
       "0    0\n",
       "1    0\n",
       "2    0\n",
       "3    0\n",
       "4    0\n",
       "Name: Clicked on Ad, dtype: int64"
      ]
     },
     "execution_count": 55,
     "metadata": {},
     "output_type": "execute_result"
    }
   ],
   "source": [
    "Y_data.head()"
   ]
  },
  {
   "cell_type": "code",
   "execution_count": 56,
   "id": "c34bfb8f",
   "metadata": {},
   "outputs": [],
   "source": [
    "from sklearn.model_selection import train_test_split\n",
    "X_train,X_test,Y_train,Y_test=train_test_split(X_data,Y_data,test_size=0.3,random_state=20)"
   ]
  },
  {
   "cell_type": "code",
   "execution_count": 57,
   "id": "2fa9c726",
   "metadata": {},
   "outputs": [
    {
     "data": {
      "text/plain": [
       "((700, 4), (300, 4))"
      ]
     },
     "execution_count": 57,
     "metadata": {},
     "output_type": "execute_result"
    }
   ],
   "source": [
    "X_train.shape,X_test.shape"
   ]
  },
  {
   "cell_type": "code",
   "execution_count": 58,
   "id": "35697a0d",
   "metadata": {},
   "outputs": [
    {
     "data": {
      "text/plain": [
       "(700,)"
      ]
     },
     "execution_count": 58,
     "metadata": {},
     "output_type": "execute_result"
    }
   ],
   "source": [
    "Y_train.shape"
   ]
  },
  {
   "cell_type": "code",
   "execution_count": 59,
   "id": "ee41efdf",
   "metadata": {},
   "outputs": [],
   "source": [
    "from sklearn.preprocessing import StandardScaler\n",
    "scaler=StandardScaler()\n",
    "scaler.fit(X_train)\n",
    "X_train_scaled=scaler.transform(X_train)\n",
    "X_test_scaled=scaler.transform(X_test)\n"
   ]
  },
  {
   "cell_type": "code",
   "execution_count": 60,
   "id": "ef0e8eb4",
   "metadata": {},
   "outputs": [
    {
     "data": {
      "text/plain": [
       "array([6.49682000e+01, 3.61000000e+01, 5.45113402e+04, 1.79897671e+02])"
      ]
     },
     "execution_count": 60,
     "metadata": {},
     "output_type": "execute_result"
    }
   ],
   "source": [
    "scaler.mean_"
   ]
  },
  {
   "cell_type": "code",
   "execution_count": 61,
   "id": "735f3247",
   "metadata": {},
   "outputs": [
    {
     "data": {
      "text/plain": [
       "array([[ 1.18647074, -0.58579795,  0.70621484,  0.23399754],\n",
       "       [-1.860754  ,  1.02227486, -0.57443344, -0.61114257],\n",
       "       [ 1.32463839, -0.47093561,  0.52094974, -0.02209867],\n",
       "       ...,\n",
       "       [ 0.50693711,  0.10337611,  1.40905844,  0.94690793],\n",
       "       [-1.09831978, -0.58579795, -1.84817168, -0.87153343],\n",
       "       [ 1.38932597, -0.01148623,  0.23705799,  0.95120257]])"
      ]
     },
     "execution_count": 61,
     "metadata": {},
     "output_type": "execute_result"
    }
   ],
   "source": [
    "X_train_scaled"
   ]
  },
  {
   "cell_type": "code",
   "execution_count": 62,
   "id": "e017dba9",
   "metadata": {},
   "outputs": [],
   "source": [
    "X_train_scaled=pd.DataFrame(X_train_scaled,columns=X_train.columns)"
   ]
  },
  {
   "cell_type": "code",
   "execution_count": 63,
   "id": "9f21741b",
   "metadata": {},
   "outputs": [],
   "source": [
    "X_train_scaled.head()\n",
    "X_test_scaled=pd.DataFrame(X_test_scaled,columns=X_test.columns)"
   ]
  },
  {
   "cell_type": "code",
   "execution_count": 64,
   "id": "bff29cae",
   "metadata": {},
   "outputs": [
    {
     "data": {
      "text/html": [
       "<div>\n",
       "<style scoped>\n",
       "    .dataframe tbody tr th:only-of-type {\n",
       "        vertical-align: middle;\n",
       "    }\n",
       "\n",
       "    .dataframe tbody tr th {\n",
       "        vertical-align: top;\n",
       "    }\n",
       "\n",
       "    .dataframe thead th {\n",
       "        text-align: right;\n",
       "    }\n",
       "</style>\n",
       "<table border=\"1\" class=\"dataframe\">\n",
       "  <thead>\n",
       "    <tr style=\"text-align: right;\">\n",
       "      <th></th>\n",
       "      <th>Daily Time Spent on Site</th>\n",
       "      <th>Age</th>\n",
       "      <th>Area Income</th>\n",
       "      <th>Daily Internet Usage</th>\n",
       "    </tr>\n",
       "  </thead>\n",
       "  <tbody>\n",
       "    <tr>\n",
       "      <th>0</th>\n",
       "      <td>0.733658</td>\n",
       "      <td>-0.585798</td>\n",
       "      <td>0.485419</td>\n",
       "      <td>1.323028</td>\n",
       "    </tr>\n",
       "    <tr>\n",
       "      <th>1</th>\n",
       "      <td>0.206108</td>\n",
       "      <td>-0.356073</td>\n",
       "      <td>1.614262</td>\n",
       "      <td>0.428613</td>\n",
       "    </tr>\n",
       "    <tr>\n",
       "      <th>2</th>\n",
       "      <td>0.116928</td>\n",
       "      <td>1.137137</td>\n",
       "      <td>1.716516</td>\n",
       "      <td>0.367810</td>\n",
       "    </tr>\n",
       "    <tr>\n",
       "      <th>3</th>\n",
       "      <td>0.373794</td>\n",
       "      <td>0.562825</td>\n",
       "      <td>-0.331813</td>\n",
       "      <td>-1.621513</td>\n",
       "    </tr>\n",
       "    <tr>\n",
       "      <th>4</th>\n",
       "      <td>-1.715678</td>\n",
       "      <td>1.711449</td>\n",
       "      <td>-0.297911</td>\n",
       "      <td>-0.420596</td>\n",
       "    </tr>\n",
       "  </tbody>\n",
       "</table>\n",
       "</div>"
      ],
      "text/plain": [
       "   Daily Time Spent on Site       Age  Area Income  Daily Internet Usage\n",
       "0                  0.733658 -0.585798     0.485419              1.323028\n",
       "1                  0.206108 -0.356073     1.614262              0.428613\n",
       "2                  0.116928  1.137137     1.716516              0.367810\n",
       "3                  0.373794  0.562825    -0.331813             -1.621513\n",
       "4                 -1.715678  1.711449    -0.297911             -0.420596"
      ]
     },
     "execution_count": 64,
     "metadata": {},
     "output_type": "execute_result"
    }
   ],
   "source": [
    "X_test_scaled.head()"
   ]
  },
  {
   "cell_type": "code",
   "execution_count": 65,
   "id": "2edc2999",
   "metadata": {},
   "outputs": [
    {
     "data": {
      "text/html": [
       "<div>\n",
       "<style scoped>\n",
       "    .dataframe tbody tr th:only-of-type {\n",
       "        vertical-align: middle;\n",
       "    }\n",
       "\n",
       "    .dataframe tbody tr th {\n",
       "        vertical-align: top;\n",
       "    }\n",
       "\n",
       "    .dataframe thead th {\n",
       "        text-align: right;\n",
       "    }\n",
       "</style>\n",
       "<table border=\"1\" class=\"dataframe\">\n",
       "  <thead>\n",
       "    <tr style=\"text-align: right;\">\n",
       "      <th></th>\n",
       "      <th>Daily Time Spent on Site</th>\n",
       "      <th>Age</th>\n",
       "      <th>Area Income</th>\n",
       "      <th>Daily Internet Usage</th>\n",
       "    </tr>\n",
       "  </thead>\n",
       "  <tbody>\n",
       "    <tr>\n",
       "      <th>count</th>\n",
       "      <td>700.0</td>\n",
       "      <td>700.0</td>\n",
       "      <td>700.0</td>\n",
       "      <td>700.0</td>\n",
       "    </tr>\n",
       "    <tr>\n",
       "      <th>mean</th>\n",
       "      <td>0.0</td>\n",
       "      <td>-0.0</td>\n",
       "      <td>0.0</td>\n",
       "      <td>-0.0</td>\n",
       "    </tr>\n",
       "    <tr>\n",
       "      <th>std</th>\n",
       "      <td>1.0</td>\n",
       "      <td>1.0</td>\n",
       "      <td>1.0</td>\n",
       "      <td>1.0</td>\n",
       "    </tr>\n",
       "    <tr>\n",
       "      <th>min</th>\n",
       "      <td>-2.0</td>\n",
       "      <td>-2.0</td>\n",
       "      <td>-2.9</td>\n",
       "      <td>-1.7</td>\n",
       "    </tr>\n",
       "    <tr>\n",
       "      <th>25%</th>\n",
       "      <td>-0.8</td>\n",
       "      <td>-0.8</td>\n",
       "      <td>-0.6</td>\n",
       "      <td>-0.9</td>\n",
       "    </tr>\n",
       "    <tr>\n",
       "      <th>50%</th>\n",
       "      <td>0.2</td>\n",
       "      <td>-0.1</td>\n",
       "      <td>0.2</td>\n",
       "      <td>0.1</td>\n",
       "    </tr>\n",
       "    <tr>\n",
       "      <th>75%</th>\n",
       "      <td>0.9</td>\n",
       "      <td>0.7</td>\n",
       "      <td>0.8</td>\n",
       "      <td>0.9</td>\n",
       "    </tr>\n",
       "    <tr>\n",
       "      <th>max</th>\n",
       "      <td>1.7</td>\n",
       "      <td>2.9</td>\n",
       "      <td>1.8</td>\n",
       "      <td>2.0</td>\n",
       "    </tr>\n",
       "  </tbody>\n",
       "</table>\n",
       "</div>"
      ],
      "text/plain": [
       "       Daily Time Spent on Site    Age  Area Income  Daily Internet Usage\n",
       "count                     700.0  700.0        700.0                 700.0\n",
       "mean                        0.0   -0.0          0.0                  -0.0\n",
       "std                         1.0    1.0          1.0                   1.0\n",
       "min                        -2.0   -2.0         -2.9                  -1.7\n",
       "25%                        -0.8   -0.8         -0.6                  -0.9\n",
       "50%                         0.2   -0.1          0.2                   0.1\n",
       "75%                         0.9    0.7          0.8                   0.9\n",
       "max                         1.7    2.9          1.8                   2.0"
      ]
     },
     "execution_count": 65,
     "metadata": {},
     "output_type": "execute_result"
    }
   ],
   "source": [
    "np.round(X_train_scaled.describe(),1)\n"
   ]
  },
  {
   "cell_type": "code",
   "execution_count": 66,
   "id": "c73e64cf",
   "metadata": {},
   "outputs": [
    {
     "data": {
      "text/html": [
       "<div>\n",
       "<style scoped>\n",
       "    .dataframe tbody tr th:only-of-type {\n",
       "        vertical-align: middle;\n",
       "    }\n",
       "\n",
       "    .dataframe tbody tr th {\n",
       "        vertical-align: top;\n",
       "    }\n",
       "\n",
       "    .dataframe thead th {\n",
       "        text-align: right;\n",
       "    }\n",
       "</style>\n",
       "<table border=\"1\" class=\"dataframe\">\n",
       "  <thead>\n",
       "    <tr style=\"text-align: right;\">\n",
       "      <th></th>\n",
       "      <th>Daily Time Spent on Site</th>\n",
       "      <th>Age</th>\n",
       "      <th>Area Income</th>\n",
       "      <th>Daily Internet Usage</th>\n",
       "    </tr>\n",
       "  </thead>\n",
       "  <tbody>\n",
       "    <tr>\n",
       "      <th>count</th>\n",
       "      <td>700.0</td>\n",
       "      <td>700.0</td>\n",
       "      <td>700.0</td>\n",
       "      <td>700.0</td>\n",
       "    </tr>\n",
       "    <tr>\n",
       "      <th>mean</th>\n",
       "      <td>65.0</td>\n",
       "      <td>36.1</td>\n",
       "      <td>54511.3</td>\n",
       "      <td>179.9</td>\n",
       "    </tr>\n",
       "    <tr>\n",
       "      <th>std</th>\n",
       "      <td>15.9</td>\n",
       "      <td>8.7</td>\n",
       "      <td>13618.9</td>\n",
       "      <td>44.3</td>\n",
       "    </tr>\n",
       "    <tr>\n",
       "      <th>min</th>\n",
       "      <td>32.6</td>\n",
       "      <td>19.0</td>\n",
       "      <td>14548.1</td>\n",
       "      <td>104.8</td>\n",
       "    </tr>\n",
       "    <tr>\n",
       "      <th>25%</th>\n",
       "      <td>51.7</td>\n",
       "      <td>29.0</td>\n",
       "      <td>46460.5</td>\n",
       "      <td>138.9</td>\n",
       "    </tr>\n",
       "    <tr>\n",
       "      <th>50%</th>\n",
       "      <td>68.1</td>\n",
       "      <td>35.0</td>\n",
       "      <td>56735.5</td>\n",
       "      <td>184.1</td>\n",
       "    </tr>\n",
       "    <tr>\n",
       "      <th>75%</th>\n",
       "      <td>78.7</td>\n",
       "      <td>42.0</td>\n",
       "      <td>64927.8</td>\n",
       "      <td>219.5</td>\n",
       "    </tr>\n",
       "    <tr>\n",
       "      <th>max</th>\n",
       "      <td>91.4</td>\n",
       "      <td>61.0</td>\n",
       "      <td>79332.3</td>\n",
       "      <td>270.0</td>\n",
       "    </tr>\n",
       "  </tbody>\n",
       "</table>\n",
       "</div>"
      ],
      "text/plain": [
       "       Daily Time Spent on Site    Age  Area Income  Daily Internet Usage\n",
       "count                     700.0  700.0        700.0                 700.0\n",
       "mean                       65.0   36.1      54511.3                 179.9\n",
       "std                        15.9    8.7      13618.9                  44.3\n",
       "min                        32.6   19.0      14548.1                 104.8\n",
       "25%                        51.7   29.0      46460.5                 138.9\n",
       "50%                        68.1   35.0      56735.5                 184.1\n",
       "75%                        78.7   42.0      64927.8                 219.5\n",
       "max                        91.4   61.0      79332.3                 270.0"
      ]
     },
     "execution_count": 66,
     "metadata": {},
     "output_type": "execute_result"
    }
   ],
   "source": [
    "np.round(X_train.describe(),1)"
   ]
  },
  {
   "cell_type": "markdown",
   "id": "5dade93c",
   "metadata": {},
   "source": [
    "## <b> Effects of scaling </b>"
   ]
  },
  {
   "cell_type": "code",
   "execution_count": 81,
   "id": "174fcea1",
   "metadata": {},
   "outputs": [
    {
     "data": {
      "image/png": "[encoded data removed]",
      "text/plain": [
       "<Figure size 1000x400 with 2 Axes>"
      ]
     },
     "metadata": {},
     "output_type": "display_data"
    }
   ],
   "source": [
    "fig, (ax1, ax2) = plt.subplots(ncols=2, figsize=(10, 4))\n",
    "ax1.scatter(X_train['Daily Time Spent on Site'], X_train['Age'])\n",
    "ax1.scatter(X_train['Daily Time Spent on Site'].mean(), X_train['Age'].mean(), color='green', edgecolor='black', s=100, label='Mean Point')\n",
    "ax2.scatter(X_train_scaled['Daily Time Spent on Site'], X_train_scaled['Age'], color='red')\n",
    "ax2.scatter(X_train_scaled['Daily Time Spent on Site'].mean(),X_train_scaled['Age'].mean(),color='green',edgecolor='black',s=100,label='Mean Point')\n",
    "ax1.set_title('Before Scaling')\n",
    "ax2.set_title('After Scaling')\n",
    "ax2.axvline(0, -2, 3,color='black')\n",
    "ax2.axhline(0, 1, 0,color='black')\n",
    "ax1.legend()\n",
    "ax2.legend()\n",
    "plt.show()\n"
   ]
  },
  {
   "cell_type": "markdown",
   "id": "fe343247",
   "metadata": {},
   "source": [
    "In the figure above, we can see that the mean is centered to zero after scaling and less deviated from mean with no change in the realtive postion of the points."
   ]
  },
  {
   "cell_type": "code",
   "execution_count": null,
   "id": "eb015534",
   "metadata": {},
   "outputs": [],
   "source": []
  }
 ],
 "metadata": {
  "kernelspec": {
   "display_name": "Python 3",
   "language": "python",
   "name": "python3"
  },
  "language_info": {
   "codemirror_mode": {
    "name": "ipython",
    "version": 3
   },
   "file_extension": ".py",
   "mimetype": "text/x-python",
   "name": "python",
   "nbconvert_exporter": "python",
   "pygments_lexer": "ipython3",
   "version": "3.12.4"
  }
 },
 "nbformat": 4,
 "nbformat_minor": 5
}
