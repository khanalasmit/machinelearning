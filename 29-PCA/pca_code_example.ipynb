{
 "cells": [
  {
   "cell_type": "code",
   "execution_count": 1,
   "id": "6ff26d55",
   "metadata": {},
   "outputs": [],
   "source": [
    "import numpy as np\n",
    "import pandas as pd\n",
    "from sklearn.preprocessing import StandardScaler\n"
   ]
  },
  {
   "cell_type": "code",
   "execution_count": null,
   "id": "106db9e9",
   "metadata": {},
   "outputs": [],
   "source": [
    "np.random.seed(23)\n",
    "mu_vec1=np.array([0,0,0])\n",
    "cov_mat1=np.array([[1,0,0],[0,1,0],[0,0,1]])\n",
    "class1_sample=np.random.multivariate_normal(mu_vec1,cov_mat1)\n",
    "df=pd.DataFrame(class1_sample,columns=['feature1','feature2','feature3'])\n",
    "df['target']=1\n"
   ]
  }
 ],
 "metadata": {
  "kernelspec": {
   "display_name": "Python 3",
   "language": "python",
   "name": "python3"
  },
  "language_info": {
   "codemirror_mode": {
    "name": "ipython",
    "version": 3
   },
   "file_extension": ".py",
   "mimetype": "text/x-python",
   "name": "python",
   "nbconvert_exporter": "python",
   "pygments_lexer": "ipython3",
   "version": "3.12.4"
  }
 },
 "nbformat": 4,
 "nbformat_minor": 5
}
