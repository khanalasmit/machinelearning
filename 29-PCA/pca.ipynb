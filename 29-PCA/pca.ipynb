{
 "cells": [
  {
   "cell_type": "markdown",
   "id": "8567e2bf",
   "metadata": {},
   "source": [
    "### **PCA**"
   ]
  },
  {
   "cell_type": "markdown",
   "id": "857a6310",
   "metadata": {},
   "source": [
    "**1. Introduction**"
   ]
  },
  {
   "cell_type": "markdown",
   "id": "fcbd3972",
   "metadata": {},
   "source": [
    "It stands for principal component analysis. It is used in dimensionality reduction. It is the technique of the feature extraction.\n",
    "PCA finds the best possible lower dimensions.\n"
   ]
  },
  {
   "cell_type": "markdown",
   "id": "80955485",
   "metadata": {},
   "source": [
    "**Benefits**\n",
    "* With the low number of features in data, faster execution of the algorithm.\n",
    "* Visulaization\n"
   ]
  },
  {
   "cell_type": "markdown",
   "id": "c900112e",
   "metadata": {},
   "source": [
    "**2. Geometric Intution**"
   ]
  },
  {
   "cell_type": "markdown",
   "id": "6accbf61",
   "metadata": {},
   "source": [
    "A sample data\n",
    "|No of rooms|No of grocery shops|Price|\n",
    "|------|--------|-------|\n",
    "|3|2|60|\n",
    "|4|0|130|\n",
    "|5|6|170|\n",
    "|2|10|90|"
   ]
  },
  {
   "cell_type": "markdown",
   "id": "4e649d93",
   "metadata": {},
   "source": [
    "If we want to predict the price of the house, no of rooms in the features would be more necessay feature than the no of grocery shop around neighbours. This is feature selection. \n"
   ]
  }
 ],
 "metadata": {
  "language_info": {
   "name": "python"
  }
 },
 "nbformat": 4,
 "nbformat_minor": 5
}
