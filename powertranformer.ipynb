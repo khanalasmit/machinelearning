{
 "cells": [
  {
   "cell_type": "markdown",
   "id": "9c8929b2",
   "metadata": {},
   "source": [
    "## <b>POWER TRANFOMER</b>\n",
    "Continued of the function transformer"
   ]
  },
  {
   "cell_type": "markdown",
   "id": "336beb4a",
   "metadata": {},
   "source": [
    "<u><b>Some power transfomers are:</b></u>\n",
    "* Box-Cox transformer\n",
    "* Yeo-Jhonson transfomer"
   ]
  },
  {
   "cell_type": "code",
   "execution_count": 2,
   "id": "e4f88320",
   "metadata": {},
   "outputs": [],
   "source": [
    "import pandas as pd \n",
    "import numpy as np\n",
    "import matplotlib.pyplot as plt\n",
    "import seaborn as sns\n",
    "\n",
    "import scipy.stats as stats"
   ]
  },
  {
   "cell_type": "markdown",
   "id": "fede7017",
   "metadata": {},
   "source": [
    "### 1. Box-cox transformer\n",
    "$$\n",
    "x_i^{(\\lambda)} = \n",
    "    \\begin{cases}\n",
    "        \\frac{x_i^{\\lambda} - 1}{\\lambda} & \\text{if } \\lambda \\neq 0 \\\\\n",
    "        \\ln(x_i) & \\text{if } \\lambda = 0\n",
    "    \\end{cases}\n",
    "$$\n",
    "Here $\\lambda$ varies from -5 to 5 and in the process of seraching we examine all the values of $\\lambda$. Finally we choose the optimal value of the lambda. To examine the value of the $\\lambda$ we use maximum likeklihood estimation."
   ]
  },
  {
   "cell_type": "markdown",
   "id": "3d6fbded",
   "metadata": {},
   "source": [
    "### 2. Yeo-Jhonson Transform\n",
    "$$\n",
    "x_i^{(\\lambda)}=\n",
    "    \\begin{cases}\n",
    "        [(x_i+1)^{\\lambda}-1]/\\lambda & \\text{if} \\lambda \\neq 0, x_i\\geq 0 \\\\\n",
    "        \\ln(x_i)+1 & \\text{if} \\lambda=0, x_i\\geq 0\\\\\n",
    "        -[(-x_i+1)^{2-\\lambda}-1]/(2-\\lambda) & \\text{if} \\lambda \\neq 2, x_i<0\\\\\n",
    "        -\\ln{(-x_i+1)} & \\text{if} \\lambda =2, x_i<0\n",
    "    \\end{cases}\n",
    "$$\n",
    "This is the adjustment to the box-cox transformation to use for the negetive value of the x."
   ]
  },
  {
   "cell_type": "code",
   "execution_count": 3,
   "id": "9efa30cd",
   "metadata": {},
   "outputs": [],
   "source": [
    "from sklearn.model_selection import train_test_split,cross_val_score\n",
    "from sklearn.linear_model import LinearRegression\n",
    "from sklearn.metrics import r2_score\n",
    "from sklearn.preprocessing import PowerTransformer"
   ]
  },
  {
   "cell_type": "code",
   "execution_count": null,
   "id": "44c0c5e3",
   "metadata": {},
   "outputs": [],
   "source": []
  }
 ],
 "metadata": {
  "kernelspec": {
   "display_name": "Python 3",
   "language": "python",
   "name": "python3"
  },
  "language_info": {
   "codemirror_mode": {
    "name": "ipython",
    "version": 3
   },
   "file_extension": ".py",
   "mimetype": "text/x-python",
   "name": "python",
   "nbconvert_exporter": "python",
   "pygments_lexer": "ipython3",
   "version": "3.12.4"
  }
 },
 "nbformat": 4,
 "nbformat_minor": 5
}
