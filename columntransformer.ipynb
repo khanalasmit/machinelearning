{
 "cells": [
  {
   "cell_type": "markdown",
   "id": "a30c851b",
   "metadata": {},
   "source": [
    "## <b>COLUMN TRANSFORMER </b>"
   ]
  },
  {
   "cell_type": "code",
   "execution_count": 108,
   "id": "c9651749",
   "metadata": {},
   "outputs": [],
   "source": [
    "import pandas as pd\n",
    "import numpy as np\n",
    "from sklearn.preprocessing import OneHotEncoder,LabelEncoder,OrdinalEncoder\n",
    "from sklearn.impute import SimpleImputer"
   ]
  },
  {
   "cell_type": "code",
   "execution_count": 109,
   "id": "3fae7621",
   "metadata": {},
   "outputs": [],
   "source": [
    "df=pd.read_csv('Student_performance_10k.csv')"
   ]
  },
  {
   "cell_type": "code",
   "execution_count": 110,
   "id": "71925652",
   "metadata": {},
   "outputs": [
    {
     "data": {
      "text/html": [
       "<div>\n",
       "<style scoped>\n",
       "    .dataframe tbody tr th:only-of-type {\n",
       "        vertical-align: middle;\n",
       "    }\n",
       "\n",
       "    .dataframe tbody tr th {\n",
       "        vertical-align: top;\n",
       "    }\n",
       "\n",
       "    .dataframe thead th {\n",
       "        text-align: right;\n",
       "    }\n",
       "</style>\n",
       "<table border=\"1\" class=\"dataframe\">\n",
       "  <thead>\n",
       "    <tr style=\"text-align: right;\">\n",
       "      <th></th>\n",
       "      <th>roll_no</th>\n",
       "      <th>gender</th>\n",
       "      <th>race_ethnicity</th>\n",
       "      <th>parental_level_of_education</th>\n",
       "      <th>lunch</th>\n",
       "      <th>test_preparation_course</th>\n",
       "      <th>math_score</th>\n",
       "      <th>reading_score</th>\n",
       "      <th>writing_score</th>\n",
       "      <th>science_score</th>\n",
       "      <th>total_score</th>\n",
       "      <th>grade</th>\n",
       "    </tr>\n",
       "  </thead>\n",
       "  <tbody>\n",
       "    <tr>\n",
       "      <th>227</th>\n",
       "      <td>std-228</td>\n",
       "      <td>male</td>\n",
       "      <td>group D</td>\n",
       "      <td>some high school</td>\n",
       "      <td>1.0</td>\n",
       "      <td>1.0</td>\n",
       "      <td>74</td>\n",
       "      <td>66.0</td>\n",
       "      <td>51.0</td>\n",
       "      <td>80.0</td>\n",
       "      <td>271.0</td>\n",
       "      <td>B</td>\n",
       "    </tr>\n",
       "    <tr>\n",
       "      <th>4626</th>\n",
       "      <td>std-4627</td>\n",
       "      <td>male</td>\n",
       "      <td>group E</td>\n",
       "      <td>associate's degree</td>\n",
       "      <td>0.0</td>\n",
       "      <td>0.0</td>\n",
       "      <td>22</td>\n",
       "      <td>40.0</td>\n",
       "      <td>54.0</td>\n",
       "      <td>47.0</td>\n",
       "      <td>163.0</td>\n",
       "      <td>D</td>\n",
       "    </tr>\n",
       "    <tr>\n",
       "      <th>7203</th>\n",
       "      <td>std-7204</td>\n",
       "      <td>female</td>\n",
       "      <td>group C</td>\n",
       "      <td>master's degree</td>\n",
       "      <td>0.0</td>\n",
       "      <td>1.0</td>\n",
       "      <td>56</td>\n",
       "      <td>76.0</td>\n",
       "      <td>75.0</td>\n",
       "      <td>84.0</td>\n",
       "      <td>291.0</td>\n",
       "      <td>B</td>\n",
       "    </tr>\n",
       "    <tr>\n",
       "      <th>7973</th>\n",
       "      <td>std-7974</td>\n",
       "      <td>female</td>\n",
       "      <td>group E</td>\n",
       "      <td>some college</td>\n",
       "      <td>0.0</td>\n",
       "      <td>0.0</td>\n",
       "      <td>83</td>\n",
       "      <td>73.0</td>\n",
       "      <td>91.0</td>\n",
       "      <td>72.0</td>\n",
       "      <td>319.0</td>\n",
       "      <td>B</td>\n",
       "    </tr>\n",
       "    <tr>\n",
       "      <th>9693</th>\n",
       "      <td>std-9694</td>\n",
       "      <td>female</td>\n",
       "      <td>group C</td>\n",
       "      <td>master's degree</td>\n",
       "      <td>1.0</td>\n",
       "      <td>1.0</td>\n",
       "      <td>67</td>\n",
       "      <td>89.0</td>\n",
       "      <td>83.0</td>\n",
       "      <td>62.0</td>\n",
       "      <td>301.0</td>\n",
       "      <td>B</td>\n",
       "    </tr>\n",
       "  </tbody>\n",
       "</table>\n",
       "</div>"
      ],
      "text/plain": [
       "       roll_no  gender race_ethnicity parental_level_of_education  lunch  \\\n",
       "227    std-228    male        group D            some high school    1.0   \n",
       "4626  std-4627    male        group E          associate's degree    0.0   \n",
       "7203  std-7204  female        group C             master's degree    0.0   \n",
       "7973  std-7974  female        group E                some college    0.0   \n",
       "9693  std-9694  female        group C             master's degree    1.0   \n",
       "\n",
       "      test_preparation_course math_score  reading_score  writing_score  \\\n",
       "227                       1.0         74           66.0           51.0   \n",
       "4626                      0.0         22           40.0           54.0   \n",
       "7203                      1.0         56           76.0           75.0   \n",
       "7973                      0.0         83           73.0           91.0   \n",
       "9693                      1.0         67           89.0           83.0   \n",
       "\n",
       "      science_score  total_score grade  \n",
       "227            80.0        271.0     B  \n",
       "4626           47.0        163.0     D  \n",
       "7203           84.0        291.0     B  \n",
       "7973           72.0        319.0     B  \n",
       "9693           62.0        301.0     B  "
      ]
     },
     "execution_count": 110,
     "metadata": {},
     "output_type": "execute_result"
    }
   ],
   "source": [
    "df.sample(5)"
   ]
  },
  {
   "cell_type": "code",
   "execution_count": 111,
   "id": "654a5dc0",
   "metadata": {},
   "outputs": [],
   "source": [
    "df=pd.read_csv('Student_performance_10k.csv')\n",
    "df['race_ethnicity'].unique()\n",
    "map_values = {\n",
    "    'C': 'group C',\n",
    "    'group C': 'group C',\n",
    "    'group C\\n': 'group C',  # Note single backslash for actual newline\n",
    "    'A': 'group A',\n",
    "    'E': 'group E',\n",
    "    'D': 'group D',\n",
    "    'B': 'group B',\n",
    "    'group A':'group A',\n",
    "    'group B':'group B',\n",
    "    'group C':'group C',\n",
    "    'group D':'group D',\n",
    "    'group E':'group E'\n",
    "}\n",
    "df['race_ethnicity'] = df['race_ethnicity'].map(map_values)"
   ]
  },
  {
   "cell_type": "code",
   "execution_count": 112,
   "id": "1bc9386f",
   "metadata": {},
   "outputs": [
    {
     "data": {
      "text/plain": [
       "array(['group D', 'group B', 'group C', 'group E', 'group A', nan],\n",
       "      dtype=object)"
      ]
     },
     "execution_count": 112,
     "metadata": {},
     "output_type": "execute_result"
    }
   ],
   "source": [
    "df['race_ethnicity'].unique()"
   ]
  },
  {
   "cell_type": "code",
   "execution_count": 113,
   "id": "3fcc4b2b",
   "metadata": {},
   "outputs": [],
   "source": [
    "df.dropna(axis=0,inplace=True,subset=['race_ethnicity','lunch','gender','roll_no','test_preparation_course','parental_level_of_education'])"
   ]
  },
  {
   "cell_type": "code",
   "execution_count": 114,
   "id": "2114b898",
   "metadata": {},
   "outputs": [],
   "source": [
    "map_values = {\n",
    "    'male': 'male',\n",
    "    '\\\\tmale': 'male',\n",
    "    'female': 'female',\n",
    "    'Boy': 'male',\n",
    "    'Girl': 'female',\n",
    "}\n",
    "    \n",
    "df['gender'] = df['gender'].map(map_values)"
   ]
  },
  {
   "cell_type": "code",
   "execution_count": 115,
   "id": "67efda9c",
   "metadata": {},
   "outputs": [
    {
     "data": {
      "text/plain": [
       "array(['male', 'female'], dtype=object)"
      ]
     },
     "execution_count": 115,
     "metadata": {},
     "output_type": "execute_result"
    }
   ],
   "source": [
    "df['gender'].unique()"
   ]
  },
  {
   "cell_type": "code",
   "execution_count": 116,
   "id": "25510e64",
   "metadata": {},
   "outputs": [
    {
     "data": {
      "text/plain": [
       "roll_no                         0\n",
       "gender                          0\n",
       "race_ethnicity                  0\n",
       "parental_level_of_education     0\n",
       "lunch                           0\n",
       "test_preparation_course         0\n",
       "math_score                     23\n",
       "reading_score                  24\n",
       "writing_score                  24\n",
       "science_score                  23\n",
       "total_score                    19\n",
       "grade                           3\n",
       "dtype: int64"
      ]
     },
     "execution_count": 116,
     "metadata": {},
     "output_type": "execute_result"
    }
   ],
   "source": [
    "df.isnull().sum()"
   ]
  },
  {
   "cell_type": "code",
   "execution_count": 117,
   "id": "954608b2",
   "metadata": {},
   "outputs": [
    {
     "name": "stdout",
     "output_type": "stream",
     "text": [
      "        lunch  test_preparation_course  reading_score  writing_score  \\\n",
      "count  9888.0                   9888.0         9864.0         9864.0   \n",
      "mean      1.0                      0.0           70.0           71.0   \n",
      "std       0.0                      0.0           19.0           18.0   \n",
      "min       0.0                      0.0           17.0           10.0   \n",
      "25%       0.0                      0.0           57.0           59.0   \n",
      "50%       1.0                      0.0           71.0           73.0   \n",
      "75%       1.0                      1.0           85.0           85.0   \n",
      "max       1.0                      1.0          100.0          100.0   \n",
      "\n",
      "       science_score  total_score  \n",
      "count         9865.0       9869.0  \n",
      "mean            66.0        265.0  \n",
      "std             19.0         42.0  \n",
      "min              9.0         89.0  \n",
      "25%             53.0        237.0  \n",
      "50%             67.0        268.0  \n",
      "75%             81.0        295.0  \n",
      "max            100.0        383.0  \n",
      "9888\n"
     ]
    }
   ],
   "source": [
    "print(np.round(df.describe()))\n",
    "print(len(df))\n"
   ]
  },
  {
   "cell_type": "code",
   "execution_count": 118,
   "id": "d5a4ce80",
   "metadata": {},
   "outputs": [
    {
     "data": {
      "text/plain": [
       "array([ 38., 100.,  99.,  51.,  58.,  49.,  80.,  53.,  nan,  70.,  97.,\n",
       "        96.,  82.,  76.,  73.,  68.,  71.,  57.,  54.,  89.,  69.,  67.,\n",
       "        77.,  66.,  81.,  43.,  56.,  90.,  98.,  63.,  64.,  86.,  88.,\n",
       "        40.,  62.,  30.,  60.,  65.,  85.,  91.,  37.,  78.,  84.,  79.,\n",
       "        74.,  95.,  47.,  59.,  48.,  92.,  44.,  72.,  17.,  34.,  87.,\n",
       "        41.,  36.,  50.,  52.,  83.,  46.,  45.,  93.,  75.,  39.,  94.,\n",
       "        55.,  61.,  35.,  33.,  31.,  26.,  42.,  24.,  21.,  25.,  23.,\n",
       "        27.,  22.,  20.,  32.,  19.,  28.,  18.,  29.])"
      ]
     },
     "execution_count": 118,
     "metadata": {},
     "output_type": "execute_result"
    }
   ],
   "source": [
    "df['reading_score'].unique()"
   ]
  },
  {
   "cell_type": "code",
   "execution_count": 119,
   "id": "303a1826",
   "metadata": {},
   "outputs": [
    {
     "data": {
      "text/plain": [
       "array(['89', '65', '10', '22', '26', '40', '25', nan, '29', '18', '72',\n",
       "       '23', '35', '38', '41', '44', '39', '47', '37', '49', '11', '32',\n",
       "       '85', '78', '68', '64', '60', '69', '87', '83', '42', '51', '75',\n",
       "       '20', '81', '98', '100', '24', '71', '82', '55', '19', '48', '34',\n",
       "       '74', '28', '43', '62', '21', '93', '66', '0', '46', '13', '45',\n",
       "       '57', '54', '70', '30', '97', '50', '61', '73', '88', '36', '33',\n",
       "       '76', '27', '17', '16', '56', '80', '53', '14', '58', '9', '8',\n",
       "       '79', '12', '77', '52', '99', '67', '59', '63', '86', '31', '92',\n",
       "       '94', '6', '91', '96', '84', '95', '15', '90', '7', '4', '\\\\t41',\n",
       "       '5'], dtype=object)"
      ]
     },
     "execution_count": 119,
     "metadata": {},
     "output_type": "execute_result"
    }
   ],
   "source": [
    "df['math_score'].unique()"
   ]
  },
  {
   "cell_type": "code",
   "execution_count": 120,
   "id": "64b2eda4",
   "metadata": {},
   "outputs": [
    {
     "data": {
      "text/plain": [
       "array([ 26.,  96.,  58.,  84.,  65.,  48.,  17.,  55.,  91.,  45.,  nan,\n",
       "        54.,  73.,  75.,  47.,  78.,  46.,  82.,  81.,   9.,  31.,  70.,\n",
       "        57.,  71.,  99.,  67.,  60.,  94.,  28.,  61.,  79.,  72., 100.,\n",
       "        51.,  74.,  52.,  56.,  33.,  36.,  90.,  53.,  88.,  93.,  66.,\n",
       "        62.,  59.,  27.,  23.,  15.,  10.,  42.,  77.,  83.,  50.,  80.,\n",
       "        38.,  49.,  40.,  69.,  43.,  64.,  97.,  39.,  86.,  25.,  41.,\n",
       "        34.,  89.,  44.,  32.,  87.,  98.,  63.,  85.,  35.,  68.,  30.,\n",
       "        29.,  13.,  92.,  37.,  11.,  12.,  76.,  95.,  18.,  22.,  14.,\n",
       "        21.,  24.,  19.,  20.,  16.])"
      ]
     },
     "execution_count": 120,
     "metadata": {},
     "output_type": "execute_result"
    }
   ],
   "source": [
    "df['science_score'].unique()"
   ]
  },
  {
   "cell_type": "code",
   "execution_count": 121,
   "id": "630872d2",
   "metadata": {},
   "outputs": [
    {
     "data": {
      "text/plain": [
       "array([238., 328., 264., 198., 213., 206., 156., 228., 293., 162., 289.,\n",
       "        nan, 283., 280., 224., 208., 195., 237., 240., 233., 242., 306.,\n",
       "       178., 169., 247., 292., 319., 215., 313., 297., 212., 241., 311.,\n",
       "       253., 272., 257., 284., 270., 266., 230., 369., 221., 288., 302.,\n",
       "       268., 301., 249., 210., 165., 176., 285., 246., 182., 307., 304.,\n",
       "       229., 231., 255., 256., 305., 243., 287., 188., 193., 327., 340.,\n",
       "       191., 220., 218., 273., 314., 197., 225., 321., 300., 203., 172.,\n",
       "       234., 217., 335., 320., 324., 166., 317., 294., 282., 140., 274.,\n",
       "       352., 281., 252., 310., 265., 192., 239., 183., 194., 204., 308.,\n",
       "       258., 309., 296., 199., 275., 262., 269., 190., 322., 267., 124.,\n",
       "       248., 219., 207., 201., 226., 254., 250., 196., 260., 171., 236.,\n",
       "       235., 227., 146., 211., 271., 214., 205., 277., 232., 216., 209.,\n",
       "       263., 318., 185., 355., 278., 325., 261., 164., 222., 157., 147.,\n",
       "       330., 179., 115., 291., 295., 371., 303., 360., 329., 177., 251.,\n",
       "       202., 141., 244., 276., 334., 326., 331., 187., 312., 337., 150.,\n",
       "       245., 121., 155., 139., 316., 186., 135., 223., 336., 343., 290.,\n",
       "       323., 362., 200., 189., 170., 346., 315., 259., 339., 127., 180.,\n",
       "       174., 298., 363., 341., 279., 351., 161., 348., 358., 286., 168.,\n",
       "       333., 299., 173., 353., 332., 359., 344.,  89., 133., 163., 154.,\n",
       "       148., 167., 130., 184., 367., 181., 376., 110., 160., 357., 342.,\n",
       "       126., 345., 144., 366., 356., 145., 158., 338., 349., 129., 175.,\n",
       "       137., 347., 153., 375., 149., 143., 132., 350., 377., 373., 138.,\n",
       "       142., 354., 361., 374., 159., 151., 120., 152., 103., 364., 370.,\n",
       "       365., 368., 382., 383., 378.])"
      ]
     },
     "execution_count": 121,
     "metadata": {},
     "output_type": "execute_result"
    }
   ],
   "source": [
    "df['total_score'].unique()"
   ]
  },
  {
   "cell_type": "code",
   "execution_count": 122,
   "id": "e8f2a624",
   "metadata": {},
   "outputs": [],
   "source": [
    "df['math_score']=df['math_score'].replace('\\\\t41',41)"
   ]
  },
  {
   "cell_type": "code",
   "execution_count": 123,
   "id": "b4c72e60",
   "metadata": {},
   "outputs": [
    {
     "data": {
      "text/html": [
       "<style>#sk-container-id-5 {\n",
       "  /* Definition of color scheme common for light and dark mode */\n",
       "  --sklearn-color-text: #000;\n",
       "  --sklearn-color-text-muted: #666;\n",
       "  --sklearn-color-line: gray;\n",
       "  /* Definition of color scheme for unfitted estimators */\n",
       "  --sklearn-color-unfitted-level-0: #fff5e6;\n",
       "  --sklearn-color-unfitted-level-1: #f6e4d2;\n",
       "  --sklearn-color-unfitted-level-2: #ffe0b3;\n",
       "  --sklearn-color-unfitted-level-3: chocolate;\n",
       "  /* Definition of color scheme for fitted estimators */\n",
       "  --sklearn-color-fitted-level-0: #f0f8ff;\n",
       "  --sklearn-color-fitted-level-1: #d4ebff;\n",
       "  --sklearn-color-fitted-level-2: #b3dbfd;\n",
       "  --sklearn-color-fitted-level-3: cornflowerblue;\n",
       "\n",
       "  /* Specific color for light theme */\n",
       "  --sklearn-color-text-on-default-background: var(--sg-text-color, var(--theme-code-foreground, var(--jp-content-font-color1, black)));\n",
       "  --sklearn-color-background: var(--sg-background-color, var(--theme-background, var(--jp-layout-color0, white)));\n",
       "  --sklearn-color-border-box: var(--sg-text-color, var(--theme-code-foreground, var(--jp-content-font-color1, black)));\n",
       "  --sklearn-color-icon: #696969;\n",
       "\n",
       "  @media (prefers-color-scheme: dark) {\n",
       "    /* Redefinition of color scheme for dark theme */\n",
       "    --sklearn-color-text-on-default-background: var(--sg-text-color, var(--theme-code-foreground, var(--jp-content-font-color1, white)));\n",
       "    --sklearn-color-background: var(--sg-background-color, var(--theme-background, var(--jp-layout-color0, #111)));\n",
       "    --sklearn-color-border-box: var(--sg-text-color, var(--theme-code-foreground, var(--jp-content-font-color1, white)));\n",
       "    --sklearn-color-icon: #878787;\n",
       "  }\n",
       "}\n",
       "\n",
       "#sk-container-id-5 {\n",
       "  color: var(--sklearn-color-text);\n",
       "}\n",
       "\n",
       "#sk-container-id-5 pre {\n",
       "  padding: 0;\n",
       "}\n",
       "\n",
       "#sk-container-id-5 input.sk-hidden--visually {\n",
       "  border: 0;\n",
       "  clip: rect(1px 1px 1px 1px);\n",
       "  clip: rect(1px, 1px, 1px, 1px);\n",
       "  height: 1px;\n",
       "  margin: -1px;\n",
       "  overflow: hidden;\n",
       "  padding: 0;\n",
       "  position: absolute;\n",
       "  width: 1px;\n",
       "}\n",
       "\n",
       "#sk-container-id-5 div.sk-dashed-wrapped {\n",
       "  border: 1px dashed var(--sklearn-color-line);\n",
       "  margin: 0 0.4em 0.5em 0.4em;\n",
       "  box-sizing: border-box;\n",
       "  padding-bottom: 0.4em;\n",
       "  background-color: var(--sklearn-color-background);\n",
       "}\n",
       "\n",
       "#sk-container-id-5 div.sk-container {\n",
       "  /* jupyter's `normalize.less` sets `[hidden] { display: none; }`\n",
       "     but bootstrap.min.css set `[hidden] { display: none !important; }`\n",
       "     so we also need the `!important` here to be able to override the\n",
       "     default hidden behavior on the sphinx rendered scikit-learn.org.\n",
       "     See: https://github.com/scikit-learn/scikit-learn/issues/21755 */\n",
       "  display: inline-block !important;\n",
       "  position: relative;\n",
       "}\n",
       "\n",
       "#sk-container-id-5 div.sk-text-repr-fallback {\n",
       "  display: none;\n",
       "}\n",
       "\n",
       "div.sk-parallel-item,\n",
       "div.sk-serial,\n",
       "div.sk-item {\n",
       "  /* draw centered vertical line to link estimators */\n",
       "  background-image: linear-gradient(var(--sklearn-color-text-on-default-background), var(--sklearn-color-text-on-default-background));\n",
       "  background-size: 2px 100%;\n",
       "  background-repeat: no-repeat;\n",
       "  background-position: center center;\n",
       "}\n",
       "\n",
       "/* Parallel-specific style estimator block */\n",
       "\n",
       "#sk-container-id-5 div.sk-parallel-item::after {\n",
       "  content: \"\";\n",
       "  width: 100%;\n",
       "  border-bottom: 2px solid var(--sklearn-color-text-on-default-background);\n",
       "  flex-grow: 1;\n",
       "}\n",
       "\n",
       "#sk-container-id-5 div.sk-parallel {\n",
       "  display: flex;\n",
       "  align-items: stretch;\n",
       "  justify-content: center;\n",
       "  background-color: var(--sklearn-color-background);\n",
       "  position: relative;\n",
       "}\n",
       "\n",
       "#sk-container-id-5 div.sk-parallel-item {\n",
       "  display: flex;\n",
       "  flex-direction: column;\n",
       "}\n",
       "\n",
       "#sk-container-id-5 div.sk-parallel-item:first-child::after {\n",
       "  align-self: flex-end;\n",
       "  width: 50%;\n",
       "}\n",
       "\n",
       "#sk-container-id-5 div.sk-parallel-item:last-child::after {\n",
       "  align-self: flex-start;\n",
       "  width: 50%;\n",
       "}\n",
       "\n",
       "#sk-container-id-5 div.sk-parallel-item:only-child::after {\n",
       "  width: 0;\n",
       "}\n",
       "\n",
       "/* Serial-specific style estimator block */\n",
       "\n",
       "#sk-container-id-5 div.sk-serial {\n",
       "  display: flex;\n",
       "  flex-direction: column;\n",
       "  align-items: center;\n",
       "  background-color: var(--sklearn-color-background);\n",
       "  padding-right: 1em;\n",
       "  padding-left: 1em;\n",
       "}\n",
       "\n",
       "\n",
       "/* Toggleable style: style used for estimator/Pipeline/ColumnTransformer box that is\n",
       "clickable and can be expanded/collapsed.\n",
       "- Pipeline and ColumnTransformer use this feature and define the default style\n",
       "- Estimators will overwrite some part of the style using the `sk-estimator` class\n",
       "*/\n",
       "\n",
       "/* Pipeline and ColumnTransformer style (default) */\n",
       "\n",
       "#sk-container-id-5 div.sk-toggleable {\n",
       "  /* Default theme specific background. It is overwritten whether we have a\n",
       "  specific estimator or a Pipeline/ColumnTransformer */\n",
       "  background-color: var(--sklearn-color-background);\n",
       "}\n",
       "\n",
       "/* Toggleable label */\n",
       "#sk-container-id-5 label.sk-toggleable__label {\n",
       "  cursor: pointer;\n",
       "  display: flex;\n",
       "  width: 100%;\n",
       "  margin-bottom: 0;\n",
       "  padding: 0.5em;\n",
       "  box-sizing: border-box;\n",
       "  text-align: center;\n",
       "  align-items: start;\n",
       "  justify-content: space-between;\n",
       "  gap: 0.5em;\n",
       "}\n",
       "\n",
       "#sk-container-id-5 label.sk-toggleable__label .caption {\n",
       "  font-size: 0.6rem;\n",
       "  font-weight: lighter;\n",
       "  color: var(--sklearn-color-text-muted);\n",
       "}\n",
       "\n",
       "#sk-container-id-5 label.sk-toggleable__label-arrow:before {\n",
       "  /* Arrow on the left of the label */\n",
       "  content: \"▸\";\n",
       "  float: left;\n",
       "  margin-right: 0.25em;\n",
       "  color: var(--sklearn-color-icon);\n",
       "}\n",
       "\n",
       "#sk-container-id-5 label.sk-toggleable__label-arrow:hover:before {\n",
       "  color: var(--sklearn-color-text);\n",
       "}\n",
       "\n",
       "/* Toggleable content - dropdown */\n",
       "\n",
       "#sk-container-id-5 div.sk-toggleable__content {\n",
       "  max-height: 0;\n",
       "  max-width: 0;\n",
       "  overflow: hidden;\n",
       "  text-align: left;\n",
       "  /* unfitted */\n",
       "  background-color: var(--sklearn-color-unfitted-level-0);\n",
       "}\n",
       "\n",
       "#sk-container-id-5 div.sk-toggleable__content.fitted {\n",
       "  /* fitted */\n",
       "  background-color: var(--sklearn-color-fitted-level-0);\n",
       "}\n",
       "\n",
       "#sk-container-id-5 div.sk-toggleable__content pre {\n",
       "  margin: 0.2em;\n",
       "  border-radius: 0.25em;\n",
       "  color: var(--sklearn-color-text);\n",
       "  /* unfitted */\n",
       "  background-color: var(--sklearn-color-unfitted-level-0);\n",
       "}\n",
       "\n",
       "#sk-container-id-5 div.sk-toggleable__content.fitted pre {\n",
       "  /* unfitted */\n",
       "  background-color: var(--sklearn-color-fitted-level-0);\n",
       "}\n",
       "\n",
       "#sk-container-id-5 input.sk-toggleable__control:checked~div.sk-toggleable__content {\n",
       "  /* Expand drop-down */\n",
       "  max-height: 200px;\n",
       "  max-width: 100%;\n",
       "  overflow: auto;\n",
       "}\n",
       "\n",
       "#sk-container-id-5 input.sk-toggleable__control:checked~label.sk-toggleable__label-arrow:before {\n",
       "  content: \"▾\";\n",
       "}\n",
       "\n",
       "/* Pipeline/ColumnTransformer-specific style */\n",
       "\n",
       "#sk-container-id-5 div.sk-label input.sk-toggleable__control:checked~label.sk-toggleable__label {\n",
       "  color: var(--sklearn-color-text);\n",
       "  background-color: var(--sklearn-color-unfitted-level-2);\n",
       "}\n",
       "\n",
       "#sk-container-id-5 div.sk-label.fitted input.sk-toggleable__control:checked~label.sk-toggleable__label {\n",
       "  background-color: var(--sklearn-color-fitted-level-2);\n",
       "}\n",
       "\n",
       "/* Estimator-specific style */\n",
       "\n",
       "/* Colorize estimator box */\n",
       "#sk-container-id-5 div.sk-estimator input.sk-toggleable__control:checked~label.sk-toggleable__label {\n",
       "  /* unfitted */\n",
       "  background-color: var(--sklearn-color-unfitted-level-2);\n",
       "}\n",
       "\n",
       "#sk-container-id-5 div.sk-estimator.fitted input.sk-toggleable__control:checked~label.sk-toggleable__label {\n",
       "  /* fitted */\n",
       "  background-color: var(--sklearn-color-fitted-level-2);\n",
       "}\n",
       "\n",
       "#sk-container-id-5 div.sk-label label.sk-toggleable__label,\n",
       "#sk-container-id-5 div.sk-label label {\n",
       "  /* The background is the default theme color */\n",
       "  color: var(--sklearn-color-text-on-default-background);\n",
       "}\n",
       "\n",
       "/* On hover, darken the color of the background */\n",
       "#sk-container-id-5 div.sk-label:hover label.sk-toggleable__label {\n",
       "  color: var(--sklearn-color-text);\n",
       "  background-color: var(--sklearn-color-unfitted-level-2);\n",
       "}\n",
       "\n",
       "/* Label box, darken color on hover, fitted */\n",
       "#sk-container-id-5 div.sk-label.fitted:hover label.sk-toggleable__label.fitted {\n",
       "  color: var(--sklearn-color-text);\n",
       "  background-color: var(--sklearn-color-fitted-level-2);\n",
       "}\n",
       "\n",
       "/* Estimator label */\n",
       "\n",
       "#sk-container-id-5 div.sk-label label {\n",
       "  font-family: monospace;\n",
       "  font-weight: bold;\n",
       "  display: inline-block;\n",
       "  line-height: 1.2em;\n",
       "}\n",
       "\n",
       "#sk-container-id-5 div.sk-label-container {\n",
       "  text-align: center;\n",
       "}\n",
       "\n",
       "/* Estimator-specific */\n",
       "#sk-container-id-5 div.sk-estimator {\n",
       "  font-family: monospace;\n",
       "  border: 1px dotted var(--sklearn-color-border-box);\n",
       "  border-radius: 0.25em;\n",
       "  box-sizing: border-box;\n",
       "  margin-bottom: 0.5em;\n",
       "  /* unfitted */\n",
       "  background-color: var(--sklearn-color-unfitted-level-0);\n",
       "}\n",
       "\n",
       "#sk-container-id-5 div.sk-estimator.fitted {\n",
       "  /* fitted */\n",
       "  background-color: var(--sklearn-color-fitted-level-0);\n",
       "}\n",
       "\n",
       "/* on hover */\n",
       "#sk-container-id-5 div.sk-estimator:hover {\n",
       "  /* unfitted */\n",
       "  background-color: var(--sklearn-color-unfitted-level-2);\n",
       "}\n",
       "\n",
       "#sk-container-id-5 div.sk-estimator.fitted:hover {\n",
       "  /* fitted */\n",
       "  background-color: var(--sklearn-color-fitted-level-2);\n",
       "}\n",
       "\n",
       "/* Specification for estimator info (e.g. \"i\" and \"?\") */\n",
       "\n",
       "/* Common style for \"i\" and \"?\" */\n",
       "\n",
       ".sk-estimator-doc-link,\n",
       "a:link.sk-estimator-doc-link,\n",
       "a:visited.sk-estimator-doc-link {\n",
       "  float: right;\n",
       "  font-size: smaller;\n",
       "  line-height: 1em;\n",
       "  font-family: monospace;\n",
       "  background-color: var(--sklearn-color-background);\n",
       "  border-radius: 1em;\n",
       "  height: 1em;\n",
       "  width: 1em;\n",
       "  text-decoration: none !important;\n",
       "  margin-left: 0.5em;\n",
       "  text-align: center;\n",
       "  /* unfitted */\n",
       "  border: var(--sklearn-color-unfitted-level-1) 1pt solid;\n",
       "  color: var(--sklearn-color-unfitted-level-1);\n",
       "}\n",
       "\n",
       ".sk-estimator-doc-link.fitted,\n",
       "a:link.sk-estimator-doc-link.fitted,\n",
       "a:visited.sk-estimator-doc-link.fitted {\n",
       "  /* fitted */\n",
       "  border: var(--sklearn-color-fitted-level-1) 1pt solid;\n",
       "  color: var(--sklearn-color-fitted-level-1);\n",
       "}\n",
       "\n",
       "/* On hover */\n",
       "div.sk-estimator:hover .sk-estimator-doc-link:hover,\n",
       ".sk-estimator-doc-link:hover,\n",
       "div.sk-label-container:hover .sk-estimator-doc-link:hover,\n",
       ".sk-estimator-doc-link:hover {\n",
       "  /* unfitted */\n",
       "  background-color: var(--sklearn-color-unfitted-level-3);\n",
       "  color: var(--sklearn-color-background);\n",
       "  text-decoration: none;\n",
       "}\n",
       "\n",
       "div.sk-estimator.fitted:hover .sk-estimator-doc-link.fitted:hover,\n",
       ".sk-estimator-doc-link.fitted:hover,\n",
       "div.sk-label-container:hover .sk-estimator-doc-link.fitted:hover,\n",
       ".sk-estimator-doc-link.fitted:hover {\n",
       "  /* fitted */\n",
       "  background-color: var(--sklearn-color-fitted-level-3);\n",
       "  color: var(--sklearn-color-background);\n",
       "  text-decoration: none;\n",
       "}\n",
       "\n",
       "/* Span, style for the box shown on hovering the info icon */\n",
       ".sk-estimator-doc-link span {\n",
       "  display: none;\n",
       "  z-index: 9999;\n",
       "  position: relative;\n",
       "  font-weight: normal;\n",
       "  right: .2ex;\n",
       "  padding: .5ex;\n",
       "  margin: .5ex;\n",
       "  width: min-content;\n",
       "  min-width: 20ex;\n",
       "  max-width: 50ex;\n",
       "  color: var(--sklearn-color-text);\n",
       "  box-shadow: 2pt 2pt 4pt #999;\n",
       "  /* unfitted */\n",
       "  background: var(--sklearn-color-unfitted-level-0);\n",
       "  border: .5pt solid var(--sklearn-color-unfitted-level-3);\n",
       "}\n",
       "\n",
       ".sk-estimator-doc-link.fitted span {\n",
       "  /* fitted */\n",
       "  background: var(--sklearn-color-fitted-level-0);\n",
       "  border: var(--sklearn-color-fitted-level-3);\n",
       "}\n",
       "\n",
       ".sk-estimator-doc-link:hover span {\n",
       "  display: block;\n",
       "}\n",
       "\n",
       "/* \"?\"-specific style due to the `<a>` HTML tag */\n",
       "\n",
       "#sk-container-id-5 a.estimator_doc_link {\n",
       "  float: right;\n",
       "  font-size: 1rem;\n",
       "  line-height: 1em;\n",
       "  font-family: monospace;\n",
       "  background-color: var(--sklearn-color-background);\n",
       "  border-radius: 1rem;\n",
       "  height: 1rem;\n",
       "  width: 1rem;\n",
       "  text-decoration: none;\n",
       "  /* unfitted */\n",
       "  color: var(--sklearn-color-unfitted-level-1);\n",
       "  border: var(--sklearn-color-unfitted-level-1) 1pt solid;\n",
       "}\n",
       "\n",
       "#sk-container-id-5 a.estimator_doc_link.fitted {\n",
       "  /* fitted */\n",
       "  border: var(--sklearn-color-fitted-level-1) 1pt solid;\n",
       "  color: var(--sklearn-color-fitted-level-1);\n",
       "}\n",
       "\n",
       "/* On hover */\n",
       "#sk-container-id-5 a.estimator_doc_link:hover {\n",
       "  /* unfitted */\n",
       "  background-color: var(--sklearn-color-unfitted-level-3);\n",
       "  color: var(--sklearn-color-background);\n",
       "  text-decoration: none;\n",
       "}\n",
       "\n",
       "#sk-container-id-5 a.estimator_doc_link.fitted:hover {\n",
       "  /* fitted */\n",
       "  background-color: var(--sklearn-color-fitted-level-3);\n",
       "}\n",
       "</style><div id=\"sk-container-id-5\" class=\"sk-top-container\"><div class=\"sk-text-repr-fallback\"><pre>SimpleImputer()</pre><b>In a Jupyter environment, please rerun this cell to show the HTML representation or trust the notebook. <br />On GitHub, the HTML representation is unable to render, please try loading this page with nbviewer.org.</b></div><div class=\"sk-container\" hidden><div class=\"sk-item\"><div class=\"sk-estimator fitted sk-toggleable\"><input class=\"sk-toggleable__control sk-hidden--visually\" id=\"sk-estimator-id-5\" type=\"checkbox\" checked><label for=\"sk-estimator-id-5\" class=\"sk-toggleable__label fitted sk-toggleable__label-arrow\"><div><div>SimpleImputer</div></div><div><a class=\"sk-estimator-doc-link fitted\" rel=\"noreferrer\" target=\"_blank\" href=\"https://scikit-learn.org/1.6/modules/generated/sklearn.impute.SimpleImputer.html\">?<span>Documentation for SimpleImputer</span></a><span class=\"sk-estimator-doc-link fitted\">i<span>Fitted</span></span></div></label><div class=\"sk-toggleable__content fitted\"><pre>SimpleImputer()</pre></div> </div></div></div></div>"
      ],
      "text/plain": [
       "SimpleImputer()"
      ]
     },
     "execution_count": 123,
     "metadata": {},
     "output_type": "execute_result"
    }
   ],
   "source": [
    "ie=SimpleImputer()\n",
    "ie.fit(df[['math_score','science_score','total_score','reading_score','writing_score']])"
   ]
  },
  {
   "cell_type": "markdown",
   "id": "c74231e0",
   "metadata": {},
   "source": [
    "Here with the simpleImputer all the missing values are replaced with mean"
   ]
  },
  {
   "cell_type": "code",
   "execution_count": 124,
   "id": "e0a2923b",
   "metadata": {},
   "outputs": [],
   "source": [
    "imputed_datas=ie.transform(df[['math_score','science_score','total_score','reading_score','writing_score']])"
   ]
  },
  {
   "cell_type": "code",
   "execution_count": 125,
   "id": "151dbb2a",
   "metadata": {},
   "outputs": [
    {
     "data": {
      "text/plain": [
       "array([[ 89.,  26., 238.,  38.,  85.],\n",
       "       [ 65.,  96., 328., 100.,  67.],\n",
       "       [ 10.,  58., 264.,  99.,  97.],\n",
       "       ...,\n",
       "       [ 70.,  90., 331.,  71., 100.],\n",
       "       [ 87.,  89., 336.,  60., 100.],\n",
       "       [ 31.,  80., 293.,  89.,  93.]])"
      ]
     },
     "execution_count": 125,
     "metadata": {},
     "output_type": "execute_result"
    }
   ],
   "source": [
    "imputed_datas"
   ]
  },
  {
   "cell_type": "code",
   "execution_count": 126,
   "id": "238131d0",
   "metadata": {},
   "outputs": [
    {
     "name": "stdout",
     "output_type": "stream",
     "text": [
      "9888\n"
     ]
    }
   ],
   "source": [
    "print(len(imputed_datas))"
   ]
  },
  {
   "cell_type": "markdown",
   "id": "0ac72200",
   "metadata": {},
   "source": [
    "We would do all the other encodings and other things like that one by one and later we have to concatenate all the arrays. Thus column transformere can be done in the further steps rather than doing one by one. \n",
    "### COLUMN TRANSFORMER"
   ]
  },
  {
   "cell_type": "code",
   "execution_count": 127,
   "id": "6a97601a",
   "metadata": {},
   "outputs": [
    {
     "data": {
      "text/plain": [
       "array(['some college', 'high school', \"master's degree\",\n",
       "       \"associate's degree\", 'some high school', \"bachelor's degree\"],\n",
       "      dtype=object)"
      ]
     },
     "execution_count": 127,
     "metadata": {},
     "output_type": "execute_result"
    }
   ],
   "source": [
    "df['parental_level_of_education'].unique()"
   ]
  },
  {
   "cell_type": "code",
   "execution_count": 128,
   "id": "78312939",
   "metadata": {},
   "outputs": [
    {
     "data": {
      "text/plain": [
       "array(['C', 'A', 'B', 'D', nan, 'Fail'], dtype=object)"
      ]
     },
     "execution_count": 128,
     "metadata": {},
     "output_type": "execute_result"
    }
   ],
   "source": [
    "df['grade'].unique()"
   ]
  },
  {
   "cell_type": "code",
   "execution_count": 129,
   "id": "a7699995",
   "metadata": {},
   "outputs": [
    {
     "name": "stderr",
     "output_type": "stream",
     "text": [
      "C:\\Users\\Acer\\AppData\\Local\\Temp\\ipykernel_9228\\671689149.py:1: FutureWarning: A value is trying to be set on a copy of a DataFrame or Series through chained assignment using an inplace method.\n",
      "The behavior will change in pandas 3.0. This inplace method will never work because the intermediate object on which we are setting values always behaves as a copy.\n",
      "\n",
      "For example, when doing 'df[col].method(value, inplace=True)', try using 'df.method({col: value}, inplace=True)' or df[col] = df[col].method(value) instead, to perform the operation inplace on the original object.\n",
      "\n",
      "\n",
      "  df['grade'].fillna(df['grade'].mode()[0],inplace=True)\n"
     ]
    }
   ],
   "source": [
    "df['grade'].fillna(df['grade'].mode()[0],inplace=True)"
   ]
  },
  {
   "cell_type": "code",
   "execution_count": 130,
   "id": "2dde210a",
   "metadata": {},
   "outputs": [
    {
     "data": {
      "text/plain": [
       "array(['C', 'A', 'B', 'D', 'Fail'], dtype=object)"
      ]
     },
     "execution_count": 130,
     "metadata": {},
     "output_type": "execute_result"
    }
   ],
   "source": [
    "df['grade'].unique()"
   ]
  },
  {
   "cell_type": "code",
   "execution_count": 131,
   "id": "dd5050bf",
   "metadata": {},
   "outputs": [],
   "source": [
    "from sklearn.compose import ColumnTransformer\n",
    "ct=ColumnTransformer(transformers=[\n",
    "    ('tnf1',SimpleImputer(),['reading_score','writing_score','science_score','math_score','total_score']),\n",
    "    ('tnf2',OrdinalEncoder(categories=[['some high school','high school','some college',\"bachelor's degree\",\"associate's degree\",\"master's degree\"],['Fail','A','B','C','D']]),['parental_level_of_education','grade']),\n",
    "    ('tnf3',OneHotEncoder(drop='first'),['gender','race_ethnicity'])\n",
    "    ],\n",
    "    remainder='passthrough')"
   ]
  },
  {
   "cell_type": "code",
   "execution_count": 132,
   "id": "96f56f25",
   "metadata": {},
   "outputs": [],
   "source": [
    "new_df=df[['race_ethnicity','gender','grade','reading_score','writing_score','science_score','total_score','math_score','parental_level_of_education']]"
   ]
  },
  {
   "cell_type": "code",
   "execution_count": 133,
   "id": "14355bdd",
   "metadata": {},
   "outputs": [
    {
     "data": {
      "text/plain": [
       "array([[ 38.,  85.,  26., ...,   0.,   1.,   0.],\n",
       "       [100.,  67.,  96., ...,   0.,   0.,   0.],\n",
       "       [ 99.,  97.,  58., ...,   1.,   0.,   0.],\n",
       "       ...,\n",
       "       [ 71., 100.,  90., ...,   0.,   0.,   0.],\n",
       "       [ 60., 100.,  89., ...,   0.,   0.,   0.],\n",
       "       [ 89.,  93.,  80., ...,   0.,   0.,   0.]])"
      ]
     },
     "execution_count": 133,
     "metadata": {},
     "output_type": "execute_result"
    }
   ],
   "source": [
    "ct.fit_transform(new_df)"
   ]
  },
  {
   "cell_type": "markdown",
   "id": "ad9568b8",
   "metadata": {},
   "source": [
    "With the column transformer we can do all the preprocesssing at once making a composite transformer."
   ]
  },
  {
   "cell_type": "code",
   "execution_count": null,
   "id": "954ce780",
   "metadata": {},
   "outputs": [],
   "source": []
  }
 ],
 "metadata": {
  "kernelspec": {
   "display_name": "Python 3",
   "language": "python",
   "name": "python3"
  },
  "language_info": {
   "codemirror_mode": {
    "name": "ipython",
    "version": 3
   },
   "file_extension": ".py",
   "mimetype": "text/x-python",
   "name": "python",
   "nbconvert_exporter": "python",
   "pygments_lexer": "ipython3",
   "version": "3.12.4"
  }
 },
 "nbformat": 4,
 "nbformat_minor": 5
}
