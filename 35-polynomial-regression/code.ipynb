{
 "cells": [
  {
   "cell_type": "markdown",
   "id": "8c86a00a",
   "metadata": {},
   "source": [
    "## Polynomial Regression\n",
    "\n",
    "Polynomial regression is a type of regression analysis where the relationship between the independent variable $x$ and the dependent variable $y$ is modeled as an $n$th degree polynomial. It extends linear regression by allowing for nonlinear relationships.\n",
    "\n",
    "### Mathematical Formulation (Univariate Case)\n",
    "\n",
    "The polynomial regression model of degree $n$ for a single variable is:\n",
    "\n",
    "$$\n",
    "y = \\beta_0 + \\beta_1 x + \\beta_2 x^2 + \\cdots + \\beta_n x^n + \\epsilon\n",
    "$$\n",
    "\n",
    "where:\n",
    "- $y$ is the dependent variable,\n",
    "- $x$ is the independent variable,\n",
    "- $\\beta_0, \\beta_1, \\ldots, \\beta_n$ are the coefficients,\n",
    "- $\\epsilon$ is the error term.\n",
    "\n",
    "---\n",
    "\n",
    "### Mathematical Formulation (Multivariate Case)\n",
    "\n",
    "For multidimensional data with $p$ features, the polynomial regression model includes all polynomial terms up to degree $n$:\n",
    "\n",
    "$$\n",
    "y = \\beta_0 + \\sum_{i=1}^p \\beta_i x_i + \\sum_{i=1}^p \\sum_{j=1}^p \\beta_{ij} x_i x_j + \\cdots + \\text{higher order terms} + \\epsilon\n",
    "$$\n",
    "\n",
    "where:\n",
    "- $x_1, x_2, \\ldots, x_p$ are the independent variables (features),\n",
    "- The model includes all combinations of features up to the specified degree,\n",
    "- $\\beta$ terms are the coefficients for each polynomial term,\n",
    "- $\\epsilon$ is the error term."
   ]
  },
  {
   "cell_type": "code",
   "execution_count": 5,
   "id": "193423a3",
   "metadata": {},
   "outputs": [],
   "source": [
    "import numpy as np\n",
    "import pandas as pd\n",
    "from sklearn.preprocessing import PolynomialFeatures, StandardScaler\n",
    "from sklearn.metrics import r2_score\n",
    "from sklearn.pipeline import Pipeline\n",
    "import matplotlib.pyplot as plt\n",
    "from sklearn.linear_model import LinearRegression, SGDRegressor\n",
    "from sklearn.model_selection import train_test_split"
   ]
  },
  {
   "cell_type": "code",
   "execution_count": 6,
   "id": "7ac89367",
   "metadata": {},
   "outputs": [],
   "source": [
    "X=6*np.random.rand(200,1)-3\n",
    "y=0.8*X**2+0.9*X+2+np.random.randn(200,1)\n",
    "#y=0.8X^2+0.9X+2 //but we have introduced some noise"
   ]
  },
  {
   "cell_type": "code",
   "execution_count": 7,
   "id": "918e2a3a",
   "metadata": {},
   "outputs": [
    {
     "data": {
      "text/plain": [
       "array([[ 1.60748610e+00],\n",
       "       [-2.18112870e+00],\n",
       "       [-2.33455629e+00],\n",
       "       [ 1.19761830e+00],\n",
       "       [-1.24553846e+00],\n",
       "       [-2.72122368e+00],\n",
       "       [ 1.90557327e+00],\n",
       "       [-2.28472794e+00],\n",
       "       [-2.15058004e+00],\n",
       "       [ 1.38713250e+00],\n",
       "       [-2.43948480e+00],\n",
       "       [-1.69174607e+00],\n",
       "       [-4.05670252e-01],\n",
       "       [-2.76350459e+00],\n",
       "       [-4.13823044e-01],\n",
       "       [-2.37803318e+00],\n",
       "       [-2.49567125e+00],\n",
       "       [-3.70023914e-01],\n",
       "       [ 2.62419739e+00],\n",
       "       [-2.66671989e+00],\n",
       "       [-1.69186990e+00],\n",
       "       [-4.99984424e-01],\n",
       "       [-2.24060609e+00],\n",
       "       [-6.31415219e-01],\n",
       "       [-2.36696174e+00],\n",
       "       [ 2.42677659e+00],\n",
       "       [ 1.01657160e+00],\n",
       "       [ 9.48101615e-01],\n",
       "       [ 9.29843762e-01],\n",
       "       [-5.07303848e-02],\n",
       "       [-5.87269690e-01],\n",
       "       [-1.66404734e+00],\n",
       "       [-6.80811348e-01],\n",
       "       [ 2.44531291e+00],\n",
       "       [-1.64433877e+00],\n",
       "       [-1.02927881e+00],\n",
       "       [-1.45230586e+00],\n",
       "       [ 2.32677006e+00],\n",
       "       [ 2.45708531e+00],\n",
       "       [ 2.42243742e+00],\n",
       "       [-1.50986394e+00],\n",
       "       [ 2.91629109e-01],\n",
       "       [ 1.84018118e+00],\n",
       "       [-1.15144508e-01],\n",
       "       [-2.09516302e+00],\n",
       "       [-1.72544775e+00],\n",
       "       [-2.08855010e+00],\n",
       "       [ 4.24440584e-01],\n",
       "       [-2.78989988e+00],\n",
       "       [ 1.26207876e+00],\n",
       "       [ 2.85413323e+00],\n",
       "       [ 6.55743426e-01],\n",
       "       [-1.32981287e+00],\n",
       "       [-1.60383509e+00],\n",
       "       [ 6.43851474e-01],\n",
       "       [-2.21307910e+00],\n",
       "       [-1.45791669e-01],\n",
       "       [-7.64622612e-01],\n",
       "       [-1.07196808e+00],\n",
       "       [ 2.12490536e+00],\n",
       "       [-5.84407470e-01],\n",
       "       [ 1.42987684e+00],\n",
       "       [-1.27933460e+00],\n",
       "       [ 1.55340541e+00],\n",
       "       [ 2.09618209e+00],\n",
       "       [-2.96333727e+00],\n",
       "       [-1.64289285e+00],\n",
       "       [-2.68814732e+00],\n",
       "       [ 1.02048283e+00],\n",
       "       [-2.27671491e+00],\n",
       "       [ 1.62275817e-01],\n",
       "       [ 1.42206921e+00],\n",
       "       [-2.98821479e+00],\n",
       "       [-2.02958219e+00],\n",
       "       [-2.28371023e+00],\n",
       "       [-2.43455886e+00],\n",
       "       [ 2.05305554e+00],\n",
       "       [-3.71380267e-02],\n",
       "       [ 1.39370216e+00],\n",
       "       [ 1.36142787e+00],\n",
       "       [-9.64445485e-01],\n",
       "       [ 1.77291973e+00],\n",
       "       [ 1.94204916e+00],\n",
       "       [ 7.57272016e-01],\n",
       "       [-1.44161474e+00],\n",
       "       [-1.46115449e-02],\n",
       "       [ 1.02741582e-01],\n",
       "       [ 2.36357802e+00],\n",
       "       [-1.14862091e+00],\n",
       "       [-1.62241185e+00],\n",
       "       [ 7.73880942e-01],\n",
       "       [ 2.72269256e+00],\n",
       "       [-9.36533732e-01],\n",
       "       [ 2.60610663e+00],\n",
       "       [-5.10044149e-01],\n",
       "       [ 1.96430660e+00],\n",
       "       [ 2.01380854e-01],\n",
       "       [-8.10023630e-01],\n",
       "       [ 1.55720410e+00],\n",
       "       [-3.05317042e-01],\n",
       "       [ 1.25881347e+00],\n",
       "       [-1.54089537e+00],\n",
       "       [-1.97845566e+00],\n",
       "       [ 6.92460404e-01],\n",
       "       [-2.24419224e-01],\n",
       "       [-9.36340241e-01],\n",
       "       [-1.64902779e+00],\n",
       "       [-3.12167207e-01],\n",
       "       [-2.70318812e+00],\n",
       "       [-7.57130065e-01],\n",
       "       [-2.13478943e+00],\n",
       "       [-1.13940666e+00],\n",
       "       [-3.32391775e-01],\n",
       "       [-1.21918453e+00],\n",
       "       [-1.05902063e+00],\n",
       "       [ 2.24432576e+00],\n",
       "       [-9.82704694e-01],\n",
       "       [-8.86968617e-01],\n",
       "       [-1.06879562e+00],\n",
       "       [ 1.65101693e+00],\n",
       "       [ 2.28369052e+00],\n",
       "       [ 2.25842583e+00],\n",
       "       [-1.96471278e-01],\n",
       "       [-1.85314760e-01],\n",
       "       [ 1.75725144e+00],\n",
       "       [ 2.92310413e+00],\n",
       "       [-3.52878709e-01],\n",
       "       [ 2.46581491e+00],\n",
       "       [-2.79222813e+00],\n",
       "       [-1.09369622e+00],\n",
       "       [-1.23616448e+00],\n",
       "       [-1.58981450e+00],\n",
       "       [-8.87668633e-01],\n",
       "       [-5.63095195e-01],\n",
       "       [-2.28771164e+00],\n",
       "       [-1.81927500e+00],\n",
       "       [ 1.70684641e+00],\n",
       "       [ 1.89188901e+00],\n",
       "       [ 1.68879178e+00],\n",
       "       [ 1.57571873e+00],\n",
       "       [-2.21415470e+00],\n",
       "       [-2.51433023e+00],\n",
       "       [-2.59713403e+00],\n",
       "       [ 1.43161867e+00],\n",
       "       [-2.42987939e-01],\n",
       "       [ 5.80540203e-01],\n",
       "       [ 1.17170932e+00],\n",
       "       [ 1.42648710e+00],\n",
       "       [-2.96662888e+00],\n",
       "       [-3.54176467e-01],\n",
       "       [ 2.88326800e+00],\n",
       "       [-2.97890590e+00],\n",
       "       [-6.25613812e-01],\n",
       "       [-6.16167855e-01],\n",
       "       [-2.76667003e-01],\n",
       "       [-1.58018332e-01],\n",
       "       [-3.99030033e-01],\n",
       "       [-8.18701874e-01],\n",
       "       [ 8.07688155e-01],\n",
       "       [-2.89008725e+00],\n",
       "       [ 2.89668378e+00],\n",
       "       [ 2.38415823e+00],\n",
       "       [-2.46239285e+00],\n",
       "       [ 8.65975970e-01],\n",
       "       [-5.70728207e-01],\n",
       "       [ 2.61063217e+00],\n",
       "       [ 1.36352632e+00],\n",
       "       [-2.88772975e-02],\n",
       "       [ 8.87374598e-01],\n",
       "       [ 2.11683958e+00],\n",
       "       [-7.90330172e-01],\n",
       "       [ 1.59931342e+00],\n",
       "       [ 2.73933703e+00],\n",
       "       [ 1.43077671e+00],\n",
       "       [-1.41838675e+00],\n",
       "       [ 2.43913391e+00],\n",
       "       [-1.24034129e+00],\n",
       "       [-2.77215157e+00],\n",
       "       [ 1.37531403e+00],\n",
       "       [-2.36532424e+00],\n",
       "       [-1.18255257e+00],\n",
       "       [-4.08588221e-01],\n",
       "       [-1.48503408e+00],\n",
       "       [-7.69585675e-01],\n",
       "       [-1.15990602e+00],\n",
       "       [-2.52326160e+00],\n",
       "       [ 7.46105037e-01],\n",
       "       [-1.06368565e+00],\n",
       "       [-7.99191597e-01],\n",
       "       [-2.53377828e+00],\n",
       "       [ 1.73647276e-01],\n",
       "       [-2.97705711e-03],\n",
       "       [ 1.89280975e+00],\n",
       "       [ 2.63985589e+00],\n",
       "       [ 1.79112947e+00],\n",
       "       [-8.91135929e-01],\n",
       "       [ 2.15962184e+00],\n",
       "       [-9.73168682e-01],\n",
       "       [-4.48532250e-01],\n",
       "       [ 1.64072125e+00]])"
      ]
     },
     "execution_count": 7,
     "metadata": {},
     "output_type": "execute_result"
    }
   ],
   "source": [
    "X"
   ]
  },
  {
   "cell_type": "code",
   "execution_count": 8,
   "id": "82348bc2",
   "metadata": {},
   "outputs": [
    {
     "data": {
      "image/png": "[encoded data removed]",
      "text/plain": [
       "<Figure size 640x480 with 1 Axes>"
      ]
     },
     "metadata": {},
     "output_type": "display_data"
    }
   ],
   "source": [
    "plt.scatter(X,y,edgecolors='black',color='green',s=30)\n",
    "plt.xlabel('X')\n",
    "plt.ylabel('Y')\n",
    "plt.show()"
   ]
  },
  {
   "cell_type": "code",
   "execution_count": 9,
   "id": "793059f0",
   "metadata": {},
   "outputs": [],
   "source": [
    "x_train,x_test,y_train,y_test=train_test_split(X,y,test_size=0.2,random_state=20)"
   ]
  },
  {
   "cell_type": "code",
   "execution_count": 10,
   "id": "dd21990a",
   "metadata": {},
   "outputs": [
    {
     "data": {
      "text/html": [
       "<style>#sk-container-id-1 {\n",
       "  /* Definition of color scheme common for light and dark mode */\n",
       "  --sklearn-color-text: #000;\n",
       "  --sklearn-color-text-muted: #666;\n",
       "  --sklearn-color-line: gray;\n",
       "  /* Definition of color scheme for unfitted estimators */\n",
       "  --sklearn-color-unfitted-level-0: #fff5e6;\n",
       "  --sklearn-color-unfitted-level-1: #f6e4d2;\n",
       "  --sklearn-color-unfitted-level-2: #ffe0b3;\n",
       "  --sklearn-color-unfitted-level-3: chocolate;\n",
       "  /* Definition of color scheme for fitted estimators */\n",
       "  --sklearn-color-fitted-level-0: #f0f8ff;\n",
       "  --sklearn-color-fitted-level-1: #d4ebff;\n",
       "  --sklearn-color-fitted-level-2: #b3dbfd;\n",
       "  --sklearn-color-fitted-level-3: cornflowerblue;\n",
       "\n",
       "  /* Specific color for light theme */\n",
       "  --sklearn-color-text-on-default-background: var(--sg-text-color, var(--theme-code-foreground, var(--jp-content-font-color1, black)));\n",
       "  --sklearn-color-background: var(--sg-background-color, var(--theme-background, var(--jp-layout-color0, white)));\n",
       "  --sklearn-color-border-box: var(--sg-text-color, var(--theme-code-foreground, var(--jp-content-font-color1, black)));\n",
       "  --sklearn-color-icon: #696969;\n",
       "\n",
       "  @media (prefers-color-scheme: dark) {\n",
       "    /* Redefinition of color scheme for dark theme */\n",
       "    --sklearn-color-text-on-default-background: var(--sg-text-color, var(--theme-code-foreground, var(--jp-content-font-color1, white)));\n",
       "    --sklearn-color-background: var(--sg-background-color, var(--theme-background, var(--jp-layout-color0, #111)));\n",
       "    --sklearn-color-border-box: var(--sg-text-color, var(--theme-code-foreground, var(--jp-content-font-color1, white)));\n",
       "    --sklearn-color-icon: #878787;\n",
       "  }\n",
       "}\n",
       "\n",
       "#sk-container-id-1 {\n",
       "  color: var(--sklearn-color-text);\n",
       "}\n",
       "\n",
       "#sk-container-id-1 pre {\n",
       "  padding: 0;\n",
       "}\n",
       "\n",
       "#sk-container-id-1 input.sk-hidden--visually {\n",
       "  border: 0;\n",
       "  clip: rect(1px 1px 1px 1px);\n",
       "  clip: rect(1px, 1px, 1px, 1px);\n",
       "  height: 1px;\n",
       "  margin: -1px;\n",
       "  overflow: hidden;\n",
       "  padding: 0;\n",
       "  position: absolute;\n",
       "  width: 1px;\n",
       "}\n",
       "\n",
       "#sk-container-id-1 div.sk-dashed-wrapped {\n",
       "  border: 1px dashed var(--sklearn-color-line);\n",
       "  margin: 0 0.4em 0.5em 0.4em;\n",
       "  box-sizing: border-box;\n",
       "  padding-bottom: 0.4em;\n",
       "  background-color: var(--sklearn-color-background);\n",
       "}\n",
       "\n",
       "#sk-container-id-1 div.sk-container {\n",
       "  /* jupyter's `normalize.less` sets `[hidden] { display: none; }`\n",
       "     but bootstrap.min.css set `[hidden] { display: none !important; }`\n",
       "     so we also need the `!important` here to be able to override the\n",
       "     default hidden behavior on the sphinx rendered scikit-learn.org.\n",
       "     See: https://github.com/scikit-learn/scikit-learn/issues/21755 */\n",
       "  display: inline-block !important;\n",
       "  position: relative;\n",
       "}\n",
       "\n",
       "#sk-container-id-1 div.sk-text-repr-fallback {\n",
       "  display: none;\n",
       "}\n",
       "\n",
       "div.sk-parallel-item,\n",
       "div.sk-serial,\n",
       "div.sk-item {\n",
       "  /* draw centered vertical line to link estimators */\n",
       "  background-image: linear-gradient(var(--sklearn-color-text-on-default-background), var(--sklearn-color-text-on-default-background));\n",
       "  background-size: 2px 100%;\n",
       "  background-repeat: no-repeat;\n",
       "  background-position: center center;\n",
       "}\n",
       "\n",
       "/* Parallel-specific style estimator block */\n",
       "\n",
       "#sk-container-id-1 div.sk-parallel-item::after {\n",
       "  content: \"\";\n",
       "  width: 100%;\n",
       "  border-bottom: 2px solid var(--sklearn-color-text-on-default-background);\n",
       "  flex-grow: 1;\n",
       "}\n",
       "\n",
       "#sk-container-id-1 div.sk-parallel {\n",
       "  display: flex;\n",
       "  align-items: stretch;\n",
       "  justify-content: center;\n",
       "  background-color: var(--sklearn-color-background);\n",
       "  position: relative;\n",
       "}\n",
       "\n",
       "#sk-container-id-1 div.sk-parallel-item {\n",
       "  display: flex;\n",
       "  flex-direction: column;\n",
       "}\n",
       "\n",
       "#sk-container-id-1 div.sk-parallel-item:first-child::after {\n",
       "  align-self: flex-end;\n",
       "  width: 50%;\n",
       "}\n",
       "\n",
       "#sk-container-id-1 div.sk-parallel-item:last-child::after {\n",
       "  align-self: flex-start;\n",
       "  width: 50%;\n",
       "}\n",
       "\n",
       "#sk-container-id-1 div.sk-parallel-item:only-child::after {\n",
       "  width: 0;\n",
       "}\n",
       "\n",
       "/* Serial-specific style estimator block */\n",
       "\n",
       "#sk-container-id-1 div.sk-serial {\n",
       "  display: flex;\n",
       "  flex-direction: column;\n",
       "  align-items: center;\n",
       "  background-color: var(--sklearn-color-background);\n",
       "  padding-right: 1em;\n",
       "  padding-left: 1em;\n",
       "}\n",
       "\n",
       "\n",
       "/* Toggleable style: style used for estimator/Pipeline/ColumnTransformer box that is\n",
       "clickable and can be expanded/collapsed.\n",
       "- Pipeline and ColumnTransformer use this feature and define the default style\n",
       "- Estimators will overwrite some part of the style using the `sk-estimator` class\n",
       "*/\n",
       "\n",
       "/* Pipeline and ColumnTransformer style (default) */\n",
       "\n",
       "#sk-container-id-1 div.sk-toggleable {\n",
       "  /* Default theme specific background. It is overwritten whether we have a\n",
       "  specific estimator or a Pipeline/ColumnTransformer */\n",
       "  background-color: var(--sklearn-color-background);\n",
       "}\n",
       "\n",
       "/* Toggleable label */\n",
       "#sk-container-id-1 label.sk-toggleable__label {\n",
       "  cursor: pointer;\n",
       "  display: flex;\n",
       "  width: 100%;\n",
       "  margin-bottom: 0;\n",
       "  padding: 0.5em;\n",
       "  box-sizing: border-box;\n",
       "  text-align: center;\n",
       "  align-items: start;\n",
       "  justify-content: space-between;\n",
       "  gap: 0.5em;\n",
       "}\n",
       "\n",
       "#sk-container-id-1 label.sk-toggleable__label .caption {\n",
       "  font-size: 0.6rem;\n",
       "  font-weight: lighter;\n",
       "  color: var(--sklearn-color-text-muted);\n",
       "}\n",
       "\n",
       "#sk-container-id-1 label.sk-toggleable__label-arrow:before {\n",
       "  /* Arrow on the left of the label */\n",
       "  content: \"▸\";\n",
       "  float: left;\n",
       "  margin-right: 0.25em;\n",
       "  color: var(--sklearn-color-icon);\n",
       "}\n",
       "\n",
       "#sk-container-id-1 label.sk-toggleable__label-arrow:hover:before {\n",
       "  color: var(--sklearn-color-text);\n",
       "}\n",
       "\n",
       "/* Toggleable content - dropdown */\n",
       "\n",
       "#sk-container-id-1 div.sk-toggleable__content {\n",
       "  max-height: 0;\n",
       "  max-width: 0;\n",
       "  overflow: hidden;\n",
       "  text-align: left;\n",
       "  /* unfitted */\n",
       "  background-color: var(--sklearn-color-unfitted-level-0);\n",
       "}\n",
       "\n",
       "#sk-container-id-1 div.sk-toggleable__content.fitted {\n",
       "  /* fitted */\n",
       "  background-color: var(--sklearn-color-fitted-level-0);\n",
       "}\n",
       "\n",
       "#sk-container-id-1 div.sk-toggleable__content pre {\n",
       "  margin: 0.2em;\n",
       "  border-radius: 0.25em;\n",
       "  color: var(--sklearn-color-text);\n",
       "  /* unfitted */\n",
       "  background-color: var(--sklearn-color-unfitted-level-0);\n",
       "}\n",
       "\n",
       "#sk-container-id-1 div.sk-toggleable__content.fitted pre {\n",
       "  /* unfitted */\n",
       "  background-color: var(--sklearn-color-fitted-level-0);\n",
       "}\n",
       "\n",
       "#sk-container-id-1 input.sk-toggleable__control:checked~div.sk-toggleable__content {\n",
       "  /* Expand drop-down */\n",
       "  max-height: 200px;\n",
       "  max-width: 100%;\n",
       "  overflow: auto;\n",
       "}\n",
       "\n",
       "#sk-container-id-1 input.sk-toggleable__control:checked~label.sk-toggleable__label-arrow:before {\n",
       "  content: \"▾\";\n",
       "}\n",
       "\n",
       "/* Pipeline/ColumnTransformer-specific style */\n",
       "\n",
       "#sk-container-id-1 div.sk-label input.sk-toggleable__control:checked~label.sk-toggleable__label {\n",
       "  color: var(--sklearn-color-text);\n",
       "  background-color: var(--sklearn-color-unfitted-level-2);\n",
       "}\n",
       "\n",
       "#sk-container-id-1 div.sk-label.fitted input.sk-toggleable__control:checked~label.sk-toggleable__label {\n",
       "  background-color: var(--sklearn-color-fitted-level-2);\n",
       "}\n",
       "\n",
       "/* Estimator-specific style */\n",
       "\n",
       "/* Colorize estimator box */\n",
       "#sk-container-id-1 div.sk-estimator input.sk-toggleable__control:checked~label.sk-toggleable__label {\n",
       "  /* unfitted */\n",
       "  background-color: var(--sklearn-color-unfitted-level-2);\n",
       "}\n",
       "\n",
       "#sk-container-id-1 div.sk-estimator.fitted input.sk-toggleable__control:checked~label.sk-toggleable__label {\n",
       "  /* fitted */\n",
       "  background-color: var(--sklearn-color-fitted-level-2);\n",
       "}\n",
       "\n",
       "#sk-container-id-1 div.sk-label label.sk-toggleable__label,\n",
       "#sk-container-id-1 div.sk-label label {\n",
       "  /* The background is the default theme color */\n",
       "  color: var(--sklearn-color-text-on-default-background);\n",
       "}\n",
       "\n",
       "/* On hover, darken the color of the background */\n",
       "#sk-container-id-1 div.sk-label:hover label.sk-toggleable__label {\n",
       "  color: var(--sklearn-color-text);\n",
       "  background-color: var(--sklearn-color-unfitted-level-2);\n",
       "}\n",
       "\n",
       "/* Label box, darken color on hover, fitted */\n",
       "#sk-container-id-1 div.sk-label.fitted:hover label.sk-toggleable__label.fitted {\n",
       "  color: var(--sklearn-color-text);\n",
       "  background-color: var(--sklearn-color-fitted-level-2);\n",
       "}\n",
       "\n",
       "/* Estimator label */\n",
       "\n",
       "#sk-container-id-1 div.sk-label label {\n",
       "  font-family: monospace;\n",
       "  font-weight: bold;\n",
       "  display: inline-block;\n",
       "  line-height: 1.2em;\n",
       "}\n",
       "\n",
       "#sk-container-id-1 div.sk-label-container {\n",
       "  text-align: center;\n",
       "}\n",
       "\n",
       "/* Estimator-specific */\n",
       "#sk-container-id-1 div.sk-estimator {\n",
       "  font-family: monospace;\n",
       "  border: 1px dotted var(--sklearn-color-border-box);\n",
       "  border-radius: 0.25em;\n",
       "  box-sizing: border-box;\n",
       "  margin-bottom: 0.5em;\n",
       "  /* unfitted */\n",
       "  background-color: var(--sklearn-color-unfitted-level-0);\n",
       "}\n",
       "\n",
       "#sk-container-id-1 div.sk-estimator.fitted {\n",
       "  /* fitted */\n",
       "  background-color: var(--sklearn-color-fitted-level-0);\n",
       "}\n",
       "\n",
       "/* on hover */\n",
       "#sk-container-id-1 div.sk-estimator:hover {\n",
       "  /* unfitted */\n",
       "  background-color: var(--sklearn-color-unfitted-level-2);\n",
       "}\n",
       "\n",
       "#sk-container-id-1 div.sk-estimator.fitted:hover {\n",
       "  /* fitted */\n",
       "  background-color: var(--sklearn-color-fitted-level-2);\n",
       "}\n",
       "\n",
       "/* Specification for estimator info (e.g. \"i\" and \"?\") */\n",
       "\n",
       "/* Common style for \"i\" and \"?\" */\n",
       "\n",
       ".sk-estimator-doc-link,\n",
       "a:link.sk-estimator-doc-link,\n",
       "a:visited.sk-estimator-doc-link {\n",
       "  float: right;\n",
       "  font-size: smaller;\n",
       "  line-height: 1em;\n",
       "  font-family: monospace;\n",
       "  background-color: var(--sklearn-color-background);\n",
       "  border-radius: 1em;\n",
       "  height: 1em;\n",
       "  width: 1em;\n",
       "  text-decoration: none !important;\n",
       "  margin-left: 0.5em;\n",
       "  text-align: center;\n",
       "  /* unfitted */\n",
       "  border: var(--sklearn-color-unfitted-level-1) 1pt solid;\n",
       "  color: var(--sklearn-color-unfitted-level-1);\n",
       "}\n",
       "\n",
       ".sk-estimator-doc-link.fitted,\n",
       "a:link.sk-estimator-doc-link.fitted,\n",
       "a:visited.sk-estimator-doc-link.fitted {\n",
       "  /* fitted */\n",
       "  border: var(--sklearn-color-fitted-level-1) 1pt solid;\n",
       "  color: var(--sklearn-color-fitted-level-1);\n",
       "}\n",
       "\n",
       "/* On hover */\n",
       "div.sk-estimator:hover .sk-estimator-doc-link:hover,\n",
       ".sk-estimator-doc-link:hover,\n",
       "div.sk-label-container:hover .sk-estimator-doc-link:hover,\n",
       ".sk-estimator-doc-link:hover {\n",
       "  /* unfitted */\n",
       "  background-color: var(--sklearn-color-unfitted-level-3);\n",
       "  color: var(--sklearn-color-background);\n",
       "  text-decoration: none;\n",
       "}\n",
       "\n",
       "div.sk-estimator.fitted:hover .sk-estimator-doc-link.fitted:hover,\n",
       ".sk-estimator-doc-link.fitted:hover,\n",
       "div.sk-label-container:hover .sk-estimator-doc-link.fitted:hover,\n",
       ".sk-estimator-doc-link.fitted:hover {\n",
       "  /* fitted */\n",
       "  background-color: var(--sklearn-color-fitted-level-3);\n",
       "  color: var(--sklearn-color-background);\n",
       "  text-decoration: none;\n",
       "}\n",
       "\n",
       "/* Span, style for the box shown on hovering the info icon */\n",
       ".sk-estimator-doc-link span {\n",
       "  display: none;\n",
       "  z-index: 9999;\n",
       "  position: relative;\n",
       "  font-weight: normal;\n",
       "  right: .2ex;\n",
       "  padding: .5ex;\n",
       "  margin: .5ex;\n",
       "  width: min-content;\n",
       "  min-width: 20ex;\n",
       "  max-width: 50ex;\n",
       "  color: var(--sklearn-color-text);\n",
       "  box-shadow: 2pt 2pt 4pt #999;\n",
       "  /* unfitted */\n",
       "  background: var(--sklearn-color-unfitted-level-0);\n",
       "  border: .5pt solid var(--sklearn-color-unfitted-level-3);\n",
       "}\n",
       "\n",
       ".sk-estimator-doc-link.fitted span {\n",
       "  /* fitted */\n",
       "  background: var(--sklearn-color-fitted-level-0);\n",
       "  border: var(--sklearn-color-fitted-level-3);\n",
       "}\n",
       "\n",
       ".sk-estimator-doc-link:hover span {\n",
       "  display: block;\n",
       "}\n",
       "\n",
       "/* \"?\"-specific style due to the `<a>` HTML tag */\n",
       "\n",
       "#sk-container-id-1 a.estimator_doc_link {\n",
       "  float: right;\n",
       "  font-size: 1rem;\n",
       "  line-height: 1em;\n",
       "  font-family: monospace;\n",
       "  background-color: var(--sklearn-color-background);\n",
       "  border-radius: 1rem;\n",
       "  height: 1rem;\n",
       "  width: 1rem;\n",
       "  text-decoration: none;\n",
       "  /* unfitted */\n",
       "  color: var(--sklearn-color-unfitted-level-1);\n",
       "  border: var(--sklearn-color-unfitted-level-1) 1pt solid;\n",
       "}\n",
       "\n",
       "#sk-container-id-1 a.estimator_doc_link.fitted {\n",
       "  /* fitted */\n",
       "  border: var(--sklearn-color-fitted-level-1) 1pt solid;\n",
       "  color: var(--sklearn-color-fitted-level-1);\n",
       "}\n",
       "\n",
       "/* On hover */\n",
       "#sk-container-id-1 a.estimator_doc_link:hover {\n",
       "  /* unfitted */\n",
       "  background-color: var(--sklearn-color-unfitted-level-3);\n",
       "  color: var(--sklearn-color-background);\n",
       "  text-decoration: none;\n",
       "}\n",
       "\n",
       "#sk-container-id-1 a.estimator_doc_link.fitted:hover {\n",
       "  /* fitted */\n",
       "  background-color: var(--sklearn-color-fitted-level-3);\n",
       "}\n",
       "</style><div id=\"sk-container-id-1\" class=\"sk-top-container\"><div class=\"sk-text-repr-fallback\"><pre>LinearRegression()</pre><b>In a Jupyter environment, please rerun this cell to show the HTML representation or trust the notebook. <br />On GitHub, the HTML representation is unable to render, please try loading this page with nbviewer.org.</b></div><div class=\"sk-container\" hidden><div class=\"sk-item\"><div class=\"sk-estimator fitted sk-toggleable\"><input class=\"sk-toggleable__control sk-hidden--visually\" id=\"sk-estimator-id-1\" type=\"checkbox\" checked><label for=\"sk-estimator-id-1\" class=\"sk-toggleable__label fitted sk-toggleable__label-arrow\"><div><div>LinearRegression</div></div><div><a class=\"sk-estimator-doc-link fitted\" rel=\"noreferrer\" target=\"_blank\" href=\"https://scikit-learn.org/1.6/modules/generated/sklearn.linear_model.LinearRegression.html\">?<span>Documentation for LinearRegression</span></a><span class=\"sk-estimator-doc-link fitted\">i<span>Fitted</span></span></div></label><div class=\"sk-toggleable__content fitted\"><pre>LinearRegression()</pre></div> </div></div></div></div>"
      ],
      "text/plain": [
       "LinearRegression()"
      ]
     },
     "execution_count": 10,
     "metadata": {},
     "output_type": "execute_result"
    }
   ],
   "source": [
    "lr=LinearRegression()\n",
    "lr.fit(x_train,y_train)"
   ]
  },
  {
   "cell_type": "code",
   "execution_count": 11,
   "id": "8c633ab5",
   "metadata": {},
   "outputs": [],
   "source": [
    "y_pred=lr.predict(x_test)"
   ]
  },
  {
   "cell_type": "code",
   "execution_count": 12,
   "id": "e1eb1702",
   "metadata": {},
   "outputs": [
    {
     "data": {
      "image/png": "[encoded data removed]",
      "text/plain": [
       "<Figure size 640x480 with 1 Axes>"
      ]
     },
     "metadata": {},
     "output_type": "display_data"
    }
   ],
   "source": [
    "plt.scatter(X,y,edgecolors='black',color='green',s=30)\n",
    "plt.plot(x_test,y_pred)\n",
    "plt.xlabel('X')\n",
    "plt.ylabel('Y')\n",
    "plt.show()"
   ]
  },
  {
   "cell_type": "code",
   "execution_count": 13,
   "id": "47c203d5",
   "metadata": {},
   "outputs": [
    {
     "data": {
      "text/plain": [
       "-0.0535662073737182"
      ]
     },
     "execution_count": 13,
     "metadata": {},
     "output_type": "execute_result"
    }
   ],
   "source": [
    "r2_score(y_test,y_pred)"
   ]
  },
  {
   "cell_type": "code",
   "execution_count": 14,
   "id": "aba10736",
   "metadata": {},
   "outputs": [],
   "source": [
    "def polynomial_fit(x_train,x_test,degree=2):\n",
    "    poly=PolynomialFeatures(degree=degree,include_bias=True)\n",
    "    x_train_trans=poly.fit_transform(x_train)\n",
    "    x_test_trans=poly.transform(x_test)\n",
    "    return x_train_trans,x_test_trans"
   ]
  },
  {
   "cell_type": "code",
   "execution_count": 15,
   "id": "78291569",
   "metadata": {},
   "outputs": [],
   "source": [
    "x_train_trans,x_test_trans=polynomial_fit(x_train,x_test)"
   ]
  },
  {
   "cell_type": "code",
   "execution_count": 16,
   "id": "54f565b1",
   "metadata": {},
   "outputs": [
    {
     "data": {
      "text/plain": [
       "array([ 1.        , -0.62561381,  0.39139264])"
      ]
     },
     "execution_count": 16,
     "metadata": {},
     "output_type": "execute_result"
    }
   ],
   "source": [
    "x_train_trans[0]"
   ]
  },
  {
   "cell_type": "code",
   "execution_count": 17,
   "id": "e0461331",
   "metadata": {},
   "outputs": [],
   "source": [
    "Linear=LinearRegression()\n",
    "Linear.fit(x_train_trans,y_train)\n",
    "y_pred=Linear.predict(x_test_trans)"
   ]
  },
  {
   "cell_type": "code",
   "execution_count": 18,
   "id": "01c34ff1",
   "metadata": {},
   "outputs": [
    {
     "data": {
      "text/plain": [
       "0.7059385831094607"
      ]
     },
     "execution_count": 18,
     "metadata": {},
     "output_type": "execute_result"
    }
   ],
   "source": [
    "r2_score(y_test,y_pred)"
   ]
  },
  {
   "cell_type": "code",
   "execution_count": 19,
   "id": "90cc1420",
   "metadata": {},
   "outputs": [
    {
     "name": "stdout",
     "output_type": "stream",
     "text": [
      "[[0.         0.85933133 0.83587611]]\n",
      "[2.06325691]\n"
     ]
    }
   ],
   "source": [
    "print(Linear.coef_)\n",
    "print(Linear.intercept_)"
   ]
  },
  {
   "cell_type": "code",
   "execution_count": 20,
   "id": "dc67459f",
   "metadata": {},
   "outputs": [],
   "source": [
    "poly=PolynomialFeatures(degree=2,include_bias=True)\n",
    "X_new=np.linspace(-3, 3, 200).reshape(200, 1)\n",
    "X_new_poly,_=polynomial_fit(X_new,X_new)\n",
    "y_new = Linear.predict(X_new_poly)"
   ]
  },
  {
   "cell_type": "code",
   "execution_count": 21,
   "id": "1c6fd93e",
   "metadata": {},
   "outputs": [
    {
     "data": {
      "image/png": "[encoded data removed]",
      "text/plain": [
       "<Figure size 640x480 with 1 Axes>"
      ]
     },
     "metadata": {},
     "output_type": "display_data"
    }
   ],
   "source": [
    "plt.plot(X_new, y_new, \"r-\", linewidth=2, label=\"Predictions\")\n",
    "plt.plot(x_train, y_train, \"b.\",label='Training points')\n",
    "plt.plot(x_test, y_test, \"g.\",label='Testing points')\n",
    "plt.xlabel(\"X\")\n",
    "plt.ylabel(\"y\")\n",
    "plt.legend()\n",
    "plt.show()"
   ]
  },
  {
   "cell_type": "code",
   "execution_count": 22,
   "id": "8c78b681",
   "metadata": {},
   "outputs": [],
   "source": [
    "def polynomial_regression(degree):\n",
    "    X_new=np.linspace(-3, 3, 100).reshape(100, 1)\n",
    "    polybig_features = PolynomialFeatures(degree=degree, include_bias=False)\n",
    "    std_scaler = StandardScaler()\n",
    "    lin_reg = LinearRegression()\n",
    "    polynomial_regression = Pipeline([\n",
    "            (\"poly_features\", polybig_features),\n",
    "            (\"std_scaler\", std_scaler),\n",
    "            (\"lin_reg\", lin_reg),\n",
    "        ])\n",
    "    polynomial_regression.fit(X, y)\n",
    "    y_newbig = polynomial_regression.predict(X_new)\n",
    "    plt.plot(X_new, y_newbig,'r', label=\"Degree \" + str(degree), linewidth=2)\n",
    "\n",
    "    plt.plot(x_train, y_train, \"b.\", linewidth=3)\n",
    "    plt.plot(x_test, y_test, \"g.\", linewidth=3)\n",
    "    plt.legend(loc=\"upper left\")\n",
    "    plt.xlabel(\"X\")\n",
    "    plt.ylabel(\"y\")\n",
    "    plt.axis([-3, 3, 0, 10])\n",
    "    plt.show()"
   ]
  },
  {
   "cell_type": "code",
   "execution_count": 23,
   "id": "a277d2e0",
   "metadata": {},
   "outputs": [
    {
     "data": {
      "image/png": "[encoded data removed]",
      "text/plain": [
       "<Figure size 640x480 with 1 Axes>"
      ]
     },
     "metadata": {},
     "output_type": "display_data"
    },
    {
     "data": {
      "image/png": "[encoded data removed]",
      "text/plain": [
       "<Figure size 640x480 with 1 Axes>"
      ]
     },
     "metadata": {},
     "output_type": "display_data"
    },
    {
     "data": {
      "image/png": "[encoded data removed]",
      "text/plain": [
       "<Figure size 640x480 with 1 Axes>"
      ]
     },
     "metadata": {},
     "output_type": "display_data"
    },
    {
     "data": {
      "image/png": "[encoded data removed]",
      "text/plain": [
       "<Figure size 640x480 with 1 Axes>"
      ]
     },
     "metadata": {},
     "output_type": "display_data"
    },
    {
     "data": {
      "image/png": "[encoded data removed]",
      "text/plain": [
       "<Figure size 640x480 with 1 Axes>"
      ]
     },
     "metadata": {},
     "output_type": "display_data"
    },
    {
     "data": {
      "image/png": "[encoded data removed]",
      "text/plain": [
       "<Figure size 640x480 with 1 Axes>"
      ]
     },
     "metadata": {},
     "output_type": "display_data"
    },
    {
     "data": {
      "image/png": "[encoded data removed]",
      "text/plain": [
       "<Figure size 640x480 with 1 Axes>"
      ]
     },
     "metadata": {},
     "output_type": "display_data"
    },
    {
     "data": {
      "image/png": "[encoded data removed]",
      "text/plain": [
       "<Figure size 640x480 with 1 Axes>"
      ]
     },
     "metadata": {},
     "output_type": "display_data"
    },
    {
     "data": {
      "image/png": "[encoded data removed]",
      "text/plain": [
       "<Figure size 640x480 with 1 Axes>"
      ]
     },
     "metadata": {},
     "output_type": "display_data"
    },
    {
     "data": {
      "image/png": "[encoded data removed]",
      "text/plain": [
       "<Figure size 640x480 with 1 Axes>"
      ]
     },
     "metadata": {},
     "output_type": "display_data"
    },
    {
     "data": {
      "image/png": "[encoded data removed]",
      "text/plain": [
       "<Figure size 640x480 with 1 Axes>"
      ]
     },
     "metadata": {},
     "output_type": "display_data"
    },
    {
     "data": {
      "image/png": "[encoded data removed]",
      "text/plain": [
       "<Figure size 640x480 with 1 Axes>"
      ]
     },
     "metadata": {},
     "output_type": "display_data"
    },
    {
     "data": {
      "image/png": "[encoded data removed]",
      "text/plain": [
       "<Figure size 640x480 with 1 Axes>"
      ]
     },
     "metadata": {},
     "output_type": "display_data"
    },
    {
     "data": {
      "image/png": "[encoded data removed]",
      "text/plain": [
       "<Figure size 640x480 with 1 Axes>"
      ]
     },
     "metadata": {},
     "output_type": "display_data"
    },
    {
     "data": {
      "image/png": "[encoded data removed]",
      "text/plain": [
       "<Figure size 640x480 with 1 Axes>"
      ]
     },
     "metadata": {},
     "output_type": "display_data"
    },
    {
     "data": {
      "image/png": "[encoded data removed]",
      "text/plain": [
       "<Figure size 640x480 with 1 Axes>"
      ]
     },
     "metadata": {},
     "output_type": "display_data"
    },
    {
     "data": {
      "image/png": "[encoded data removed]",
      "text/plain": [
       "<Figure size 640x480 with 1 Axes>"
      ]
     },
     "metadata": {},
     "output_type": "display_data"
    },
    {
     "data": {
      "image/png": "[encoded data removed]",
      "text/plain": [
       "<Figure size 640x480 with 1 Axes>"
      ]
     },
     "metadata": {},
     "output_type": "display_data"
    },
    {
     "data": {
      "image/png": "[encoded data removed]",
      "text/plain": [
       "<Figure size 640x480 with 1 Axes>"
      ]
     },
     "metadata": {},
     "output_type": "display_data"
    },
    {
     "data": {
      "image/png": "[encoded data removed]",
      "text/plain": [
       "<Figure size 640x480 with 1 Axes>"
      ]
     },
     "metadata": {},
     "output_type": "display_data"
    }
   ],
   "source": [
    "for i in range(10,30):\n",
    "    polynomial_regression(i)"
   ]
  },
  {
   "cell_type": "code",
   "execution_count": 24,
   "id": "5787404c",
   "metadata": {},
   "outputs": [],
   "source": [
    "# 3D polynomial regression\n",
    "x = 7 * np.random.rand(100, 1) - 2.8\n",
    "y = 7 * np.random.rand(100, 1) - 2.8\n",
    "\n",
    "z = x**2 + y**2 + 0.2*x + 0.2*y + 0.1*x*y +2 + np.random.randn(100, 1)\n",
    "# z = x^2 + y^2 + 0.2x + 0.2y + 0.1xy + 2"
   ]
  },
  {
   "cell_type": "code",
   "execution_count": 25,
   "id": "15122bf6",
   "metadata": {},
   "outputs": [
    {
     "data": {
      "application/vnd.plotly.v1+json": {
       "config": {
        "plotlyServerURL": "https://plot.ly"
       },
       "data": [
        {
         "hovertemplate": "x=%{x}<br>y=%{y}<br>z=%{z}<extra></extra>",
         "legendgroup": "",
         "marker": {
          "color": "#636efa",
          "symbol": "circle"
         },
         "mode": "markers",
         "name": "",
         "scene": "scene",
         "showlegend": false,
         "type": "scatter3d",
         "x": [
          -2.6321812506057958,
          1.9192034862534717,
          3.0776156225186364,
          3.571876437927971,
          3.332655302402163,
          0.8854024797090077,
          -0.1601776324939097,
          2.191735705082891,
          3.307436093846148,
          3.0571962743337764,
          2.4234299467889864,
          1.7255386581180936,
          -0.7806655394930004,
          3.224468791380054,
          1.7493333868956737,
          -0.8555496306521975,
          -2.3123763443999095,
          1.000776627822984,
          -2.488264673484877,
          0.3175859898044635,
          3.4502613283282937,
          2.467929431414966,
          -0.2627791564690707,
          4.047299082354273,
          -2.374390561227457,
          2.433673519691461,
          -1.2571530170704721,
          2.144440106056342,
          3.1741890229275507,
          -2.7159423423337303,
          2.7833569130351634,
          -2.09582605488296,
          3.3796292266829298,
          -0.6178477117449552,
          -0.6475347595849703,
          3.7037465732369137,
          1.7154051053245105,
          -0.8549480991284726,
          3.3578240790242315,
          1.7105869406110505,
          -0.6740464420452241,
          -0.8653719071147412,
          3.409020836994298,
          2.537300280756252,
          -1.244242709749544,
          1.7129068344569989,
          1.7829991509615564,
          2.360046005756204,
          -1.4877603946614335,
          -2.2595087744166915,
          1.3655445348841644,
          -2.01087924593657,
          -1.4952187476327106,
          1.4561206107905749,
          0.6231215791402755,
          -1.3482515998151585,
          -0.8988970989818046,
          1.7326025351581489,
          2.675358442971583,
          -0.5522227445824637,
          1.9254831253400395,
          0.009477526417120075,
          0.03142573823378303,
          -0.6146729044881187,
          2.1983016237261745,
          3.0492206230353283,
          -0.07163015541983464,
          3.2882731406524526,
          -0.8810750768571869,
          0.8779602576020205,
          0.04414439419411531,
          -1.0781120536642914,
          -0.20773596755715484,
          -0.31987064205051263,
          -0.8837651973627145,
          1.3679832080116743,
          2.2430522007924996,
          2.4050457765180777,
          0.7042247645490187,
          1.1840548968461855,
          2.3869177286886316,
          3.625416415880835,
          2.5620757812312807,
          -0.832094590723893,
          0.04835135274564317,
          -0.5370966938426003,
          -1.0572907643767488,
          2.4321094511096186,
          0.3219768955532887,
          -2.20355763394355,
          2.6311163800383346,
          -2.5992770335008193,
          -2.146020889651017,
          1.2557785685786058,
          3.3638746293401933,
          -0.557765513434958,
          3.3040244974470827,
          -0.29945711657263585,
          -2.514848514941955,
          -1.608916689520628
         ],
         "y": [
          0.2614094166386862,
          -0.30316070105724213,
          -2.152509594439878,
          1.67360567635943,
          4.080028238151815,
          -2.1321360957626414,
          -2.0403418762377807,
          -0.3351296692389667,
          1.2986333930909417,
          -2.1678065661686508,
          -0.45665063115296833,
          -1.8841454762510446,
          4.028091478669938,
          1.3919574306133553,
          -0.7819554052064301,
          -1.5674136990268819,
          3.7989544271129168,
          1.330409779285489,
          3.920499764545249,
          3.409826425139438,
          -2.253850403380517,
          0.3504353867570793,
          3.063003227123507,
          -0.9780312506118298,
          4.0462752886671804,
          -1.1899965827204313,
          0.5188300063135798,
          0.32186970258681,
          -2.019592241920691,
          -1.0826509418556327,
          -0.508306656743716,
          4.198738882033249,
          2.892176798136859,
          -1.1669921268046102,
          -2.2882872904549973,
          -0.9026770953021879,
          -1.8110786615308054,
          3.730758888624522,
          2.3800142438323277,
          -2.1032411326646283,
          3.786007293495561,
          -0.6212973058072753,
          2.6995946393994874,
          4.110509594651885,
          -0.20724081604186573,
          1.5726415574278736,
          2.215587900160931,
          -1.2732399709946716,
          1.3694151470762854,
          3.7819091629767927,
          1.0407041450498333,
          -0.9148694034405485,
          -0.8847876581823217,
          -2.053945738440312,
          4.192254214012351,
          0.7721492975618993,
          -2.6525945718602535,
          0.06894236713637714,
          -0.5837430259233765,
          0.9255613588946594,
          1.0490999750595513,
          2.7422924794698575,
          -0.6783248964597148,
          -2.2082233606030646,
          2.8539888411882934,
          -0.33606118220829506,
          -0.9163619891279042,
          0.870483077711933,
          3.1231018851429706,
          -1.719853929976015,
          0.42008836587328746,
          2.7666712218045317,
          0.6756376666295867,
          1.5036788465393434,
          -0.7171068574722694,
          0.07157155930447434,
          0.7609369238822086,
          0.6516901888480628,
          -1.0886765782973993,
          3.8418581908243583,
          -2.783692626575913,
          -2.557284488044223,
          0.8646993492539492,
          1.0500851297976639,
          0.08969893117754335,
          2.869688357468335,
          0.36596139511312753,
          3.579360967406945,
          -1.9657728151010534,
          1.4337264949513582,
          0.8185665357893059,
          -0.5585607526287948,
          0.8674754493583667,
          -1.0160268211173238,
          0.9734213898275597,
          3.7867367450698675,
          1.3110729282340037,
          -1.6315570595628808,
          2.0691035785500898,
          -0.9742136725657615
         ],
         "z": [
          10.141749216259914,
          4.946881184649879,
          14.898812622098355,
          20.35441746081871,
          32.26957196115206,
          8.011460216501911,
          7.128686929993729,
          6.799257000806266,
          16.797788143485874,
          16.663152229850507,
          7.014527886231321,
          7.645485679673799,
          18.69401321142723,
          16.08579785792325,
          5.406152680431408,
          2.8692639117906813,
          19.255496476039347,
          5.5064933562981055,
          22.152699219929723,
          15.735646472305785,
          19.140144446121518,
          8.704904096694944,
          12.812568080974946,
          20.437925623677824,
          23.150934313717112,
          9.562150003169165,
          3.9880371900276015,
          7.267930228205504,
          17.463845224909594,
          10.911906538873566,
          9.262646305058729,
          24.926824176567866,
          23.218223373296706,
          3.6763662975359317,
          7.181928447969492,
          16.88273928382128,
          8.16621484490146,
          17.14507827102607,
          20.672567771072,
          8.742602746142333,
          18.04688228380395,
          3.4327027348475205,
          24.339097602159136,
          27.64179831617176,
          2.3086337808140613,
          8.910410284912418,
          9.834802761924223,
          8.700999689263051,
          4.7344002093029065,
          19.596221823963567,
          6.9471442707336575,
          6.830687138779894,
          6.4243019704901005,
          7.642734976268204,
          21.763622401753402,
          3.945856072025554,
          8.50904171785021,
          4.937000844860913,
          9.25733934026964,
          2.79570766677621,
          6.936467192125733,
          9.187821877472327,
          2.606994596668085,
          6.597953263532957,
          17.49425623798577,
          13.591788536019116,
          3.1835851457957767,
          15.997127016637581,
          11.8356114450444,
          5.431703714797853,
          2.999978884261034,
          10.824085618230662,
          0.4466854451989981,
          4.951685656017419,
          2.702223305398541,
          1.849192269387403,
          7.83073049916238,
          9.436396829960724,
          2.018360737602057,
          19.652678048575787,
          12.697313414660972,
          21.907349717065497,
          11.088779886142197,
          3.6129754402048757,
          1.5165155956042633,
          12.233147385445548,
          2.837507808360398,
          24.086010581121528,
          6.361893969850197,
          8.10091759008213,
          9.999105819453137,
          9.559028175630663,
          7.6656165702640475,
          4.072419633312529,
          15.967693734194167,
          16.84184043585037,
          15.996561747703504,
          6.756197846481279,
          12.43446017508962,
          5.4081870989998775
         ]
        }
       ],
       "layout": {
        "legend": {
         "tracegroupgap": 0
        },
        "margin": {
         "t": 60
        },
        "scene": {
         "domain": {
          "x": [
           0,
           1
          ],
          "y": [
           0,
           1
          ]
         },
         "xaxis": {
          "title": {
           "text": "x"
          }
         },
         "yaxis": {
          "title": {
           "text": "y"
          }
         },
         "zaxis": {
          "title": {
           "text": "z"
          }
         }
        },
        "template": {
         "data": {
          "bar": [
           {
            "error_x": {
             "color": "#2a3f5f"
            },
            "error_y": {
             "color": "#2a3f5f"
            },
            "marker": {
             "line": {
              "color": "#E5ECF6",
              "width": 0.5
             },
             "pattern": {
              "fillmode": "overlay",
              "size": 10,
              "solidity": 0.2
             }
            },
            "type": "bar"
           }
          ],
          "barpolar": [
           {
            "marker": {
             "line": {
              "color": "#E5ECF6",
              "width": 0.5
             },
             "pattern": {
              "fillmode": "overlay",
              "size": 10,
              "solidity": 0.2
             }
            },
            "type": "barpolar"
           }
          ],
          "carpet": [
           {
            "aaxis": {
             "endlinecolor": "#2a3f5f",
             "gridcolor": "white",
             "linecolor": "white",
             "minorgridcolor": "white",
             "startlinecolor": "#2a3f5f"
            },
            "baxis": {
             "endlinecolor": "#2a3f5f",
             "gridcolor": "white",
             "linecolor": "white",
             "minorgridcolor": "white",
             "startlinecolor": "#2a3f5f"
            },
            "type": "carpet"
           }
          ],
          "choropleth": [
           {
            "colorbar": {
             "outlinewidth": 0,
             "ticks": ""
            },
            "type": "choropleth"
           }
          ],
          "contour": [
           {
            "colorbar": {
             "outlinewidth": 0,
             "ticks": ""
            },
            "colorscale": [
             [
              0,
              "#0d0887"
             ],
             [
              0.1111111111111111,
              "#46039f"
             ],
             [
              0.2222222222222222,
              "#7201a8"
             ],
             [
              0.3333333333333333,
              "#9c179e"
             ],
             [
              0.4444444444444444,
              "#bd3786"
             ],
             [
              0.5555555555555556,
              "#d8576b"
             ],
             [
              0.6666666666666666,
              "#ed7953"
             ],
             [
              0.7777777777777778,
              "#fb9f3a"
             ],
             [
              0.8888888888888888,
              "#fdca26"
             ],
             [
              1,
              "#f0f921"
             ]
            ],
            "type": "contour"
           }
          ],
          "contourcarpet": [
           {
            "colorbar": {
             "outlinewidth": 0,
             "ticks": ""
            },
            "type": "contourcarpet"
           }
          ],
          "heatmap": [
           {
            "colorbar": {
             "outlinewidth": 0,
             "ticks": ""
            },
            "colorscale": [
             [
              0,
              "#0d0887"
             ],
             [
              0.1111111111111111,
              "#46039f"
             ],
             [
              0.2222222222222222,
              "#7201a8"
             ],
             [
              0.3333333333333333,
              "#9c179e"
             ],
             [
              0.4444444444444444,
              "#bd3786"
             ],
             [
              0.5555555555555556,
              "#d8576b"
             ],
             [
              0.6666666666666666,
              "#ed7953"
             ],
             [
              0.7777777777777778,
              "#fb9f3a"
             ],
             [
              0.8888888888888888,
              "#fdca26"
             ],
             [
              1,
              "#f0f921"
             ]
            ],
            "type": "heatmap"
           }
          ],
          "heatmapgl": [
           {
            "colorbar": {
             "outlinewidth": 0,
             "ticks": ""
            },
            "colorscale": [
             [
              0,
              "#0d0887"
             ],
             [
              0.1111111111111111,
              "#46039f"
             ],
             [
              0.2222222222222222,
              "#7201a8"
             ],
             [
              0.3333333333333333,
              "#9c179e"
             ],
             [
              0.4444444444444444,
              "#bd3786"
             ],
             [
              0.5555555555555556,
              "#d8576b"
             ],
             [
              0.6666666666666666,
              "#ed7953"
             ],
             [
              0.7777777777777778,
              "#fb9f3a"
             ],
             [
              0.8888888888888888,
              "#fdca26"
             ],
             [
              1,
              "#f0f921"
             ]
            ],
            "type": "heatmapgl"
           }
          ],
          "histogram": [
           {
            "marker": {
             "pattern": {
              "fillmode": "overlay",
              "size": 10,
              "solidity": 0.2
             }
            },
            "type": "histogram"
           }
          ],
          "histogram2d": [
           {
            "colorbar": {
             "outlinewidth": 0,
             "ticks": ""
            },
            "colorscale": [
             [
              0,
              "#0d0887"
             ],
             [
              0.1111111111111111,
              "#46039f"
             ],
             [
              0.2222222222222222,
              "#7201a8"
             ],
             [
              0.3333333333333333,
              "#9c179e"
             ],
             [
              0.4444444444444444,
              "#bd3786"
             ],
             [
              0.5555555555555556,
              "#d8576b"
             ],
             [
              0.6666666666666666,
              "#ed7953"
             ],
             [
              0.7777777777777778,
              "#fb9f3a"
             ],
             [
              0.8888888888888888,
              "#fdca26"
             ],
             [
              1,
              "#f0f921"
             ]
            ],
            "type": "histogram2d"
           }
          ],
          "histogram2dcontour": [
           {
            "colorbar": {
             "outlinewidth": 0,
             "ticks": ""
            },
            "colorscale": [
             [
              0,
              "#0d0887"
             ],
             [
              0.1111111111111111,
              "#46039f"
             ],
             [
              0.2222222222222222,
              "#7201a8"
             ],
             [
              0.3333333333333333,
              "#9c179e"
             ],
             [
              0.4444444444444444,
              "#bd3786"
             ],
             [
              0.5555555555555556,
              "#d8576b"
             ],
             [
              0.6666666666666666,
              "#ed7953"
             ],
             [
              0.7777777777777778,
              "#fb9f3a"
             ],
             [
              0.8888888888888888,
              "#fdca26"
             ],
             [
              1,
              "#f0f921"
             ]
            ],
            "type": "histogram2dcontour"
           }
          ],
          "mesh3d": [
           {
            "colorbar": {
             "outlinewidth": 0,
             "ticks": ""
            },
            "type": "mesh3d"
           }
          ],
          "parcoords": [
           {
            "line": {
             "colorbar": {
              "outlinewidth": 0,
              "ticks": ""
             }
            },
            "type": "parcoords"
           }
          ],
          "pie": [
           {
            "automargin": true,
            "type": "pie"
           }
          ],
          "scatter": [
           {
            "fillpattern": {
             "fillmode": "overlay",
             "size": 10,
             "solidity": 0.2
            },
            "type": "scatter"
           }
          ],
          "scatter3d": [
           {
            "line": {
             "colorbar": {
              "outlinewidth": 0,
              "ticks": ""
             }
            },
            "marker": {
             "colorbar": {
              "outlinewidth": 0,
              "ticks": ""
             }
            },
            "type": "scatter3d"
           }
          ],
          "scattercarpet": [
           {
            "marker": {
             "colorbar": {
              "outlinewidth": 0,
              "ticks": ""
             }
            },
            "type": "scattercarpet"
           }
          ],
          "scattergeo": [
           {
            "marker": {
             "colorbar": {
              "outlinewidth": 0,
              "ticks": ""
             }
            },
            "type": "scattergeo"
           }
          ],
          "scattergl": [
           {
            "marker": {
             "colorbar": {
              "outlinewidth": 0,
              "ticks": ""
             }
            },
            "type": "scattergl"
           }
          ],
          "scattermapbox": [
           {
            "marker": {
             "colorbar": {
              "outlinewidth": 0,
              "ticks": ""
             }
            },
            "type": "scattermapbox"
           }
          ],
          "scatterpolar": [
           {
            "marker": {
             "colorbar": {
              "outlinewidth": 0,
              "ticks": ""
             }
            },
            "type": "scatterpolar"
           }
          ],
          "scatterpolargl": [
           {
            "marker": {
             "colorbar": {
              "outlinewidth": 0,
              "ticks": ""
             }
            },
            "type": "scatterpolargl"
           }
          ],
          "scatterternary": [
           {
            "marker": {
             "colorbar": {
              "outlinewidth": 0,
              "ticks": ""
             }
            },
            "type": "scatterternary"
           }
          ],
          "surface": [
           {
            "colorbar": {
             "outlinewidth": 0,
             "ticks": ""
            },
            "colorscale": [
             [
              0,
              "#0d0887"
             ],
             [
              0.1111111111111111,
              "#46039f"
             ],
             [
              0.2222222222222222,
              "#7201a8"
             ],
             [
              0.3333333333333333,
              "#9c179e"
             ],
             [
              0.4444444444444444,
              "#bd3786"
             ],
             [
              0.5555555555555556,
              "#d8576b"
             ],
             [
              0.6666666666666666,
              "#ed7953"
             ],
             [
              0.7777777777777778,
              "#fb9f3a"
             ],
             [
              0.8888888888888888,
              "#fdca26"
             ],
             [
              1,
              "#f0f921"
             ]
            ],
            "type": "surface"
           }
          ],
          "table": [
           {
            "cells": {
             "fill": {
              "color": "#EBF0F8"
             },
             "line": {
              "color": "white"
             }
            },
            "header": {
             "fill": {
              "color": "#C8D4E3"
             },
             "line": {
              "color": "white"
             }
            },
            "type": "table"
           }
          ]
         },
         "layout": {
          "annotationdefaults": {
           "arrowcolor": "#2a3f5f",
           "arrowhead": 0,
           "arrowwidth": 1
          },
          "autotypenumbers": "strict",
          "coloraxis": {
           "colorbar": {
            "outlinewidth": 0,
            "ticks": ""
           }
          },
          "colorscale": {
           "diverging": [
            [
             0,
             "#8e0152"
            ],
            [
             0.1,
             "#c51b7d"
            ],
            [
             0.2,
             "#de77ae"
            ],
            [
             0.3,
             "#f1b6da"
            ],
            [
             0.4,
             "#fde0ef"
            ],
            [
             0.5,
             "#f7f7f7"
            ],
            [
             0.6,
             "#e6f5d0"
            ],
            [
             0.7,
             "#b8e186"
            ],
            [
             0.8,
             "#7fbc41"
            ],
            [
             0.9,
             "#4d9221"
            ],
            [
             1,
             "#276419"
            ]
           ],
           "sequential": [
            [
             0,
             "#0d0887"
            ],
            [
             0.1111111111111111,
             "#46039f"
            ],
            [
             0.2222222222222222,
             "#7201a8"
            ],
            [
             0.3333333333333333,
             "#9c179e"
            ],
            [
             0.4444444444444444,
             "#bd3786"
            ],
            [
             0.5555555555555556,
             "#d8576b"
            ],
            [
             0.6666666666666666,
             "#ed7953"
            ],
            [
             0.7777777777777778,
             "#fb9f3a"
            ],
            [
             0.8888888888888888,
             "#fdca26"
            ],
            [
             1,
             "#f0f921"
            ]
           ],
           "sequentialminus": [
            [
             0,
             "#0d0887"
            ],
            [
             0.1111111111111111,
             "#46039f"
            ],
            [
             0.2222222222222222,
             "#7201a8"
            ],
            [
             0.3333333333333333,
             "#9c179e"
            ],
            [
             0.4444444444444444,
             "#bd3786"
            ],
            [
             0.5555555555555556,
             "#d8576b"
            ],
            [
             0.6666666666666666,
             "#ed7953"
            ],
            [
             0.7777777777777778,
             "#fb9f3a"
            ],
            [
             0.8888888888888888,
             "#fdca26"
            ],
            [
             1,
             "#f0f921"
            ]
           ]
          },
          "colorway": [
           "#636efa",
           "#EF553B",
           "#00cc96",
           "#ab63fa",
           "#FFA15A",
           "#19d3f3",
           "#FF6692",
           "#B6E880",
           "#FF97FF",
           "#FECB52"
          ],
          "font": {
           "color": "#2a3f5f"
          },
          "geo": {
           "bgcolor": "white",
           "lakecolor": "white",
           "landcolor": "#E5ECF6",
           "showlakes": true,
           "showland": true,
           "subunitcolor": "white"
          },
          "hoverlabel": {
           "align": "left"
          },
          "hovermode": "closest",
          "mapbox": {
           "style": "light"
          },
          "paper_bgcolor": "white",
          "plot_bgcolor": "#E5ECF6",
          "polar": {
           "angularaxis": {
            "gridcolor": "white",
            "linecolor": "white",
            "ticks": ""
           },
           "bgcolor": "#E5ECF6",
           "radialaxis": {
            "gridcolor": "white",
            "linecolor": "white",
            "ticks": ""
           }
          },
          "scene": {
           "xaxis": {
            "backgroundcolor": "#E5ECF6",
            "gridcolor": "white",
            "gridwidth": 2,
            "linecolor": "white",
            "showbackground": true,
            "ticks": "",
            "zerolinecolor": "white"
           },
           "yaxis": {
            "backgroundcolor": "#E5ECF6",
            "gridcolor": "white",
            "gridwidth": 2,
            "linecolor": "white",
            "showbackground": true,
            "ticks": "",
            "zerolinecolor": "white"
           },
           "zaxis": {
            "backgroundcolor": "#E5ECF6",
            "gridcolor": "white",
            "gridwidth": 2,
            "linecolor": "white",
            "showbackground": true,
            "ticks": "",
            "zerolinecolor": "white"
           }
          },
          "shapedefaults": {
           "line": {
            "color": "#2a3f5f"
           }
          },
          "ternary": {
           "aaxis": {
            "gridcolor": "white",
            "linecolor": "white",
            "ticks": ""
           },
           "baxis": {
            "gridcolor": "white",
            "linecolor": "white",
            "ticks": ""
           },
           "bgcolor": "#E5ECF6",
           "caxis": {
            "gridcolor": "white",
            "linecolor": "white",
            "ticks": ""
           }
          },
          "title": {
           "x": 0.05
          },
          "xaxis": {
           "automargin": true,
           "gridcolor": "white",
           "linecolor": "white",
           "ticks": "",
           "title": {
            "standoff": 15
           },
           "zerolinecolor": "white",
           "zerolinewidth": 2
          },
          "yaxis": {
           "automargin": true,
           "gridcolor": "white",
           "linecolor": "white",
           "ticks": "",
           "title": {
            "standoff": 15
           },
           "zerolinecolor": "white",
           "zerolinewidth": 2
          }
         }
        }
       }
      }
     },
     "metadata": {},
     "output_type": "display_data"
    }
   ],
   "source": [
    "import plotly.express as px\n",
    "df = px.data.iris()\n",
    "fig = px.scatter_3d(df, x=x.ravel(), y=y.ravel(), z=z.ravel())\n",
    "fig.show()\n"
   ]
  },
  {
   "cell_type": "code",
   "execution_count": 26,
   "id": "86d352d1",
   "metadata": {},
   "outputs": [],
   "source": [
    "lr = LinearRegression()\n",
    "lr.fit(np.array([x,y]).reshape(100,2),z)\n",
    "\n",
    "x_input = np.linspace(x.min(), x.max(), 10)\n",
    "y_input = np.linspace(y.min(), y.max(), 10)\n",
    "xGrid, yGrid = np.meshgrid(x_input,y_input)\n",
    "\n",
    "final = np.vstack((xGrid.ravel().reshape(1,100),yGrid.ravel().reshape(1,100))).T\n",
    "\n",
    "z_final = lr.predict(final).reshape(10,10)"
   ]
  },
  {
   "cell_type": "code",
   "execution_count": 27,
   "id": "55696461",
   "metadata": {},
   "outputs": [
    {
     "data": {
      "application/vnd.plotly.v1+json": {
       "config": {
        "plotlyServerURL": "https://plot.ly"
       },
       "data": [
        {
         "hovertemplate": "x=%{x}<br>y=%{y}<br>z=%{z}<extra></extra>",
         "legendgroup": "",
         "marker": {
          "color": "#636efa",
          "symbol": "circle"
         },
         "mode": "markers",
         "name": "",
         "scene": "scene",
         "showlegend": false,
         "type": "scatter3d",
         "x": [
          -2.6321812506057958,
          1.9192034862534717,
          3.0776156225186364,
          3.571876437927971,
          3.332655302402163,
          0.8854024797090077,
          -0.1601776324939097,
          2.191735705082891,
          3.307436093846148,
          3.0571962743337764,
          2.4234299467889864,
          1.7255386581180936,
          -0.7806655394930004,
          3.224468791380054,
          1.7493333868956737,
          -0.8555496306521975,
          -2.3123763443999095,
          1.000776627822984,
          -2.488264673484877,
          0.3175859898044635,
          3.4502613283282937,
          2.467929431414966,
          -0.2627791564690707,
          4.047299082354273,
          -2.374390561227457,
          2.433673519691461,
          -1.2571530170704721,
          2.144440106056342,
          3.1741890229275507,
          -2.7159423423337303,
          2.7833569130351634,
          -2.09582605488296,
          3.3796292266829298,
          -0.6178477117449552,
          -0.6475347595849703,
          3.7037465732369137,
          1.7154051053245105,
          -0.8549480991284726,
          3.3578240790242315,
          1.7105869406110505,
          -0.6740464420452241,
          -0.8653719071147412,
          3.409020836994298,
          2.537300280756252,
          -1.244242709749544,
          1.7129068344569989,
          1.7829991509615564,
          2.360046005756204,
          -1.4877603946614335,
          -2.2595087744166915,
          1.3655445348841644,
          -2.01087924593657,
          -1.4952187476327106,
          1.4561206107905749,
          0.6231215791402755,
          -1.3482515998151585,
          -0.8988970989818046,
          1.7326025351581489,
          2.675358442971583,
          -0.5522227445824637,
          1.9254831253400395,
          0.009477526417120075,
          0.03142573823378303,
          -0.6146729044881187,
          2.1983016237261745,
          3.0492206230353283,
          -0.07163015541983464,
          3.2882731406524526,
          -0.8810750768571869,
          0.8779602576020205,
          0.04414439419411531,
          -1.0781120536642914,
          -0.20773596755715484,
          -0.31987064205051263,
          -0.8837651973627145,
          1.3679832080116743,
          2.2430522007924996,
          2.4050457765180777,
          0.7042247645490187,
          1.1840548968461855,
          2.3869177286886316,
          3.625416415880835,
          2.5620757812312807,
          -0.832094590723893,
          0.04835135274564317,
          -0.5370966938426003,
          -1.0572907643767488,
          2.4321094511096186,
          0.3219768955532887,
          -2.20355763394355,
          2.6311163800383346,
          -2.5992770335008193,
          -2.146020889651017,
          1.2557785685786058,
          3.3638746293401933,
          -0.557765513434958,
          3.3040244974470827,
          -0.29945711657263585,
          -2.514848514941955,
          -1.608916689520628
         ],
         "y": [
          0.2614094166386862,
          -0.30316070105724213,
          -2.152509594439878,
          1.67360567635943,
          4.080028238151815,
          -2.1321360957626414,
          -2.0403418762377807,
          -0.3351296692389667,
          1.2986333930909417,
          -2.1678065661686508,
          -0.45665063115296833,
          -1.8841454762510446,
          4.028091478669938,
          1.3919574306133553,
          -0.7819554052064301,
          -1.5674136990268819,
          3.7989544271129168,
          1.330409779285489,
          3.920499764545249,
          3.409826425139438,
          -2.253850403380517,
          0.3504353867570793,
          3.063003227123507,
          -0.9780312506118298,
          4.0462752886671804,
          -1.1899965827204313,
          0.5188300063135798,
          0.32186970258681,
          -2.019592241920691,
          -1.0826509418556327,
          -0.508306656743716,
          4.198738882033249,
          2.892176798136859,
          -1.1669921268046102,
          -2.2882872904549973,
          -0.9026770953021879,
          -1.8110786615308054,
          3.730758888624522,
          2.3800142438323277,
          -2.1032411326646283,
          3.786007293495561,
          -0.6212973058072753,
          2.6995946393994874,
          4.110509594651885,
          -0.20724081604186573,
          1.5726415574278736,
          2.215587900160931,
          -1.2732399709946716,
          1.3694151470762854,
          3.7819091629767927,
          1.0407041450498333,
          -0.9148694034405485,
          -0.8847876581823217,
          -2.053945738440312,
          4.192254214012351,
          0.7721492975618993,
          -2.6525945718602535,
          0.06894236713637714,
          -0.5837430259233765,
          0.9255613588946594,
          1.0490999750595513,
          2.7422924794698575,
          -0.6783248964597148,
          -2.2082233606030646,
          2.8539888411882934,
          -0.33606118220829506,
          -0.9163619891279042,
          0.870483077711933,
          3.1231018851429706,
          -1.719853929976015,
          0.42008836587328746,
          2.7666712218045317,
          0.6756376666295867,
          1.5036788465393434,
          -0.7171068574722694,
          0.07157155930447434,
          0.7609369238822086,
          0.6516901888480628,
          -1.0886765782973993,
          3.8418581908243583,
          -2.783692626575913,
          -2.557284488044223,
          0.8646993492539492,
          1.0500851297976639,
          0.08969893117754335,
          2.869688357468335,
          0.36596139511312753,
          3.579360967406945,
          -1.9657728151010534,
          1.4337264949513582,
          0.8185665357893059,
          -0.5585607526287948,
          0.8674754493583667,
          -1.0160268211173238,
          0.9734213898275597,
          3.7867367450698675,
          1.3110729282340037,
          -1.6315570595628808,
          2.0691035785500898,
          -0.9742136725657615
         ],
         "z": [
          10.141749216259914,
          4.946881184649879,
          14.898812622098355,
          20.35441746081871,
          32.26957196115206,
          8.011460216501911,
          7.128686929993729,
          6.799257000806266,
          16.797788143485874,
          16.663152229850507,
          7.014527886231321,
          7.645485679673799,
          18.69401321142723,
          16.08579785792325,
          5.406152680431408,
          2.8692639117906813,
          19.255496476039347,
          5.5064933562981055,
          22.152699219929723,
          15.735646472305785,
          19.140144446121518,
          8.704904096694944,
          12.812568080974946,
          20.437925623677824,
          23.150934313717112,
          9.562150003169165,
          3.9880371900276015,
          7.267930228205504,
          17.463845224909594,
          10.911906538873566,
          9.262646305058729,
          24.926824176567866,
          23.218223373296706,
          3.6763662975359317,
          7.181928447969492,
          16.88273928382128,
          8.16621484490146,
          17.14507827102607,
          20.672567771072,
          8.742602746142333,
          18.04688228380395,
          3.4327027348475205,
          24.339097602159136,
          27.64179831617176,
          2.3086337808140613,
          8.910410284912418,
          9.834802761924223,
          8.700999689263051,
          4.7344002093029065,
          19.596221823963567,
          6.9471442707336575,
          6.830687138779894,
          6.4243019704901005,
          7.642734976268204,
          21.763622401753402,
          3.945856072025554,
          8.50904171785021,
          4.937000844860913,
          9.25733934026964,
          2.79570766677621,
          6.936467192125733,
          9.187821877472327,
          2.606994596668085,
          6.597953263532957,
          17.49425623798577,
          13.591788536019116,
          3.1835851457957767,
          15.997127016637581,
          11.8356114450444,
          5.431703714797853,
          2.999978884261034,
          10.824085618230662,
          0.4466854451989981,
          4.951685656017419,
          2.702223305398541,
          1.849192269387403,
          7.83073049916238,
          9.436396829960724,
          2.018360737602057,
          19.652678048575787,
          12.697313414660972,
          21.907349717065497,
          11.088779886142197,
          3.6129754402048757,
          1.5165155956042633,
          12.233147385445548,
          2.837507808360398,
          24.086010581121528,
          6.361893969850197,
          8.10091759008213,
          9.999105819453137,
          9.559028175630663,
          7.6656165702640475,
          4.072419633312529,
          15.967693734194167,
          16.84184043585037,
          15.996561747703504,
          6.756197846481279,
          12.43446017508962,
          5.4081870989998775
         ]
        },
        {
         "type": "surface",
         "x": [
          -2.7159423423337303,
          -1.9644710729239523,
          -1.212999803514174,
          -0.46152853410439576,
          0.2899427353053823,
          1.0414140047151603,
          1.7928852741249388,
          2.5443565435347164,
          3.295827812944495,
          4.047299082354273
         ],
         "y": [
          -2.783692626575913,
          -2.0078669033971175,
          -1.2320411802183218,
          -0.45621545703952604,
          0.3196102661392697,
          1.0954359893180654,
          1.8712617124968611,
          2.6470874356756564,
          3.4229131588544526,
          4.198738882033249
         ],
         "z": [
          [
           12.787221945454487,
           12.292825874860924,
           11.798429804267359,
           11.304033733673796,
           10.809637663080231,
           10.315241592486668,
           9.820845521893103,
           9.32644945129954,
           8.832053380705975,
           8.337657310112412
          ],
          [
           12.902552433913671,
           12.408156363320106,
           11.913760292726543,
           11.419364222132979,
           10.924968151539415,
           10.43057208094585,
           9.936176010352288,
           9.441779939758725,
           8.94738386916516,
           8.452987798571595
          ],
          [
           13.017882922372856,
           12.523486851779293,
           12.029090781185728,
           11.534694710592163,
           11.0402986399986,
           10.545902569405035,
           10.051506498811472,
           9.557110428217907,
           9.062714357624344,
           8.56831828703078
          ],
          [
           13.13321341083204,
           12.638817340238475,
           12.144421269644912,
           11.650025199051347,
           11.155629128457784,
           10.66123305786422,
           10.166836987270656,
           9.672440916677091,
           9.178044846083528,
           8.683648775489964
          ],
          [
           13.248543899291224,
           12.75414782869766,
           12.259751758104096,
           11.765355687510532,
           11.270959616916969,
           10.776563546323404,
           10.28216747572984,
           9.787771405136276,
           9.293375334542713,
           8.798979263949148
          ],
          [
           13.363874387750409,
           12.869478317156844,
           12.37508224656328,
           11.880686175969716,
           11.386290105376153,
           10.891894034782588,
           10.397497964189025,
           9.90310189359546,
           9.408705823001895,
           8.914309752408332
          ],
          [
           13.479204876209593,
           12.984808805616028,
           12.490412735022463,
           11.9960166644289,
           11.501620593835336,
           11.007224523241772,
           10.512828452648208,
           10.018432382054645,
           9.52403631146108,
           9.029640240867517
          ],
          [
           13.594535364668776,
           13.100139294075213,
           12.605743223481648,
           12.111347152888085,
           11.61695108229452,
           11.122555011700957,
           10.628158941107392,
           10.133762870513829,
           9.639366799920264,
           9.144970729326701
          ],
          [
           13.70986585312796,
           13.215469782534397,
           12.721073711940832,
           12.226677641347269,
           11.732281570753704,
           11.237885500160141,
           10.743489429566576,
           10.249093358973013,
           9.754697288379448,
           9.260301217785885
          ],
          [
           13.825196341587144,
           13.330800270993581,
           12.836404200400017,
           12.342008129806453,
           11.847612059212889,
           11.353215988619326,
           10.85881991802576,
           10.364423847432198,
           9.870027776838633,
           9.37563170624507
          ]
         ]
        }
       ],
       "layout": {
        "legend": {
         "tracegroupgap": 0
        },
        "margin": {
         "t": 60
        },
        "scene": {
         "domain": {
          "x": [
           0,
           1
          ],
          "y": [
           0,
           1
          ]
         },
         "xaxis": {
          "title": {
           "text": "x"
          }
         },
         "yaxis": {
          "title": {
           "text": "y"
          }
         },
         "zaxis": {
          "title": {
           "text": "z"
          }
         }
        },
        "template": {
         "data": {
          "bar": [
           {
            "error_x": {
             "color": "#2a3f5f"
            },
            "error_y": {
             "color": "#2a3f5f"
            },
            "marker": {
             "line": {
              "color": "#E5ECF6",
              "width": 0.5
             },
             "pattern": {
              "fillmode": "overlay",
              "size": 10,
              "solidity": 0.2
             }
            },
            "type": "bar"
           }
          ],
          "barpolar": [
           {
            "marker": {
             "line": {
              "color": "#E5ECF6",
              "width": 0.5
             },
             "pattern": {
              "fillmode": "overlay",
              "size": 10,
              "solidity": 0.2
             }
            },
            "type": "barpolar"
           }
          ],
          "carpet": [
           {
            "aaxis": {
             "endlinecolor": "#2a3f5f",
             "gridcolor": "white",
             "linecolor": "white",
             "minorgridcolor": "white",
             "startlinecolor": "#2a3f5f"
            },
            "baxis": {
             "endlinecolor": "#2a3f5f",
             "gridcolor": "white",
             "linecolor": "white",
             "minorgridcolor": "white",
             "startlinecolor": "#2a3f5f"
            },
            "type": "carpet"
           }
          ],
          "choropleth": [
           {
            "colorbar": {
             "outlinewidth": 0,
             "ticks": ""
            },
            "type": "choropleth"
           }
          ],
          "contour": [
           {
            "colorbar": {
             "outlinewidth": 0,
             "ticks": ""
            },
            "colorscale": [
             [
              0,
              "#0d0887"
             ],
             [
              0.1111111111111111,
              "#46039f"
             ],
             [
              0.2222222222222222,
              "#7201a8"
             ],
             [
              0.3333333333333333,
              "#9c179e"
             ],
             [
              0.4444444444444444,
              "#bd3786"
             ],
             [
              0.5555555555555556,
              "#d8576b"
             ],
             [
              0.6666666666666666,
              "#ed7953"
             ],
             [
              0.7777777777777778,
              "#fb9f3a"
             ],
             [
              0.8888888888888888,
              "#fdca26"
             ],
             [
              1,
              "#f0f921"
             ]
            ],
            "type": "contour"
           }
          ],
          "contourcarpet": [
           {
            "colorbar": {
             "outlinewidth": 0,
             "ticks": ""
            },
            "type": "contourcarpet"
           }
          ],
          "heatmap": [
           {
            "colorbar": {
             "outlinewidth": 0,
             "ticks": ""
            },
            "colorscale": [
             [
              0,
              "#0d0887"
             ],
             [
              0.1111111111111111,
              "#46039f"
             ],
             [
              0.2222222222222222,
              "#7201a8"
             ],
             [
              0.3333333333333333,
              "#9c179e"
             ],
             [
              0.4444444444444444,
              "#bd3786"
             ],
             [
              0.5555555555555556,
              "#d8576b"
             ],
             [
              0.6666666666666666,
              "#ed7953"
             ],
             [
              0.7777777777777778,
              "#fb9f3a"
             ],
             [
              0.8888888888888888,
              "#fdca26"
             ],
             [
              1,
              "#f0f921"
             ]
            ],
            "type": "heatmap"
           }
          ],
          "heatmapgl": [
           {
            "colorbar": {
             "outlinewidth": 0,
             "ticks": ""
            },
            "colorscale": [
             [
              0,
              "#0d0887"
             ],
             [
              0.1111111111111111,
              "#46039f"
             ],
             [
              0.2222222222222222,
              "#7201a8"
             ],
             [
              0.3333333333333333,
              "#9c179e"
             ],
             [
              0.4444444444444444,
              "#bd3786"
             ],
             [
              0.5555555555555556,
              "#d8576b"
             ],
             [
              0.6666666666666666,
              "#ed7953"
             ],
             [
              0.7777777777777778,
              "#fb9f3a"
             ],
             [
              0.8888888888888888,
              "#fdca26"
             ],
             [
              1,
              "#f0f921"
             ]
            ],
            "type": "heatmapgl"
           }
          ],
          "histogram": [
           {
            "marker": {
             "pattern": {
              "fillmode": "overlay",
              "size": 10,
              "solidity": 0.2
             }
            },
            "type": "histogram"
           }
          ],
          "histogram2d": [
           {
            "colorbar": {
             "outlinewidth": 0,
             "ticks": ""
            },
            "colorscale": [
             [
              0,
              "#0d0887"
             ],
             [
              0.1111111111111111,
              "#46039f"
             ],
             [
              0.2222222222222222,
              "#7201a8"
             ],
             [
              0.3333333333333333,
              "#9c179e"
             ],
             [
              0.4444444444444444,
              "#bd3786"
             ],
             [
              0.5555555555555556,
              "#d8576b"
             ],
             [
              0.6666666666666666,
              "#ed7953"
             ],
             [
              0.7777777777777778,
              "#fb9f3a"
             ],
             [
              0.8888888888888888,
              "#fdca26"
             ],
             [
              1,
              "#f0f921"
             ]
            ],
            "type": "histogram2d"
           }
          ],
          "histogram2dcontour": [
           {
            "colorbar": {
             "outlinewidth": 0,
             "ticks": ""
            },
            "colorscale": [
             [
              0,
              "#0d0887"
             ],
             [
              0.1111111111111111,
              "#46039f"
             ],
             [
              0.2222222222222222,
              "#7201a8"
             ],
             [
              0.3333333333333333,
              "#9c179e"
             ],
             [
              0.4444444444444444,
              "#bd3786"
             ],
             [
              0.5555555555555556,
              "#d8576b"
             ],
             [
              0.6666666666666666,
              "#ed7953"
             ],
             [
              0.7777777777777778,
              "#fb9f3a"
             ],
             [
              0.8888888888888888,
              "#fdca26"
             ],
             [
              1,
              "#f0f921"
             ]
            ],
            "type": "histogram2dcontour"
           }
          ],
          "mesh3d": [
           {
            "colorbar": {
             "outlinewidth": 0,
             "ticks": ""
            },
            "type": "mesh3d"
           }
          ],
          "parcoords": [
           {
            "line": {
             "colorbar": {
              "outlinewidth": 0,
              "ticks": ""
             }
            },
            "type": "parcoords"
           }
          ],
          "pie": [
           {
            "automargin": true,
            "type": "pie"
           }
          ],
          "scatter": [
           {
            "fillpattern": {
             "fillmode": "overlay",
             "size": 10,
             "solidity": 0.2
            },
            "type": "scatter"
           }
          ],
          "scatter3d": [
           {
            "line": {
             "colorbar": {
              "outlinewidth": 0,
              "ticks": ""
             }
            },
            "marker": {
             "colorbar": {
              "outlinewidth": 0,
              "ticks": ""
             }
            },
            "type": "scatter3d"
           }
          ],
          "scattercarpet": [
           {
            "marker": {
             "colorbar": {
              "outlinewidth": 0,
              "ticks": ""
             }
            },
            "type": "scattercarpet"
           }
          ],
          "scattergeo": [
           {
            "marker": {
             "colorbar": {
              "outlinewidth": 0,
              "ticks": ""
             }
            },
            "type": "scattergeo"
           }
          ],
          "scattergl": [
           {
            "marker": {
             "colorbar": {
              "outlinewidth": 0,
              "ticks": ""
             }
            },
            "type": "scattergl"
           }
          ],
          "scattermapbox": [
           {
            "marker": {
             "colorbar": {
              "outlinewidth": 0,
              "ticks": ""
             }
            },
            "type": "scattermapbox"
           }
          ],
          "scatterpolar": [
           {
            "marker": {
             "colorbar": {
              "outlinewidth": 0,
              "ticks": ""
             }
            },
            "type": "scatterpolar"
           }
          ],
          "scatterpolargl": [
           {
            "marker": {
             "colorbar": {
              "outlinewidth": 0,
              "ticks": ""
             }
            },
            "type": "scatterpolargl"
           }
          ],
          "scatterternary": [
           {
            "marker": {
             "colorbar": {
              "outlinewidth": 0,
              "ticks": ""
             }
            },
            "type": "scatterternary"
           }
          ],
          "surface": [
           {
            "colorbar": {
             "outlinewidth": 0,
             "ticks": ""
            },
            "colorscale": [
             [
              0,
              "#0d0887"
             ],
             [
              0.1111111111111111,
              "#46039f"
             ],
             [
              0.2222222222222222,
              "#7201a8"
             ],
             [
              0.3333333333333333,
              "#9c179e"
             ],
             [
              0.4444444444444444,
              "#bd3786"
             ],
             [
              0.5555555555555556,
              "#d8576b"
             ],
             [
              0.6666666666666666,
              "#ed7953"
             ],
             [
              0.7777777777777778,
              "#fb9f3a"
             ],
             [
              0.8888888888888888,
              "#fdca26"
             ],
             [
              1,
              "#f0f921"
             ]
            ],
            "type": "surface"
           }
          ],
          "table": [
           {
            "cells": {
             "fill": {
              "color": "#EBF0F8"
             },
             "line": {
              "color": "white"
             }
            },
            "header": {
             "fill": {
              "color": "#C8D4E3"
             },
             "line": {
              "color": "white"
             }
            },
            "type": "table"
           }
          ]
         },
         "layout": {
          "annotationdefaults": {
           "arrowcolor": "#2a3f5f",
           "arrowhead": 0,
           "arrowwidth": 1
          },
          "autotypenumbers": "strict",
          "coloraxis": {
           "colorbar": {
            "outlinewidth": 0,
            "ticks": ""
           }
          },
          "colorscale": {
           "diverging": [
            [
             0,
             "#8e0152"
            ],
            [
             0.1,
             "#c51b7d"
            ],
            [
             0.2,
             "#de77ae"
            ],
            [
             0.3,
             "#f1b6da"
            ],
            [
             0.4,
             "#fde0ef"
            ],
            [
             0.5,
             "#f7f7f7"
            ],
            [
             0.6,
             "#e6f5d0"
            ],
            [
             0.7,
             "#b8e186"
            ],
            [
             0.8,
             "#7fbc41"
            ],
            [
             0.9,
             "#4d9221"
            ],
            [
             1,
             "#276419"
            ]
           ],
           "sequential": [
            [
             0,
             "#0d0887"
            ],
            [
             0.1111111111111111,
             "#46039f"
            ],
            [
             0.2222222222222222,
             "#7201a8"
            ],
            [
             0.3333333333333333,
             "#9c179e"
            ],
            [
             0.4444444444444444,
             "#bd3786"
            ],
            [
             0.5555555555555556,
             "#d8576b"
            ],
            [
             0.6666666666666666,
             "#ed7953"
            ],
            [
             0.7777777777777778,
             "#fb9f3a"
            ],
            [
             0.8888888888888888,
             "#fdca26"
            ],
            [
             1,
             "#f0f921"
            ]
           ],
           "sequentialminus": [
            [
             0,
             "#0d0887"
            ],
            [
             0.1111111111111111,
             "#46039f"
            ],
            [
             0.2222222222222222,
             "#7201a8"
            ],
            [
             0.3333333333333333,
             "#9c179e"
            ],
            [
             0.4444444444444444,
             "#bd3786"
            ],
            [
             0.5555555555555556,
             "#d8576b"
            ],
            [
             0.6666666666666666,
             "#ed7953"
            ],
            [
             0.7777777777777778,
             "#fb9f3a"
            ],
            [
             0.8888888888888888,
             "#fdca26"
            ],
            [
             1,
             "#f0f921"
            ]
           ]
          },
          "colorway": [
           "#636efa",
           "#EF553B",
           "#00cc96",
           "#ab63fa",
           "#FFA15A",
           "#19d3f3",
           "#FF6692",
           "#B6E880",
           "#FF97FF",
           "#FECB52"
          ],
          "font": {
           "color": "#2a3f5f"
          },
          "geo": {
           "bgcolor": "white",
           "lakecolor": "white",
           "landcolor": "#E5ECF6",
           "showlakes": true,
           "showland": true,
           "subunitcolor": "white"
          },
          "hoverlabel": {
           "align": "left"
          },
          "hovermode": "closest",
          "mapbox": {
           "style": "light"
          },
          "paper_bgcolor": "white",
          "plot_bgcolor": "#E5ECF6",
          "polar": {
           "angularaxis": {
            "gridcolor": "white",
            "linecolor": "white",
            "ticks": ""
           },
           "bgcolor": "#E5ECF6",
           "radialaxis": {
            "gridcolor": "white",
            "linecolor": "white",
            "ticks": ""
           }
          },
          "scene": {
           "xaxis": {
            "backgroundcolor": "#E5ECF6",
            "gridcolor": "white",
            "gridwidth": 2,
            "linecolor": "white",
            "showbackground": true,
            "ticks": "",
            "zerolinecolor": "white"
           },
           "yaxis": {
            "backgroundcolor": "#E5ECF6",
            "gridcolor": "white",
            "gridwidth": 2,
            "linecolor": "white",
            "showbackground": true,
            "ticks": "",
            "zerolinecolor": "white"
           },
           "zaxis": {
            "backgroundcolor": "#E5ECF6",
            "gridcolor": "white",
            "gridwidth": 2,
            "linecolor": "white",
            "showbackground": true,
            "ticks": "",
            "zerolinecolor": "white"
           }
          },
          "shapedefaults": {
           "line": {
            "color": "#2a3f5f"
           }
          },
          "ternary": {
           "aaxis": {
            "gridcolor": "white",
            "linecolor": "white",
            "ticks": ""
           },
           "baxis": {
            "gridcolor": "white",
            "linecolor": "white",
            "ticks": ""
           },
           "bgcolor": "#E5ECF6",
           "caxis": {
            "gridcolor": "white",
            "linecolor": "white",
            "ticks": ""
           }
          },
          "title": {
           "x": 0.05
          },
          "xaxis": {
           "automargin": true,
           "gridcolor": "white",
           "linecolor": "white",
           "ticks": "",
           "title": {
            "standoff": 15
           },
           "zerolinecolor": "white",
           "zerolinewidth": 2
          },
          "yaxis": {
           "automargin": true,
           "gridcolor": "white",
           "linecolor": "white",
           "ticks": "",
           "title": {
            "standoff": 15
           },
           "zerolinecolor": "white",
           "zerolinewidth": 2
          }
         }
        }
       }
      }
     },
     "metadata": {},
     "output_type": "display_data"
    }
   ],
   "source": [
    "import plotly.graph_objects as go\n",
    "\n",
    "fig = px.scatter_3d(df, x=x.ravel(), y=y.ravel(), z=z.ravel())\n",
    "\n",
    "fig.add_trace(go.Surface(x = x_input, y = y_input, z =z_final ))\n",
    "\n",
    "fig.show()"
   ]
  },
  {
   "cell_type": "code",
   "execution_count": 28,
   "id": "d5c53210",
   "metadata": {},
   "outputs": [
    {
     "data": {
      "text/plain": [
       "(100, 2)"
      ]
     },
     "execution_count": 28,
     "metadata": {},
     "output_type": "execute_result"
    }
   ],
   "source": [
    "X_multi = np.array([x,y]).reshape(100,2)\n",
    "X_multi.shape"
   ]
  },
  {
   "cell_type": "code",
   "execution_count": 29,
   "id": "adca0bf7",
   "metadata": {},
   "outputs": [],
   "source": [
    "poly = PolynomialFeatures(degree=20)\n",
    "X_multi_trans = poly.fit_transform(X_multi)"
   ]
  },
  {
   "cell_type": "code",
   "execution_count": 30,
   "id": "c4a630d4",
   "metadata": {},
   "outputs": [
    {
     "name": "stdout",
     "output_type": "stream",
     "text": [
      "Input 2\n",
      "Ouput 231\n",
      "Powers\n",
      " [[ 0  0]\n",
      " [ 1  0]\n",
      " [ 0  1]\n",
      " [ 2  0]\n",
      " [ 1  1]\n",
      " [ 0  2]\n",
      " [ 3  0]\n",
      " [ 2  1]\n",
      " [ 1  2]\n",
      " [ 0  3]\n",
      " [ 4  0]\n",
      " [ 3  1]\n",
      " [ 2  2]\n",
      " [ 1  3]\n",
      " [ 0  4]\n",
      " [ 5  0]\n",
      " [ 4  1]\n",
      " [ 3  2]\n",
      " [ 2  3]\n",
      " [ 1  4]\n",
      " [ 0  5]\n",
      " [ 6  0]\n",
      " [ 5  1]\n",
      " [ 4  2]\n",
      " [ 3  3]\n",
      " [ 2  4]\n",
      " [ 1  5]\n",
      " [ 0  6]\n",
      " [ 7  0]\n",
      " [ 6  1]\n",
      " [ 5  2]\n",
      " [ 4  3]\n",
      " [ 3  4]\n",
      " [ 2  5]\n",
      " [ 1  6]\n",
      " [ 0  7]\n",
      " [ 8  0]\n",
      " [ 7  1]\n",
      " [ 6  2]\n",
      " [ 5  3]\n",
      " [ 4  4]\n",
      " [ 3  5]\n",
      " [ 2  6]\n",
      " [ 1  7]\n",
      " [ 0  8]\n",
      " [ 9  0]\n",
      " [ 8  1]\n",
      " [ 7  2]\n",
      " [ 6  3]\n",
      " [ 5  4]\n",
      " [ 4  5]\n",
      " [ 3  6]\n",
      " [ 2  7]\n",
      " [ 1  8]\n",
      " [ 0  9]\n",
      " [10  0]\n",
      " [ 9  1]\n",
      " [ 8  2]\n",
      " [ 7  3]\n",
      " [ 6  4]\n",
      " [ 5  5]\n",
      " [ 4  6]\n",
      " [ 3  7]\n",
      " [ 2  8]\n",
      " [ 1  9]\n",
      " [ 0 10]\n",
      " [11  0]\n",
      " [10  1]\n",
      " [ 9  2]\n",
      " [ 8  3]\n",
      " [ 7  4]\n",
      " [ 6  5]\n",
      " [ 5  6]\n",
      " [ 4  7]\n",
      " [ 3  8]\n",
      " [ 2  9]\n",
      " [ 1 10]\n",
      " [ 0 11]\n",
      " [12  0]\n",
      " [11  1]\n",
      " [10  2]\n",
      " [ 9  3]\n",
      " [ 8  4]\n",
      " [ 7  5]\n",
      " [ 6  6]\n",
      " [ 5  7]\n",
      " [ 4  8]\n",
      " [ 3  9]\n",
      " [ 2 10]\n",
      " [ 1 11]\n",
      " [ 0 12]\n",
      " [13  0]\n",
      " [12  1]\n",
      " [11  2]\n",
      " [10  3]\n",
      " [ 9  4]\n",
      " [ 8  5]\n",
      " [ 7  6]\n",
      " [ 6  7]\n",
      " [ 5  8]\n",
      " [ 4  9]\n",
      " [ 3 10]\n",
      " [ 2 11]\n",
      " [ 1 12]\n",
      " [ 0 13]\n",
      " [14  0]\n",
      " [13  1]\n",
      " [12  2]\n",
      " [11  3]\n",
      " [10  4]\n",
      " [ 9  5]\n",
      " [ 8  6]\n",
      " [ 7  7]\n",
      " [ 6  8]\n",
      " [ 5  9]\n",
      " [ 4 10]\n",
      " [ 3 11]\n",
      " [ 2 12]\n",
      " [ 1 13]\n",
      " [ 0 14]\n",
      " [15  0]\n",
      " [14  1]\n",
      " [13  2]\n",
      " [12  3]\n",
      " [11  4]\n",
      " [10  5]\n",
      " [ 9  6]\n",
      " [ 8  7]\n",
      " [ 7  8]\n",
      " [ 6  9]\n",
      " [ 5 10]\n",
      " [ 4 11]\n",
      " [ 3 12]\n",
      " [ 2 13]\n",
      " [ 1 14]\n",
      " [ 0 15]\n",
      " [16  0]\n",
      " [15  1]\n",
      " [14  2]\n",
      " [13  3]\n",
      " [12  4]\n",
      " [11  5]\n",
      " [10  6]\n",
      " [ 9  7]\n",
      " [ 8  8]\n",
      " [ 7  9]\n",
      " [ 6 10]\n",
      " [ 5 11]\n",
      " [ 4 12]\n",
      " [ 3 13]\n",
      " [ 2 14]\n",
      " [ 1 15]\n",
      " [ 0 16]\n",
      " [17  0]\n",
      " [16  1]\n",
      " [15  2]\n",
      " [14  3]\n",
      " [13  4]\n",
      " [12  5]\n",
      " [11  6]\n",
      " [10  7]\n",
      " [ 9  8]\n",
      " [ 8  9]\n",
      " [ 7 10]\n",
      " [ 6 11]\n",
      " [ 5 12]\n",
      " [ 4 13]\n",
      " [ 3 14]\n",
      " [ 2 15]\n",
      " [ 1 16]\n",
      " [ 0 17]\n",
      " [18  0]\n",
      " [17  1]\n",
      " [16  2]\n",
      " [15  3]\n",
      " [14  4]\n",
      " [13  5]\n",
      " [12  6]\n",
      " [11  7]\n",
      " [10  8]\n",
      " [ 9  9]\n",
      " [ 8 10]\n",
      " [ 7 11]\n",
      " [ 6 12]\n",
      " [ 5 13]\n",
      " [ 4 14]\n",
      " [ 3 15]\n",
      " [ 2 16]\n",
      " [ 1 17]\n",
      " [ 0 18]\n",
      " [19  0]\n",
      " [18  1]\n",
      " [17  2]\n",
      " [16  3]\n",
      " [15  4]\n",
      " [14  5]\n",
      " [13  6]\n",
      " [12  7]\n",
      " [11  8]\n",
      " [10  9]\n",
      " [ 9 10]\n",
      " [ 8 11]\n",
      " [ 7 12]\n",
      " [ 6 13]\n",
      " [ 5 14]\n",
      " [ 4 15]\n",
      " [ 3 16]\n",
      " [ 2 17]\n",
      " [ 1 18]\n",
      " [ 0 19]\n",
      " [20  0]\n",
      " [19  1]\n",
      " [18  2]\n",
      " [17  3]\n",
      " [16  4]\n",
      " [15  5]\n",
      " [14  6]\n",
      " [13  7]\n",
      " [12  8]\n",
      " [11  9]\n",
      " [10 10]\n",
      " [ 9 11]\n",
      " [ 8 12]\n",
      " [ 7 13]\n",
      " [ 6 14]\n",
      " [ 5 15]\n",
      " [ 4 16]\n",
      " [ 3 17]\n",
      " [ 2 18]\n",
      " [ 1 19]\n",
      " [ 0 20]]\n"
     ]
    }
   ],
   "source": [
    "print(\"Input\",poly.n_features_in_)\n",
    "print(\"Ouput\",poly.n_output_features_)\n",
    "print(\"Powers\\n\",poly.powers_)"
   ]
  },
  {
   "cell_type": "code",
   "execution_count": 31,
   "id": "0cd28ad9",
   "metadata": {},
   "outputs": [
    {
     "data": {
      "text/plain": [
       "(100, 231)"
      ]
     },
     "execution_count": 31,
     "metadata": {},
     "output_type": "execute_result"
    }
   ],
   "source": [
    "\n",
    "X_multi_trans.shape"
   ]
  },
  {
   "cell_type": "code",
   "execution_count": 32,
   "id": "57cab148",
   "metadata": {},
   "outputs": [
    {
     "data": {
      "text/html": [
       "<style>#sk-container-id-2 {\n",
       "  /* Definition of color scheme common for light and dark mode */\n",
       "  --sklearn-color-text: #000;\n",
       "  --sklearn-color-text-muted: #666;\n",
       "  --sklearn-color-line: gray;\n",
       "  /* Definition of color scheme for unfitted estimators */\n",
       "  --sklearn-color-unfitted-level-0: #fff5e6;\n",
       "  --sklearn-color-unfitted-level-1: #f6e4d2;\n",
       "  --sklearn-color-unfitted-level-2: #ffe0b3;\n",
       "  --sklearn-color-unfitted-level-3: chocolate;\n",
       "  /* Definition of color scheme for fitted estimators */\n",
       "  --sklearn-color-fitted-level-0: #f0f8ff;\n",
       "  --sklearn-color-fitted-level-1: #d4ebff;\n",
       "  --sklearn-color-fitted-level-2: #b3dbfd;\n",
       "  --sklearn-color-fitted-level-3: cornflowerblue;\n",
       "\n",
       "  /* Specific color for light theme */\n",
       "  --sklearn-color-text-on-default-background: var(--sg-text-color, var(--theme-code-foreground, var(--jp-content-font-color1, black)));\n",
       "  --sklearn-color-background: var(--sg-background-color, var(--theme-background, var(--jp-layout-color0, white)));\n",
       "  --sklearn-color-border-box: var(--sg-text-color, var(--theme-code-foreground, var(--jp-content-font-color1, black)));\n",
       "  --sklearn-color-icon: #696969;\n",
       "\n",
       "  @media (prefers-color-scheme: dark) {\n",
       "    /* Redefinition of color scheme for dark theme */\n",
       "    --sklearn-color-text-on-default-background: var(--sg-text-color, var(--theme-code-foreground, var(--jp-content-font-color1, white)));\n",
       "    --sklearn-color-background: var(--sg-background-color, var(--theme-background, var(--jp-layout-color0, #111)));\n",
       "    --sklearn-color-border-box: var(--sg-text-color, var(--theme-code-foreground, var(--jp-content-font-color1, white)));\n",
       "    --sklearn-color-icon: #878787;\n",
       "  }\n",
       "}\n",
       "\n",
       "#sk-container-id-2 {\n",
       "  color: var(--sklearn-color-text);\n",
       "}\n",
       "\n",
       "#sk-container-id-2 pre {\n",
       "  padding: 0;\n",
       "}\n",
       "\n",
       "#sk-container-id-2 input.sk-hidden--visually {\n",
       "  border: 0;\n",
       "  clip: rect(1px 1px 1px 1px);\n",
       "  clip: rect(1px, 1px, 1px, 1px);\n",
       "  height: 1px;\n",
       "  margin: -1px;\n",
       "  overflow: hidden;\n",
       "  padding: 0;\n",
       "  position: absolute;\n",
       "  width: 1px;\n",
       "}\n",
       "\n",
       "#sk-container-id-2 div.sk-dashed-wrapped {\n",
       "  border: 1px dashed var(--sklearn-color-line);\n",
       "  margin: 0 0.4em 0.5em 0.4em;\n",
       "  box-sizing: border-box;\n",
       "  padding-bottom: 0.4em;\n",
       "  background-color: var(--sklearn-color-background);\n",
       "}\n",
       "\n",
       "#sk-container-id-2 div.sk-container {\n",
       "  /* jupyter's `normalize.less` sets `[hidden] { display: none; }`\n",
       "     but bootstrap.min.css set `[hidden] { display: none !important; }`\n",
       "     so we also need the `!important` here to be able to override the\n",
       "     default hidden behavior on the sphinx rendered scikit-learn.org.\n",
       "     See: https://github.com/scikit-learn/scikit-learn/issues/21755 */\n",
       "  display: inline-block !important;\n",
       "  position: relative;\n",
       "}\n",
       "\n",
       "#sk-container-id-2 div.sk-text-repr-fallback {\n",
       "  display: none;\n",
       "}\n",
       "\n",
       "div.sk-parallel-item,\n",
       "div.sk-serial,\n",
       "div.sk-item {\n",
       "  /* draw centered vertical line to link estimators */\n",
       "  background-image: linear-gradient(var(--sklearn-color-text-on-default-background), var(--sklearn-color-text-on-default-background));\n",
       "  background-size: 2px 100%;\n",
       "  background-repeat: no-repeat;\n",
       "  background-position: center center;\n",
       "}\n",
       "\n",
       "/* Parallel-specific style estimator block */\n",
       "\n",
       "#sk-container-id-2 div.sk-parallel-item::after {\n",
       "  content: \"\";\n",
       "  width: 100%;\n",
       "  border-bottom: 2px solid var(--sklearn-color-text-on-default-background);\n",
       "  flex-grow: 1;\n",
       "}\n",
       "\n",
       "#sk-container-id-2 div.sk-parallel {\n",
       "  display: flex;\n",
       "  align-items: stretch;\n",
       "  justify-content: center;\n",
       "  background-color: var(--sklearn-color-background);\n",
       "  position: relative;\n",
       "}\n",
       "\n",
       "#sk-container-id-2 div.sk-parallel-item {\n",
       "  display: flex;\n",
       "  flex-direction: column;\n",
       "}\n",
       "\n",
       "#sk-container-id-2 div.sk-parallel-item:first-child::after {\n",
       "  align-self: flex-end;\n",
       "  width: 50%;\n",
       "}\n",
       "\n",
       "#sk-container-id-2 div.sk-parallel-item:last-child::after {\n",
       "  align-self: flex-start;\n",
       "  width: 50%;\n",
       "}\n",
       "\n",
       "#sk-container-id-2 div.sk-parallel-item:only-child::after {\n",
       "  width: 0;\n",
       "}\n",
       "\n",
       "/* Serial-specific style estimator block */\n",
       "\n",
       "#sk-container-id-2 div.sk-serial {\n",
       "  display: flex;\n",
       "  flex-direction: column;\n",
       "  align-items: center;\n",
       "  background-color: var(--sklearn-color-background);\n",
       "  padding-right: 1em;\n",
       "  padding-left: 1em;\n",
       "}\n",
       "\n",
       "\n",
       "/* Toggleable style: style used for estimator/Pipeline/ColumnTransformer box that is\n",
       "clickable and can be expanded/collapsed.\n",
       "- Pipeline and ColumnTransformer use this feature and define the default style\n",
       "- Estimators will overwrite some part of the style using the `sk-estimator` class\n",
       "*/\n",
       "\n",
       "/* Pipeline and ColumnTransformer style (default) */\n",
       "\n",
       "#sk-container-id-2 div.sk-toggleable {\n",
       "  /* Default theme specific background. It is overwritten whether we have a\n",
       "  specific estimator or a Pipeline/ColumnTransformer */\n",
       "  background-color: var(--sklearn-color-background);\n",
       "}\n",
       "\n",
       "/* Toggleable label */\n",
       "#sk-container-id-2 label.sk-toggleable__label {\n",
       "  cursor: pointer;\n",
       "  display: flex;\n",
       "  width: 100%;\n",
       "  margin-bottom: 0;\n",
       "  padding: 0.5em;\n",
       "  box-sizing: border-box;\n",
       "  text-align: center;\n",
       "  align-items: start;\n",
       "  justify-content: space-between;\n",
       "  gap: 0.5em;\n",
       "}\n",
       "\n",
       "#sk-container-id-2 label.sk-toggleable__label .caption {\n",
       "  font-size: 0.6rem;\n",
       "  font-weight: lighter;\n",
       "  color: var(--sklearn-color-text-muted);\n",
       "}\n",
       "\n",
       "#sk-container-id-2 label.sk-toggleable__label-arrow:before {\n",
       "  /* Arrow on the left of the label */\n",
       "  content: \"▸\";\n",
       "  float: left;\n",
       "  margin-right: 0.25em;\n",
       "  color: var(--sklearn-color-icon);\n",
       "}\n",
       "\n",
       "#sk-container-id-2 label.sk-toggleable__label-arrow:hover:before {\n",
       "  color: var(--sklearn-color-text);\n",
       "}\n",
       "\n",
       "/* Toggleable content - dropdown */\n",
       "\n",
       "#sk-container-id-2 div.sk-toggleable__content {\n",
       "  max-height: 0;\n",
       "  max-width: 0;\n",
       "  overflow: hidden;\n",
       "  text-align: left;\n",
       "  /* unfitted */\n",
       "  background-color: var(--sklearn-color-unfitted-level-0);\n",
       "}\n",
       "\n",
       "#sk-container-id-2 div.sk-toggleable__content.fitted {\n",
       "  /* fitted */\n",
       "  background-color: var(--sklearn-color-fitted-level-0);\n",
       "}\n",
       "\n",
       "#sk-container-id-2 div.sk-toggleable__content pre {\n",
       "  margin: 0.2em;\n",
       "  border-radius: 0.25em;\n",
       "  color: var(--sklearn-color-text);\n",
       "  /* unfitted */\n",
       "  background-color: var(--sklearn-color-unfitted-level-0);\n",
       "}\n",
       "\n",
       "#sk-container-id-2 div.sk-toggleable__content.fitted pre {\n",
       "  /* unfitted */\n",
       "  background-color: var(--sklearn-color-fitted-level-0);\n",
       "}\n",
       "\n",
       "#sk-container-id-2 input.sk-toggleable__control:checked~div.sk-toggleable__content {\n",
       "  /* Expand drop-down */\n",
       "  max-height: 200px;\n",
       "  max-width: 100%;\n",
       "  overflow: auto;\n",
       "}\n",
       "\n",
       "#sk-container-id-2 input.sk-toggleable__control:checked~label.sk-toggleable__label-arrow:before {\n",
       "  content: \"▾\";\n",
       "}\n",
       "\n",
       "/* Pipeline/ColumnTransformer-specific style */\n",
       "\n",
       "#sk-container-id-2 div.sk-label input.sk-toggleable__control:checked~label.sk-toggleable__label {\n",
       "  color: var(--sklearn-color-text);\n",
       "  background-color: var(--sklearn-color-unfitted-level-2);\n",
       "}\n",
       "\n",
       "#sk-container-id-2 div.sk-label.fitted input.sk-toggleable__control:checked~label.sk-toggleable__label {\n",
       "  background-color: var(--sklearn-color-fitted-level-2);\n",
       "}\n",
       "\n",
       "/* Estimator-specific style */\n",
       "\n",
       "/* Colorize estimator box */\n",
       "#sk-container-id-2 div.sk-estimator input.sk-toggleable__control:checked~label.sk-toggleable__label {\n",
       "  /* unfitted */\n",
       "  background-color: var(--sklearn-color-unfitted-level-2);\n",
       "}\n",
       "\n",
       "#sk-container-id-2 div.sk-estimator.fitted input.sk-toggleable__control:checked~label.sk-toggleable__label {\n",
       "  /* fitted */\n",
       "  background-color: var(--sklearn-color-fitted-level-2);\n",
       "}\n",
       "\n",
       "#sk-container-id-2 div.sk-label label.sk-toggleable__label,\n",
       "#sk-container-id-2 div.sk-label label {\n",
       "  /* The background is the default theme color */\n",
       "  color: var(--sklearn-color-text-on-default-background);\n",
       "}\n",
       "\n",
       "/* On hover, darken the color of the background */\n",
       "#sk-container-id-2 div.sk-label:hover label.sk-toggleable__label {\n",
       "  color: var(--sklearn-color-text);\n",
       "  background-color: var(--sklearn-color-unfitted-level-2);\n",
       "}\n",
       "\n",
       "/* Label box, darken color on hover, fitted */\n",
       "#sk-container-id-2 div.sk-label.fitted:hover label.sk-toggleable__label.fitted {\n",
       "  color: var(--sklearn-color-text);\n",
       "  background-color: var(--sklearn-color-fitted-level-2);\n",
       "}\n",
       "\n",
       "/* Estimator label */\n",
       "\n",
       "#sk-container-id-2 div.sk-label label {\n",
       "  font-family: monospace;\n",
       "  font-weight: bold;\n",
       "  display: inline-block;\n",
       "  line-height: 1.2em;\n",
       "}\n",
       "\n",
       "#sk-container-id-2 div.sk-label-container {\n",
       "  text-align: center;\n",
       "}\n",
       "\n",
       "/* Estimator-specific */\n",
       "#sk-container-id-2 div.sk-estimator {\n",
       "  font-family: monospace;\n",
       "  border: 1px dotted var(--sklearn-color-border-box);\n",
       "  border-radius: 0.25em;\n",
       "  box-sizing: border-box;\n",
       "  margin-bottom: 0.5em;\n",
       "  /* unfitted */\n",
       "  background-color: var(--sklearn-color-unfitted-level-0);\n",
       "}\n",
       "\n",
       "#sk-container-id-2 div.sk-estimator.fitted {\n",
       "  /* fitted */\n",
       "  background-color: var(--sklearn-color-fitted-level-0);\n",
       "}\n",
       "\n",
       "/* on hover */\n",
       "#sk-container-id-2 div.sk-estimator:hover {\n",
       "  /* unfitted */\n",
       "  background-color: var(--sklearn-color-unfitted-level-2);\n",
       "}\n",
       "\n",
       "#sk-container-id-2 div.sk-estimator.fitted:hover {\n",
       "  /* fitted */\n",
       "  background-color: var(--sklearn-color-fitted-level-2);\n",
       "}\n",
       "\n",
       "/* Specification for estimator info (e.g. \"i\" and \"?\") */\n",
       "\n",
       "/* Common style for \"i\" and \"?\" */\n",
       "\n",
       ".sk-estimator-doc-link,\n",
       "a:link.sk-estimator-doc-link,\n",
       "a:visited.sk-estimator-doc-link {\n",
       "  float: right;\n",
       "  font-size: smaller;\n",
       "  line-height: 1em;\n",
       "  font-family: monospace;\n",
       "  background-color: var(--sklearn-color-background);\n",
       "  border-radius: 1em;\n",
       "  height: 1em;\n",
       "  width: 1em;\n",
       "  text-decoration: none !important;\n",
       "  margin-left: 0.5em;\n",
       "  text-align: center;\n",
       "  /* unfitted */\n",
       "  border: var(--sklearn-color-unfitted-level-1) 1pt solid;\n",
       "  color: var(--sklearn-color-unfitted-level-1);\n",
       "}\n",
       "\n",
       ".sk-estimator-doc-link.fitted,\n",
       "a:link.sk-estimator-doc-link.fitted,\n",
       "a:visited.sk-estimator-doc-link.fitted {\n",
       "  /* fitted */\n",
       "  border: var(--sklearn-color-fitted-level-1) 1pt solid;\n",
       "  color: var(--sklearn-color-fitted-level-1);\n",
       "}\n",
       "\n",
       "/* On hover */\n",
       "div.sk-estimator:hover .sk-estimator-doc-link:hover,\n",
       ".sk-estimator-doc-link:hover,\n",
       "div.sk-label-container:hover .sk-estimator-doc-link:hover,\n",
       ".sk-estimator-doc-link:hover {\n",
       "  /* unfitted */\n",
       "  background-color: var(--sklearn-color-unfitted-level-3);\n",
       "  color: var(--sklearn-color-background);\n",
       "  text-decoration: none;\n",
       "}\n",
       "\n",
       "div.sk-estimator.fitted:hover .sk-estimator-doc-link.fitted:hover,\n",
       ".sk-estimator-doc-link.fitted:hover,\n",
       "div.sk-label-container:hover .sk-estimator-doc-link.fitted:hover,\n",
       ".sk-estimator-doc-link.fitted:hover {\n",
       "  /* fitted */\n",
       "  background-color: var(--sklearn-color-fitted-level-3);\n",
       "  color: var(--sklearn-color-background);\n",
       "  text-decoration: none;\n",
       "}\n",
       "\n",
       "/* Span, style for the box shown on hovering the info icon */\n",
       ".sk-estimator-doc-link span {\n",
       "  display: none;\n",
       "  z-index: 9999;\n",
       "  position: relative;\n",
       "  font-weight: normal;\n",
       "  right: .2ex;\n",
       "  padding: .5ex;\n",
       "  margin: .5ex;\n",
       "  width: min-content;\n",
       "  min-width: 20ex;\n",
       "  max-width: 50ex;\n",
       "  color: var(--sklearn-color-text);\n",
       "  box-shadow: 2pt 2pt 4pt #999;\n",
       "  /* unfitted */\n",
       "  background: var(--sklearn-color-unfitted-level-0);\n",
       "  border: .5pt solid var(--sklearn-color-unfitted-level-3);\n",
       "}\n",
       "\n",
       ".sk-estimator-doc-link.fitted span {\n",
       "  /* fitted */\n",
       "  background: var(--sklearn-color-fitted-level-0);\n",
       "  border: var(--sklearn-color-fitted-level-3);\n",
       "}\n",
       "\n",
       ".sk-estimator-doc-link:hover span {\n",
       "  display: block;\n",
       "}\n",
       "\n",
       "/* \"?\"-specific style due to the `<a>` HTML tag */\n",
       "\n",
       "#sk-container-id-2 a.estimator_doc_link {\n",
       "  float: right;\n",
       "  font-size: 1rem;\n",
       "  line-height: 1em;\n",
       "  font-family: monospace;\n",
       "  background-color: var(--sklearn-color-background);\n",
       "  border-radius: 1rem;\n",
       "  height: 1rem;\n",
       "  width: 1rem;\n",
       "  text-decoration: none;\n",
       "  /* unfitted */\n",
       "  color: var(--sklearn-color-unfitted-level-1);\n",
       "  border: var(--sklearn-color-unfitted-level-1) 1pt solid;\n",
       "}\n",
       "\n",
       "#sk-container-id-2 a.estimator_doc_link.fitted {\n",
       "  /* fitted */\n",
       "  border: var(--sklearn-color-fitted-level-1) 1pt solid;\n",
       "  color: var(--sklearn-color-fitted-level-1);\n",
       "}\n",
       "\n",
       "/* On hover */\n",
       "#sk-container-id-2 a.estimator_doc_link:hover {\n",
       "  /* unfitted */\n",
       "  background-color: var(--sklearn-color-unfitted-level-3);\n",
       "  color: var(--sklearn-color-background);\n",
       "  text-decoration: none;\n",
       "}\n",
       "\n",
       "#sk-container-id-2 a.estimator_doc_link.fitted:hover {\n",
       "  /* fitted */\n",
       "  background-color: var(--sklearn-color-fitted-level-3);\n",
       "}\n",
       "</style><div id=\"sk-container-id-2\" class=\"sk-top-container\"><div class=\"sk-text-repr-fallback\"><pre>LinearRegression()</pre><b>In a Jupyter environment, please rerun this cell to show the HTML representation or trust the notebook. <br />On GitHub, the HTML representation is unable to render, please try loading this page with nbviewer.org.</b></div><div class=\"sk-container\" hidden><div class=\"sk-item\"><div class=\"sk-estimator fitted sk-toggleable\"><input class=\"sk-toggleable__control sk-hidden--visually\" id=\"sk-estimator-id-2\" type=\"checkbox\" checked><label for=\"sk-estimator-id-2\" class=\"sk-toggleable__label fitted sk-toggleable__label-arrow\"><div><div>LinearRegression</div></div><div><a class=\"sk-estimator-doc-link fitted\" rel=\"noreferrer\" target=\"_blank\" href=\"https://scikit-learn.org/1.6/modules/generated/sklearn.linear_model.LinearRegression.html\">?<span>Documentation for LinearRegression</span></a><span class=\"sk-estimator-doc-link fitted\">i<span>Fitted</span></span></div></label><div class=\"sk-toggleable__content fitted\"><pre>LinearRegression()</pre></div> </div></div></div></div>"
      ],
      "text/plain": [
       "LinearRegression()"
      ]
     },
     "execution_count": 32,
     "metadata": {},
     "output_type": "execute_result"
    }
   ],
   "source": [
    "\n",
    "lr = LinearRegression()\n",
    "lr.fit(X_multi_trans,z)"
   ]
  },
  {
   "cell_type": "code",
   "execution_count": 33,
   "id": "b4510604",
   "metadata": {},
   "outputs": [],
   "source": [
    "\n",
    "X_test_multi = poly.transform(final)"
   ]
  },
  {
   "cell_type": "code",
   "execution_count": 34,
   "id": "8c37f82d",
   "metadata": {},
   "outputs": [],
   "source": [
    "z_final = lr.predict(X_multi_trans).reshape(10,10)"
   ]
  },
  {
   "cell_type": "code",
   "execution_count": 35,
   "id": "81285f18",
   "metadata": {},
   "outputs": [
    {
     "data": {
      "application/vnd.plotly.v1+json": {
       "config": {
        "plotlyServerURL": "https://plot.ly"
       },
       "data": [
        {
         "hovertemplate": "x=%{x}<br>y=%{y}<br>z=%{z}<extra></extra>",
         "legendgroup": "",
         "marker": {
          "color": "#636efa",
          "symbol": "circle"
         },
         "mode": "markers",
         "name": "",
         "scene": "scene",
         "showlegend": false,
         "type": "scatter3d",
         "x": [
          -2.6321812506057958,
          1.9192034862534717,
          3.0776156225186364,
          3.571876437927971,
          3.332655302402163,
          0.8854024797090077,
          -0.1601776324939097,
          2.191735705082891,
          3.307436093846148,
          3.0571962743337764,
          2.4234299467889864,
          1.7255386581180936,
          -0.7806655394930004,
          3.224468791380054,
          1.7493333868956737,
          -0.8555496306521975,
          -2.3123763443999095,
          1.000776627822984,
          -2.488264673484877,
          0.3175859898044635,
          3.4502613283282937,
          2.467929431414966,
          -0.2627791564690707,
          4.047299082354273,
          -2.374390561227457,
          2.433673519691461,
          -1.2571530170704721,
          2.144440106056342,
          3.1741890229275507,
          -2.7159423423337303,
          2.7833569130351634,
          -2.09582605488296,
          3.3796292266829298,
          -0.6178477117449552,
          -0.6475347595849703,
          3.7037465732369137,
          1.7154051053245105,
          -0.8549480991284726,
          3.3578240790242315,
          1.7105869406110505,
          -0.6740464420452241,
          -0.8653719071147412,
          3.409020836994298,
          2.537300280756252,
          -1.244242709749544,
          1.7129068344569989,
          1.7829991509615564,
          2.360046005756204,
          -1.4877603946614335,
          -2.2595087744166915,
          1.3655445348841644,
          -2.01087924593657,
          -1.4952187476327106,
          1.4561206107905749,
          0.6231215791402755,
          -1.3482515998151585,
          -0.8988970989818046,
          1.7326025351581489,
          2.675358442971583,
          -0.5522227445824637,
          1.9254831253400395,
          0.009477526417120075,
          0.03142573823378303,
          -0.6146729044881187,
          2.1983016237261745,
          3.0492206230353283,
          -0.07163015541983464,
          3.2882731406524526,
          -0.8810750768571869,
          0.8779602576020205,
          0.04414439419411531,
          -1.0781120536642914,
          -0.20773596755715484,
          -0.31987064205051263,
          -0.8837651973627145,
          1.3679832080116743,
          2.2430522007924996,
          2.4050457765180777,
          0.7042247645490187,
          1.1840548968461855,
          2.3869177286886316,
          3.625416415880835,
          2.5620757812312807,
          -0.832094590723893,
          0.04835135274564317,
          -0.5370966938426003,
          -1.0572907643767488,
          2.4321094511096186,
          0.3219768955532887,
          -2.20355763394355,
          2.6311163800383346,
          -2.5992770335008193,
          -2.146020889651017,
          1.2557785685786058,
          3.3638746293401933,
          -0.557765513434958,
          3.3040244974470827,
          -0.29945711657263585,
          -2.514848514941955,
          -1.608916689520628
         ],
         "y": [
          0.2614094166386862,
          -0.30316070105724213,
          -2.152509594439878,
          1.67360567635943,
          4.080028238151815,
          -2.1321360957626414,
          -2.0403418762377807,
          -0.3351296692389667,
          1.2986333930909417,
          -2.1678065661686508,
          -0.45665063115296833,
          -1.8841454762510446,
          4.028091478669938,
          1.3919574306133553,
          -0.7819554052064301,
          -1.5674136990268819,
          3.7989544271129168,
          1.330409779285489,
          3.920499764545249,
          3.409826425139438,
          -2.253850403380517,
          0.3504353867570793,
          3.063003227123507,
          -0.9780312506118298,
          4.0462752886671804,
          -1.1899965827204313,
          0.5188300063135798,
          0.32186970258681,
          -2.019592241920691,
          -1.0826509418556327,
          -0.508306656743716,
          4.198738882033249,
          2.892176798136859,
          -1.1669921268046102,
          -2.2882872904549973,
          -0.9026770953021879,
          -1.8110786615308054,
          3.730758888624522,
          2.3800142438323277,
          -2.1032411326646283,
          3.786007293495561,
          -0.6212973058072753,
          2.6995946393994874,
          4.110509594651885,
          -0.20724081604186573,
          1.5726415574278736,
          2.215587900160931,
          -1.2732399709946716,
          1.3694151470762854,
          3.7819091629767927,
          1.0407041450498333,
          -0.9148694034405485,
          -0.8847876581823217,
          -2.053945738440312,
          4.192254214012351,
          0.7721492975618993,
          -2.6525945718602535,
          0.06894236713637714,
          -0.5837430259233765,
          0.9255613588946594,
          1.0490999750595513,
          2.7422924794698575,
          -0.6783248964597148,
          -2.2082233606030646,
          2.8539888411882934,
          -0.33606118220829506,
          -0.9163619891279042,
          0.870483077711933,
          3.1231018851429706,
          -1.719853929976015,
          0.42008836587328746,
          2.7666712218045317,
          0.6756376666295867,
          1.5036788465393434,
          -0.7171068574722694,
          0.07157155930447434,
          0.7609369238822086,
          0.6516901888480628,
          -1.0886765782973993,
          3.8418581908243583,
          -2.783692626575913,
          -2.557284488044223,
          0.8646993492539492,
          1.0500851297976639,
          0.08969893117754335,
          2.869688357468335,
          0.36596139511312753,
          3.579360967406945,
          -1.9657728151010534,
          1.4337264949513582,
          0.8185665357893059,
          -0.5585607526287948,
          0.8674754493583667,
          -1.0160268211173238,
          0.9734213898275597,
          3.7867367450698675,
          1.3110729282340037,
          -1.6315570595628808,
          2.0691035785500898,
          -0.9742136725657615
         ],
         "z": [
          10.141749216259914,
          4.946881184649879,
          14.898812622098355,
          20.35441746081871,
          32.26957196115206,
          8.011460216501911,
          7.128686929993729,
          6.799257000806266,
          16.797788143485874,
          16.663152229850507,
          7.014527886231321,
          7.645485679673799,
          18.69401321142723,
          16.08579785792325,
          5.406152680431408,
          2.8692639117906813,
          19.255496476039347,
          5.5064933562981055,
          22.152699219929723,
          15.735646472305785,
          19.140144446121518,
          8.704904096694944,
          12.812568080974946,
          20.437925623677824,
          23.150934313717112,
          9.562150003169165,
          3.9880371900276015,
          7.267930228205504,
          17.463845224909594,
          10.911906538873566,
          9.262646305058729,
          24.926824176567866,
          23.218223373296706,
          3.6763662975359317,
          7.181928447969492,
          16.88273928382128,
          8.16621484490146,
          17.14507827102607,
          20.672567771072,
          8.742602746142333,
          18.04688228380395,
          3.4327027348475205,
          24.339097602159136,
          27.64179831617176,
          2.3086337808140613,
          8.910410284912418,
          9.834802761924223,
          8.700999689263051,
          4.7344002093029065,
          19.596221823963567,
          6.9471442707336575,
          6.830687138779894,
          6.4243019704901005,
          7.642734976268204,
          21.763622401753402,
          3.945856072025554,
          8.50904171785021,
          4.937000844860913,
          9.25733934026964,
          2.79570766677621,
          6.936467192125733,
          9.187821877472327,
          2.606994596668085,
          6.597953263532957,
          17.49425623798577,
          13.591788536019116,
          3.1835851457957767,
          15.997127016637581,
          11.8356114450444,
          5.431703714797853,
          2.999978884261034,
          10.824085618230662,
          0.4466854451989981,
          4.951685656017419,
          2.702223305398541,
          1.849192269387403,
          7.83073049916238,
          9.436396829960724,
          2.018360737602057,
          19.652678048575787,
          12.697313414660972,
          21.907349717065497,
          11.088779886142197,
          3.6129754402048757,
          1.5165155956042633,
          12.233147385445548,
          2.837507808360398,
          24.086010581121528,
          6.361893969850197,
          8.10091759008213,
          9.999105819453137,
          9.559028175630663,
          7.6656165702640475,
          4.072419633312529,
          15.967693734194167,
          16.84184043585037,
          15.996561747703504,
          6.756197846481279,
          12.43446017508962,
          5.4081870989998775
         ]
        },
        {
         "type": "surface",
         "x": [
          -2.7159423423337303,
          -1.9644710729239523,
          -1.212999803514174,
          -0.46152853410439576,
          0.2899427353053823,
          1.0414140047151603,
          1.7928852741249388,
          2.5443565435347164,
          3.295827812944495,
          4.047299082354273
         ],
         "y": [
          -2.783692626575913,
          -2.0078669033971175,
          -1.2320411802183218,
          -0.45621545703952604,
          0.3196102661392697,
          1.0954359893180654,
          1.8712617124968611,
          2.6470874356756564,
          3.4229131588544526,
          4.198738882033249
         ],
         "z": [
          [
           10.141648852717593,
           4.947809045422785,
           14.89885812321631,
           20.354289400490984,
           32.269770716536755,
           8.012183525974818,
           7.128633127767555,
           6.773968836587714,
           16.796692846197402,
           16.664244200632538
          ],
          [
           7.014569786131345,
           7.639614408124201,
           18.693929681948816,
           16.085302983270253,
           5.405995480935983,
           2.869657919459881,
           19.255200776807527,
           5.505292718518488,
           22.183162698881933,
           15.735690452808852
          ],
          [
           19.516412853411946,
           8.704921870712154,
           12.812704353268314,
           20.438746224493684,
           23.15039579956067,
           9.561902823190051,
           3.9878373172722146,
           7.255091038511871,
           17.465501685682113,
           10.91127965872446
          ],
          [
           9.262586209648019,
           20.568210571358474,
           23.218213771689648,
           3.6758467678315565,
           7.319256689079605,
           17.041523150471534,
           17.63736144457133,
           17.121129001523947,
           20.67212095133584,
           8.838379319090476
          ],
          [
           18.04701644669842,
           3.4327870430182372,
           18.7825328912568,
           27.64096955458956,
           2.308572510950965,
           8.910384664997421,
           9.833894806341686,
           8.701335294275895,
           4.7344603288983595,
           19.596005456997773
          ],
          [
           11.818836946788084,
           6.831146240916892,
           6.4236216378027375,
           7.6426105253097,
           21.762423293892084,
           3.94600023509531,
           8.514311909610951,
           4.934931248361464,
           9.258552447906416,
           2.7975233245975897
          ],
          [
           6.93630771489086,
           9.18755564344383,
           2.609569287564682,
           2.0039859870963284,
           17.49443645376667,
           13.58084029446911,
           3.1849435136404125,
           15.998144856960067,
           11.834744994748347,
           5.429935492169191
          ],
          [
           3.000883963600981,
           10.82866460572552,
           0.44934432620128106,
           4.951794569717166,
           2.7010186363346502,
           1.6017428640814586,
           7.831004217788744,
           9.449097221970902,
           2.0179836683543027,
           19.51938128978697
          ],
          [
           12.696409313227944,
           21.908368705569615,
           11.087223683555525,
           3.824183210731289,
           1.5161823050865433,
           12.233585373252593,
           2.8353271372817073,
           21.432689273656806,
           7.946631488564143,
           8.098812406171076
          ],
          [
           9.999033255722336,
           9.33427567460638,
           7.666317762561105,
           4.071979944813959,
           15.967502719267852,
           17.457212467849175,
           16.272273102202195,
           6.755376165021174,
           12.434151230246611,
           5.408181279146896
          ]
         ]
        }
       ],
       "layout": {
        "legend": {
         "tracegroupgap": 0
        },
        "margin": {
         "t": 60
        },
        "scene": {
         "domain": {
          "x": [
           0,
           1
          ],
          "y": [
           0,
           1
          ]
         },
         "xaxis": {
          "title": {
           "text": "x"
          }
         },
         "yaxis": {
          "title": {
           "text": "y"
          }
         },
         "zaxis": {
          "range": [
           0,
           35
          ],
          "title": {
           "text": "z"
          }
         }
        },
        "template": {
         "data": {
          "bar": [
           {
            "error_x": {
             "color": "#2a3f5f"
            },
            "error_y": {
             "color": "#2a3f5f"
            },
            "marker": {
             "line": {
              "color": "#E5ECF6",
              "width": 0.5
             },
             "pattern": {
              "fillmode": "overlay",
              "size": 10,
              "solidity": 0.2
             }
            },
            "type": "bar"
           }
          ],
          "barpolar": [
           {
            "marker": {
             "line": {
              "color": "#E5ECF6",
              "width": 0.5
             },
             "pattern": {
              "fillmode": "overlay",
              "size": 10,
              "solidity": 0.2
             }
            },
            "type": "barpolar"
           }
          ],
          "carpet": [
           {
            "aaxis": {
             "endlinecolor": "#2a3f5f",
             "gridcolor": "white",
             "linecolor": "white",
             "minorgridcolor": "white",
             "startlinecolor": "#2a3f5f"
            },
            "baxis": {
             "endlinecolor": "#2a3f5f",
             "gridcolor": "white",
             "linecolor": "white",
             "minorgridcolor": "white",
             "startlinecolor": "#2a3f5f"
            },
            "type": "carpet"
           }
          ],
          "choropleth": [
           {
            "colorbar": {
             "outlinewidth": 0,
             "ticks": ""
            },
            "type": "choropleth"
           }
          ],
          "contour": [
           {
            "colorbar": {
             "outlinewidth": 0,
             "ticks": ""
            },
            "colorscale": [
             [
              0,
              "#0d0887"
             ],
             [
              0.1111111111111111,
              "#46039f"
             ],
             [
              0.2222222222222222,
              "#7201a8"
             ],
             [
              0.3333333333333333,
              "#9c179e"
             ],
             [
              0.4444444444444444,
              "#bd3786"
             ],
             [
              0.5555555555555556,
              "#d8576b"
             ],
             [
              0.6666666666666666,
              "#ed7953"
             ],
             [
              0.7777777777777778,
              "#fb9f3a"
             ],
             [
              0.8888888888888888,
              "#fdca26"
             ],
             [
              1,
              "#f0f921"
             ]
            ],
            "type": "contour"
           }
          ],
          "contourcarpet": [
           {
            "colorbar": {
             "outlinewidth": 0,
             "ticks": ""
            },
            "type": "contourcarpet"
           }
          ],
          "heatmap": [
           {
            "colorbar": {
             "outlinewidth": 0,
             "ticks": ""
            },
            "colorscale": [
             [
              0,
              "#0d0887"
             ],
             [
              0.1111111111111111,
              "#46039f"
             ],
             [
              0.2222222222222222,
              "#7201a8"
             ],
             [
              0.3333333333333333,
              "#9c179e"
             ],
             [
              0.4444444444444444,
              "#bd3786"
             ],
             [
              0.5555555555555556,
              "#d8576b"
             ],
             [
              0.6666666666666666,
              "#ed7953"
             ],
             [
              0.7777777777777778,
              "#fb9f3a"
             ],
             [
              0.8888888888888888,
              "#fdca26"
             ],
             [
              1,
              "#f0f921"
             ]
            ],
            "type": "heatmap"
           }
          ],
          "heatmapgl": [
           {
            "colorbar": {
             "outlinewidth": 0,
             "ticks": ""
            },
            "colorscale": [
             [
              0,
              "#0d0887"
             ],
             [
              0.1111111111111111,
              "#46039f"
             ],
             [
              0.2222222222222222,
              "#7201a8"
             ],
             [
              0.3333333333333333,
              "#9c179e"
             ],
             [
              0.4444444444444444,
              "#bd3786"
             ],
             [
              0.5555555555555556,
              "#d8576b"
             ],
             [
              0.6666666666666666,
              "#ed7953"
             ],
             [
              0.7777777777777778,
              "#fb9f3a"
             ],
             [
              0.8888888888888888,
              "#fdca26"
             ],
             [
              1,
              "#f0f921"
             ]
            ],
            "type": "heatmapgl"
           }
          ],
          "histogram": [
           {
            "marker": {
             "pattern": {
              "fillmode": "overlay",
              "size": 10,
              "solidity": 0.2
             }
            },
            "type": "histogram"
           }
          ],
          "histogram2d": [
           {
            "colorbar": {
             "outlinewidth": 0,
             "ticks": ""
            },
            "colorscale": [
             [
              0,
              "#0d0887"
             ],
             [
              0.1111111111111111,
              "#46039f"
             ],
             [
              0.2222222222222222,
              "#7201a8"
             ],
             [
              0.3333333333333333,
              "#9c179e"
             ],
             [
              0.4444444444444444,
              "#bd3786"
             ],
             [
              0.5555555555555556,
              "#d8576b"
             ],
             [
              0.6666666666666666,
              "#ed7953"
             ],
             [
              0.7777777777777778,
              "#fb9f3a"
             ],
             [
              0.8888888888888888,
              "#fdca26"
             ],
             [
              1,
              "#f0f921"
             ]
            ],
            "type": "histogram2d"
           }
          ],
          "histogram2dcontour": [
           {
            "colorbar": {
             "outlinewidth": 0,
             "ticks": ""
            },
            "colorscale": [
             [
              0,
              "#0d0887"
             ],
             [
              0.1111111111111111,
              "#46039f"
             ],
             [
              0.2222222222222222,
              "#7201a8"
             ],
             [
              0.3333333333333333,
              "#9c179e"
             ],
             [
              0.4444444444444444,
              "#bd3786"
             ],
             [
              0.5555555555555556,
              "#d8576b"
             ],
             [
              0.6666666666666666,
              "#ed7953"
             ],
             [
              0.7777777777777778,
              "#fb9f3a"
             ],
             [
              0.8888888888888888,
              "#fdca26"
             ],
             [
              1,
              "#f0f921"
             ]
            ],
            "type": "histogram2dcontour"
           }
          ],
          "mesh3d": [
           {
            "colorbar": {
             "outlinewidth": 0,
             "ticks": ""
            },
            "type": "mesh3d"
           }
          ],
          "parcoords": [
           {
            "line": {
             "colorbar": {
              "outlinewidth": 0,
              "ticks": ""
             }
            },
            "type": "parcoords"
           }
          ],
          "pie": [
           {
            "automargin": true,
            "type": "pie"
           }
          ],
          "scatter": [
           {
            "fillpattern": {
             "fillmode": "overlay",
             "size": 10,
             "solidity": 0.2
            },
            "type": "scatter"
           }
          ],
          "scatter3d": [
           {
            "line": {
             "colorbar": {
              "outlinewidth": 0,
              "ticks": ""
             }
            },
            "marker": {
             "colorbar": {
              "outlinewidth": 0,
              "ticks": ""
             }
            },
            "type": "scatter3d"
           }
          ],
          "scattercarpet": [
           {
            "marker": {
             "colorbar": {
              "outlinewidth": 0,
              "ticks": ""
             }
            },
            "type": "scattercarpet"
           }
          ],
          "scattergeo": [
           {
            "marker": {
             "colorbar": {
              "outlinewidth": 0,
              "ticks": ""
             }
            },
            "type": "scattergeo"
           }
          ],
          "scattergl": [
           {
            "marker": {
             "colorbar": {
              "outlinewidth": 0,
              "ticks": ""
             }
            },
            "type": "scattergl"
           }
          ],
          "scattermapbox": [
           {
            "marker": {
             "colorbar": {
              "outlinewidth": 0,
              "ticks": ""
             }
            },
            "type": "scattermapbox"
           }
          ],
          "scatterpolar": [
           {
            "marker": {
             "colorbar": {
              "outlinewidth": 0,
              "ticks": ""
             }
            },
            "type": "scatterpolar"
           }
          ],
          "scatterpolargl": [
           {
            "marker": {
             "colorbar": {
              "outlinewidth": 0,
              "ticks": ""
             }
            },
            "type": "scatterpolargl"
           }
          ],
          "scatterternary": [
           {
            "marker": {
             "colorbar": {
              "outlinewidth": 0,
              "ticks": ""
             }
            },
            "type": "scatterternary"
           }
          ],
          "surface": [
           {
            "colorbar": {
             "outlinewidth": 0,
             "ticks": ""
            },
            "colorscale": [
             [
              0,
              "#0d0887"
             ],
             [
              0.1111111111111111,
              "#46039f"
             ],
             [
              0.2222222222222222,
              "#7201a8"
             ],
             [
              0.3333333333333333,
              "#9c179e"
             ],
             [
              0.4444444444444444,
              "#bd3786"
             ],
             [
              0.5555555555555556,
              "#d8576b"
             ],
             [
              0.6666666666666666,
              "#ed7953"
             ],
             [
              0.7777777777777778,
              "#fb9f3a"
             ],
             [
              0.8888888888888888,
              "#fdca26"
             ],
             [
              1,
              "#f0f921"
             ]
            ],
            "type": "surface"
           }
          ],
          "table": [
           {
            "cells": {
             "fill": {
              "color": "#EBF0F8"
             },
             "line": {
              "color": "white"
             }
            },
            "header": {
             "fill": {
              "color": "#C8D4E3"
             },
             "line": {
              "color": "white"
             }
            },
            "type": "table"
           }
          ]
         },
         "layout": {
          "annotationdefaults": {
           "arrowcolor": "#2a3f5f",
           "arrowhead": 0,
           "arrowwidth": 1
          },
          "autotypenumbers": "strict",
          "coloraxis": {
           "colorbar": {
            "outlinewidth": 0,
            "ticks": ""
           }
          },
          "colorscale": {
           "diverging": [
            [
             0,
             "#8e0152"
            ],
            [
             0.1,
             "#c51b7d"
            ],
            [
             0.2,
             "#de77ae"
            ],
            [
             0.3,
             "#f1b6da"
            ],
            [
             0.4,
             "#fde0ef"
            ],
            [
             0.5,
             "#f7f7f7"
            ],
            [
             0.6,
             "#e6f5d0"
            ],
            [
             0.7,
             "#b8e186"
            ],
            [
             0.8,
             "#7fbc41"
            ],
            [
             0.9,
             "#4d9221"
            ],
            [
             1,
             "#276419"
            ]
           ],
           "sequential": [
            [
             0,
             "#0d0887"
            ],
            [
             0.1111111111111111,
             "#46039f"
            ],
            [
             0.2222222222222222,
             "#7201a8"
            ],
            [
             0.3333333333333333,
             "#9c179e"
            ],
            [
             0.4444444444444444,
             "#bd3786"
            ],
            [
             0.5555555555555556,
             "#d8576b"
            ],
            [
             0.6666666666666666,
             "#ed7953"
            ],
            [
             0.7777777777777778,
             "#fb9f3a"
            ],
            [
             0.8888888888888888,
             "#fdca26"
            ],
            [
             1,
             "#f0f921"
            ]
           ],
           "sequentialminus": [
            [
             0,
             "#0d0887"
            ],
            [
             0.1111111111111111,
             "#46039f"
            ],
            [
             0.2222222222222222,
             "#7201a8"
            ],
            [
             0.3333333333333333,
             "#9c179e"
            ],
            [
             0.4444444444444444,
             "#bd3786"
            ],
            [
             0.5555555555555556,
             "#d8576b"
            ],
            [
             0.6666666666666666,
             "#ed7953"
            ],
            [
             0.7777777777777778,
             "#fb9f3a"
            ],
            [
             0.8888888888888888,
             "#fdca26"
            ],
            [
             1,
             "#f0f921"
            ]
           ]
          },
          "colorway": [
           "#636efa",
           "#EF553B",
           "#00cc96",
           "#ab63fa",
           "#FFA15A",
           "#19d3f3",
           "#FF6692",
           "#B6E880",
           "#FF97FF",
           "#FECB52"
          ],
          "font": {
           "color": "#2a3f5f"
          },
          "geo": {
           "bgcolor": "white",
           "lakecolor": "white",
           "landcolor": "#E5ECF6",
           "showlakes": true,
           "showland": true,
           "subunitcolor": "white"
          },
          "hoverlabel": {
           "align": "left"
          },
          "hovermode": "closest",
          "mapbox": {
           "style": "light"
          },
          "paper_bgcolor": "white",
          "plot_bgcolor": "#E5ECF6",
          "polar": {
           "angularaxis": {
            "gridcolor": "white",
            "linecolor": "white",
            "ticks": ""
           },
           "bgcolor": "#E5ECF6",
           "radialaxis": {
            "gridcolor": "white",
            "linecolor": "white",
            "ticks": ""
           }
          },
          "scene": {
           "xaxis": {
            "backgroundcolor": "#E5ECF6",
            "gridcolor": "white",
            "gridwidth": 2,
            "linecolor": "white",
            "showbackground": true,
            "ticks": "",
            "zerolinecolor": "white"
           },
           "yaxis": {
            "backgroundcolor": "#E5ECF6",
            "gridcolor": "white",
            "gridwidth": 2,
            "linecolor": "white",
            "showbackground": true,
            "ticks": "",
            "zerolinecolor": "white"
           },
           "zaxis": {
            "backgroundcolor": "#E5ECF6",
            "gridcolor": "white",
            "gridwidth": 2,
            "linecolor": "white",
            "showbackground": true,
            "ticks": "",
            "zerolinecolor": "white"
           }
          },
          "shapedefaults": {
           "line": {
            "color": "#2a3f5f"
           }
          },
          "ternary": {
           "aaxis": {
            "gridcolor": "white",
            "linecolor": "white",
            "ticks": ""
           },
           "baxis": {
            "gridcolor": "white",
            "linecolor": "white",
            "ticks": ""
           },
           "bgcolor": "#E5ECF6",
           "caxis": {
            "gridcolor": "white",
            "linecolor": "white",
            "ticks": ""
           }
          },
          "title": {
           "x": 0.05
          },
          "xaxis": {
           "automargin": true,
           "gridcolor": "white",
           "linecolor": "white",
           "ticks": "",
           "title": {
            "standoff": 15
           },
           "zerolinecolor": "white",
           "zerolinewidth": 2
          },
          "yaxis": {
           "automargin": true,
           "gridcolor": "white",
           "linecolor": "white",
           "ticks": "",
           "title": {
            "standoff": 15
           },
           "zerolinecolor": "white",
           "zerolinewidth": 2
          }
         }
        }
       }
      }
     },
     "metadata": {},
     "output_type": "display_data"
    }
   ],
   "source": [
    "fig = px.scatter_3d(x=x.ravel(), y=y.ravel(), z=z.ravel())\n",
    "\n",
    "fig.add_trace(go.Surface(x = x_input, y = y_input, z =z_final))\n",
    "\n",
    "fig.update_layout(scene = dict(zaxis = dict(range=[0,35])))\n",
    "\n",
    "fig.show()"
   ]
  },
  {
   "cell_type": "code",
   "execution_count": null,
   "id": "2f7ff126",
   "metadata": {},
   "outputs": [],
   "source": []
  }
 ],
 "metadata": {
  "kernelspec": {
   "display_name": "Python 3",
   "language": "python",
   "name": "python3"
  },
  "language_info": {
   "codemirror_mode": {
    "name": "ipython",
    "version": 3
   },
   "file_extension": ".py",
   "mimetype": "text/x-python",
   "name": "python",
   "nbconvert_exporter": "python",
   "pygments_lexer": "ipython3",
   "version": "3.12.4"
  }
 },
 "nbformat": 4,
 "nbformat_minor": 5
}
