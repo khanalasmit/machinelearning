{
 "cells": [
  {
   "cell_type": "markdown",
   "id": "2b642cef",
   "metadata": {},
   "source": [
    "### **OUTLIERS**"
   ]
  },
  {
   "cell_type": "markdown",
   "id": "3aabcd45",
   "metadata": {},
   "source": [
    "Outliers are the datas in the dataset which are different from the remaining datas. Following picture can explain the outiers in the data.\\\n",
    "![image](outliers.png)"
   ]
  },
  {
   "cell_type": "markdown",
   "id": "6c69ab9b",
   "metadata": {},
   "source": [
    "*When are the outliers dangerous?*\\\n",
    "Suppose for the age data if the age in 300 it will be dangerous which are to be removed. But sometimes outliers are important for the system. For eg in the cerdit card anamoly detection we need the outliers, so we donot remove the outliers in this section.\n"
   ]
  },
  {
   "cell_type": "markdown",
   "id": "49ec41eb",
   "metadata": {},
   "source": [
    "**Effects of outliers in the machinelearning algorithm**\n",
    "*  Linear regression \n",
    "* Logistic regression\n",
    "* Deep learning\\\n",
    "*These classes of the machine learning algorithm are affected by the outliers.*\\\n",
    "*Tree based algorithms are not affected by the outliers*"
   ]
  },
  {
   "cell_type": "markdown",
   "id": "46ee768e",
   "metadata": {},
   "source": [
    "**How to treat outliers**\n",
    "* Trimming\n",
    "    - If the outliers are too much it causes data thinning\n",
    "* Capping\n",
    "    - Setting the lower and upper limit for the outliers\n",
    "* Discretization\n",
    "    - Discretize the data(segregating the values in the bins)"
   ]
  },
  {
   "cell_type": "markdown",
   "id": "c2ec74f8",
   "metadata": {},
   "source": [
    "**Techniques of the outliers detection**\n",
    "* For the normal distribution:\n",
    "data outside the range of $ \\pm \\sigma$ are cosidered outliers\n",
    "* for the skewed distribution:\n",
    " the data outiside the range of the\\\n",
    "$Q_1-1.5*IQ$ and $ IQ*1.5+Q_3$ are considered outliers"
   ]
  },
  {
   "cell_type": "markdown",
   "id": "b2d33893",
   "metadata": {},
   "source": []
  }
 ],
 "metadata": {
  "language_info": {
   "name": "python"
  }
 },
 "nbformat": 4,
 "nbformat_minor": 5
}
