{
 "cells": [
  {
   "cell_type": "markdown",
   "id": "d64feb44",
   "metadata": {},
   "source": [
    "## **XGBoost Classification**"
   ]
  },
  {
   "cell_type": "markdown",
   "id": "296c3e36",
   "metadata": {},
   "source": [
    "- The basic steps are just like as the gradient boosting\n",
    "- Here the stepwise additive modelling is done.\n",
    "- The base model is log of odds and the latter models we use are decision trees which are different than the ones used in the gradient boosting\n",
    "- The decision tress uses the similarity score as the metrics."
   ]
  },
  {
   "cell_type": "markdown",
   "id": "1fc80fdd",
   "metadata": {},
   "source": [
    "$$ \n",
    "log(odds)=\\frac{p}{1-p}"
   ]
  },
  {
   "cell_type": "markdown",
   "id": "94f859aa",
   "metadata": {},
   "source": [
    "- For the base estimator we us the log of odds then we need to calculate the probablity from the log of odds \n",
    "$$\n",
    "p=\\frac{e^{log(odds)}}{1+e^{log(odds)}}\n",
    "$$\n",
    "- Then we define the threshold of the probablity to which we define the value to be either 0 and 1.\n",
    "- After subtracting the probablity with the actual output we get the residual.\n",
    "- The residual is then fitted to the decision tree of regrssion.\n",
    "- First of all we difine a leaf node\n",
    "- Then the similarity score is calculated which is \n",
    "$$\n",
    "ss=\\frac{(\\sum residual)^2}{\\sum prevprob_i(1-prevprob_i)+\\lambda}\n",
    "$$\n",
    "- then the residuals are splitted based on the spliting criteaia in a way that the similarity score is maxmized\n",
    "- The gain is calculated as\n",
    "$$\n",
    "gain=(SS_L+SS_R)-SS_{ROOT}\n",
    "$$\n",
    "- The output of each nodes of the decision tree is calculated as follows:\n",
    "$$\n",
    "output=\\frac{\\sum residual_i}{\\sum prevprob(1-prevprob_i)+\\lambda}\n",
    "$$\n",
    "- Then adding the log of odds from both we get the pred2 and then convert it to the probablity which gives the actual prediction which we convert to respective class according as the threshold."
   ]
  },
  {
   "cell_type": "markdown",
   "id": "3e3be46d",
   "metadata": {},
   "source": []
  }
 ],
 "metadata": {
  "language_info": {
   "name": "python"
  }
 },
 "nbformat": 4,
 "nbformat_minor": 5
}
