{
 "cells": [
  {
   "cell_type": "markdown",
   "id": "28dd580c",
   "metadata": {},
   "source": [
    "### **XGBoost For Regression**\n",
    "---\n",
    "#### **The Problem Statement**\n",
    "|CGPA|package|\n",
    "|-|-|\n",
    "|6.7|4.5|\n",
    "|9.0|11.0|\n",
    "|5.0|8.0|\n",
    "---\n",
    "The below is the scatter plot for the above data."
   ]
  },
  {
   "cell_type": "code",
   "execution_count": 1,
   "id": "697e46f2",
   "metadata": {},
   "outputs": [
    {
     "data": {
      "text/plain": [
       "<matplotlib.collections.PathCollection at 0x25c5c77bef0>"
      ]
     },
     "execution_count": 1,
     "metadata": {},
     "output_type": "execute_result"
    },
    {
     "data": {
      "image/png": "[encoded data removed]",
      "text/plain": [
       "<Figure size 640x480 with 1 Axes>"
      ]
     },
     "metadata": {},
     "output_type": "display_data"
    }
   ],
   "source": [
    "import pandas as pd\n",
    "import matplotlib.pyplot as plt\n",
    "import numpy as np\n",
    "X=np.array([6.7,9.0,7.5,5.0])\n",
    "y=np.array([4.5,11.0,6.0,8.0])\n",
    "plt.scatter(X,y)\n"
   ]
  },
  {
   "cell_type": "markdown",
   "id": "3e22588d",
   "metadata": {},
   "source": [
    "- In the gradient Boosting we started with the base estimator, we would start with the mean."
   ]
  },
  {
   "cell_type": "code",
   "execution_count": 4,
   "id": "130b2230",
   "metadata": {},
   "outputs": [
    {
     "name": "stdout",
     "output_type": "stream",
     "text": [
      "7.375\n"
     ]
    },
    {
     "data": {
      "text/plain": [
       "<matplotlib.lines.Line2D at 0x25c5c9c52e0>"
      ]
     },
     "execution_count": 4,
     "metadata": {},
     "output_type": "execute_result"
    },
    {
     "data": {
      "image/png": "[encoded data removed]",
      "text/plain": [
       "<Figure size 640x480 with 1 Axes>"
      ]
     },
     "metadata": {},
     "output_type": "display_data"
    }
   ],
   "source": [
    "#here the mean is \n",
    "mean=y.mean()\n",
    "print(mean)\n",
    "plt.scatter(X,y)\n",
    "plt.axhline(xmin=0, xmax=1, y=mean, color='red')  # ✅ Correct"
   ]
  },
  {
   "cell_type": "markdown",
   "id": "0814580a",
   "metadata": {},
   "source": [
    "- here the mean line is not perfect fit thus there will be the error in the values obtianed.\n"
   ]
  },
  {
   "cell_type": "markdown",
   "id": "03bc039f",
   "metadata": {},
   "source": [
    "**Now for the next stage**\n",
    "- We take the residuals the input for the decision tree .\n",
    "- Then we will obtiain the regressio curve. \n",
    "- Then we will try to find the mistake of the curve which we pass to the next decsion tree of the third step which will give the better decision curve. \n",
    "- In case of the XGBoost, the decsion trees will be different.\n",
    "- The construction of the decision tree is as follows."
   ]
  },
  {
   "cell_type": "markdown",
   "id": "0c7bc49b",
   "metadata": {},
   "source": [
    "- In the decision tree of the XGBoost we use the similarity score.\n",
    "$$\n",
    "SS=\\frac{\\text{sum of residual}^2}{residual + \\lambda}\n",
    "$$\n",
    "- The $\\lambda$ is the regualarization paramter.\n",
    "- In the splitting criteria we try to split such that we can increase the similarity socre. \n",
    "- We sort the output columns.\n",
    "- Then we calculat the mean between mean of each to points \n",
    "- Then we split based on each mean\n",
    "- Then we calculate the similarity score\n",
    "- The split giving the highest similarity score is chosen .\n",
    "- the formula of the gain of the similarity score is \n",
    "$$\n",
    "gain=(SS_L+SS_R)-SS_{root}\n",
    "$$\n",
    "- We again do the futhere split of the root node.\n",
    "- the output for the each nodes is \n",
    "$$\n",
    "output=\\frac{\\text{sum of residals}}{residuals+\\lambda}\n",
    "$$\n",
    "- We may also use the learning rate to find the predicated value after each steps."
   ]
  },
  {
   "cell_type": "markdown",
   "id": "c8d069c1",
   "metadata": {},
   "source": []
  }
 ],
 "metadata": {
  "kernelspec": {
   "display_name": "Python 3",
   "language": "python",
   "name": "python3"
  },
  "language_info": {
   "codemirror_mode": {
    "name": "ipython",
    "version": 3
   },
   "file_extension": ".py",
   "mimetype": "text/x-python",
   "name": "python",
   "nbconvert_exporter": "python",
   "pygments_lexer": "ipython3",
   "version": "3.12.4"
  }
 },
 "nbformat": 4,
 "nbformat_minor": 5
}
