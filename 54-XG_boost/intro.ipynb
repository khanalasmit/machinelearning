{
 "cells": [
  {
   "cell_type": "markdown",
   "id": "89bc4fca",
   "metadata": {},
   "source": [
    "### **XGBoost Introduction**"
   ]
  },
  {
   "cell_type": "markdown",
   "id": "986a8892",
   "metadata": {},
   "source": [
    "- We have multiple algorithms in the machine learning which are data and algorithm specific algorithms.\n",
    "- It is the best machine learning algorithm\n",
    "- It is not the algorithm \n",
    "- It is the library\n",
    "- It is based on the gardient boosting algorithm\n",
    "- It is the gradient boosting with the optimization"
   ]
  },
  {
   "cell_type": "markdown",
   "id": "e0133350",
   "metadata": {},
   "source": [
    "**XGBoost Features**\n",
    "- Peformance \n",
    "- Speed \n",
    "- Flexibility\n"
   ]
  },
  {
   "cell_type": "markdown",
   "id": "5c33cb80",
   "metadata": {},
   "source": [
    "**Flexibility**\n",
    "1. Corss Platform\n",
    "2. Multiple Language Support\n",
    "3. Integration with other libararies and tools\n",
    "4. Supports all kinds of ML problems."
   ]
  },
  {
   "cell_type": "markdown",
   "id": "18ebc00f",
   "metadata": {},
   "source": [
    "**Speed**\n",
    "1. Parallel processing\n",
    "2. Optimized Data Structures\n",
    "3. Cache Awareness\n",
    "4. Out of core computing\n",
    "5. Distributed Computing\n",
    "6. GPU Support\\\n",
    "-- The optimized data structure which is called column block.\n",
    "The features are stored in the different column block.\n",
    "While other use the row wise storage. It ueses the histogram based training. It stores the values of the bins in the cache memory. It uses the concept like the virtual memory to avoid the overflow of the main memory. The hyperparamters ```tree_method``` is set. \\\n",
    "Here the by distributed computed we first divide the data into chunks. The chunks which perfrom best are selected."
   ]
  },
  {
   "cell_type": "markdown",
   "id": "01369324",
   "metadata": {},
   "source": [
    "**Performance**\n",
    "1. Regularized Learning objectives\n",
    "2. Handeling Missing Values.\n",
    "3. Sparsity Aware Split Finding\n",
    "4. Efficient Split Finding(Weighted Quantile Sketch+Approximate Tree Learning)\n",
    "5. Tree Pruning"
   ]
  },
  {
   "cell_type": "markdown",
   "id": "b25be88d",
   "metadata": {},
   "source": [
    "- Regularization is introduced to make the model more general.\n",
    "- XGBoost can handel the missing values by itself.\n",
    "- XGBoost the mechanism in it to identify the missing values and thus work on the missing values.\n",
    "- It divides the points into the nodes. Then it fills the missing value at one side and another at the another side then calulate the gain. In this way it handels the missing value direction.\n",
    "- It rather than doing the greedy search for the proper split cirteria. It uses the histogram bases training. We do the binning based on the quantile seeing the data distribution. \n",
    "- Tree pruning is where we trim the depth of the tree to reduce the complexity of the tree which in turns reduce the overfitting. Two types of the pruinnig techiniques are used **Post prunining** and **Pre prunining**. "
   ]
  }
 ],
 "metadata": {
  "language_info": {
   "name": "python"
  }
 },
 "nbformat": 4,
 "nbformat_minor": 5
}
