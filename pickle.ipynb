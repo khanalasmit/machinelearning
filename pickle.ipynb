{
 "cells": [
  {
   "cell_type": "code",
   "execution_count": 1,
   "id": "859dc74d",
   "metadata": {},
   "outputs": [],
   "source": [
    "import pickle\n",
    "import numpy as np"
   ]
  },
  {
   "cell_type": "code",
   "execution_count": 10,
   "id": "4a6b5629",
   "metadata": {},
   "outputs": [],
   "source": [
    "ohe_sex=pickle.load(open('ohe_sex.pkl','rb'))\n",
    "ohe_embarked=pickle.load(open('ohe_embarked.pkl','rb'))\n",
    "clf=pickle.load(open('clf.pkl','rb'))"
   ]
  },
  {
   "cell_type": "code",
   "execution_count": 11,
   "id": "32666602",
   "metadata": {},
   "outputs": [
    {
     "name": "stderr",
     "output_type": "stream",
     "text": [
      "C:\\Users\\Acer\\AppData\\Roaming\\Python\\Python312\\site-packages\\sklearn\\utils\\validation.py:2739: UserWarning: X does not have valid feature names, but OneHotEncoder was fitted with feature names\n",
      "  warnings.warn(\n",
      "C:\\Users\\Acer\\AppData\\Roaming\\Python\\Python312\\site-packages\\sklearn\\utils\\validation.py:2739: UserWarning: X does not have valid feature names, but OneHotEncoder was fitted with feature names\n",
      "  warnings.warn(\n"
     ]
    }
   ],
   "source": [
    "test_input = np.array([23, 'S', 'male', 3, 0, 3, 450])\n",
    "\n",
    "test_input_sex = ohe_sex.transform([[test_input[2]]])\n",
    "test_input_embarked = ohe_embarked.transform([[test_input[1]]])\n",
    "\n",
    "test_input_age = np.array([[test_input[0]]])\n"
   ]
  },
  {
   "cell_type": "code",
   "execution_count": 13,
   "id": "7ad4af74",
   "metadata": {},
   "outputs": [],
   "source": [
    "out_transformed = np.concatenate((\n",
    "    test_input_age,                                # shape (1,1)\n",
    "    test_input_embarked.toarray(),                 # assumed shape (1,n)\n",
    "    test_input_sex.toarray(),                      # assumed shape (1,n)\n",
    "    np.array(test_input[[3, 4, 5, 6]]).reshape(1, -1)  # shape (1,4)\n",
    "), axis=1)\n"
   ]
  },
  {
   "cell_type": "code",
   "execution_count": 14,
   "id": "0553d1b6",
   "metadata": {},
   "outputs": [
    {
     "data": {
      "text/plain": [
       "(1, 9)"
      ]
     },
     "execution_count": 14,
     "metadata": {},
     "output_type": "execute_result"
    }
   ],
   "source": [
    "out_transformed.shape"
   ]
  },
  {
   "cell_type": "code",
   "execution_count": 15,
   "id": "995e8a82",
   "metadata": {},
   "outputs": [
    {
     "data": {
      "text/plain": [
       "array([0])"
      ]
     },
     "execution_count": 15,
     "metadata": {},
     "output_type": "execute_result"
    }
   ],
   "source": [
    "clf.predict(out_transformed)"
   ]
  },
  {
   "cell_type": "code",
   "execution_count": 2,
   "id": "54316339",
   "metadata": {},
   "outputs": [],
   "source": [
    "pipe =pickle.load(open('pipe.pkl','rb'))"
   ]
  },
  {
   "cell_type": "code",
   "execution_count": 3,
   "id": "34f88961",
   "metadata": {},
   "outputs": [],
   "source": [
    "test_input1=np.array([2,'male',31.0,0,0,10.5,'S'],dtype=object).reshape(1,7)"
   ]
  },
  {
   "cell_type": "code",
   "execution_count": 4,
   "id": "759abae8",
   "metadata": {},
   "outputs": [
    {
     "name": "stderr",
     "output_type": "stream",
     "text": [
      "C:\\Users\\Acer\\AppData\\Roaming\\Python\\Python312\\site-packages\\sklearn\\utils\\validation.py:2739: UserWarning: X does not have valid feature names, but SimpleImputer was fitted with feature names\n",
      "  warnings.warn(\n",
      "C:\\Users\\Acer\\AppData\\Roaming\\Python\\Python312\\site-packages\\sklearn\\utils\\validation.py:2739: UserWarning: X does not have valid feature names, but SimpleImputer was fitted with feature names\n",
      "  warnings.warn(\n"
     ]
    },
    {
     "data": {
      "text/plain": [
       "array([0])"
      ]
     },
     "execution_count": 4,
     "metadata": {},
     "output_type": "execute_result"
    }
   ],
   "source": [
    "pipe.predict(test_input1)"
   ]
  },
  {
   "cell_type": "code",
   "execution_count": null,
   "id": "03db51c2",
   "metadata": {},
   "outputs": [],
   "source": []
  }
 ],
 "metadata": {
  "kernelspec": {
   "display_name": "Python 3",
   "language": "python",
   "name": "python3"
  },
  "language_info": {
   "codemirror_mode": {
    "name": "ipython",
    "version": 3
   },
   "file_extension": ".py",
   "mimetype": "text/x-python",
   "name": "python",
   "nbconvert_exporter": "python",
   "pygments_lexer": "ipython3",
   "version": "3.12.4"
  }
 },
 "nbformat": 4,
 "nbformat_minor": 5
}
