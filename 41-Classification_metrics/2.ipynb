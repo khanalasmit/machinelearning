{
 "cells": [
  {
   "cell_type": "markdown",
   "id": "b4244f26",
   "metadata": {},
   "source": [
    "### **PRECSION**\n"
   ]
  },
  {
   "cell_type": "markdown",
   "id": "92bd8104",
   "metadata": {},
   "source": [
    "![image](3.png) "
   ]
  },
  {
   "cell_type": "markdown",
   "id": "f244572a",
   "metadata": {},
   "source": [
    "Here in the picuter, accuracy of the model is 0.85, which means that model is correct 85% of the time. For the another model to accuracy is also 85%.Here false postive of A is >  false postive of B and false negetive of A is < false negative of B.\\\n",
    "In this example more dangerous would be false postive meaning predicting the email spam when it is not. Thus we will select the model which has less false positive. That is we will use precision to compare the models. \\\n",
    "The meaning of the precison is proportion of truely positve to the predicted postive. \\\n",
    "In our example above it would be the proprotion of no of mails correctly classified as spam to the no of predicted spams."
   ]
  },
  {
   "cell_type": "markdown",
   "id": "c7306ba8",
   "metadata": {},
   "source": [
    "$$\n",
    "precision =\\frac{TP}{TP+FP}\n",
    "$$"
   ]
  },
  {
   "cell_type": "markdown",
   "id": "7f88d368",
   "metadata": {},
   "source": [
    "### **RECALL**\n",
    "![image](4.png)"
   ]
  },
  {
   "cell_type": "markdown",
   "id": "0a067256",
   "metadata": {},
   "source": [
    "#SIMILARY COMPLET FOR THE RECALL AS IN THE PRECISON\n",
    "Here in the picuter, accuracy of the model is 0.85, which means that model is correct 90% of the time. For the another model too accuracy is also 90%.\n",
    "In the above, if we donot detect cancer for the patient who has cancer "
   ]
  }
 ],
 "metadata": {
  "language_info": {
   "name": "python"
  }
 },
 "nbformat": 4,
 "nbformat_minor": 5
}
