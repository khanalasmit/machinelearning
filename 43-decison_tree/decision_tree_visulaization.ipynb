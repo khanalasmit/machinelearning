{
 "cells": [
  {
   "cell_type": "code",
   "execution_count": 17,
   "id": "23dad33e",
   "metadata": {},
   "outputs": [],
   "source": [
    "import pandas as pd\n",
    "import seaborn as sns\n",
    "import dtreeviz\n",
    "from sklearn.tree import DecisionTreeClassifier,DecisionTreeRegressor\n",
    "from sklearn.datasets import fetch_california_housing\n"
   ]
  },
  {
   "cell_type": "code",
   "execution_count": 18,
   "id": "084a2d33",
   "metadata": {},
   "outputs": [],
   "source": [
    "# Load the dataset\n",
    "data = fetch_california_housing(as_frame=True)\n",
    "df = data.frame\n",
    "\n",
    "# Features and target\n",
    "X = df.drop('MedHouseVal', axis=1)\n",
    "y = df['MedHouseVal']"
   ]
  },
  {
   "cell_type": "code",
   "execution_count": 20,
   "id": "ba685714",
   "metadata": {},
   "outputs": [
    {
     "ename": "ImportError",
     "evalue": "cannot import name 'dtreeviz' from 'dtreeviz.trees' (C:\\Users\\Acer\\AppData\\Roaming\\Python\\Python312\\site-packages\\dtreeviz\\trees.py)",
     "output_type": "error",
     "traceback": [
      "\u001b[1;31m---------------------------------------------------------------------------\u001b[0m",
      "\u001b[1;31mImportError\u001b[0m                               Traceback (most recent call last)",
      "Cell \u001b[1;32mIn[20], line 1\u001b[0m\n\u001b[1;32m----> 1\u001b[0m \u001b[38;5;28;01mfrom\u001b[39;00m \u001b[38;5;21;01mdtreeviz\u001b[39;00m\u001b[38;5;21;01m.\u001b[39;00m\u001b[38;5;21;01mtrees\u001b[39;00m \u001b[38;5;28;01mimport\u001b[39;00m dtreeviz\n\u001b[0;32m      2\u001b[0m \u001b[38;5;28;01mfrom\u001b[39;00m \u001b[38;5;21;01msklearn\u001b[39;00m \u001b[38;5;28;01mimport\u001b[39;00m tree\n\u001b[0;32m      4\u001b[0m \u001b[38;5;66;03m# Load the Iris dataset\u001b[39;00m\n",
      "\u001b[1;31mImportError\u001b[0m: cannot import name 'dtreeviz' from 'dtreeviz.trees' (C:\\Users\\Acer\\AppData\\Roaming\\Python\\Python312\\site-packages\\dtreeviz\\trees.py)"
     ]
    }
   ],
   "source": [
    "from dtreeviz.trees import dtreeviz\n",
    "from sklearn import tree\n",
    "\n",
    "# Load the Iris dataset\n",
    "iris = sns.load_dataset('iris')\n",
    "X = iris.drop(columns=['species'])\n",
    "y = iris['species']\n",
    "\n",
    "# Fit decision tree classifier\n",
    "clf = DecisionTreeClassifier(max_depth=3)\n",
    "clf.fit(X, y)\n",
    "\n",
    "# Visualize using dtreeviz\n",
    "viz = dtreeviz(clf, X, y,\n",
    "               target_name=\"species\",\n",
    "               feature_names=X.columns,\n",
    "               class_names=list(y.unique()))\n",
    "\n",
    "viz.view()\n"
   ]
  },
  {
   "cell_type": "code",
   "execution_count": null,
   "id": "7ed79688",
   "metadata": {},
   "outputs": [],
   "source": []
  }
 ],
 "metadata": {
  "kernelspec": {
   "display_name": "Python 3",
   "language": "python",
   "name": "python3"
  },
  "language_info": {
   "codemirror_mode": {
    "name": "ipython",
    "version": 3
   },
   "file_extension": ".py",
   "mimetype": "text/x-python",
   "name": "python",
   "nbconvert_exporter": "python",
   "pygments_lexer": "ipython3",
   "version": "3.12.4"
  }
 },
 "nbformat": 4,
 "nbformat_minor": 5
}
