{
 "cells": [
  {
   "cell_type": "code",
   "execution_count": 1,
   "id": "23dad33e",
   "metadata": {},
   "outputs": [],
   "source": [
    "from sklearn.datasets import load_iris\n",
    "from sklearn.tree import DecisionTreeClassifier,DecisionTreeRegressor\n",
    "from dtreeviz import dtreeviz\n",
    "import pandas as pd"
   ]
  },
  {
   "cell_type": "code",
   "execution_count": 2,
   "id": "dce5b1e3",
   "metadata": {},
   "outputs": [],
   "source": [
    "from sklearn.datasets import load_iris\n",
    "from sklearn.tree import DecisionTreeClassifier\n",
    "\n",
    "import dtreeviz\n",
    "\n",
    "iris = load_iris()\n",
    "X = iris.data\n",
    "y = iris.target\n",
    "\n",
    "clf = DecisionTreeClassifier(max_depth=None)\n",
    "clf.fit(X, y)\n",
    "\n",
    "viz_model = dtreeviz.model(clf,\n",
    "                           X_train=X, y_train=y,\n",
    "                           feature_names=iris.feature_names,\n",
    "                           target_name='iris',\n",
    "                           class_names=iris.target_names)\n",
    "\n",
    "v = viz_model.view()     # render as SVG into internal object \n",
    "v.show()                 # pop up window"
   ]
  },
  {
   "cell_type": "code",
   "execution_count": 3,
   "id": "df6050fa",
   "metadata": {},
   "outputs": [
    {
     "name": "stderr",
     "output_type": "stream",
     "text": [
      "C:\\Users\\Acer\\AppData\\Local\\Temp\\ipykernel_23744\\3992300438.py:11: DeprecationWarning: DTreeVizRender.view() function is deprecated starting from version 2.0. \n",
      " Please use display() instead\n"
     ]
    }
   ],
   "source": [
    "from sklearn.datasets import fetch_california_housing\n",
    "data=fetch_california_housing()\n",
    "X=data.data\n",
    "y=data.target\n",
    "reg=DecisionTreeRegressor(max_depth=4)\n",
    "reg.fit(X,y)\n",
    "viz_model=dtreeviz.model(reg,\n",
    "                         X_train=X,\n",
    "                         y_train=y,)\n",
    "v=viz_model.view()\n",
    "v.view()"
   ]
  },
  {
   "cell_type": "markdown",
   "id": "1d3ef279",
   "metadata": {},
   "source": [
    "### **sHOW PREDICTION PATH**"
   ]
  },
  {
   "cell_type": "code",
   "execution_count": null,
   "id": "0d94c193",
   "metadata": {},
   "outputs": [],
   "source": [
    "import dtreeviz\n",
    "iris = load_iris()\n",
    "X = iris.data\n",
    "y = iris.target\n",
    "\n",
    "clf = DecisionTreeClassifier(max_depth=None)\n",
    "clf.fit(X, y)\n",
    "\n",
    "# Fix: Use only 4 features (iris has 4 features: sepal length, sepal width, petal length, petal width)\n",
    "x = [5.1, 3.5, 1.4, 0.2]  # Example iris sample with 4 features\n",
    "\n",
    "# Fix: Use the new dtreeviz API (version 2.0+)\n",
    "viz_model = dtreeviz.model(clf,\n",
    "                           X_train=X, \n",
    "                           y_train=y,\n",
    "                           feature_names=iris.feature_names,\n",
    "                           target_name='iris',\n",
    "                           class_names=list(iris.target_names),\n",
    "                           )\n",
    "\n",
    "# Visualize with prediction path highlighted and show node labels\n",
    "v = viz_model.view(x=x, show_node_labels=True,fancy=False)  # highlights prediction path and shows node labels\n",
    "'''\n",
    "faancy=False shows no garph'''\n",
    "v.show()  # pop up window"
   ]
  },
  {
   "cell_type": "markdown",
   "id": "f3a4a759",
   "metadata": {},
   "source": [
    "### **SHOW JUST PATH**"
   ]
  },
  {
   "cell_type": "code",
   "execution_count": 9,
   "id": "a4736bc5",
   "metadata": {},
   "outputs": [],
   "source": [
    "import dtreeviz\n",
    "iris = load_iris()\n",
    "X = iris.data\n",
    "y = iris.target\n",
    "\n",
    "clf = DecisionTreeClassifier(max_depth=None)\n",
    "clf.fit(X, y)\n",
    "\n",
    "# Fix: Use only 4 features (iris has 4 features: sepal length, sepal width, petal length, petal width)\n",
    "x = [0.1, 3.5, 3.4, 0.2]  # Example iris sample with 4 features\n",
    "\n",
    "# Fix: Use the new dtreeviz API (version 2.0+)\n",
    "viz_model = dtreeviz.model(clf,\n",
    "                           X_train=X, \n",
    "                           y_train=y,\n",
    "                           feature_names=iris.feature_names,\n",
    "                           target_name='iris',\n",
    "                           class_names=list(iris.target_names),\n",
    "                           )\n",
    "\n",
    "# Visualize with prediction path highlighted and show node labels\n",
    "v = viz_model.view(x=x, show_node_labels=True,show_just_path=True)  # highlights prediction path and shows node labels\\\n",
    "v.show()  # pop up window"
   ]
  },
  {
   "cell_type": "code",
   "execution_count": null,
   "id": "eb1127a6",
   "metadata": {},
   "outputs": [],
   "source": [
    "import numpy as np\n",
    "import matplotlib.pyplot as plt\n",
    "from mpl_toolkits.mplot3d import Axes3D\n",
    "from sklearn.tree import DecisionTreeRegressor\n",
    "from sklearn.datasets import make_regression\n",
    "from sklearn.model_selection import train_test_split\n",
    "\n",
    "# Create a synthetic dataset for 3D visualization\n",
    "# We'll use 2 features for X and Y axes, and target for Z axis\n",
    "X, y = make_regression(n_samples=200, n_features=2, noise=10, random_state=42)\n",
    "\n",
    "# Split the data\n",
    "X_train, X_test, y_train, y_test = train_test_split(X, y, test_size=0.3, random_state=42)\n",
    "\n",
    "# Create and train the decision tree regressor\n",
    "reg = DecisionTreeRegressor(max_depth=4, random_state=42)\n",
    "reg.fit(X_train, y_train)\n",
    "\n",
    "# Create a mesh grid for 3D surface\n",
    "x_min, x_max = X[:, 0].min() - 1, X[:, 0].max() + 1\n",
    "y_min, y_max = X[:, 1].min() - 1, X[:, 1].max() + 1\n",
    "\n",
    "xx, yy = np.meshgrid(np.linspace(x_min, x_max, 50),\n",
    "                     np.linspace(y_min, y_max, 50))\n",
    "\n",
    "# Predict on the mesh grid\n",
    "mesh_points = np.c_[xx.ravel(), yy.ravel()]\n",
    "Z = reg.predict(mesh_points)\n",
    "Z = Z.reshape(xx.shape)\n",
    "\n",
    "# Create 3D plot\n",
    "fig = plt.figure(figsize=(15, 5))\n",
    "\n",
    "# Plot 1: 3D Surface showing decision tree predictions\n",
    "ax1 = fig.add_subplot(131, projection='3d')\n",
    "surf = ax1.plot_surface(xx, yy, Z, alpha=0.6, cmap='viridis')\n",
    "ax1.scatter(X_train[:, 0], X_train[:, 1], y_train, c='red', s=20, label='Training Data')\n",
    "ax1.set_xlabel('Feature 1')\n",
    "ax1.set_ylabel('Feature 2')\n",
    "ax1.set_zlabel('Target Value')\n",
    "ax1.set_title('3D Decision Tree Regression Surface')\n",
    "ax1.legend()\n",
    "\n",
    "# Plot 2: Contour plot showing decision boundaries\n",
    "ax2 = fig.add_subplot(132)\n",
    "contour = ax2.contourf(xx, yy, Z, levels=20, alpha=0.8, cmap='viridis')\n",
    "ax2.scatter(X_train[:, 0], X_train[:, 1], c=y_train, s=20, cmap='viridis', edgecolors='black')\n",
    "ax2.set_xlabel('Feature 1')\n",
    "ax2.set_ylabel('Feature 2')\n",
    "ax2.set_title('Decision Tree Regression Contours')\n",
    "plt.colorbar(contour, ax=ax2)\n",
    "\n",
    "# Plot 3: 3D scatter with predictions\n",
    "ax3 = fig.add_subplot(133, projection='3d')\n",
    "y_pred = reg.predict(X_test)\n",
    "ax3.scatter(X_test[:, 0], X_test[:, 1], y_test, c='blue', s=30, label='Actual', alpha=0.7)\n",
    "ax3.scatter(X_test[:, 0], X_test[:, 1], y_pred, c='red', s=30, label='Predicted', alpha=0.7)\n",
    "ax3.set_xlabel('Feature 1')\n",
    "ax3.set_ylabel('Feature 2')\n",
    "ax3.set_zlabel('Target Value')\n",
    "ax3.set_title('Actual vs Predicted (Test Set)')\n",
    "ax3.legend()\n",
    "\n",
    "plt.tight_layout()\n",
    "plt.show()\n",
    "\n",
    "print(f\"Training Score: {reg.score(X_train, y_train):.3f}\")\n",
    "print(f\"Test Score: {reg.score(X_test, y_test):.3f}\")\n",
    "print(f\"Tree Depth: {reg.get_depth()}\")\n",
    "print(f\"Number of Leaves: {reg.get_n_leaves()}\")"
   ]
  },
  {
   "cell_type": "markdown",
   "id": "4584d00d",
   "metadata": {},
   "source": [
    "### **3D Regression Tree Visualization with dtreeviz**"
   ]
  },
  {
   "cell_type": "code",
   "execution_count": 10,
   "id": "eddf6200",
   "metadata": {},
   "outputs": [
    {
     "name": "stdout",
     "output_type": "stream",
     "text": [
      "\n",
      "California Housing Regression Tree:\n",
      "Tree Depth: 5\n",
      "Number of Leaves: 24\n",
      "R² Score: 0.802\n",
      "Features: ['MedInc', 'AveRooms', 'Latitude']\n",
      "Price range: $0.60k - $5.00k\n"
     ]
    }
   ],
   "source": [
    "# Alternative: Using California Housing dataset for real-world 3D regression tree visualization\n",
    "from sklearn.datasets import fetch_california_housing\n",
    "\n",
    "# Load California housing dataset\n",
    "housing = fetch_california_housing()\n",
    "X_housing = housing.data[:500]  # Use subset for better visualization\n",
    "y_housing = housing.target[:500]\n",
    "\n",
    "# Select 3 most important features for 3D visualization\n",
    "# Features: MedInc, AveRooms, Latitude\n",
    "selected_features = [0, 1, 6]  # MedInc, AveRooms, Latitude\n",
    "X_selected = X_housing[:, selected_features]\n",
    "feature_names_selected = ['MedInc', 'AveRooms', 'Latitude']\n",
    "\n",
    "# Create and train regression tree\n",
    "reg_housing = DecisionTreeRegressor(max_depth=5, min_samples_split=15, random_state=42)\n",
    "reg_housing.fit(X_selected, y_housing)\n",
    "\n",
    "# Create dtreeviz model\n",
    "viz_model_housing = dtreeviz.model(reg_housing,\n",
    "                                   X_train=X_selected, \n",
    "                                   y_train=y_housing,\n",
    "                                   feature_names=feature_names_selected,\n",
    "                                   target_name='House_Price')\n",
    "\n",
    "# Visualize the regression tree with 3D data\n",
    "v_housing = viz_model_housing.view(fancy=True, \n",
    "                                   show_node_labels=True,\n",
    "                                   orientation='TD')  # Top-Down orientation\n",
    "v_housing.show()\n",
    "\n",
    "print(f\"\\nCalifornia Housing Regression Tree:\")\n",
    "print(f\"Tree Depth: {reg_housing.get_depth()}\")\n",
    "print(f\"Number of Leaves: {reg_housing.get_n_leaves()}\")\n",
    "print(f\"R² Score: {reg_housing.score(X_selected, y_housing):.3f}\")\n",
    "print(f\"Features: {feature_names_selected}\")\n",
    "print(f\"Price range: ${y_housing.min():.2f}k - ${y_housing.max():.2f}k\")"
   ]
  },
  {
   "cell_type": "code",
   "execution_count": null,
   "id": "a9364d19",
   "metadata": {},
   "outputs": [],
   "source": []
  }
 ],
 "metadata": {
  "kernelspec": {
   "display_name": "Python 3",
   "language": "python",
   "name": "python3"
  },
  "language_info": {
   "codemirror_mode": {
    "name": "ipython",
    "version": 3
   },
   "file_extension": ".py",
   "mimetype": "text/x-python",
   "name": "python",
   "nbconvert_exporter": "python",
   "pygments_lexer": "ipython3",
   "version": "3.12.4"
  }
 },
 "nbformat": 4,
 "nbformat_minor": 5
}
