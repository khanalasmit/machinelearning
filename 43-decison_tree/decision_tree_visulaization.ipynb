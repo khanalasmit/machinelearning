{
 "cells": [
  {
   "cell_type": "code",
   "execution_count": 14,
   "id": "23dad33e",
   "metadata": {},
   "outputs": [],
   "source": [
    "from sklearn.datasets import load_iris\n",
    "from sklearn.tree import DecisionTreeClassifier,DecisionTreeRegressor\n",
    "from dtreeviz import dtreeviz\n",
    "import pandas as pd"
   ]
  },
  {
   "cell_type": "code",
   "execution_count": 17,
   "id": "dce5b1e3",
   "metadata": {},
   "outputs": [],
   "source": [
    "from sklearn.datasets import load_iris\n",
    "from sklearn.tree import DecisionTreeClassifier\n",
    "\n",
    "import dtreeviz\n",
    "\n",
    "iris = load_iris()\n",
    "X = iris.data\n",
    "y = iris.target\n",
    "\n",
    "clf = DecisionTreeClassifier(max_depth=None)\n",
    "clf.fit(X, y)\n",
    "\n",
    "viz_model = dtreeviz.model(clf,\n",
    "                           X_train=X, y_train=y,\n",
    "                           feature_names=iris.feature_names,\n",
    "                           target_name='iris',\n",
    "                           class_names=iris.target_names)\n",
    "\n",
    "v = viz_model.view()     # render as SVG into internal object \n",
    "v.show()                 # pop up window"
   ]
  },
  {
   "cell_type": "code",
   "execution_count": 7,
   "id": "df6050fa",
   "metadata": {},
   "outputs": [
    {
     "name": "stderr",
     "output_type": "stream",
     "text": [
      "C:\\Users\\Acer\\AppData\\Local\\Temp\\ipykernel_15884\\3992300438.py:11: DeprecationWarning: DTreeVizRender.view() function is deprecated starting from version 2.0. \n",
      " Please use display() instead\n"
     ]
    }
   ],
   "source": [
    "from sklearn.datasets import fetch_california_housing\n",
    "data=fetch_california_housing()\n",
    "X=data.data\n",
    "y=data.target\n",
    "reg=DecisionTreeRegressor(max_depth=4)\n",
    "reg.fit(X,y)\n",
    "viz_model=dtreeviz.model(reg,\n",
    "                         X_train=X,\n",
    "                         y_train=y,)\n",
    "v=viz_model.view()\n",
    "v.view()"
   ]
  },
  {
   "cell_type": "markdown",
   "id": "1d3ef279",
   "metadata": {},
   "source": [
    "### **sHOW PREDICTION PATH**"
   ]
  },
  {
   "cell_type": "code",
   "execution_count": 18,
   "id": "0d94c193",
   "metadata": {},
   "outputs": [],
   "source": [
    "import dtreeviz\n",
    "iris = load_iris()\n",
    "X = iris.data\n",
    "y = iris.target\n",
    "\n",
    "clf = DecisionTreeClassifier(max_depth=None)\n",
    "clf.fit(X, y)\n",
    "\n",
    "# Fix: Use only 4 features (iris has 4 features: sepal length, sepal width, petal length, petal width)\n",
    "x = [5.1, 3.5, 1.4, 0.2]  # Example iris sample with 4 features\n",
    "\n",
    "# Fix: Use the new dtreeviz API (version 2.0+)\n",
    "viz_model = dtreeviz.model(clf,\n",
    "                           X_train=X, \n",
    "                           y_train=y,\n",
    "                           feature_names=iris.feature_names,\n",
    "                           target_name='iris',\n",
    "                           class_names=list(iris.target_names))\n",
    "\n",
    "# Visualize with prediction path highlighted\n",
    "v = viz_model.view(x=x)  # highlights prediction path\n",
    "v.show()  # pop up window"
   ]
  },
  {
   "cell_type": "code",
   "execution_count": null,
   "id": "a4736bc5",
   "metadata": {},
   "outputs": [],
   "source": []
  }
 ],
 "metadata": {
  "kernelspec": {
   "display_name": "Python 3",
   "language": "python",
   "name": "python3"
  },
  "language_info": {
   "codemirror_mode": {
    "name": "ipython",
    "version": 3
   },
   "file_extension": ".py",
   "mimetype": "text/x-python",
   "name": "python",
   "nbconvert_exporter": "python",
   "pygments_lexer": "ipython3",
   "version": "3.12.4"
  }
 },
 "nbformat": 4,
 "nbformat_minor": 5
}
