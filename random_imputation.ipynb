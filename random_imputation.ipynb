{
 "cells": [
  {
   "cell_type": "markdown",
   "id": "701598bf",
   "metadata": {},
   "source": [
    "### **RANDOM IMPUTATION**\n"
   ]
  },
  {
   "cell_type": "markdown",
   "id": "c2530d36",
   "metadata": {},
   "source": [
    "Randomly select the data from the number for the imputation. "
   ]
  },
  {
   "cell_type": "markdown",
   "id": "200b985e",
   "metadata": {},
   "source": [
    "For a distribution with the certain distribution, probality of slection of ceratin data will be high and certain will be low. So when radnomly slecting, data will be selected according to the porbablity thus there will be no change in distribution. \\\n",
    "<u> **Some of the advantages of the random imputation are:**</u>\n",
    "1. Preserves varience of the data\n",
    "2. Memory heavy for deployment as we need to store the original training set to extract values from and replace the NA in coming observations.\n",
    "3. Well suited for linear model as it doesnot distrub the distribution. \n"
   ]
  },
  {
   "cell_type": "markdown",
   "id": "88fdc2d8",
   "metadata": {},
   "source": [
    "It does not work better in the decision tree like alogotihtm but work better in the linear models.\\\n",
    "It distrubs the covarience of the data."
   ]
  },
  {
   "cell_type": "code",
   "execution_count": 25,
   "id": "f7d33952",
   "metadata": {},
   "outputs": [],
   "source": [
    "import numpy as np \n",
    "import pandas as pd\n",
    "import matplotlib.pyplot as plt\n",
    "import seaborn as sns\n"
   ]
  },
  {
   "cell_type": "code",
   "execution_count": 26,
   "id": "4bcaa1a0",
   "metadata": {},
   "outputs": [],
   "source": [
    "data=sns.load_dataset('titanic')"
   ]
  },
  {
   "cell_type": "code",
   "execution_count": 27,
   "id": "e1f15e7e",
   "metadata": {},
   "outputs": [],
   "source": [
    "data=data[['age','fare','survived']]"
   ]
  },
  {
   "cell_type": "code",
   "execution_count": 28,
   "id": "84c55b57",
   "metadata": {},
   "outputs": [
    {
     "data": {
      "text/html": [
       "<div>\n",
       "<style scoped>\n",
       "    .dataframe tbody tr th:only-of-type {\n",
       "        vertical-align: middle;\n",
       "    }\n",
       "\n",
       "    .dataframe tbody tr th {\n",
       "        vertical-align: top;\n",
       "    }\n",
       "\n",
       "    .dataframe thead th {\n",
       "        text-align: right;\n",
       "    }\n",
       "</style>\n",
       "<table border=\"1\" class=\"dataframe\">\n",
       "  <thead>\n",
       "    <tr style=\"text-align: right;\">\n",
       "      <th></th>\n",
       "      <th>age</th>\n",
       "      <th>fare</th>\n",
       "      <th>survived</th>\n",
       "    </tr>\n",
       "  </thead>\n",
       "  <tbody>\n",
       "    <tr>\n",
       "      <th>0</th>\n",
       "      <td>22.0</td>\n",
       "      <td>7.2500</td>\n",
       "      <td>0</td>\n",
       "    </tr>\n",
       "    <tr>\n",
       "      <th>1</th>\n",
       "      <td>38.0</td>\n",
       "      <td>71.2833</td>\n",
       "      <td>1</td>\n",
       "    </tr>\n",
       "    <tr>\n",
       "      <th>2</th>\n",
       "      <td>26.0</td>\n",
       "      <td>7.9250</td>\n",
       "      <td>1</td>\n",
       "    </tr>\n",
       "    <tr>\n",
       "      <th>3</th>\n",
       "      <td>35.0</td>\n",
       "      <td>53.1000</td>\n",
       "      <td>1</td>\n",
       "    </tr>\n",
       "    <tr>\n",
       "      <th>4</th>\n",
       "      <td>35.0</td>\n",
       "      <td>8.0500</td>\n",
       "      <td>0</td>\n",
       "    </tr>\n",
       "  </tbody>\n",
       "</table>\n",
       "</div>"
      ],
      "text/plain": [
       "    age     fare  survived\n",
       "0  22.0   7.2500         0\n",
       "1  38.0  71.2833         1\n",
       "2  26.0   7.9250         1\n",
       "3  35.0  53.1000         1\n",
       "4  35.0   8.0500         0"
      ]
     },
     "execution_count": 28,
     "metadata": {},
     "output_type": "execute_result"
    }
   ],
   "source": [
    "data.head(\n",
    "    \n",
    ")"
   ]
  },
  {
   "cell_type": "code",
   "execution_count": 29,
   "id": "72539f49",
   "metadata": {},
   "outputs": [
    {
     "name": "stdout",
     "output_type": "stream",
     "text": [
      "<class 'pandas.core.frame.DataFrame'>\n",
      "RangeIndex: 891 entries, 0 to 890\n",
      "Data columns (total 3 columns):\n",
      " #   Column    Non-Null Count  Dtype  \n",
      "---  ------    --------------  -----  \n",
      " 0   age       714 non-null    float64\n",
      " 1   fare      891 non-null    float64\n",
      " 2   survived  891 non-null    int64  \n",
      "dtypes: float64(2), int64(1)\n",
      "memory usage: 21.0 KB\n"
     ]
    }
   ],
   "source": [
    "data.info()"
   ]
  },
  {
   "cell_type": "code",
   "execution_count": 30,
   "id": "085de65c",
   "metadata": {},
   "outputs": [
    {
     "data": {
      "text/plain": [
       "age         177\n",
       "fare          0\n",
       "survived      0\n",
       "dtype: int64"
      ]
     },
     "execution_count": 30,
     "metadata": {},
     "output_type": "execute_result"
    }
   ],
   "source": [
    "data.isnull().sum()"
   ]
  },
  {
   "cell_type": "code",
   "execution_count": 31,
   "id": "ce2d19e4",
   "metadata": {},
   "outputs": [
    {
     "data": {
      "text/plain": [
       "age         19.86532\n",
       "fare         0.00000\n",
       "survived     0.00000\n",
       "dtype: float64"
      ]
     },
     "execution_count": 31,
     "metadata": {},
     "output_type": "execute_result"
    }
   ],
   "source": [
    "#to find the  \n",
    "data.isnull().mean()*100"
   ]
  },
  {
   "cell_type": "code",
   "execution_count": 32,
   "id": "2df71ca8",
   "metadata": {},
   "outputs": [],
   "source": [
    "data['age_imputed']=data['age']"
   ]
  },
  {
   "cell_type": "code",
   "execution_count": 33,
   "id": "84dda41a",
   "metadata": {},
   "outputs": [],
   "source": [
    "# Replace missing values in 'age_imputed' with random samples from non-missing 'age' values\n",
    "data.loc[data['age'].isnull(), 'age_imputed'] = data['age'].dropna().sample(data['age'].isnull().sum(), random_state=42).values\n"
   ]
  },
  {
   "cell_type": "code",
   "execution_count": 34,
   "id": "930fde3b",
   "metadata": {},
   "outputs": [
    {
     "data": {
      "text/plain": [
       "age            177\n",
       "fare             0\n",
       "survived         0\n",
       "age_imputed      0\n",
       "dtype: int64"
      ]
     },
     "execution_count": 34,
     "metadata": {},
     "output_type": "execute_result"
    }
   ],
   "source": [
    "data.isnull().sum()"
   ]
  },
  {
   "cell_type": "code",
   "execution_count": 35,
   "id": "51769ea1",
   "metadata": {},
   "outputs": [
    {
     "name": "stdout",
     "output_type": "stream",
     "text": [
      "<class 'pandas.core.frame.DataFrame'>\n",
      "RangeIndex: 891 entries, 0 to 890\n",
      "Data columns (total 4 columns):\n",
      " #   Column       Non-Null Count  Dtype  \n",
      "---  ------       --------------  -----  \n",
      " 0   age          714 non-null    float64\n",
      " 1   fare         891 non-null    float64\n",
      " 2   survived     891 non-null    int64  \n",
      " 3   age_imputed  891 non-null    float64\n",
      "dtypes: float64(3), int64(1)\n",
      "memory usage: 28.0 KB\n"
     ]
    }
   ],
   "source": [
    "data.info()"
   ]
  },
  {
   "cell_type": "code",
   "execution_count": 36,
   "id": "f3268866",
   "metadata": {},
   "outputs": [
    {
     "name": "stderr",
     "output_type": "stream",
     "text": [
      "C:\\Users\\Acer\\AppData\\Local\\Temp\\ipykernel_17568\\3249185958.py:4: UserWarning: No artists with labels found to put in legend.  Note that artists whose label start with an underscore are ignored when legend() is called with no argument.\n",
      "  plt.legend()\n"
     ]
    },
    {
     "data": {
      "text/plain": [
       "<matplotlib.legend.Legend at 0x20238ec1370>"
      ]
     },
     "execution_count": 36,
     "metadata": {},
     "output_type": "execute_result"
    },
    {
     "data": {
      "image/png": "[encoded data removed]",
      "text/plain": [
       "<Figure size 640x480 with 1 Axes>"
      ]
     },
     "metadata": {},
     "output_type": "display_data"
    }
   ],
   "source": [
    "plt.figure()\n",
    "sns.kdeplot(data=data[['age','age_imputed']])\n",
    "#sns.displot(data=data,x='age_imputed',label='after imputation')\n",
    "plt.legend()"
   ]
  },
  {
   "cell_type": "code",
   "execution_count": 37,
   "id": "c849cb9c",
   "metadata": {},
   "outputs": [
    {
     "name": "stdout",
     "output_type": "stream",
     "text": [
      "Original: 211.01912474630802\n",
      "After_imputation: 204.35522894437509\n"
     ]
    }
   ],
   "source": [
    "#comparison of varience before and after\n",
    "print(\"Original:\",data['age'].var()) \n",
    "print('After_imputation:',data['age_imputed'].var()) \n",
    "\n"
   ]
  },
  {
   "cell_type": "markdown",
   "id": "e1f16c65",
   "metadata": {},
   "source": [
    "Here we can see there is not much difference in the varience before and after the imputation."
   ]
  },
  {
   "cell_type": "code",
   "execution_count": 38,
   "id": "dba6fbf6",
   "metadata": {},
   "outputs": [
    {
     "data": {
      "text/plain": [
       "<Axes: >"
      ]
     },
     "execution_count": 38,
     "metadata": {},
     "output_type": "execute_result"
    },
    {
     "data": {
      "image/png": "[encoded data removed]",
      "text/plain": [
       "<Figure size 640x480 with 1 Axes>"
      ]
     },
     "metadata": {},
     "output_type": "display_data"
    }
   ],
   "source": [
    "data[['age','age_imputed']].boxplot()"
   ]
  },
  {
   "cell_type": "code",
   "execution_count": 39,
   "id": "388dabf7",
   "metadata": {},
   "outputs": [],
   "source": [
    "url='https://raw.githubusercontent.com/campusx-official/100-days-of-machine-learning/main/day38-missing-indicator/house-train.csv'\n",
    "housing_data=pd.read_csv(url)"
   ]
  },
  {
   "cell_type": "code",
   "execution_count": 40,
   "id": "23673490",
   "metadata": {},
   "outputs": [
    {
     "data": {
      "text/html": [
       "<div>\n",
       "<style scoped>\n",
       "    .dataframe tbody tr th:only-of-type {\n",
       "        vertical-align: middle;\n",
       "    }\n",
       "\n",
       "    .dataframe tbody tr th {\n",
       "        vertical-align: top;\n",
       "    }\n",
       "\n",
       "    .dataframe thead th {\n",
       "        text-align: right;\n",
       "    }\n",
       "</style>\n",
       "<table border=\"1\" class=\"dataframe\">\n",
       "  <thead>\n",
       "    <tr style=\"text-align: right;\">\n",
       "      <th></th>\n",
       "      <th>GarageQual</th>\n",
       "      <th>FireplaceQu</th>\n",
       "      <th>SalePrice</th>\n",
       "    </tr>\n",
       "  </thead>\n",
       "  <tbody>\n",
       "    <tr>\n",
       "      <th>0</th>\n",
       "      <td>TA</td>\n",
       "      <td>NaN</td>\n",
       "      <td>208500</td>\n",
       "    </tr>\n",
       "    <tr>\n",
       "      <th>1</th>\n",
       "      <td>TA</td>\n",
       "      <td>TA</td>\n",
       "      <td>181500</td>\n",
       "    </tr>\n",
       "    <tr>\n",
       "      <th>2</th>\n",
       "      <td>TA</td>\n",
       "      <td>TA</td>\n",
       "      <td>223500</td>\n",
       "    </tr>\n",
       "    <tr>\n",
       "      <th>3</th>\n",
       "      <td>TA</td>\n",
       "      <td>Gd</td>\n",
       "      <td>140000</td>\n",
       "    </tr>\n",
       "    <tr>\n",
       "      <th>4</th>\n",
       "      <td>TA</td>\n",
       "      <td>TA</td>\n",
       "      <td>250000</td>\n",
       "    </tr>\n",
       "  </tbody>\n",
       "</table>\n",
       "</div>"
      ],
      "text/plain": [
       "  GarageQual FireplaceQu  SalePrice\n",
       "0         TA         NaN     208500\n",
       "1         TA          TA     181500\n",
       "2         TA          TA     223500\n",
       "3         TA          Gd     140000\n",
       "4         TA          TA     250000"
      ]
     },
     "execution_count": 40,
     "metadata": {},
     "output_type": "execute_result"
    }
   ],
   "source": [
    "housing_data=housing_data[['GarageQual','FireplaceQu','SalePrice']]\n",
    "housing_data.head()"
   ]
  },
  {
   "cell_type": "code",
   "execution_count": 41,
   "id": "e7edac26",
   "metadata": {},
   "outputs": [
    {
     "name": "stdout",
     "output_type": "stream",
     "text": [
      "GarageQual      81\n",
      "FireplaceQu    690\n",
      "SalePrice        0\n",
      "dtype: int64\n"
     ]
    }
   ],
   "source": [
    "print(housing_data.isnull().sum())"
   ]
  },
  {
   "cell_type": "code",
   "execution_count": 42,
   "id": "3f963dd1",
   "metadata": {},
   "outputs": [],
   "source": [
    "housing_data['FireplaceQu_imputed'] = housing_data['FireplaceQu']\n",
    "housing_data['GarageQual_imputed'] = housing_data['GarageQual']\n",
    "\n",
    "housing_data.loc[housing_data['GarageQual'].isnull(), 'GarageQual_imputed'] = (\n",
    "    housing_data['GarageQual'].dropna().sample(\n",
    "        housing_data['GarageQual'].isnull().sum(),\n",
    "        replace=True,  # This line is critical\n",
    "        random_state=42\n",
    "    ).values\n",
    ")\n",
    "\n",
    "housing_data.loc[housing_data['FireplaceQu'].isnull(), 'FireplaceQu_imputed'] = (\n",
    "    housing_data['FireplaceQu'].dropna().sample(\n",
    "        housing_data['FireplaceQu'].isnull().sum(),\n",
    "        replace=True,  # This line is critical\n",
    "        random_state=42\n",
    "    ).values\n",
    ")\n"
   ]
  },
  {
   "cell_type": "code",
   "execution_count": 43,
   "id": "00674767",
   "metadata": {},
   "outputs": [
    {
     "data": {
      "text/html": [
       "<div>\n",
       "<style scoped>\n",
       "    .dataframe tbody tr th:only-of-type {\n",
       "        vertical-align: middle;\n",
       "    }\n",
       "\n",
       "    .dataframe tbody tr th {\n",
       "        vertical-align: top;\n",
       "    }\n",
       "\n",
       "    .dataframe thead th {\n",
       "        text-align: right;\n",
       "    }\n",
       "</style>\n",
       "<table border=\"1\" class=\"dataframe\">\n",
       "  <thead>\n",
       "    <tr style=\"text-align: right;\">\n",
       "      <th></th>\n",
       "      <th>GarageQual</th>\n",
       "      <th>FireplaceQu</th>\n",
       "      <th>SalePrice</th>\n",
       "      <th>FireplaceQu_imputed</th>\n",
       "      <th>GarageQual_imputed</th>\n",
       "    </tr>\n",
       "  </thead>\n",
       "  <tbody>\n",
       "    <tr>\n",
       "      <th>0</th>\n",
       "      <td>TA</td>\n",
       "      <td>NaN</td>\n",
       "      <td>208500</td>\n",
       "      <td>Gd</td>\n",
       "      <td>TA</td>\n",
       "    </tr>\n",
       "    <tr>\n",
       "      <th>1</th>\n",
       "      <td>TA</td>\n",
       "      <td>TA</td>\n",
       "      <td>181500</td>\n",
       "      <td>TA</td>\n",
       "      <td>TA</td>\n",
       "    </tr>\n",
       "  </tbody>\n",
       "</table>\n",
       "</div>"
      ],
      "text/plain": [
       "  GarageQual FireplaceQu  SalePrice FireplaceQu_imputed GarageQual_imputed\n",
       "0         TA         NaN     208500                  Gd                 TA\n",
       "1         TA          TA     181500                  TA                 TA"
      ]
     },
     "execution_count": 43,
     "metadata": {},
     "output_type": "execute_result"
    }
   ],
   "source": [
    "housing_data.head(2)"
   ]
  },
  {
   "cell_type": "code",
   "execution_count": 44,
   "id": "3db0b8bd",
   "metadata": {},
   "outputs": [
    {
     "data": {
      "text/plain": [
       "GarageQual              81\n",
       "FireplaceQu            690\n",
       "SalePrice                0\n",
       "FireplaceQu_imputed      0\n",
       "GarageQual_imputed       0\n",
       "dtype: int64"
      ]
     },
     "execution_count": 44,
     "metadata": {},
     "output_type": "execute_result"
    }
   ],
   "source": [
    "housing_data.isnull().sum()"
   ]
  },
  {
   "cell_type": "code",
   "execution_count": null,
   "id": "f473a01a",
   "metadata": {},
   "outputs": [],
   "source": [
    "temp=pd.concat(\n",
    "    [\n",
    "        housing_data['GarageQual'].value_counts()/len(housing_data['GarageQual'].dropna()),\n",
    "        housing_data['GarageQual_imputed'].value_counts()/len(housing_data)\n",
    "    ],\n",
    "    axis=1\n",
    "    \n",
    ")\n",
    "temp.columns=['original','imputed']"
   ]
  },
  {
   "cell_type": "code",
   "execution_count": 46,
   "id": "5af9efe3",
   "metadata": {},
   "outputs": [
    {
     "data": {
      "text/html": [
       "<div>\n",
       "<style scoped>\n",
       "    .dataframe tbody tr th:only-of-type {\n",
       "        vertical-align: middle;\n",
       "    }\n",
       "\n",
       "    .dataframe tbody tr th {\n",
       "        vertical-align: top;\n",
       "    }\n",
       "\n",
       "    .dataframe thead th {\n",
       "        text-align: right;\n",
       "    }\n",
       "</style>\n",
       "<table border=\"1\" class=\"dataframe\">\n",
       "  <thead>\n",
       "    <tr style=\"text-align: right;\">\n",
       "      <th></th>\n",
       "      <th>original</th>\n",
       "      <th>imputed</th>\n",
       "    </tr>\n",
       "  </thead>\n",
       "  <tbody>\n",
       "    <tr>\n",
       "      <th>TA</th>\n",
       "      <td>0.950689</td>\n",
       "      <td>0.952055</td>\n",
       "    </tr>\n",
       "    <tr>\n",
       "      <th>Fa</th>\n",
       "      <td>0.034808</td>\n",
       "      <td>0.034247</td>\n",
       "    </tr>\n",
       "    <tr>\n",
       "      <th>Gd</th>\n",
       "      <td>0.010152</td>\n",
       "      <td>0.009589</td>\n",
       "    </tr>\n",
       "    <tr>\n",
       "      <th>Ex</th>\n",
       "      <td>0.002175</td>\n",
       "      <td>0.002055</td>\n",
       "    </tr>\n",
       "    <tr>\n",
       "      <th>Po</th>\n",
       "      <td>0.002175</td>\n",
       "      <td>0.002055</td>\n",
       "    </tr>\n",
       "  </tbody>\n",
       "</table>\n",
       "</div>"
      ],
      "text/plain": [
       "    original   imputed\n",
       "TA  0.950689  0.952055\n",
       "Fa  0.034808  0.034247\n",
       "Gd  0.010152  0.009589\n",
       "Ex  0.002175  0.002055\n",
       "Po  0.002175  0.002055"
      ]
     },
     "execution_count": 46,
     "metadata": {},
     "output_type": "execute_result"
    }
   ],
   "source": [
    "temp"
   ]
  },
  {
   "cell_type": "code",
   "execution_count": 47,
   "id": "c85a6d91",
   "metadata": {},
   "outputs": [],
   "source": [
    "temp=pd.concat(\n",
    "    [\n",
    "        housing_data['FireplaceQu'].value_counts()/len(housing_data['FireplaceQu'].dropna()),\n",
    "        housing_data['FireplaceQu_imputed'].value_counts()/len(housing_data)\n",
    "    ],\n",
    "    axis=1\n",
    "    \n",
    ")\n",
    "temp.columns=['original','imputed']"
   ]
  },
  {
   "cell_type": "code",
   "execution_count": 48,
   "id": "95614938",
   "metadata": {},
   "outputs": [
    {
     "data": {
      "text/html": [
       "<div>\n",
       "<style scoped>\n",
       "    .dataframe tbody tr th:only-of-type {\n",
       "        vertical-align: middle;\n",
       "    }\n",
       "\n",
       "    .dataframe tbody tr th {\n",
       "        vertical-align: top;\n",
       "    }\n",
       "\n",
       "    .dataframe thead th {\n",
       "        text-align: right;\n",
       "    }\n",
       "</style>\n",
       "<table border=\"1\" class=\"dataframe\">\n",
       "  <thead>\n",
       "    <tr style=\"text-align: right;\">\n",
       "      <th></th>\n",
       "      <th>original</th>\n",
       "      <th>imputed</th>\n",
       "    </tr>\n",
       "  </thead>\n",
       "  <tbody>\n",
       "    <tr>\n",
       "      <th>Gd</th>\n",
       "      <td>0.493506</td>\n",
       "      <td>0.480822</td>\n",
       "    </tr>\n",
       "    <tr>\n",
       "      <th>TA</th>\n",
       "      <td>0.406494</td>\n",
       "      <td>0.421918</td>\n",
       "    </tr>\n",
       "    <tr>\n",
       "      <th>Fa</th>\n",
       "      <td>0.042857</td>\n",
       "      <td>0.039041</td>\n",
       "    </tr>\n",
       "    <tr>\n",
       "      <th>Ex</th>\n",
       "      <td>0.031169</td>\n",
       "      <td>0.035616</td>\n",
       "    </tr>\n",
       "    <tr>\n",
       "      <th>Po</th>\n",
       "      <td>0.025974</td>\n",
       "      <td>0.022603</td>\n",
       "    </tr>\n",
       "  </tbody>\n",
       "</table>\n",
       "</div>"
      ],
      "text/plain": [
       "    original   imputed\n",
       "Gd  0.493506  0.480822\n",
       "TA  0.406494  0.421918\n",
       "Fa  0.042857  0.039041\n",
       "Ex  0.031169  0.035616\n",
       "Po  0.025974  0.022603"
      ]
     },
     "execution_count": 48,
     "metadata": {},
     "output_type": "execute_result"
    }
   ],
   "source": [
    "temp"
   ]
  },
  {
   "cell_type": "markdown",
   "id": "48cedcbb",
   "metadata": {},
   "source": [
    "The dataframes were constructed to show the change in the distrubution of the categories before and after the iumputation. With the random impuatation we can see that the distribution are also same in case of both of the columns."
   ]
  },
  {
   "cell_type": "code",
   "execution_count": 51,
   "id": "cf255ef5",
   "metadata": {},
   "outputs": [
    {
     "data": {
      "image/png": "[encoded data removed]",
      "text/plain": [
       "<Figure size 640x480 with 1 Axes>"
      ]
     },
     "metadata": {},
     "output_type": "display_data"
    }
   ],
   "source": [
    "for category in housing_data['FireplaceQu'].dropna().unique():\n",
    "    sns.kdeplot(housing_data[housing_data['FireplaceQu']==category]['SalePrice'])\n",
    "\n"
   ]
  },
  {
   "cell_type": "code",
   "execution_count": 52,
   "id": "120f43c9",
   "metadata": {},
   "outputs": [
    {
     "data": {
      "image/png": "[encoded data removed]",
      "text/plain": [
       "<Figure size 640x480 with 1 Axes>"
      ]
     },
     "metadata": {},
     "output_type": "display_data"
    }
   ],
   "source": [
    "for category in housing_data['FireplaceQu_imputed'].dropna().unique():\n",
    "    sns.kdeplot(housing_data[housing_data['FireplaceQu_imputed']==category]['SalePrice'])\n",
    "\n"
   ]
  },
  {
   "cell_type": "markdown",
   "id": "8fbef784",
   "metadata": {},
   "source": [
    "Here the distribution of the sale price changes after the imputation thus we would not use the random imputation for FireplaceQu for the linearmodel."
   ]
  },
  {
   "cell_type": "code",
   "execution_count": null,
   "id": "11d8f97f",
   "metadata": {},
   "outputs": [],
   "source": []
  }
 ],
 "metadata": {
  "kernelspec": {
   "display_name": "Python 3",
   "language": "python",
   "name": "python3"
  },
  "language_info": {
   "codemirror_mode": {
    "name": "ipython",
    "version": 3
   },
   "file_extension": ".py",
   "mimetype": "text/x-python",
   "name": "python",
   "nbconvert_exporter": "python",
   "pygments_lexer": "ipython3",
   "version": "3.12.4"
  }
 },
 "nbformat": 4,
 "nbformat_minor": 5
}
