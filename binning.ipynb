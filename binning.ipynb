{
 "cells": [
  {
   "cell_type": "markdown",
   "id": "a6363a26",
   "metadata": {},
   "source": [
    "## **ENCODING NUMERICAL FEATURES**"
   ]
  },
  {
   "cell_type": "markdown",
   "id": "569b83a6",
   "metadata": {},
   "source": [
    "The numerical categories may have the wide range. In such cases numrical features of the data are grouped into the catergories of range of values."
   ]
  },
  {
   "cell_type": "markdown",
   "id": "6ba7d451",
   "metadata": {},
   "source": [
    "### **Techniques used are**\n",
    "* **Discretization**\n",
    "* **Binning**"
   ]
  },
  {
   "cell_type": "markdown",
   "id": "6e3671db",
   "metadata": {},
   "source": [
    "#### **1.DISCRETIZATION**"
   ]
  },
  {
   "cell_type": "markdown",
   "id": "0c887a9b",
   "metadata": {},
   "source": [
    "Discretization is the process of transforming continious variable into discrete variables by creating set of contigious intervals that span the range of the variable's value. Discretization is also called binning, where bin is an aleternative name for interval.\n",
    "\n",
    "Why use Discretization:\n",
    "1. To handle outliers\n",
    "2. To improve the value spread"
   ]
  },
  {
   "cell_type": "markdown",
   "id": "85ac83eb",
   "metadata": {},
   "source": [
    "Suppose we have the column name age \n",
    "Age:\n",
    "23,24,33,45,33,22,53,44\\\n",
    "After the discretization or binning we create the bin:\n",
    "|**Age**|20-30|30-40|40-50|50-60|\n",
    "|--|--|--|--|--|\n",
    "|**Frequency**|3|3|2|1|"
   ]
  },
  {
   "cell_type": "markdown",
   "id": "5e05c4a1",
   "metadata": {},
   "source": [
    "Above example shows the discretization of the age. \n",
    "Here we assume that the value which is missing will be assumed same as its negihbour. Thus it handle the outliers."
   ]
  },
  {
   "cell_type": "markdown",
   "id": "250f706b",
   "metadata": {},
   "source": [
    "### 1.1 **Types of Discretization**"
   ]
  },
  {
   "cell_type": "markdown",
   "id": "57ef4105",
   "metadata": {},
   "source": [
    "* Unsupervise Binning\n",
    "    - equal width binning(uniform binning)\n",
    "    - equal frequency(quantile) binning\n",
    "    - Kmeans binning\n",
    "* Supervised Binning\n",
    "    - Decision Tree binning\n",
    "* Coustom Binning"
   ]
  },
  {
   "cell_type": "markdown",
   "id": "f51efcac",
   "metadata": {},
   "source": [
    "#### Equal width binning\n",
    "Suppose we have age data:\n",
    "20,21,24,31,33,44,36,75\n",
    "Then we give the number of bins:\n",
    "bin=10(let)\n",
    "$number of intervals=  \\frac{max-min}{bins}$"
   ]
  },
  {
   "cell_type": "markdown",
   "id": "03163bb7",
   "metadata": {},
   "source": [
    "Here for the every intervals there is equal width thus it is called equal width.\n",
    "- There will be no change of the spread of the data"
   ]
  },
  {
   "cell_type": "markdown",
   "id": "a606b572",
   "metadata": {},
   "source": [
    "#### Equal Frequecy binning\n",
    "![image](images/efbin.png)"
   ]
  },
  {
   "cell_type": "markdown",
   "id": "44fba16d",
   "metadata": {},
   "source": [
    "Suppoe we need ten bins then we keep 10% of the total observations in each bins thus we may have the unequal width of bins as in the above picture. \n",
    "- it is useful in case of outliers\n",
    "- it make the spread uniform"
   ]
  },
  {
   "cell_type": "markdown",
   "id": "d7cbe4ea",
   "metadata": {},
   "source": [
    "#### KMeans binning"
   ]
  },
  {
   "cell_type": "markdown",
   "id": "765c5c56",
   "metadata": {},
   "source": [
    "Makes the clusters of the values which are the groped. Clsuters are formed as per the distance i.e nearest neighbourhood.\n",
    "<br><p style='color:green'>\n",
    "We assign centroids randomly which are<br>          &darr;<br> Then we make the bisecting lines in between the intervals<br>          &darr;<br> Then group each into a group.<br></p>\n",
    " We may also do something like k mean clustering. "
   ]
  },
  {
   "cell_type": "code",
   "execution_count": 1,
   "id": "7bc867ca",
   "metadata": {},
   "outputs": [],
   "source": [
    "import pandas as pd\n",
    "import numpy as np\n",
    "import matplotlib.pyplot as plt\n",
    "import seaborn as sns \n",
    "from sklearn.model_selection import train_test_split,cross_val_score\n",
    "from sklearn.preprocessing import KBinsDiscretizer\n",
    "from sklearn.tree import DecisionTreeClassifier\n",
    "from sklearn.metrics import accuracy_score\n",
    "from sklearn.compose import ColumnTransformer"
   ]
  },
  {
   "cell_type": "code",
   "execution_count": 2,
   "id": "6d196a24",
   "metadata": {},
   "outputs": [],
   "source": [
    "titanic=sns.load_dataset('titanic')"
   ]
  },
  {
   "cell_type": "code",
   "execution_count": 3,
   "id": "654f82e9",
   "metadata": {},
   "outputs": [],
   "source": [
    "titanic=titanic[['age','fare','survived']]"
   ]
  },
  {
   "cell_type": "code",
   "execution_count": 4,
   "id": "f1fcbf23",
   "metadata": {},
   "outputs": [
    {
     "data": {
      "text/html": [
       "<div>\n",
       "<style scoped>\n",
       "    .dataframe tbody tr th:only-of-type {\n",
       "        vertical-align: middle;\n",
       "    }\n",
       "\n",
       "    .dataframe tbody tr th {\n",
       "        vertical-align: top;\n",
       "    }\n",
       "\n",
       "    .dataframe thead th {\n",
       "        text-align: right;\n",
       "    }\n",
       "</style>\n",
       "<table border=\"1\" class=\"dataframe\">\n",
       "  <thead>\n",
       "    <tr style=\"text-align: right;\">\n",
       "      <th></th>\n",
       "      <th>age</th>\n",
       "      <th>fare</th>\n",
       "      <th>survived</th>\n",
       "    </tr>\n",
       "  </thead>\n",
       "  <tbody>\n",
       "    <tr>\n",
       "      <th>0</th>\n",
       "      <td>22.0</td>\n",
       "      <td>7.2500</td>\n",
       "      <td>0</td>\n",
       "    </tr>\n",
       "    <tr>\n",
       "      <th>1</th>\n",
       "      <td>38.0</td>\n",
       "      <td>71.2833</td>\n",
       "      <td>1</td>\n",
       "    </tr>\n",
       "    <tr>\n",
       "      <th>2</th>\n",
       "      <td>26.0</td>\n",
       "      <td>7.9250</td>\n",
       "      <td>1</td>\n",
       "    </tr>\n",
       "    <tr>\n",
       "      <th>3</th>\n",
       "      <td>35.0</td>\n",
       "      <td>53.1000</td>\n",
       "      <td>1</td>\n",
       "    </tr>\n",
       "    <tr>\n",
       "      <th>4</th>\n",
       "      <td>35.0</td>\n",
       "      <td>8.0500</td>\n",
       "      <td>0</td>\n",
       "    </tr>\n",
       "  </tbody>\n",
       "</table>\n",
       "</div>"
      ],
      "text/plain": [
       "    age     fare  survived\n",
       "0  22.0   7.2500         0\n",
       "1  38.0  71.2833         1\n",
       "2  26.0   7.9250         1\n",
       "3  35.0  53.1000         1\n",
       "4  35.0   8.0500         0"
      ]
     },
     "execution_count": 4,
     "metadata": {},
     "output_type": "execute_result"
    }
   ],
   "source": [
    "titanic.head()"
   ]
  },
  {
   "cell_type": "code",
   "execution_count": 5,
   "id": "8e072e91",
   "metadata": {},
   "outputs": [
    {
     "data": {
      "text/plain": [
       "age         177\n",
       "fare          0\n",
       "survived      0\n",
       "dtype: int64"
      ]
     },
     "execution_count": 5,
     "metadata": {},
     "output_type": "execute_result"
    }
   ],
   "source": [
    "titanic.isnull().sum()"
   ]
  },
  {
   "cell_type": "code",
   "execution_count": 6,
   "id": "3009e17a",
   "metadata": {},
   "outputs": [],
   "source": [
    "titanic=titanic.dropna(subset=['age'])"
   ]
  },
  {
   "cell_type": "code",
   "execution_count": 7,
   "id": "a8ac0adb",
   "metadata": {},
   "outputs": [
    {
     "data": {
      "text/plain": [
       "age         0\n",
       "fare        0\n",
       "survived    0\n",
       "dtype: int64"
      ]
     },
     "execution_count": 7,
     "metadata": {},
     "output_type": "execute_result"
    }
   ],
   "source": [
    "titanic.isnull().sum()"
   ]
  },
  {
   "cell_type": "code",
   "execution_count": 8,
   "id": "33a23eb3",
   "metadata": {},
   "outputs": [],
   "source": [
    "X=titanic[['age','fare']]\n",
    "Y=titanic['survived']"
   ]
  },
  {
   "cell_type": "code",
   "execution_count": 9,
   "id": "78d8206e",
   "metadata": {},
   "outputs": [],
   "source": [
    "x_train,x_test,y_train,y_test=train_test_split(X,Y,random_state=2,test_size=0.2)"
   ]
  },
  {
   "cell_type": "code",
   "execution_count": 10,
   "id": "803f1589",
   "metadata": {},
   "outputs": [
    {
     "data": {
      "text/plain": [
       "0.6503496503496503"
      ]
     },
     "execution_count": 10,
     "metadata": {},
     "output_type": "execute_result"
    }
   ],
   "source": [
    "clf=DecisionTreeClassifier()\n",
    "clf.fit(x_train,y_train)\n",
    "y_pred=clf.predict(x_test)\n",
    "accuracy_score(y_pred=y_pred,y_true=y_test)"
   ]
  },
  {
   "cell_type": "code",
   "execution_count": 11,
   "id": "f7595cbc",
   "metadata": {},
   "outputs": [],
   "source": [
    "kbin_age=KBinsDiscretizer(n_bins=10,encode='ordinal',strategy='quantile')\n",
    "kbin_fare=KBinsDiscretizer(n_bins=10,encode='ordinal',strategy='quantile')\n",
    "trf=ColumnTransformer(transformers=[\n",
    "    ('first',kbin_age,[0])\n",
    "    ,('second',kbin_fare,[1])\n",
    "])\n"
   ]
  },
  {
   "cell_type": "code",
   "execution_count": 12,
   "id": "bc35a05b",
   "metadata": {},
   "outputs": [],
   "source": [
    "x_train_trf=trf.fit_transform(x_train)\n",
    "x_test_trf=trf.transform(x_test)"
   ]
  },
  {
   "cell_type": "code",
   "execution_count": 13,
   "id": "5312db34",
   "metadata": {},
   "outputs": [
    {
     "data": {
      "text/plain": [
       "{'first': KBinsDiscretizer(encode='ordinal', n_bins=10),\n",
       " 'second': KBinsDiscretizer(encode='ordinal', n_bins=10)}"
      ]
     },
     "execution_count": 13,
     "metadata": {},
     "output_type": "execute_result"
    }
   ],
   "source": [
    "trf.named_transformers_"
   ]
  },
  {
   "cell_type": "code",
   "execution_count": 14,
   "id": "58fc9711",
   "metadata": {},
   "outputs": [
    {
     "data": {
      "text/plain": [
       "array([ 0.42, 10.  , 18.  , 22.  , 25.  , 28.  , 31.  , 35.  , 41.  ,\n",
       "       50.  , 80.  ])"
      ]
     },
     "execution_count": 14,
     "metadata": {},
     "output_type": "execute_result"
    }
   ],
   "source": [
    "trf.named_transformers_['first'].bin_edges_[0]"
   ]
  },
  {
   "cell_type": "code",
   "execution_count": 15,
   "id": "745e2cb6",
   "metadata": {},
   "outputs": [],
   "source": [
    "output=pd.DataFrame({\n",
    "    'age':x_train['age'],\n",
    "    'age_trf':x_train_trf[:,0],\n",
    "    'fare':x_train['fare'],\n",
    "    'fare_trf':x_train_trf[:,1]\n",
    "})"
   ]
  },
  {
   "cell_type": "code",
   "execution_count": 16,
   "id": "6cfb3065",
   "metadata": {},
   "outputs": [
    {
     "data": {
      "text/html": [
       "<div>\n",
       "<style scoped>\n",
       "    .dataframe tbody tr th:only-of-type {\n",
       "        vertical-align: middle;\n",
       "    }\n",
       "\n",
       "    .dataframe tbody tr th {\n",
       "        vertical-align: top;\n",
       "    }\n",
       "\n",
       "    .dataframe thead th {\n",
       "        text-align: right;\n",
       "    }\n",
       "</style>\n",
       "<table border=\"1\" class=\"dataframe\">\n",
       "  <thead>\n",
       "    <tr style=\"text-align: right;\">\n",
       "      <th></th>\n",
       "      <th>age</th>\n",
       "      <th>age_trf</th>\n",
       "      <th>fare</th>\n",
       "      <th>fare_trf</th>\n",
       "    </tr>\n",
       "  </thead>\n",
       "  <tbody>\n",
       "    <tr>\n",
       "      <th>3</th>\n",
       "      <td>35.0</td>\n",
       "      <td>7.0</td>\n",
       "      <td>53.1000</td>\n",
       "      <td>8.0</td>\n",
       "    </tr>\n",
       "    <tr>\n",
       "      <th>541</th>\n",
       "      <td>9.0</td>\n",
       "      <td>0.0</td>\n",
       "      <td>31.2750</td>\n",
       "      <td>7.0</td>\n",
       "    </tr>\n",
       "    <tr>\n",
       "      <th>679</th>\n",
       "      <td>36.0</td>\n",
       "      <td>7.0</td>\n",
       "      <td>512.3292</td>\n",
       "      <td>9.0</td>\n",
       "    </tr>\n",
       "    <tr>\n",
       "      <th>14</th>\n",
       "      <td>14.0</td>\n",
       "      <td>1.0</td>\n",
       "      <td>7.8542</td>\n",
       "      <td>1.0</td>\n",
       "    </tr>\n",
       "    <tr>\n",
       "      <th>238</th>\n",
       "      <td>19.0</td>\n",
       "      <td>2.0</td>\n",
       "      <td>10.5000</td>\n",
       "      <td>3.0</td>\n",
       "    </tr>\n",
       "  </tbody>\n",
       "</table>\n",
       "</div>"
      ],
      "text/plain": [
       "      age  age_trf      fare  fare_trf\n",
       "3    35.0      7.0   53.1000       8.0\n",
       "541   9.0      0.0   31.2750       7.0\n",
       "679  36.0      7.0  512.3292       9.0\n",
       "14   14.0      1.0    7.8542       1.0\n",
       "238  19.0      2.0   10.5000       3.0"
      ]
     },
     "execution_count": 16,
     "metadata": {},
     "output_type": "execute_result"
    }
   ],
   "source": [
    "output.head()"
   ]
  },
  {
   "cell_type": "code",
   "execution_count": 17,
   "id": "5be689cc",
   "metadata": {},
   "outputs": [],
   "source": [
    "output['age_labels']=pd.cut(x=x_train['age'],\n",
    "                            bins=trf.named_transformers_['first'].bin_edges_[0].tolist())\n",
    "output['fare_labels']=pd.cut(x=x_train['fare'],\n",
    "                            bins=trf.named_transformers_['second'].bin_edges_[0].tolist())"
   ]
  },
  {
   "cell_type": "code",
   "execution_count": 18,
   "id": "d9dc2c61",
   "metadata": {},
   "outputs": [
    {
     "data": {
      "text/html": [
       "<div>\n",
       "<style scoped>\n",
       "    .dataframe tbody tr th:only-of-type {\n",
       "        vertical-align: middle;\n",
       "    }\n",
       "\n",
       "    .dataframe tbody tr th {\n",
       "        vertical-align: top;\n",
       "    }\n",
       "\n",
       "    .dataframe thead th {\n",
       "        text-align: right;\n",
       "    }\n",
       "</style>\n",
       "<table border=\"1\" class=\"dataframe\">\n",
       "  <thead>\n",
       "    <tr style=\"text-align: right;\">\n",
       "      <th></th>\n",
       "      <th>age</th>\n",
       "      <th>age_trf</th>\n",
       "      <th>fare</th>\n",
       "      <th>fare_trf</th>\n",
       "      <th>age_labels</th>\n",
       "      <th>fare_labels</th>\n",
       "    </tr>\n",
       "  </thead>\n",
       "  <tbody>\n",
       "    <tr>\n",
       "      <th>3</th>\n",
       "      <td>35.0</td>\n",
       "      <td>7.0</td>\n",
       "      <td>53.1000</td>\n",
       "      <td>8.0</td>\n",
       "      <td>(31.0, 35.0]</td>\n",
       "      <td>(46.9, 78.85]</td>\n",
       "    </tr>\n",
       "    <tr>\n",
       "      <th>541</th>\n",
       "      <td>9.0</td>\n",
       "      <td>0.0</td>\n",
       "      <td>31.2750</td>\n",
       "      <td>7.0</td>\n",
       "      <td>(0.42, 10.0]</td>\n",
       "      <td>(29.0, 46.9]</td>\n",
       "    </tr>\n",
       "    <tr>\n",
       "      <th>679</th>\n",
       "      <td>36.0</td>\n",
       "      <td>7.0</td>\n",
       "      <td>512.3292</td>\n",
       "      <td>9.0</td>\n",
       "      <td>(35.0, 41.0]</td>\n",
       "      <td>(78.85, 512.329]</td>\n",
       "    </tr>\n",
       "    <tr>\n",
       "      <th>14</th>\n",
       "      <td>14.0</td>\n",
       "      <td>1.0</td>\n",
       "      <td>7.8542</td>\n",
       "      <td>1.0</td>\n",
       "      <td>(10.0, 18.0]</td>\n",
       "      <td>(7.75, 7.925]</td>\n",
       "    </tr>\n",
       "    <tr>\n",
       "      <th>238</th>\n",
       "      <td>19.0</td>\n",
       "      <td>2.0</td>\n",
       "      <td>10.5000</td>\n",
       "      <td>3.0</td>\n",
       "      <td>(18.0, 22.0]</td>\n",
       "      <td>(9.225, 12.875]</td>\n",
       "    </tr>\n",
       "  </tbody>\n",
       "</table>\n",
       "</div>"
      ],
      "text/plain": [
       "      age  age_trf      fare  fare_trf    age_labels       fare_labels\n",
       "3    35.0      7.0   53.1000       8.0  (31.0, 35.0]     (46.9, 78.85]\n",
       "541   9.0      0.0   31.2750       7.0  (0.42, 10.0]      (29.0, 46.9]\n",
       "679  36.0      7.0  512.3292       9.0  (35.0, 41.0]  (78.85, 512.329]\n",
       "14   14.0      1.0    7.8542       1.0  (10.0, 18.0]     (7.75, 7.925]\n",
       "238  19.0      2.0   10.5000       3.0  (18.0, 22.0]   (9.225, 12.875]"
      ]
     },
     "execution_count": 18,
     "metadata": {},
     "output_type": "execute_result"
    }
   ],
   "source": [
    "output.head()"
   ]
  },
  {
   "cell_type": "code",
   "execution_count": 19,
   "id": "7a4d526f",
   "metadata": {},
   "outputs": [],
   "source": [
    "clf=DecisionTreeClassifier()\n",
    "clf.fit(x_train_trf,y_train)\n",
    "y_pred=clf.predict(x_test_trf)"
   ]
  },
  {
   "cell_type": "code",
   "execution_count": 20,
   "id": "86b99c69",
   "metadata": {},
   "outputs": [
    {
     "data": {
      "text/plain": [
       "0.7132867132867133"
      ]
     },
     "execution_count": 20,
     "metadata": {},
     "output_type": "execute_result"
    }
   ],
   "source": [
    "accuracy_score(y_pred,y_test)"
   ]
  },
  {
   "cell_type": "markdown",
   "id": "8888f5cf",
   "metadata": {},
   "source": [
    "### BINARIZATION\n",
    "The values of the ceratin ranges are assigned zero and above the threshols are assigned 1. Which means the values are converted to the binary values. "
   ]
  },
  {
   "cell_type": "code",
   "execution_count": 21,
   "id": "043d7ab5",
   "metadata": {},
   "outputs": [],
   "source": [
    "titanic=sns.load_dataset('titanic')"
   ]
  },
  {
   "cell_type": "code",
   "execution_count": 22,
   "id": "bd71b34c",
   "metadata": {},
   "outputs": [],
   "source": [
    "titanic=titanic[['age','fare','parch','survived']]"
   ]
  },
  {
   "cell_type": "code",
   "execution_count": 23,
   "id": "a9957a33",
   "metadata": {},
   "outputs": [
    {
     "data": {
      "text/html": [
       "<div>\n",
       "<style scoped>\n",
       "    .dataframe tbody tr th:only-of-type {\n",
       "        vertical-align: middle;\n",
       "    }\n",
       "\n",
       "    .dataframe tbody tr th {\n",
       "        vertical-align: top;\n",
       "    }\n",
       "\n",
       "    .dataframe thead th {\n",
       "        text-align: right;\n",
       "    }\n",
       "</style>\n",
       "<table border=\"1\" class=\"dataframe\">\n",
       "  <thead>\n",
       "    <tr style=\"text-align: right;\">\n",
       "      <th></th>\n",
       "      <th>age</th>\n",
       "      <th>fare</th>\n",
       "      <th>parch</th>\n",
       "      <th>survived</th>\n",
       "    </tr>\n",
       "  </thead>\n",
       "  <tbody>\n",
       "    <tr>\n",
       "      <th>692</th>\n",
       "      <td>NaN</td>\n",
       "      <td>56.4958</td>\n",
       "      <td>0</td>\n",
       "      <td>1</td>\n",
       "    </tr>\n",
       "    <tr>\n",
       "      <th>733</th>\n",
       "      <td>23.0</td>\n",
       "      <td>13.0000</td>\n",
       "      <td>0</td>\n",
       "      <td>0</td>\n",
       "    </tr>\n",
       "    <tr>\n",
       "      <th>787</th>\n",
       "      <td>8.0</td>\n",
       "      <td>29.1250</td>\n",
       "      <td>1</td>\n",
       "      <td>0</td>\n",
       "    </tr>\n",
       "    <tr>\n",
       "      <th>133</th>\n",
       "      <td>29.0</td>\n",
       "      <td>26.0000</td>\n",
       "      <td>0</td>\n",
       "      <td>1</td>\n",
       "    </tr>\n",
       "    <tr>\n",
       "      <th>652</th>\n",
       "      <td>21.0</td>\n",
       "      <td>8.4333</td>\n",
       "      <td>0</td>\n",
       "      <td>0</td>\n",
       "    </tr>\n",
       "    <tr>\n",
       "      <th>672</th>\n",
       "      <td>70.0</td>\n",
       "      <td>10.5000</td>\n",
       "      <td>0</td>\n",
       "      <td>0</td>\n",
       "    </tr>\n",
       "  </tbody>\n",
       "</table>\n",
       "</div>"
      ],
      "text/plain": [
       "      age     fare  parch  survived\n",
       "692   NaN  56.4958      0         1\n",
       "733  23.0  13.0000      0         0\n",
       "787   8.0  29.1250      1         0\n",
       "133  29.0  26.0000      0         1\n",
       "652  21.0   8.4333      0         0\n",
       "672  70.0  10.5000      0         0"
      ]
     },
     "execution_count": 23,
     "metadata": {},
     "output_type": "execute_result"
    }
   ],
   "source": [
    "titanic.sample(6)"
   ]
  },
  {
   "cell_type": "code",
   "execution_count": 24,
   "id": "429c6bb8",
   "metadata": {},
   "outputs": [],
   "source": [
    "titanic=titanic.dropna(subset=['age'])"
   ]
  },
  {
   "cell_type": "code",
   "execution_count": 25,
   "id": "3c3df8a9",
   "metadata": {},
   "outputs": [
    {
     "data": {
      "text/plain": [
       "age         0\n",
       "fare        0\n",
       "parch       0\n",
       "survived    0\n",
       "dtype: int64"
      ]
     },
     "execution_count": 25,
     "metadata": {},
     "output_type": "execute_result"
    }
   ],
   "source": [
    "titanic.isnull().sum()"
   ]
  },
  {
   "cell_type": "code",
   "execution_count": 26,
   "id": "fbb1bf12",
   "metadata": {},
   "outputs": [],
   "source": [
    "X=titanic[['age','fare','parch']]\n",
    "Y=titanic['survived']\n",
    "x_train,x_test,y_train,y_test=train_test_split(X,Y,random_state=30,test_size=0.3)"
   ]
  },
  {
   "cell_type": "code",
   "execution_count": 27,
   "id": "32cd07e2",
   "metadata": {},
   "outputs": [],
   "source": [
    "#binarization\n",
    "from sklearn.preprocessing import Binarizer\n",
    "trf=ColumnTransformer(transformers=[\n",
    "('bin',Binarizer(copy=False),['parch']),\n",
    "],remainder='passthrough')"
   ]
  },
  {
   "cell_type": "code",
   "execution_count": 28,
   "id": "76c515c9",
   "metadata": {},
   "outputs": [
    {
     "data": {
      "text/plain": [
       "np.float64(0.6093114241001565)"
      ]
     },
     "execution_count": 28,
     "metadata": {},
     "output_type": "execute_result"
    }
   ],
   "source": [
    "from sklearn.pipeline import Pipeline\n",
    "pipeline = Pipeline([\n",
    "    ('prep', trf),\n",
    "    ('clf', DecisionTreeClassifier())\n",
    "])\n",
    "\n",
    "cross_val_score(pipeline, X, Y, cv=10, scoring='accuracy').mean()"
   ]
  },
  {
   "cell_type": "code",
   "execution_count": null,
   "id": "b71b993f",
   "metadata": {},
   "outputs": [],
   "source": []
  }
 ],
 "metadata": {
  "kernelspec": {
   "display_name": "Python 3",
   "language": "python",
   "name": "python3"
  },
  "language_info": {
   "codemirror_mode": {
    "name": "ipython",
    "version": 3
   },
   "file_extension": ".py",
   "mimetype": "text/x-python",
   "name": "python",
   "nbconvert_exporter": "python",
   "pygments_lexer": "ipython3",
   "version": "3.12.4"
  }
 },
 "nbformat": 4,
 "nbformat_minor": 5
}
