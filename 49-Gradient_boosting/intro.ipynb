{
 "cells": [
  {
   "cell_type": "markdown",
   "id": "77459a66",
   "metadata": {},
   "source": [
    "### **GRADIENT BOOSTING**\n",
    "- It performs better than AdaBoost.\n",
    "- The further better is XGBoost algorithm.\n"
   ]
  },
  {
   "cell_type": "markdown",
   "id": "dcb3e546",
   "metadata": {},
   "source": [
    "**For regression**\n",
    "- In case of regression when using the multiple base models, the first base model gives the mean. Then we use the error funtion.\n",
    "- **Error-Function used will be:**\n",
    "    * Pseudo-residual function=actual-predicted\n",
    "- Then we need to supply the mistakes to the further models\n",
    "- Then second model used will be decision tree model\n",
    "- We will train the decsion train by giving the output column as **residual 1** of the first model\n",
    "- We want to find the amount of error through the second model.\n",
    "- Then for the second model we would also find the prediction and residual.\n"
   ]
  },
  {
   "cell_type": "markdown",
   "id": "d8c8b2b5",
   "metadata": {},
   "source": [
    "**For the new data,**\n",
    "- We add the prediction of all the models.\n",
    "- That is first model is used for the prediction and further models are used to find the error, thus adding all the predictions will lead to the more accurate prediction."
   ]
  },
  {
   "cell_type": "markdown",
   "id": "43710364",
   "metadata": {},
   "source": [
    "**Upto this**\n",
    "- There will be overfitting, thus we use learning rate  \n",
    "thus prediction is:  \n",
    "$$\n",
    "\\text{pred} = m_1 + \\eta m_2 \\tag{1}\n",
    "$$"
   ]
  },
  {
   "cell_type": "markdown",
   "id": "b41d38de",
   "metadata": {},
   "source": [
    "**Now for the third model**\n",
    "- We check pseudo residual, taking the prediction formula as in the equation 1.\n",
    "- And it will also be the decision tree and output as the residual after the model 2.\n",
    "- *In the further model we perform and residul tends to 0.*\\\n",
    "**Note: We use the depth of the tree:8**"
   ]
  },
  {
   "cell_type": "markdown",
   "id": "2a751c77",
   "metadata": {},
   "source": []
  }
 ],
 "metadata": {
  "language_info": {
   "name": "python"
  }
 },
 "nbformat": 4,
 "nbformat_minor": 5
}
