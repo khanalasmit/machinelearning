{
 "cells": [
  {
   "cell_type": "markdown",
   "id": "b0411a9b",
   "metadata": {},
   "source": [
    "### **MATHEMATICS BEHIND GRADIENT BOOSTING REGRESSION**"
   ]
  },
  {
   "cell_type": "markdown",
   "id": "c0a99a80",
   "metadata": {},
   "source": [
    "![gradient_boosting](1.png)"
   ]
  },
  {
   "cell_type": "markdown",
   "id": "7dc6bbc6",
   "metadata": {},
   "source": [
    "### **ADDITIVE MODELLING**\n",
    "- Additive modelling is summing the multiple functions to create the actual function to fit on the data."
   ]
  },
  {
   "cell_type": "code",
   "execution_count": 1,
   "id": "0cfd5935",
   "metadata": {},
   "outputs": [],
   "source": [
    "datafram2={\n",
    "    'R&D Spend':[165.0,101,29],\n",
    "    'Adminstration':[137.0,92,127],\n",
    "    'Marketing Spend':[472.0,250,201],\n",
    "    'Profit':[192.0,144,91]\n",
    "}\n",
    "import pandas as pd\n",
    "import numpy as np\n",
    "df=pd.DataFrame(datafram2)"
   ]
  },
  {
   "cell_type": "code",
   "execution_count": 2,
   "id": "2d99884b",
   "metadata": {},
   "outputs": [
    {
     "data": {
      "text/html": [
       "<div>\n",
       "<style scoped>\n",
       "    .dataframe tbody tr th:only-of-type {\n",
       "        vertical-align: middle;\n",
       "    }\n",
       "\n",
       "    .dataframe tbody tr th {\n",
       "        vertical-align: top;\n",
       "    }\n",
       "\n",
       "    .dataframe thead th {\n",
       "        text-align: right;\n",
       "    }\n",
       "</style>\n",
       "<table border=\"1\" class=\"dataframe\">\n",
       "  <thead>\n",
       "    <tr style=\"text-align: right;\">\n",
       "      <th></th>\n",
       "      <th>R&amp;D Spend</th>\n",
       "      <th>Adminstration</th>\n",
       "      <th>Marketing Spend</th>\n",
       "      <th>Profit</th>\n",
       "    </tr>\n",
       "  </thead>\n",
       "  <tbody>\n",
       "    <tr>\n",
       "      <th>0</th>\n",
       "      <td>165.0</td>\n",
       "      <td>137.0</td>\n",
       "      <td>472.0</td>\n",
       "      <td>192.0</td>\n",
       "    </tr>\n",
       "    <tr>\n",
       "      <th>1</th>\n",
       "      <td>101.0</td>\n",
       "      <td>92.0</td>\n",
       "      <td>250.0</td>\n",
       "      <td>144.0</td>\n",
       "    </tr>\n",
       "    <tr>\n",
       "      <th>2</th>\n",
       "      <td>29.0</td>\n",
       "      <td>127.0</td>\n",
       "      <td>201.0</td>\n",
       "      <td>91.0</td>\n",
       "    </tr>\n",
       "  </tbody>\n",
       "</table>\n",
       "</div>"
      ],
      "text/plain": [
       "   R&D Spend  Adminstration  Marketing Spend  Profit\n",
       "0      165.0          137.0            472.0   192.0\n",
       "1      101.0           92.0            250.0   144.0\n",
       "2       29.0          127.0            201.0    91.0"
      ]
     },
     "execution_count": 2,
     "metadata": {},
     "output_type": "execute_result"
    }
   ],
   "source": [
    "df"
   ]
  },
  {
   "cell_type": "markdown",
   "id": "7a0de8f2",
   "metadata": {},
   "source": [
    "- Here we will use the least square loss funtion. Here we multiply by half for mathematical convinience.\n",
    "- The loss function used any should be differentiable."
   ]
  },
  {
   "cell_type": "markdown",
   "id": "ac9a051e",
   "metadata": {},
   "source": [
    "**First step**\n",
    "- $f_0(x)=argmin\\frac{1}{2}\\sum_{i=1}^m(y_i-\\gamma)^2$\n",
    "$$\\frac{df_0(x)}{d\\gamma}=-\\sum_{i=1}^m(y_i-\\gamma)\\frac{d}{d\\gamma}(y_i-\\gamma)\\\\\n",
    "=0\n",
    "$$\n"
   ]
  },
  {
   "cell_type": "markdown",
   "id": "a0ea6274",
   "metadata": {},
   "source": [
    "- for out dataset above\n",
    "$$\n",
    "\\sum_{i=1}^3=0\\\\\n",
    "(\\gamma-192)+(\\gamma-91)+(\\gamma-29)=0\\\\\n",
    "3\\gamma=192+144+91\\\\\n",
    "\\gamma=\\frac{192+144+91}{3}\\\\\n",
    "$$\n",
    "- Thus $f_o(x)$ will be the mean of the output column.\n"
   ]
  },
  {
   "cell_type": "markdown",
   "id": "5bd8ac54",
   "metadata": {},
   "source": [
    "**For the second step**\n",
    "- When finding the second function compostie of the smaller functions,\n",
    "    * we have already found the first function as mean\n",
    "    * The further functions are calculated as mean of others.\n",
    "- 2.a For all the rows in the dataset we need to calculate\n",
    "    * $r_{im}=-\\left[\\frac{\\delta L(y_i,f(x_i))}{\\delta f(x_i)}\\right]_{f=f_{m-1}}$\n",
    "    * $f(x_i)$=$\\hat{y_i}$\n",
    "    * $r_{i1}=-\\left[\\frac{\\delta}{\\delta \\hat{Y_i}} \\frac{1}{2}(y_i-\\bar{y_i})\\right]$\n",
    "    * = $[(y_{i}-\\hat{y_i})]$\n",
    "    * $r_{11}=y_1-f_o(x_1)=192-142$\n",
    "    * $r_{31}=y_1-f_o(x_3)=29-142$\n",
    "    * $r_{21}=y_1-f_o(x_2)=144-142$\n"
   ]
  },
  {
   "cell_type": "code",
   "execution_count": 3,
   "id": "b8bc261b",
   "metadata": {},
   "outputs": [],
   "source": [
    "df['f_o(x)']=df['Profit'].mean()"
   ]
  },
  {
   "cell_type": "code",
   "execution_count": 4,
   "id": "9ad9270a",
   "metadata": {},
   "outputs": [
    {
     "data": {
      "text/html": [
       "<div>\n",
       "<style scoped>\n",
       "    .dataframe tbody tr th:only-of-type {\n",
       "        vertical-align: middle;\n",
       "    }\n",
       "\n",
       "    .dataframe tbody tr th {\n",
       "        vertical-align: top;\n",
       "    }\n",
       "\n",
       "    .dataframe thead th {\n",
       "        text-align: right;\n",
       "    }\n",
       "</style>\n",
       "<table border=\"1\" class=\"dataframe\">\n",
       "  <thead>\n",
       "    <tr style=\"text-align: right;\">\n",
       "      <th></th>\n",
       "      <th>R&amp;D Spend</th>\n",
       "      <th>Adminstration</th>\n",
       "      <th>Marketing Spend</th>\n",
       "      <th>Profit</th>\n",
       "      <th>f_o(x)</th>\n",
       "    </tr>\n",
       "  </thead>\n",
       "  <tbody>\n",
       "    <tr>\n",
       "      <th>0</th>\n",
       "      <td>165.0</td>\n",
       "      <td>137.0</td>\n",
       "      <td>472.0</td>\n",
       "      <td>192.0</td>\n",
       "      <td>142.333333</td>\n",
       "    </tr>\n",
       "    <tr>\n",
       "      <th>1</th>\n",
       "      <td>101.0</td>\n",
       "      <td>92.0</td>\n",
       "      <td>250.0</td>\n",
       "      <td>144.0</td>\n",
       "      <td>142.333333</td>\n",
       "    </tr>\n",
       "    <tr>\n",
       "      <th>2</th>\n",
       "      <td>29.0</td>\n",
       "      <td>127.0</td>\n",
       "      <td>201.0</td>\n",
       "      <td>91.0</td>\n",
       "      <td>142.333333</td>\n",
       "    </tr>\n",
       "  </tbody>\n",
       "</table>\n",
       "</div>"
      ],
      "text/plain": [
       "   R&D Spend  Adminstration  Marketing Spend  Profit      f_o(x)\n",
       "0      165.0          137.0            472.0   192.0  142.333333\n",
       "1      101.0           92.0            250.0   144.0  142.333333\n",
       "2       29.0          127.0            201.0    91.0  142.333333"
      ]
     },
     "execution_count": 4,
     "metadata": {},
     "output_type": "execute_result"
    }
   ],
   "source": [
    "df"
   ]
  },
  {
   "cell_type": "code",
   "execution_count": 5,
   "id": "e55a24c6",
   "metadata": {},
   "outputs": [],
   "source": [
    "df['ri1']=df['Profit']-df['f_o(x)']"
   ]
  },
  {
   "cell_type": "code",
   "execution_count": 6,
   "id": "e37bad1c",
   "metadata": {},
   "outputs": [
    {
     "data": {
      "text/html": [
       "<div>\n",
       "<style scoped>\n",
       "    .dataframe tbody tr th:only-of-type {\n",
       "        vertical-align: middle;\n",
       "    }\n",
       "\n",
       "    .dataframe tbody tr th {\n",
       "        vertical-align: top;\n",
       "    }\n",
       "\n",
       "    .dataframe thead th {\n",
       "        text-align: right;\n",
       "    }\n",
       "</style>\n",
       "<table border=\"1\" class=\"dataframe\">\n",
       "  <thead>\n",
       "    <tr style=\"text-align: right;\">\n",
       "      <th></th>\n",
       "      <th>R&amp;D Spend</th>\n",
       "      <th>Adminstration</th>\n",
       "      <th>Marketing Spend</th>\n",
       "      <th>Profit</th>\n",
       "      <th>f_o(x)</th>\n",
       "      <th>ri1</th>\n",
       "    </tr>\n",
       "  </thead>\n",
       "  <tbody>\n",
       "    <tr>\n",
       "      <th>0</th>\n",
       "      <td>165.0</td>\n",
       "      <td>137.0</td>\n",
       "      <td>472.0</td>\n",
       "      <td>192.0</td>\n",
       "      <td>142.333333</td>\n",
       "      <td>49.666667</td>\n",
       "    </tr>\n",
       "    <tr>\n",
       "      <th>1</th>\n",
       "      <td>101.0</td>\n",
       "      <td>92.0</td>\n",
       "      <td>250.0</td>\n",
       "      <td>144.0</td>\n",
       "      <td>142.333333</td>\n",
       "      <td>1.666667</td>\n",
       "    </tr>\n",
       "    <tr>\n",
       "      <th>2</th>\n",
       "      <td>29.0</td>\n",
       "      <td>127.0</td>\n",
       "      <td>201.0</td>\n",
       "      <td>91.0</td>\n",
       "      <td>142.333333</td>\n",
       "      <td>-51.333333</td>\n",
       "    </tr>\n",
       "  </tbody>\n",
       "</table>\n",
       "</div>"
      ],
      "text/plain": [
       "   R&D Spend  Adminstration  Marketing Spend  Profit      f_o(x)        ri1\n",
       "0      165.0          137.0            472.0   192.0  142.333333  49.666667\n",
       "1      101.0           92.0            250.0   144.0  142.333333   1.666667\n",
       "2       29.0          127.0            201.0    91.0  142.333333 -51.333333"
      ]
     },
     "execution_count": 6,
     "metadata": {},
     "output_type": "execute_result"
    }
   ],
   "source": [
    "df"
   ]
  },
  {
   "cell_type": "code",
   "execution_count": 7,
   "id": "182c171f",
   "metadata": {},
   "outputs": [],
   "source": [
    "''' \n",
    "the regression tree is fitted to the residual function.\n",
    "'''\n",
    "from sklearn.tree import DecisionTreeRegressor\n",
    "dt1=DecisionTreeRegressor(max_depth=1)\n"
   ]
  },
  {
   "cell_type": "code",
   "execution_count": 8,
   "id": "4413e22f",
   "metadata": {},
   "outputs": [
    {
     "data": {
      "text/plain": [
       "[Text(0.5, 0.75, 'x[2] <= 225.5\\nsquared_error = 1701.556\\nsamples = 3\\nvalue = -0.0'),\n",
       " Text(0.25, 0.25, 'squared_error = 0.0\\nsamples = 1\\nvalue = -51.333'),\n",
       " Text(0.375, 0.5, 'True  '),\n",
       " Text(0.75, 0.25, 'squared_error = 576.0\\nsamples = 2\\nvalue = 25.667'),\n",
       " Text(0.625, 0.5, '  False')]"
      ]
     },
     "execution_count": 8,
     "metadata": {},
     "output_type": "execute_result"
    },
    {
     "data": {
      "image/png": "[encoded data removed]",
      "text/plain": [
       "<Figure size 640x480 with 1 Axes>"
      ]
     },
     "metadata": {},
     "output_type": "display_data"
    }
   ],
   "source": [
    "dt1.fit(df.iloc[:,0:3].values,df['ri1'].values)\n",
    "from sklearn.tree import plot_tree\n",
    "plot_tree(dt1)\n"
   ]
  },
  {
   "cell_type": "markdown",
   "id": "084941f9",
   "metadata": {},
   "source": [
    "**For2.c**\n",
    "- $\\gamma _{jm}=argmin\\sum_{x_i}\\in L(y_i,f_{m-1}(x_i)+\\gamma)$\n",
    "- $\\gamma_{11}=argmin \\sum_{x_i\\in R_{11}} L(y_i,f_{m-1}(x_i)+\\gamma)$\n",
    "- $\\gamma_{11}=argmin_{\\gamma} \\frac{1}{2}(y_i-f_o(x_i+\\gamma))$\n",
    "- $\\frac{dL}{d\\gamma}=(y_i-f_0(x)-\\gamma)\\frac{d}{d\\gamma}(y_i-f_o(x)-\\gamma)=0$\n",
    "- $=y_i-f_o(x)-\\gamma=0$\n",
    "- $\\gamma_{11}=91-142-\\gamma=0$\n",
    "- $\\gamma=91-142=-51(\\text{equivalent to obtained as the decision tree})$\n"
   ]
  },
  {
   "cell_type": "markdown",
   "id": "cfcdeda1",
   "metadata": {},
   "source": [
    "$$\n",
    "\\gamma_{21}=argmin_{\\gamma} \\sum_{x_i \\in R_{21}} L(Y_i,f_o(X_i)+\\gamma) \\\\\n",
    "\\gamma_{21}=argmin_{\\gamma} \\sum_{i=1}^2 (Y_i-f_o(X_i)+\\gamma)^2\\\\\n",
    "=-\\sum_{i=1}^2 (Y_i-f_o(x_i)-\\gamma)=0\\\\\n",
    "=y_1-f_0(x1)-\\gamma+Y_2-f_o(x_2)-\\gamma=0\\\\\n",
    "=192-142-2\\gamma+144-142=0\\\\\n",
    "\\gamma=26\n",
    "$$"
   ]
  },
  {
   "cell_type": "markdown",
   "id": "8b53eab3",
   "metadata": {},
   "source": [
    "$$\n",
    "f_1(x)=f_0(x)+output-of-decision-tree\\\\\n",
    "f_2=f_1(x)+DT_2\\\\\n",
    "f_4(x)+f_0(x)+dt_1+dt_2+dt_3\\\\\n",
    "\\text{This means that this is the proper recursion}.\n",
    "$$"
   ]
  },
  {
   "cell_type": "markdown",
   "id": "fc2aafeb",
   "metadata": {},
   "source": []
  }
 ],
 "metadata": {
  "kernelspec": {
   "display_name": "Python 3",
   "language": "python",
   "name": "python3"
  },
  "language_info": {
   "codemirror_mode": {
    "name": "ipython",
    "version": 3
   },
   "file_extension": ".py",
   "mimetype": "text/x-python",
   "name": "python",
   "nbconvert_exporter": "python",
   "pygments_lexer": "ipython3",
   "version": "3.12.4"
  }
 },
 "nbformat": 4,
 "nbformat_minor": 5
}
