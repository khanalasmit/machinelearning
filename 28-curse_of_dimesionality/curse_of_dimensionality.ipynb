{
 "cells": [
  {
   "cell_type": "markdown",
   "id": "d7a6c344",
   "metadata": {},
   "source": [
    "### **Curse of Dimensionality**"
   ]
  },
  {
   "cell_type": "markdown",
   "id": "1c919c97",
   "metadata": {},
   "source": [
    "We call the features in the dataset the dimesnions. AS the dimensions incereases the model may be too complicated and the addition of the dimensions may harm the model which is the curse of dimensionlaity. The degradation of model performance after the addtion of the dimenesions after the optimal number of the dimensions is called curse of dimensionalty."
   ]
  },
  {
   "cell_type": "markdown",
   "id": "4dda4e75",
   "metadata": {},
   "source": [
    "What happens in the higher dimesional space?\n",
    "* Sparsity\n",
    "Means the rows are removing farther from each other means they are being sparse. "
   ]
  },
  {
   "cell_type": "markdown",
   "id": "be023143",
   "metadata": {},
   "source": [
    "The curses are:\n",
    "* Performance deceases\n",
    "* Computation increases"
   ]
  },
  {
   "cell_type": "markdown",
   "id": "5d8de11c",
   "metadata": {},
   "source": [
    "Thus we do the dimesionality-reduction:\n"
   ]
  },
  {
   "cell_type": "markdown",
   "id": "aa1d5f84",
   "metadata": {},
   "source": [
    "### **Dimensionality Reduction**"
   ]
  },
  {
   "cell_type": "markdown",
   "id": "20b7d2f6",
   "metadata": {},
   "source": [
    "|___Feature Selection\n",
    "*    |_____Forward Selection\n",
    "*    |_____Backward elemination\\\n",
    "|___Feature Extraction\n",
    "*    |_____PCA"
   ]
  },
  {
   "cell_type": "markdown",
   "id": "9cf81637",
   "metadata": {},
   "source": []
  }
 ],
 "metadata": {
  "kernelspec": {
   "display_name": "Python 3",
   "language": "python",
   "name": "python3"
  },
  "language_info": {
   "codemirror_mode": {
    "name": "ipython",
    "version": 3
   },
   "file_extension": ".py",
   "mimetype": "text/x-python",
   "name": "python",
   "nbconvert_exporter": "python",
   "pygments_lexer": "ipython3",
   "version": "3.12.4"
  }
 },
 "nbformat": 4,
 "nbformat_minor": 5
}
