{
 "cells": [
  {
   "cell_type": "markdown",
   "id": "81e74f0d",
   "metadata": {},
   "source": [
    "<p style='font-size:23px  color:red'><b>\n",
    "IN THIS FILE THE JSON FORMAT IS READ AND THE WORK ON THE JSON IS DONE</b></p>"
   ]
  },
  {
   "cell_type": "code",
   "execution_count": 1,
   "id": "252d3f34",
   "metadata": {},
   "outputs": [],
   "source": [
    "import pandas as pd"
   ]
  },
  {
   "cell_type": "code",
   "execution_count": null,
   "id": "722015a4",
   "metadata": {},
   "outputs": [],
   "source": []
  }
 ],
 "metadata": {
  "kernelspec": {
   "display_name": "Python 3",
   "language": "python",
   "name": "python3"
  },
  "language_info": {
   "codemirror_mode": {
    "name": "ipython",
    "version": 3
   },
   "file_extension": ".py",
   "mimetype": "text/x-python",
   "name": "python",
   "nbconvert_exporter": "python",
   "pygments_lexer": "ipython3",
   "version": "3.12.4"
  }
 },
 "nbformat": 4,
 "nbformat_minor": 5
}
