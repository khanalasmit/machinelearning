{
 "cells": [
  {
   "cell_type": "markdown",
   "id": "9e9efb72",
   "metadata": {},
   "source": [
    "## **SPARSITY BY LASSO REGRESSION**"
   ]
  },
  {
   "cell_type": "markdown",
   "id": "d795ece4",
   "metadata": {},
   "source": [
    "Sparsity means the coeffcients corresponding to the input becomes zero in case of the lasso regression which is the sparsity by the lasso regression.\\\n",
    "Why is sparsity only present in the lasso regression and not in the ridge regression?"
   ]
  },
  {
   "cell_type": "markdown",
   "id": "11d979ab",
   "metadata": {},
   "source": [
    "$$\n",
    "\\text{For simple data with } X, Y:\\\\\n",
    "y = mx + b\\\\\n",
    "b = \\overline{Y} - m\\overline{X}\\\\\n",
    "\\text{For ridge regression:}\\\\\n",
    "m = \\frac{\\sum_{i=1}^n (Y_{i}-\\overline{Y})(X_{i}-\\overline{X})}{\\sum_{i=1}^n (X_{i}-\\overline{X})^2 + \\lambda}\n",
    "$$\n",
    "The lasso regression loss function is:\n",
    "$$\n",
    "L(m) = \\sum_{i=1}^n (Y_i - m X_i - b)^2 + \\lambda |m|\n",
    "$$\n",
    "\n",
    "To find the optimal $m$, we take the derivative with respect to $m$ and set it to zero (using subgradient for the absolute value):\n",
    "\n",
    "$$\n",
    "\\frac{\\partial L}{\\partial m} = -2 \\sum_{i=1}^n X_i (Y_i - m X_i - b) + \\lambda \\cdot \\text{sign}(m) = 0\n",
    "$$\n",
    "\n",
    "Solving for $m$ (assuming $b$ is known or data is centered so $b=0$):\n",
    "\n",
    "$$\n",
    "2 \\sum_{i=1}^n X_i (Y_i - m X_i) = \\lambda \\cdot \\text{sign}(m) \\\\\n",
    "2 \\left[ \\sum_{i=1}^n X_i Y_i - m \\sum_{i=1}^n X_i^2 \\right] = \\lambda \\cdot \\text{sign}(m) \\\\\n",
    "2 \\sum_{i=1}^n X_i Y_i - 2m \\sum_{i=1}^n X_i^2 = \\lambda \\cdot \\text{sign}(m) \\\\\n",
    "2m \\sum_{i=1}^n X_i^2 = 2 \\sum_{i=1}^n X_i Y_i - \\lambda \\cdot \\text{sign}(m) \\\\\n",
    "m = \\frac{\\sum_{i=1}^n X_i Y_i - \\frac{\\lambda}{2} \\cdot \\text{sign}(m)}{\\sum_{i=1}^n X_i^2}\n",
    "$$\n",
    "$$"
   ]
  },
  {
   "cell_type": "markdown",
   "id": "274b1d04",
   "metadata": {},
   "source": [
    "For m>0,\\\n",
    "$m = \\frac{\\sum_{i=1}^n X_i Y_i - \\frac{\\lambda}{2} \\cdot \\text{sign}(m)}{\\sum_{i=1}^n X_i^2}$\\\n",
    "for m=0,\\\n",
    "$m = \\frac{\\sum_{i=1}^n (Y_{i}-\\overline{Y})(X_{i}-\\overline{X})}{\\sum_{i=1}^n (X_{i}-\\overline{X})^2 }$\\\n",
    "for m<0,\\\n",
    "$m = \\frac{\\sum_{i=1}^n X_i Y_i + \\frac{\\lambda}{2} \\cdot \\text{sign}(m)}{\\sum_{i=1}^n X_i^2}$"
   ]
  },
  {
   "cell_type": "markdown",
   "id": "aae20e9c",
   "metadata": {},
   "source": []
  }
 ],
 "metadata": {
  "language_info": {
   "name": "python"
  }
 },
 "nbformat": 4,
 "nbformat_minor": 5
}
