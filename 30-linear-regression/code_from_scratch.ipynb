{
 "cells": [
  {
   "cell_type": "markdown",
   "id": "294f19c5",
   "metadata": {},
   "source": [
    "### **Finding the simple linear regression model of the placement data with code from scratch**"
   ]
  },
  {
   "cell_type": "markdown",
   "id": "5e07e08e",
   "metadata": {},
   "source": [
    "**For the linear model y=mx+b**\\\n",
    "**b = $\\overline{y} - m\\overline{x}$**  \n",
    "**m = $\\frac{\\sum_{i=1}^n (X_i - \\overline{X})(Y_i - \\overline{Y})}{\\sum_{i=1}^n (X_i - \\overline{X})^2}$**"
   ]
  },
  {
   "cell_type": "markdown",
   "id": "636b7f63",
   "metadata": {},
   "source": []
  }
 ],
 "metadata": {
  "language_info": {
   "name": "python"
  }
 },
 "nbformat": 4,
 "nbformat_minor": 5
}
