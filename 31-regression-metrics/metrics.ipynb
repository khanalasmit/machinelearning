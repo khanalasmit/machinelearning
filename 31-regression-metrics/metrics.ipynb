{
 "cells": [
  {
   "cell_type": "markdown",
   "id": "31bb933d",
   "metadata": {},
   "source": [
    "### **Regression Metrics**"
   ]
  },
  {
   "cell_type": "markdown",
   "id": "6049d874",
   "metadata": {},
   "source": [
    "**1. MEAN ABSOLUTE ERROR**\n",
    "- it is the mean of the absolute difference between the actual value and the predicted value.  \n",
    "$MAE = \\frac{1}{n} \\sum_{i=1}^n \\left| Y_i - \\hat{Y}_i \\right|$"
   ]
  },
  {
   "cell_type": "markdown",
   "id": "f1019961",
   "metadata": {},
   "source": [
    "**Advantages**\n",
    "* same unit\n",
    "* robust aganist outliers"
   ]
  },
  {
   "cell_type": "markdown",
   "id": "3aa60d9c",
   "metadata": {},
   "source": [
    "**Disadvantages**\n",
    "* Diffrentatiation is not possible for the absolute value at x=0.\n",
    "* it donot penalizes outliers."
   ]
  },
  {
   "cell_type": "markdown",
   "id": "80eeb60d",
   "metadata": {},
   "source": [
    "**2. MEAN SQUARED ERROR**\n",
    "- it is the mean of the square of the difference between the actual value and the predicted value.  \n",
    "$MAE = \\frac{1}{n} \\sum_{i=1}^n \\left( Y_i - \\hat{Y}_i \\right)^2$"
   ]
  },
  {
   "cell_type": "markdown",
   "id": "fb8110de",
   "metadata": {},
   "source": [
    "**Advantages**\n",
    "* penalizes the outliers\n",
    "* "
   ]
  },
  {
   "cell_type": "markdown",
   "id": "ca7c506e",
   "metadata": {},
   "source": [
    "**3. ROOT MEAN SQUARED ERROR(RMSE)**\n",
    "- it is the root mean of the squared of the difference between the actual value and the predicted value.  \n",
    "$MAE = \\frac{1}{n}\\sqrt{ \\sum_{i=1}^n \\left( Y_i - \\hat{Y}_i \\right)^2}$"
   ]
  },
  {
   "cell_type": "markdown",
   "id": "b7cda97d",
   "metadata": {},
   "source": [
    "Output it same unit as the data. but it penalizes the outliers."
   ]
  },
  {
   "cell_type": "markdown",
   "id": "cd0c627a",
   "metadata": {},
   "source": [
    "**4. R2 SCORE**\\\n",
    "- It is the metrics independent of the context which means the value obtained will be enough to evalutate the model without any queries about the context of the data.  \n",
    "$MAE = \\frac{1}{n} \\sum_{i=1}^n \\left| Y_i - \\hat{Y}_i \\right|$"
   ]
  }
 ],
 "metadata": {
  "language_info": {
   "name": "python"
  }
 },
 "nbformat": 4,
 "nbformat_minor": 5
}
