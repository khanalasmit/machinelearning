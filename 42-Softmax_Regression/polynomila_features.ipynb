{
 "cells": [
  {
   "cell_type": "markdown",
   "id": "ffc8090e",
   "metadata": {},
   "source": [
    "### **POLYNOMIAL FEATURES IN LOGISTIC REGRESSION**"
   ]
  },
  {
   "cell_type": "markdown",
   "id": "09fece1a",
   "metadata": {},
   "source": []
  }
 ],
 "metadata": {
  "language_info": {
   "name": "python"
  }
 },
 "nbformat": 4,
 "nbformat_minor": 5
}
