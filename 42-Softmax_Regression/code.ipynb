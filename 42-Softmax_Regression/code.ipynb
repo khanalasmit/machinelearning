{
 "cells": [
  {
   "cell_type": "markdown",
   "id": "8e022585",
   "metadata": {},
   "source": [
    "## **SOFTMAX REGRESSION OR MULTINOMIAL REGRESSION**"
   ]
  },
  {
   "cell_type": "markdown",
   "id": "ccad5f10",
   "metadata": {},
   "source": [
    "It is needed for the multiclass classification. "
   ]
  },
  {
   "cell_type": "markdown",
   "id": "cac27737",
   "metadata": {},
   "source": [
    "### **WHAT IS SOFTMAX FUNCTION?**"
   ]
  },
  {
   "cell_type": "markdown",
   "id": "d0ae5346",
   "metadata": {},
   "source": [
    "$$\n",
    "\\displaystyle \\sigma(\\vec{z})_i = \\frac{e^{z_i}}{\\sum_{j=1}^K e^{z_j}}\n",
    "$$\n"
   ]
  },
  {
   "cell_type": "markdown",
   "id": "4536d5d1",
   "metadata": {},
   "source": [
    "Here,\\\n",
    "k &rarr; no of classes\n",
    "$$\n",
    "\\sigma(z)_1=\\frac{e^{z_1}}{e_{z_1}+e^{z_2}+e^{z_3}}\\\\\n",
    "\\sigma(z)_2=\\frac{e^{z_2}}{e_{z_1}+e^{z_2}+e^{z_3}}\\\\\n",
    "\\sigma(z)_3=\\frac{e^{z_3}}{e_{z_1}+e^{z_2}+e^{z_3}}\\\\\n",
    "\\text{Summing all three of these will result in 1}\\\\\n"
   ]
  },
  {
   "cell_type": "markdown",
   "id": "4dddeef7",
   "metadata": {},
   "source": [
    "### **TRAINING INTUITION**"
   ]
  },
  {
   "cell_type": "markdown",
   "id": "4b1d49bd",
   "metadata": {},
   "source": [
    "Consider we have the data. Then we will transfrom the output colum using the onehotencoding to make the binary data. Then we make the no of subdatasets as the number of added columns due to one hot encoding taking all the input features and taking a binary output column in each of the datasets. *For two input features with three classes we will get three coefficients for each of the columns* as $w_0,w_1,w_2$.\\\n",
    "For the another input data we will calculate the z value for the new datasets. We calculate the total of three z values using the W values of each. Then we use the softmax function to calculate the probablity to be in each of the classes and check which is largest and then assign the inputs to the corresponding classes."
   ]
  },
  {
   "cell_type": "markdown",
   "id": "caad1fb0",
   "metadata": {},
   "source": [
    "The above approach is slower. Thus we combine to make a new loss function to get all the values at once rather than to multisubsets and applying the loss function individually."
   ]
  },
  {
   "cell_type": "markdown",
   "id": "3feac35b",
   "metadata": {},
   "source": [
    "### **LOSS FUNCTION**"
   ]
  },
  {
   "cell_type": "markdown",
   "id": "0a217578",
   "metadata": {},
   "source": [
    "$$\n",
    "L=\\frac{-1}{ m}\\sum_{i=1}^{m} \\sum_{k=1}^{k} Y_{k}^{(i)}log(\\hat{Y_{k}}^{(i)})\n",
    "$$"
   ]
  },
  {
   "cell_type": "markdown",
   "id": "718849a9",
   "metadata": {},
   "source": []
  }
 ],
 "metadata": {
  "language_info": {
   "name": "python"
  }
 },
 "nbformat": 4,
 "nbformat_minor": 5
}
