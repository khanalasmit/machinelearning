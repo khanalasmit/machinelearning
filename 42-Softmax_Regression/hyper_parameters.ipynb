{
 "cells": [
  {
   "cell_type": "markdown",
   "id": "87c799aa",
   "metadata": {},
   "source": [
    "### **PENALTY:**\n"
   ]
  },
  {
   "cell_type": "markdown",
   "id": "2f403498",
   "metadata": {},
   "source": [
    "It has lasso regularization,ridge and elasticnet. It  has by deafult regualrization. So to use the logistic regression without penalty we must use None."
   ]
  },
  {
   "cell_type": "markdown",
   "id": "3f441064",
   "metadata": {},
   "source": [
    "### *Tol*\n",
    "Tolorence for stopping criteria."
   ]
  },
  {
   "cell_type": "markdown",
   "id": "421733da",
   "metadata": {},
   "source": [
    "### *c*\n",
    "default=1.0\\\n",
    "- inverse of regularization strength.\n",
    "- smaller it, stronger regularization"
   ]
  },
  {
   "cell_type": "markdown",
   "id": "74486d06",
   "metadata": {},
   "source": [
    "### *class_weight*\n",
    "- default:None\n",
    "- balanced: if we have imbalnced dataset"
   ]
  },
  {
   "cell_type": "markdown",
   "id": "af998564",
   "metadata": {},
   "source": [
    "### *solver*\n",
    "![image](1.png)"
   ]
  },
  {
   "cell_type": "markdown",
   "id": "14399a5c",
   "metadata": {},
   "source": [
    "### *multiclass*\n",
    "- ovr: for each classes, logistic regression will be applied for all.\n",
    "- multinomial: uses loss\n",
    "- default:auto"
   ]
  },
  {
   "cell_type": "markdown",
   "id": "cd1a5f85",
   "metadata": {},
   "source": []
  }
 ],
 "metadata": {
  "language_info": {
   "name": "python"
  }
 },
 "nbformat": 4,
 "nbformat_minor": 5
}
