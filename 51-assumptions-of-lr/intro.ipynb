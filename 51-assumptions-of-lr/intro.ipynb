{
 "cells": [
  {
   "cell_type": "markdown",
   "id": "60193abb",
   "metadata": {},
   "source": [
    "### **ASSUMPTIONS OF THE LINEAR REGRSSION**\n",
    "1. Linear Relationship:\n",
    "    - Linear Relationship between input and output.\n",
    "    - For the multiple input columns the realtionship with the ouput must be linear.\n",
    "2. Multicollinearity\n",
    "    - There should be no multicollinearity between input columns that is independence of the input columns(no correlation).\n",
    "    - The realtion: $Y=\\beta_0+\\beta_1 X_1+\\beta_2 X_2+\\beta_3 X_3$ \n",
    "    - Here beta indicate the change in the y with change in x with others constant\n",
    "    - ```from statsmodels.stats.outliers_infuluence import varience_inflation_factor```\n",
    "    - if vif is less than 1 for then no multicollinearity.\n",
    "    - we can also find the heatmap of the correlation to checek for the multicollinearity.\n",
    "3. Normal Residual\n",
    "    - For the particular x the  predicated y value should be normally distributed with the mean near to zero\n",
    "    - The way to identify is to find the kde plot or the q-q plot\n",
    "    - q-q plot should be linear\n",
    "\n",
    "4. Homoscesdicity\n",
    "    - Having the same scatter.\n",
    "    - The plot of residual should be equal \n",
    "    - If not equal called Heteroscasdicity.\n",
    "5. No Autocorrelation\n",
    "    - There should be no pattern of the residul when plotting residual.\n",
    "    - the plot of the residual should be random"
   ]
  },
  {
   "cell_type": "markdown",
   "id": "248ab914",
   "metadata": {},
   "source": [
    "\n"
   ]
  }
 ],
 "metadata": {
  "language_info": {
   "name": "python"
  }
 },
 "nbformat": 4,
 "nbformat_minor": 5
}
