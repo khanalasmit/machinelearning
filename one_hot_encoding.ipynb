{
 "cells": [
  {
   "cell_type": "markdown",
   "id": "834d6522",
   "metadata": {},
   "source": [
    "## <b> NOMINAL CATEGORICAL DATA</b>"
   ]
  },
  {
   "cell_type": "markdown",
   "id": "7a292d64",
   "metadata": {},
   "source": [
    "<p style='font-size:18px'><b> One hot encoding</b></p>\n",
    " We do the one hot encoding for the nominal data. Nominal datas are the data which do not have the inherent encoding thus we need to encode such that the no order of data categories is formed during encding. \n",
    " Thus one hot encoding is done. \n"
   ]
  },
  {
   "cell_type": "markdown",
   "id": "acd4f7b4",
   "metadata": {},
   "source": [
    "### <u> <b> Pictorial representation of the one hot encoding </b>\n",
    "\\\n",
    "\\\n",
    "![image](https://github.com/khanalasmit/machinelearning/blob/main/onehotencoding.png)"
   ]
  },
  {
   "cell_type": "markdown",
   "id": "853840af",
   "metadata": {},
   "source": []
  }
 ],
 "metadata": {
  "language_info": {
   "name": "python"
  }
 },
 "nbformat": 4,
 "nbformat_minor": 5
}
