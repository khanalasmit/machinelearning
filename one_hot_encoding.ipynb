{
 "cells": [
  {
   "cell_type": "markdown",
   "id": "834d6522",
   "metadata": {},
   "source": [
    "## <b> NOMINAL CATEGORICAL DATA</b>"
   ]
  },
  {
   "cell_type": "markdown",
   "id": "7a292d64",
   "metadata": {},
   "source": [
    "<p style='font-size:18px'><b> One hot encoding</b></p>\n",
    " We do the one hot encoding for the nominal data. Nominal datas are the data which do not have the inherent encoding thus we need to encode such that the no order of data categories is formed during encding. \n",
    " Thus one hot encoding is done. \n"
   ]
  },
  {
   "cell_type": "markdown",
   "id": "8c9ec8b9",
   "metadata": {},
   "source": [
    "### <u> Pictorial representation of one hot encoding\n",
    "\\\n",
    "![image](onehotencoding.png)"
   ]
  },
  {
   "cell_type": "code",
   "execution_count": null,
   "id": "75b1c496",
   "metadata": {},
   "outputs": [],
   "source": [
    "import pandas as pd"
   ]
  },
  {
   "cell_type": "code",
   "execution_count": null,
   "id": "690ecdba",
   "metadata": {},
   "outputs": [],
   "source": []
  }
 ],
 "metadata": {
  "language_info": {
   "name": "python"
  }
 },
 "nbformat": 4,
 "nbformat_minor": 5
}
