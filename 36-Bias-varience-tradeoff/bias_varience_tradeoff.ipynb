{
 "cells": [
  {
   "cell_type": "markdown",
   "id": "db2bcf13",
   "metadata": {},
   "source": [
    "## **Bias Varience Trade off**"
   ]
  },
  {
   "cell_type": "markdown",
   "id": "a7cc1d02",
   "metadata": {},
   "source": [
    "Bias: The inablility of the machine learning model to caputre the relationship in the training data.\\\n",
    "The better fitting model is called low biased, and unfitted model have high bias.\n"
   ]
  },
  {
   "cell_type": "markdown",
   "id": "eb0e4bfb",
   "metadata": {},
   "source": [
    "**Varience:** Difference of fits in different datasets. If difference of the error in the training and test datasets is high then varience is said to be high vairience. "
   ]
  },
  {
   "cell_type": "markdown",
   "id": "29322824",
   "metadata": {},
   "source": [
    "The model with the high bias the model will behave same for each dataset. But for the overfit model with low bias the model will not fit to new dataset which is called high varience."
   ]
  },
  {
   "cell_type": "markdown",
   "id": "6e206348",
   "metadata": {},
   "source": [
    "**Overfitting**: If the model perfrom best in the training data and donot perform well in the test data then it is called overfitting."
   ]
  },
  {
   "cell_type": "markdown",
   "id": "a30b1487",
   "metadata": {},
   "source": [
    "**Underfitting**: If the model donot caputre the patterns in the training data set is called underfitting."
   ]
  },
  {
   "cell_type": "markdown",
   "id": "7115ab9d",
   "metadata": {},
   "source": [
    "The balance of the bias and varience will give the model of best fit. i.e with intermediate bias and intermediate varience."
   ]
  },
  {
   "cell_type": "markdown",
   "id": "ff2c5cb0",
   "metadata": {},
   "source": []
  }
 ],
 "metadata": {
  "language_info": {
   "name": "python"
  }
 },
 "nbformat": 4,
 "nbformat_minor": 5
}
