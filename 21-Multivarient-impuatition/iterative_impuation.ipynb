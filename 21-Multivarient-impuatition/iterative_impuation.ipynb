{
 "cells": [
  {
   "cell_type": "markdown",
   "id": "7849d2b8",
   "metadata": {},
   "source": [
    "### **MICE Algorithm(Multivarient Impuation By Chained Equations)**"
   ]
  },
  {
   "cell_type": "markdown",
   "id": "d1381400",
   "metadata": {},
   "source": [
    "We use this algorithm when the data is missing at random."
   ]
  },
  {
   "cell_type": "markdown",
   "id": "9c4b41f8",
   "metadata": {},
   "source": [
    "It is accurate.\\\n",
    "It becomes slow as we use the machinelearning algorithm to fill the missing values."
   ]
  },
  {
   "cell_type": "markdown",
   "id": "6af05e65",
   "metadata": {},
   "source": [
    "Following picutres show the steps invloved in the iteravtive impuation."
   ]
  },
  {
   "cell_type": "markdown",
   "id": "eb8ab497",
   "metadata": {},
   "source": [
    "1. At first the output from the dataset is removed.\n",
    "![image](1.png)"
   ]
  },
  {
   "cell_type": "markdown",
   "id": "25867e18",
   "metadata": {},
   "source": [
    "2.Then the False nan values are introduced in the dataset.\n",
    "![image](2.png)"
   ]
  },
  {
   "cell_type": "markdown",
   "id": "146018ea",
   "metadata": {},
   "source": [
    "3. Then  predicting algotihm are applied to the input dataset such that: at each step one column of the dataset is marked for the output and the other are used to prdict the value at that point.\n",
    "![image](3.png) \n",
    "![image](4.png) \n",
    "![image](5.png) \n",
    "![image](6.png) \n"
   ]
  },
  {
   "cell_type": "markdown",
   "id": "9fc226f3",
   "metadata": {},
   "source": [
    "4. Then the multiple iteration of such are done untill the difference in the perdicted value in the two iteration reaches near zero which is the predicated fitted value.\n",
    "![image](7.png)"
   ]
  },
  {
   "cell_type": "code",
   "execution_count": null,
   "id": "94a2671a",
   "metadata": {},
   "outputs": [],
   "source": []
  }
 ],
 "metadata": {
  "language_info": {
   "name": "python"
  }
 },
 "nbformat": 4,
 "nbformat_minor": 5
}
