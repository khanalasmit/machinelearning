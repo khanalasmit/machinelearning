{
 "cells": [
  {
   "cell_type": "markdown",
   "id": "e7abe915",
   "metadata": {},
   "source": [
    "### **Knn-Imputation**"
   ]
  },
  {
   "cell_type": "markdown",
   "id": "61a73f34",
   "metadata": {},
   "source": [
    "It is multivarient impuation. We use all the columns avilable in the dataset  to fill the missing values in the knn impuation. \n",
    "for eg in the dataset:\n",
    "|**X1**|**X2**|**X3**|\n",
    "|-------|---|-----|\n",
    "|1|2|3|\n",
    "|2|nan|5|\n",
    "|5|nan|nan|\n",
    "|45|44|33|\n",
    "|33|32|nan|\n",
    "|nan|32|43|\n",
    "|21|33|27|"
   ]
  },
  {
   "cell_type": "markdown",
   "id": "c57fb373",
   "metadata": {},
   "source": [
    "Here for the impuation, we fill the missing values with the value of the row have the lowest distance among the nearest neighbours. The value of the k depends upon the number of the closet distance we take. For the distance caluclation, non euclidain distance is used. \\\n",
    "$ non-euclidan-distance=\\sqrt{weight*((x_1-x_2)^2+(y_1-y_2)^2+...)}$"
   ]
  },
  {
   "cell_type": "markdown",
   "id": "42deaf67",
   "metadata": {},
   "source": [
    "Here the weight depends upon the missing values:\\\n",
    "$weight=\\frac{num-of -total -observations- in -a -row}{num -of -non -missing -observations}$\n"
   ]
  },
  {
   "cell_type": "markdown",
   "id": "6399acfb",
   "metadata": {},
   "source": [
    "distance of the second row to the first can be calculated as :\\\n",
    "$ dis=\\sqrt{\\frac{3}{2}((2-1)^2+(5-3)^2)}$"
   ]
  },
  {
   "cell_type": "markdown",
   "id": "2f2e80ff",
   "metadata": {},
   "source": [
    "<u>Advanatages</u>\n",
    "* More accuarate\\\n",
    "<u>Disadvantages</u>\n",
    "* Takes more time\n",
    "* Provide the whole training set into the production."
   ]
  },
  {
   "cell_type": "code",
   "execution_count": 182,
   "id": "7dbafeb6",
   "metadata": {},
   "outputs": [],
   "source": [
    "import numpy as np\n",
    "import pandas as pd\n",
    "import seaborn as sns\n",
    "import matplotlib.pyplot as plt\n",
    "from sklearn.linear_model import LogisticRegression\n",
    "from sklearn.metrics import accuracy_score\n",
    "from sklearn.impute import KNNImputer\n",
    "from sklearn.model_selection import train_test_split"
   ]
  },
  {
   "cell_type": "code",
   "execution_count": 183,
   "id": "4cbfbb9a",
   "metadata": {},
   "outputs": [],
   "source": [
    "titanic=sns.load_dataset('titanic')[['age','fare','pclass','survived']]"
   ]
  },
  {
   "cell_type": "code",
   "execution_count": 184,
   "id": "ffffffd5",
   "metadata": {},
   "outputs": [
    {
     "data": {
      "text/html": [
       "<div>\n",
       "<style scoped>\n",
       "    .dataframe tbody tr th:only-of-type {\n",
       "        vertical-align: middle;\n",
       "    }\n",
       "\n",
       "    .dataframe tbody tr th {\n",
       "        vertical-align: top;\n",
       "    }\n",
       "\n",
       "    .dataframe thead th {\n",
       "        text-align: right;\n",
       "    }\n",
       "</style>\n",
       "<table border=\"1\" class=\"dataframe\">\n",
       "  <thead>\n",
       "    <tr style=\"text-align: right;\">\n",
       "      <th></th>\n",
       "      <th>age</th>\n",
       "      <th>fare</th>\n",
       "      <th>pclass</th>\n",
       "      <th>survived</th>\n",
       "    </tr>\n",
       "  </thead>\n",
       "  <tbody>\n",
       "    <tr>\n",
       "      <th>0</th>\n",
       "      <td>22.0</td>\n",
       "      <td>7.2500</td>\n",
       "      <td>3</td>\n",
       "      <td>0</td>\n",
       "    </tr>\n",
       "    <tr>\n",
       "      <th>1</th>\n",
       "      <td>38.0</td>\n",
       "      <td>71.2833</td>\n",
       "      <td>1</td>\n",
       "      <td>1</td>\n",
       "    </tr>\n",
       "    <tr>\n",
       "      <th>2</th>\n",
       "      <td>26.0</td>\n",
       "      <td>7.9250</td>\n",
       "      <td>3</td>\n",
       "      <td>1</td>\n",
       "    </tr>\n",
       "    <tr>\n",
       "      <th>3</th>\n",
       "      <td>35.0</td>\n",
       "      <td>53.1000</td>\n",
       "      <td>1</td>\n",
       "      <td>1</td>\n",
       "    </tr>\n",
       "    <tr>\n",
       "      <th>4</th>\n",
       "      <td>35.0</td>\n",
       "      <td>8.0500</td>\n",
       "      <td>3</td>\n",
       "      <td>0</td>\n",
       "    </tr>\n",
       "  </tbody>\n",
       "</table>\n",
       "</div>"
      ],
      "text/plain": [
       "    age     fare  pclass  survived\n",
       "0  22.0   7.2500       3         0\n",
       "1  38.0  71.2833       1         1\n",
       "2  26.0   7.9250       3         1\n",
       "3  35.0  53.1000       1         1\n",
       "4  35.0   8.0500       3         0"
      ]
     },
     "execution_count": 184,
     "metadata": {},
     "output_type": "execute_result"
    }
   ],
   "source": [
    "titanic.head()"
   ]
  },
  {
   "cell_type": "code",
   "execution_count": 185,
   "id": "7450a216",
   "metadata": {},
   "outputs": [
    {
     "data": {
      "text/plain": [
       "age         177\n",
       "fare          0\n",
       "pclass        0\n",
       "survived      0\n",
       "dtype: int64"
      ]
     },
     "execution_count": 185,
     "metadata": {},
     "output_type": "execute_result"
    }
   ],
   "source": [
    "titanic.isnull().sum()"
   ]
  },
  {
   "cell_type": "code",
   "execution_count": 186,
   "id": "50a5d0ef",
   "metadata": {},
   "outputs": [],
   "source": [
    "X=titanic.drop(columns=['survived'])\n",
    "Y=titanic['survived']\n",
    "X_train,X_test,Y_train,Y_test=train_test_split(X,Y,test_size=0.2,random_state=2)"
   ]
  },
  {
   "cell_type": "code",
   "execution_count": 187,
   "id": "fc570fd3",
   "metadata": {},
   "outputs": [],
   "source": [
    "knn=KNNImputer(n_neighbors=2,weights='distance')\n",
    "x_train_trf=knn.fit_transform(X_train)\n",
    "x_test_trf=knn.transform(X_test)"
   ]
  },
  {
   "cell_type": "code",
   "execution_count": 188,
   "id": "cbdcf9fc",
   "metadata": {},
   "outputs": [
    {
     "data": {
      "text/html": [
       "<div>\n",
       "<style scoped>\n",
       "    .dataframe tbody tr th:only-of-type {\n",
       "        vertical-align: middle;\n",
       "    }\n",
       "\n",
       "    .dataframe tbody tr th {\n",
       "        vertical-align: top;\n",
       "    }\n",
       "\n",
       "    .dataframe thead th {\n",
       "        text-align: right;\n",
       "    }\n",
       "</style>\n",
       "<table border=\"1\" class=\"dataframe\">\n",
       "  <thead>\n",
       "    <tr style=\"text-align: right;\">\n",
       "      <th></th>\n",
       "      <th>age</th>\n",
       "      <th>fare</th>\n",
       "      <th>pclass</th>\n",
       "    </tr>\n",
       "  </thead>\n",
       "  <tbody>\n",
       "    <tr>\n",
       "      <th>0</th>\n",
       "      <td>40.000000</td>\n",
       "      <td>27.7208</td>\n",
       "      <td>1.0</td>\n",
       "    </tr>\n",
       "    <tr>\n",
       "      <th>1</th>\n",
       "      <td>4.000000</td>\n",
       "      <td>16.7000</td>\n",
       "      <td>3.0</td>\n",
       "    </tr>\n",
       "    <tr>\n",
       "      <th>2</th>\n",
       "      <td>47.000000</td>\n",
       "      <td>9.0000</td>\n",
       "      <td>3.0</td>\n",
       "    </tr>\n",
       "    <tr>\n",
       "      <th>3</th>\n",
       "      <td>9.000000</td>\n",
       "      <td>31.3875</td>\n",
       "      <td>3.0</td>\n",
       "    </tr>\n",
       "    <tr>\n",
       "      <th>4</th>\n",
       "      <td>20.000000</td>\n",
       "      <td>9.8458</td>\n",
       "      <td>3.0</td>\n",
       "    </tr>\n",
       "    <tr>\n",
       "      <th>...</th>\n",
       "      <td>...</td>\n",
       "      <td>...</td>\n",
       "      <td>...</td>\n",
       "    </tr>\n",
       "    <tr>\n",
       "      <th>707</th>\n",
       "      <td>30.000000</td>\n",
       "      <td>8.6625</td>\n",
       "      <td>3.0</td>\n",
       "    </tr>\n",
       "    <tr>\n",
       "      <th>708</th>\n",
       "      <td>30.631313</td>\n",
       "      <td>8.7125</td>\n",
       "      <td>3.0</td>\n",
       "    </tr>\n",
       "    <tr>\n",
       "      <th>709</th>\n",
       "      <td>71.000000</td>\n",
       "      <td>49.5042</td>\n",
       "      <td>1.0</td>\n",
       "    </tr>\n",
       "    <tr>\n",
       "      <th>710</th>\n",
       "      <td>28.000000</td>\n",
       "      <td>221.7792</td>\n",
       "      <td>1.0</td>\n",
       "    </tr>\n",
       "    <tr>\n",
       "      <th>711</th>\n",
       "      <td>49.795455</td>\n",
       "      <td>25.9250</td>\n",
       "      <td>1.0</td>\n",
       "    </tr>\n",
       "  </tbody>\n",
       "</table>\n",
       "<p>712 rows × 3 columns</p>\n",
       "</div>"
      ],
      "text/plain": [
       "           age      fare  pclass\n",
       "0    40.000000   27.7208     1.0\n",
       "1     4.000000   16.7000     3.0\n",
       "2    47.000000    9.0000     3.0\n",
       "3     9.000000   31.3875     3.0\n",
       "4    20.000000    9.8458     3.0\n",
       "..         ...       ...     ...\n",
       "707  30.000000    8.6625     3.0\n",
       "708  30.631313    8.7125     3.0\n",
       "709  71.000000   49.5042     1.0\n",
       "710  28.000000  221.7792     1.0\n",
       "711  49.795455   25.9250     1.0\n",
       "\n",
       "[712 rows x 3 columns]"
      ]
     },
     "execution_count": 188,
     "metadata": {},
     "output_type": "execute_result"
    }
   ],
   "source": [
    "pd.DataFrame(x_train_trf,columns=X_train.columns)"
   ]
  },
  {
   "cell_type": "code",
   "execution_count": 189,
   "id": "812fa1a9",
   "metadata": {},
   "outputs": [],
   "source": [
    "lr=LogisticRegression()\n",
    "lr.fit(x_train_trf,Y_train)\n",
    "y_pred=lr.predict(x_test_trf)"
   ]
  },
  {
   "cell_type": "code",
   "execution_count": 190,
   "id": "5048cb1d",
   "metadata": {},
   "outputs": [
    {
     "data": {
      "text/plain": [
       "0.7094972067039106"
      ]
     },
     "execution_count": 190,
     "metadata": {},
     "output_type": "execute_result"
    }
   ],
   "source": [
    "accuracy_score(y_pred,Y_test)"
   ]
  },
  {
   "cell_type": "code",
   "execution_count": 191,
   "id": "8130c6cf",
   "metadata": {},
   "outputs": [],
   "source": [
    "from sklearn.impute import SimpleImputer\n",
    "si=SimpleImputer()\n",
    "x_train_trf2=si.fit_transform(X_train)\n",
    "x_test_trf2=si.fit_transform(X_test)"
   ]
  },
  {
   "cell_type": "code",
   "execution_count": 192,
   "id": "5ceabc22",
   "metadata": {},
   "outputs": [
    {
     "data": {
      "text/plain": [
       "0.6927374301675978"
      ]
     },
     "execution_count": 192,
     "metadata": {},
     "output_type": "execute_result"
    }
   ],
   "source": [
    "lr=LogisticRegression()\n",
    "lr.fit(x_train_trf2,Y_train)\n",
    "y_pred2=lr.predict(x_test_trf2)\n",
    "accuracy_score(y_pred2,Y_test)"
   ]
  },
  {
   "cell_type": "code",
   "execution_count": 193,
   "id": "7d0bc7d8",
   "metadata": {},
   "outputs": [],
   "source": [
    "from sklearn.model_selection import cross_val_score\n",
    "from sklearn.pipeline import Pipeline"
   ]
  },
  {
   "cell_type": "code",
   "execution_count": 194,
   "id": "f007032b",
   "metadata": {},
   "outputs": [
    {
     "data": {
      "text/plain": [
       "np.float64(0.7014856785036157)"
      ]
     },
     "execution_count": 194,
     "metadata": {},
     "output_type": "execute_result"
    }
   ],
   "source": [
    "pipe=Pipeline(steps=[\n",
    "    ('imputer1',KNNImputer(n_neighbors=4,weights='distance')),\n",
    "    ('lf',LogisticRegression())\n",
    "])\n",
    "cross_val_score(pipe,X,Y,cv=4,scoring='accuracy').mean()"
   ]
  },
  {
   "cell_type": "markdown",
   "id": "134b977a",
   "metadata": {},
   "source": [
    "Here the weights='distance' will select the file based on distance as the weight during the point calculation.\\\n",
    "for eg: lets we have two nearest distacne be 10,30 then the point will be calculated as:\\\n",
    "${\\frac{1}{10}*x_1}+{\\frac{1}{30}*x_2}$, for the value of k 2\\\n",
    "for the weights='uniform' we take the mean  of the points with the nearest distance as per the number of k."
   ]
  },
  {
   "cell_type": "code",
   "execution_count": 195,
   "id": "66e4c7c9",
   "metadata": {},
   "outputs": [
    {
     "name": "stdout",
     "output_type": "stream",
     "text": [
      "0.6992485759301903\n"
     ]
    }
   ],
   "source": [
    "pipe2=Pipeline(steps=[\n",
    "    ('imputer2',SimpleImputer()),\n",
    "    ('lf2',LogisticRegression())\n",
    "])\n",
    "print(cross_val_score(pipe2,X,Y,cv=4,scoring='accuracy').mean())"
   ]
  },
  {
   "cell_type": "markdown",
   "id": "735a46b0",
   "metadata": {},
   "source": [
    "We see the model performance is better with the simple imputer."
   ]
  },
  {
   "cell_type": "code",
   "execution_count": null,
   "id": "c2f403d4",
   "metadata": {},
   "outputs": [],
   "source": []
  }
 ],
 "metadata": {
  "kernelspec": {
   "display_name": "Python 3",
   "language": "python",
   "name": "python3"
  },
  "language_info": {
   "codemirror_mode": {
    "name": "ipython",
    "version": 3
   },
   "file_extension": ".py",
   "mimetype": "text/x-python",
   "name": "python",
   "nbconvert_exporter": "python",
   "pygments_lexer": "ipython3",
   "version": "3.12.4"
  }
 },
 "nbformat": 4,
 "nbformat_minor": 5
}
