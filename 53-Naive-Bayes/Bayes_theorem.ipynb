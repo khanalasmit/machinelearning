{
 "cells": [
  {
   "cell_type": "markdown",
   "id": "543d2679",
   "metadata": {},
   "source": [
    "### **BAYES THEOREM**\n",
    "- If there are two event A,B then \n",
    "$$\n",
    "P(A/B)=\\frac{P(B/A)P(A)}{P(B)} \\\\\n",
    "\\text{P(A/B)} ----->\\text{Posterior probablity }\\\\\n",
    "\\text{P(B/A)}---->\\text{Likelihood}\\\\\n",
    "\\text{P(A)----> Prior}\\\\\n",
    "P(B)--->Evidence"
   ]
  },
  {
   "cell_type": "markdown",
   "id": "b69eda9d",
   "metadata": {},
   "source": [
    "**Proof**:\n",
    "$$\n",
    "P(A/B)=\\frac{P(A\\cap B)}{P(B)}\\\\\n",
    "P(B/A)=\\frac{P(B\\cap A)}{P(A)}\\\\\n",
    "p(A\\cap B)=P(B/A)*P(A)\\\\\n",
    "\\text{Thus is written the above formula}\\\\\n"
   ]
  },
  {
   "cell_type": "markdown",
   "id": "12869385",
   "metadata": {},
   "source": []
  }
 ],
 "metadata": {
  "language_info": {
   "name": "python"
  }
 },
 "nbformat": 4,
 "nbformat_minor": 5
}
