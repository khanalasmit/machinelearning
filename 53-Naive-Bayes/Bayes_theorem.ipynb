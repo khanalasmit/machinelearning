{
 "cells": [
  {
   "cell_type": "markdown",
   "id": "543d2679",
   "metadata": {},
   "source": [
    "### **BAYES THEOREM**\n",
    "- If there are two event A,B then \n",
    "$$\n",
    "P(A/B)=\\frac{P(B/A)P(A)}{P(B)} \\\\\n",
    "\\text{P(A/B)} ----->\\text{Posterior probablity }\\\\\n",
    "\\text{P(B/A)}---->\\text{Likelihood}\\\\\n",
    "\\text{P(A)----> Prior}\\\\\n",
    "P(B)--->Evidence"
   ]
  },
  {
   "cell_type": "markdown",
   "id": "b69eda9d",
   "metadata": {},
   "source": [
    "**Proof**:\n",
    "$$\n",
    "P(A/B)=\\frac{P(A\\cap B)}{P(B)}\\\\\n",
    "P(B/A)=\\frac{P(B\\cap A)}{P(A)}\\\\\n",
    "p(A\\cap B)=P(B/A)*P(A)\\\\\n",
    "\\text{Thus is written the above formula}\\\\\n"
   ]
  },
  {
   "cell_type": "markdown",
   "id": "12869385",
   "metadata": {},
   "source": [
    "# Bayes’ Theorem — Factory Example (Three Machines)\n",
    "\n",
    "## Scenario\n",
    "A factory has three machines that make the same part:\n",
    "\n",
    "- **Machine A**: produces **50%** of parts, defect rate = **1%**.  \n",
    "  $P(A)=0.50,\\; P(D\\mid A)=0.01$\n",
    "\n",
    "- **Machine B**: produces **30%** of parts, defect rate = **4%**.  \n",
    "  $P(B)=0.30,\\; P(D\\mid B)=0.04$\n",
    "\n",
    "- **Machine C**: produces **20%** of parts, defect rate = **5%**.  \n",
    "  $P(C)=0.20,\\; P(D\\mid C)=0.05$\n",
    "\n",
    "We pick a part at random and find it is **defective**.  \n",
    "**Question:** What is the probability it was made by **Machine C**? i.e. find $P(C\\mid D)$.\n",
    "\n",
    "---\n",
    "\n",
    "## Step 1 — Total probability of a defective part\n",
    "Using the law of total probability:\n",
    "$$\n",
    "P(D) = P(D\\mid A)P(A) + P(D\\mid B)P(B) + P(D\\mid C)P(C)\n",
    "$$\n",
    "\n",
    "Substitute values:\n",
    "$$\n",
    "P(D) = (0.01)(0.50) + (0.04)(0.30) + (0.05)(0.20)\n",
    "$$\n",
    "\n",
    "Compute each term:\n",
    "- $(0.01)(0.50) = 0.005$\n",
    "- $(0.04)(0.30) = 0.012$\n",
    "- $(0.05)(0.20) = 0.010$\n",
    "\n",
    "So\n",
    "$$\n",
    "P(D) = 0.005 + 0.012 + 0.010 = 0.027\n",
    "$$\n",
    "\n",
    "The overall probability of a defective part is **2.7%**.\n",
    "\n",
    "---\n",
    "\n",
    "## Step 2 — Apply Bayes’ theorem\n",
    "Bayes’ theorem for $P(C\\mid D)$:\n",
    "$$\n",
    "P(C\\mid D) = \\frac{P(D\\mid C)\\,P(C)}{P(D)}\n",
    "$$\n",
    "\n",
    "Substitute values:\n",
    "$$\n",
    "P(C\\mid D) = \\frac{0.05 \\times 0.20}{0.027} = \\frac{0.010}{0.027} = \\frac{10}{27} \\approx 0.37037\n",
    "$$\n",
    "\n",
    "---\n",
    "\n",
    "## Final Answer\n",
    "$$\n",
    "P(C\\mid D) \\approx 37.04\\%\n",
    "$$\n",
    "\n",
    "---\n",
    "\n",
    "## Interpretation\n",
    "Even though Machine C produces only **20%** of parts, because it has a higher defect rate (5%), a defective part has about a **37.04%** chance of having come from Machine C.  \n",
    "If you want, I can also show $P(A\\mid D)$ and $P(B\\mid D)$, or draw a simple ASCII probability tree for visualization.\n"
   ]
  },
  {
   "cell_type": "markdown",
   "id": "d915c876",
   "metadata": {},
   "source": []
  }
 ],
 "metadata": {
  "language_info": {
   "name": "python"
  }
 },
 "nbformat": 4,
 "nbformat_minor": 5
}
