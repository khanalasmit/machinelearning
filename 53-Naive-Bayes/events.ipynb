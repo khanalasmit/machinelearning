{
 "cells": [
  {
   "cell_type": "markdown",
   "id": "43e7fd47",
   "metadata": {},
   "source": [
    "### **DIFFERENCES BETWEEN INDEPENDENT EVENTS AND MUTUALLY EXCLUSIVE EVENT**"
   ]
  },
  {
   "cell_type": "markdown",
   "id": "085944a6",
   "metadata": {},
   "source": [
    "# Differences Between Mutually Exclusive and Independent Events\n",
    "\n",
    "| Aspect | Mutually Exclusive Events | Independent Events |\n",
    "|--------|----------------------------|---------------------|\n",
    "| **Definition** | Two events are **mutually exclusive** if they cannot occur at the same time. | Two events are **independent** if the occurrence of one does not affect the probability of the other. |\n",
    "| **Condition** | $ P(A \\cap B) = 0 $ | $ P(A \\cap B) = P(A) \\cdot P(B) $ |\n",
    "| **Relation** | One event happening **prevents** the other from happening. | One event happening **does not influence** the probability of the other. |\n",
    "| **Example** | Tossing a coin: Event A = \"Heads\", Event B = \"Tails\". (They cannot happen together.) | Tossing two coins: Event A = \"First coin is Heads\", Event B = \"Second coin is Tails\". (They don’t affect each other.) |\n",
    "| **Probability Impact** | If events are mutually exclusive and $ P(A) > 0 $, then $ P(B|A) = 0 $. | If events are independent, then $ P(B|A) = P(B) $. |\n",
    "| **Possibility of Being Both** | Two events cannot be both mutually exclusive and independent (except in trivial cases where $ P(A) = 0 $ or $ P(B) = 0 $). | Two events can be independent without being mutually exclusive. |\n",
    "\n"
   ]
  },
  {
   "cell_type": "markdown",
   "id": "cbac779f",
   "metadata": {},
   "source": []
  }
 ],
 "metadata": {
  "language_info": {
   "name": "python"
  }
 },
 "nbformat": 4,
 "nbformat_minor": 5
}
