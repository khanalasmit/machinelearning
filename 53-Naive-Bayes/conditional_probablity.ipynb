{
 "cells": [
  {
   "cell_type": "markdown",
   "id": "00e7cc32",
   "metadata": {},
   "source": [
    "### **CONDITIONAL PROBABLITY**"
   ]
  },
  {
   "cell_type": "markdown",
   "id": "d8dfa1d3",
   "metadata": {},
   "source": [
    "# Conditional Probability\n",
    "\n",
    "## Introduction\n",
    "Conditional probability measures the probability of an event occurring **given that another event has already occurred**.  \n",
    "It tells us how the occurrence of one event influences the probability of another.\n",
    "\n",
    "---\n",
    "\n",
    "## Definition\n",
    "The conditional probability of event **A** given that event **B** has occurred is written as:\n",
    "\n",
    "$$\n",
    "P(A \\mid B) = \\frac{P(A \\cap B)}{P(B)}\n",
    "$$\n",
    "\n",
    "provided that $ P(B) > 0 $.\n",
    "\n",
    "- $ P(A \\mid B) $: Probability of event **A** occurring given **B**.\n",
    "- $ P(A \\cap B) $: Probability that both **A** and **B** occur.\n",
    "- $ P(B) $: Probability of event **B**.\n",
    "\n",
    "---\n",
    "\n",
    "## Key Points\n",
    "1. **Dependency**: Conditional probability shows how one event depends on another.\n",
    "2. **Restriction of sample space**: When conditioning on $B$, only outcomes where $B$ happens are considered.\n",
    "3. **Requirement**: $ P(B) > 0 $ must hold, otherwise $ P(A \\mid B) $ is undefined.\n",
    "\n",
    "---\n",
    "\n",
    "## Example\n",
    "Suppose we draw a card from a standard deck of 52 cards.\n",
    "\n",
    "- Let event **A** = \"Card is a King\".  \n",
    "- Let event **B** = \"Card is a Spade\".\n",
    "\n",
    "We know:\n",
    "- $( P(A \\cap B) = \\frac{1}{52} )$ (only the King of Spades).  \n",
    "-$  P(B) = \\frac{13}{52} = \\frac{1}{4} $.  \n",
    "\n",
    "So,\n",
    "$$\n",
    "P(A \\mid B) = \\frac{P(A \\cap B)}{P(B)} = \\frac{\\tfrac{1}{52}}{\\tfrac{1}{4}} = \\frac{1}{13}\n",
    "$$\n",
    "\n",
    "Thus, the probability that a card is a **King**, given it is a **Spade**, is $ \\tfrac{1}{13} $.\n",
    "\n",
    "---\n",
    "\n",
    "## Properties\n",
    "1. $( P(A \\mid B) \\cdot P(B) = P(A \\cap B) )$.\n",
    "2. If **A** and **B** are independent, then:\n",
    "   $$\n",
    "   P(A \\mid B) = P(A)\n",
    "   $$\n",
    "   since the occurrence of **B** does not affect **A**.\n",
    "\n",
    "---\n",
    "\n",
    "## Applications\n",
    "- **Bayes’ Theorem**: Foundation of Bayesian statistics.  \n",
    "- **Reliability Engineering**: Failure probabilities given certain conditions.  \n",
    "- **Machine Learning**: Used in probabilistic models like Naïve Bayes.  \n",
    "- **Medical Testing**: Probability of disease given a positive test result.\n",
    "\n",
    "---\n"
   ]
  },
  {
   "cell_type": "markdown",
   "id": "d949b1a3",
   "metadata": {},
   "source": []
  }
 ],
 "metadata": {
  "language_info": {
   "name": "python"
  }
 },
 "nbformat": 4,
 "nbformat_minor": 5
}
