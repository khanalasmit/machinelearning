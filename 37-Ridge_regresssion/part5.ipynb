{
 "cells": [
  {
   "cell_type": "markdown",
   "id": "de3889ba",
   "metadata": {},
   "source": [
    "## **5 KEY UNDERSTANDINGS**"
   ]
  },
  {
   "cell_type": "markdown",
   "id": "b27c098a",
   "metadata": {},
   "source": [
    "### **1.How the coefficients get affected?**"
   ]
  },
  {
   "cell_type": "markdown",
   "id": "6ac65280",
   "metadata": {},
   "source": [
    "As we increase the value of alpha the coeffients decreases and on further increasing of alpha coefficients tends to apporach to zero but donot become zero. The increase in the value of the alpha increases the value of loss thus penalizing the lareger coefficients thus as the alpha increases the loss reducing tendency of the ridge regerssion reduces the value of the coefficients."
   ]
  },
  {
   "cell_type": "markdown",
   "id": "000936ab",
   "metadata": {},
   "source": [
    "### **Higher values are impacted nore**\n",
    "* If a particluar coefficents is more than it will decrease more than the which are lower. \n"
   ]
  },
  {
   "cell_type": "markdown",
   "id": "e0590e0c",
   "metadata": {},
   "source": [
    "### **Bias varience tradeoff**\n",
    "* It balances the bias and varience thus reducing the overfitting with the increasing alpha upto optimal point."
   ]
  },
  {
   "cell_type": "code",
   "execution_count": 1,
   "id": "dd0b398a",
   "metadata": {},
   "outputs": [],
   "source": [
    "import pandas as pd \n",
    "import numpy as np"
   ]
  },
  {
   "cell_type": "code",
   "execution_count": 2,
   "id": "9b68411c",
   "metadata": {},
   "outputs": [
    {
     "data": {
      "image/png": "[encoded data removed]",
      "text/plain": [
       "<Figure size 640x480 with 1 Axes>"
      ]
     },
     "metadata": {},
     "output_type": "display_data"
    }
   ],
   "source": [
    "m=100\n",
    "X=5*np.random.rand(m,1)-2\n",
    "y=0.7*X**2-2*X+3+np.random.randn(m,1)\n",
    "import matplotlib.pyplot as plt\n",
    "plt.scatter(X,y)\n",
    "plt.show()"
   ]
  },
  {
   "cell_type": "code",
   "execution_count": 3,
   "id": "61ed63db",
   "metadata": {},
   "outputs": [],
   "source": [
    "from sklearn.model_selection import train_test_split\n",
    "X_train,y_train,X_test,y_test=train_test_split(X,y,random_state=42,test_size=0.3)\n",
    "\n"
   ]
  },
  {
   "cell_type": "code",
   "execution_count": 4,
   "id": "8301dfde",
   "metadata": {},
   "outputs": [],
   "source": [
    "from sklearn.preprocessing import PolynomialFeatures\n",
    "poly=PolynomialFeatures(degree=15)\n",
    "X_train=poly.fit_transform(X_train)\n",
    "X_test=poly.transform(X_test)\n"
   ]
  },
  {
   "cell_type": "code",
   "execution_count": 5,
   "id": "c3f82ec7",
   "metadata": {},
   "outputs": [],
   "source": [
    "from sklearn.linear_model import Ridge"
   ]
  },
  {
   "cell_type": "code",
   "execution_count": null,
   "id": "57784632",
   "metadata": {},
   "outputs": [],
   "source": [
    "from mlxtend.evaluate import bias_varience_decomp\n",
    "alphas=np.linspace(0,30,100)\n",
    "loss=[]\n",
    "bias=[]\n",
    "varience=[]\n",
    "for i in alphas:\n",
    "    reg=Ridge(alpha=i)\n",
    "    avg_expected_loss,avg_bias,avg_var=bias_varience_decomp(\n",
    "        reg,X_train,y_train,X_test,y_test,\n",
    "        loss='mse',\n",
    "        random_seed=123\n",
    "    )\n",
    "    loss.append(avg_expected_loss)\n",
    "    bias.append(avg_bias)\n",
    "    varience.append(avg_var)\n",
    "    \n",
    "    "
   ]
  }
 ],
 "metadata": {
  "kernelspec": {
   "display_name": "Python 3",
   "language": "python",
   "name": "python3"
  },
  "language_info": {
   "codemirror_mode": {
    "name": "ipython",
    "version": 3
   },
   "file_extension": ".py",
   "mimetype": "text/x-python",
   "name": "python",
   "nbconvert_exporter": "python",
   "pygments_lexer": "ipython3",
   "version": "3.12.4"
  }
 },
 "nbformat": 4,
 "nbformat_minor": 5
}
