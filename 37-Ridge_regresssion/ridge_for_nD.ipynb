{
 "cells": [
  {
   "cell_type": "markdown",
   "id": "6356ae29",
   "metadata": {},
   "source": [
    "## **MATHEMATICAL INTUTION FOR THE RIDGE REGRESSION OF MULTI DIMENSIONAL DATA**"
   ]
  },
  {
   "cell_type": "markdown",
   "id": "8b82b02b",
   "metadata": {},
   "source": [
    "Suppose we have (n+1) columns and m rows. "
   ]
  },
  {
   "cell_type": "markdown",
   "id": "cb5babc4",
   "metadata": {},
   "source": [
    "The loss function for the m data is :\n",
    "$$\n",
    "L=\\sum_{i=1}^n (Y_{i}-\\hat{Y_{i}})^2\\\\\n",
    "\\text{In the matrix from}\\\\\n",
    "=(XW-Y)^{T}(XW-Y)\\\\\n",
    "\\text{where X,W and Y are as follows:}\\\\\n",
    "\n",
    "Y=\\begin{bmatrix}\n",
    "    Y_1\\\\\n",
    "    Y_2\\\\\n",
    "    Y_3\\\\\n",
    "     . \\\\\n",
    "      . \\\\\n",
    "     Y_{n}\\end{bmatrix}\\\\\n",
    "W=\\begin{bmatrix}\n",
    "W_0\\\\\n",
    "W_1\\\\\n",
    "W_2\\\\\n",
    ".\\\\\n",
    ".\\\\\n",
    "W_{n}\n",
    "\\end{bmatrix}\n",
    "X=\\begin{bmatrix}\n",
    "1 & X_{11} & X_{12} & ... & X_{1n}\\\\\n",
    "1 & X_{21} & X_{22} & ... & X_{2n}\\\\\n",
    "1 & X_{31} & X_{32} & ... & X_{3n}\\\\\n",
    ". & . & . &. & .\\\\\n",
    ". & . & . &. & .\\\\\n",
    "1 & X_{m1} & X_{m2} & ... & X_{mn}\n",
    "\\end{bmatrix}\n",
    "$$\n"
   ]
  },
  {
   "cell_type": "markdown",
   "id": "f90c6868",
   "metadata": {},
   "source": []
  }
 ],
 "metadata": {
  "language_info": {
   "name": "python"
  }
 },
 "nbformat": 4,
 "nbformat_minor": 5
}
