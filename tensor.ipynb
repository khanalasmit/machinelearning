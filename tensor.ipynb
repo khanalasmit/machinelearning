{
 "cells": [
  {
   "cell_type": "markdown",
   "id": "3d16d00a",
   "metadata": {},
   "source": [
    "0D tesnor\n",
    "---------"
   ]
  },
  {
   "cell_type": "code",
   "execution_count": 1,
   "id": "5c3a9570",
   "metadata": {},
   "outputs": [],
   "source": [
    "import numpy as np\n",
    "a=np.array(0)"
   ]
  },
  {
   "cell_type": "markdown",
   "id": "278f0bf8",
   "metadata": {},
   "source": [
    "1D Tesnor:\n",
    "It is simply the vector. Vector can be 1d , 2d ,3d and more. Each vectors are only 1D tesnors\n",
    "eg: numpy array with a single row"
   ]
  },
  {
   "cell_type": "code",
   "execution_count": 4,
   "id": "868723fa",
   "metadata": {},
   "outputs": [
    {
     "data": {
      "text/plain": [
       "array([1, 2, 3])"
      ]
     },
     "execution_count": 4,
     "metadata": {},
     "output_type": "execute_result"
    }
   ],
   "source": [
    "a=np.array([1,2,3])\n",
    "a"
   ]
  },
  {
   "cell_type": "markdown",
   "id": "a9d49b6b",
   "metadata": {},
   "source": [
    "2D tesnor :\n",
    "It is a matrics which can be said as the combination of the mutiple vectors. Mostly the matrices are used for the vector spanning,"
   ]
  },
  {
   "cell_type": "code",
   "execution_count": 6,
   "id": "89899346",
   "metadata": {},
   "outputs": [
    {
     "data": {
      "text/plain": [
       "array([[1, 2, 3],\n",
       "       [2, 3, 4]])"
      ]
     },
     "execution_count": 6,
     "metadata": {},
     "output_type": "execute_result"
    }
   ],
   "source": [
    "b=np.array([[1,2,3],[2,3,4]])\n",
    "b"
   ]
  },
  {
   "cell_type": "code",
   "execution_count": 8,
   "id": "7b91be2c",
   "metadata": {},
   "outputs": [
    {
     "data": {
      "text/plain": [
       "2"
      ]
     },
     "execution_count": 8,
     "metadata": {},
     "output_type": "execute_result"
    }
   ],
   "source": [
    "b.ndim"
   ]
  },
  {
   "cell_type": "markdown",
   "id": "23eee8d9",
   "metadata": {},
   "source": [
    "ND tensor:\n",
    "combiantion of the matrices over the layers is the bd tensor."
   ]
  },
  {
   "cell_type": "code",
   "execution_count": null,
   "id": "8fa4b95c",
   "metadata": {},
   "outputs": [],
   "source": []
  }
 ],
 "metadata": {
  "kernelspec": {
   "display_name": "Python 3",
   "language": "python",
   "name": "python3"
  },
  "language_info": {
   "codemirror_mode": {
    "name": "ipython",
    "version": 3
   },
   "file_extension": ".py",
   "mimetype": "text/x-python",
   "name": "python",
   "nbconvert_exporter": "python",
   "pygments_lexer": "ipython3",
   "version": "3.12.4"
  }
 },
 "nbformat": 4,
 "nbformat_minor": 5
}
