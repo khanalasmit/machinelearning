{
 "cells": [
  {
   "cell_type": "markdown",
   "id": "81f0a1f3",
   "metadata": {},
   "source": [
    "### **HYPERPARAMTERS OF AdaBoostClassifier**"
   ]
  },
  {
   "cell_type": "markdown",
   "id": "b3d54b31",
   "metadata": {},
   "source": [
    "**1. Base estimator**\n",
    "- The base estimator to use in the adaboost \n",
    "- deafult: decision tree with depth 1"
   ]
  },
  {
   "cell_type": "markdown",
   "id": "ca83da5a",
   "metadata": {},
   "source": [
    "**2. n_estimators**\n",
    "- No of steps to use or number of base models to use.\n"
   ]
  },
  {
   "cell_type": "markdown",
   "id": "7f11cdfa",
   "metadata": {},
   "source": [
    "**3. Learning rate**\n",
    "- weight applied to each classifier at each boosting iteration. \n",
    "- it is used to change the value of alpha at each step \n",
    "- it slows down learning of the model i.e misclassified point will have less weight increase thus reducing the overfitting.\n",
    "- Even if the estimators are high the overfitting will reduce."
   ]
  },
  {
   "cell_type": "markdown",
   "id": "bb12cf24",
   "metadata": {},
   "source": [
    "**4. algorithm**\n",
    "- SAMME\n",
    "- SAMME.R : DEAFULT\n",
    "- Mostly use samme.r"
   ]
  }
 ],
 "metadata": {
  "language_info": {
   "name": "python"
  }
 },
 "nbformat": 4,
 "nbformat_minor": 5
}
