{
 "cells": [
  {
   "cell_type": "markdown",
   "id": "81f0a1f3",
   "metadata": {},
   "source": [
    "### **HYPERPARAMTERS OF AdaBoostClassifier**"
   ]
  },
  {
   "cell_type": "markdown",
   "id": "b3d54b31",
   "metadata": {},
   "source": []
  }
 ],
 "metadata": {
  "language_info": {
   "name": "python"
  }
 },
 "nbformat": 4,
 "nbformat_minor": 5
}
