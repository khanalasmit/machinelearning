{
 "cells": [
  {
   "cell_type": "markdown",
   "id": "99fe56eb",
   "metadata": {},
   "source": [
    "### **Differences between bagging and boosting**\n"
   ]
  },
  {
   "cell_type": "markdown",
   "id": "b571d1b1",
   "metadata": {},
   "source": [
    "|Des|**Bagging**|**Boosting**|\n",
    "|-|-|-|\n",
    "|**Types of model used:**|Low bias high varience model|High bias low varience model |\n",
    "|**Sequential vs Parrallel learning**|First Bootstrapping then Aggreagating, the models are trained simultaneulsy, thus parrallel|The model at each step do up sampling thus sequential|\n",
    "|**Weightage of the base learners**|Same weight of each of the base models|The weightage of the each of the models have different weightage|"
   ]
  },
  {
   "cell_type": "markdown",
   "id": "ad0ae3ca",
   "metadata": {},
   "source": []
  }
 ],
 "metadata": {
  "language_info": {
   "name": "python"
  }
 },
 "nbformat": 4,
 "nbformat_minor": 5
}
