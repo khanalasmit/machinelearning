{
 "cells": [
  {
   "cell_type": "markdown",
   "id": "095868ce",
   "metadata": {},
   "source": [
    "### **AdaBoost Classifier**"
   ]
  },
  {
   "cell_type": "markdown",
   "id": "a3faf387",
   "metadata": {},
   "source": [
    "- Boosting algorithm always works better\n",
    "- They were previously used for the face detection\n",
    "- AdaBoost is the good alogorithm. The random forest and other algorithms may perform better than it but learning it is the good start."
   ]
  },
  {
   "cell_type": "markdown",
   "id": "991910c5",
   "metadata": {},
   "source": [
    "### **Weak Learners**\n",
    "- It is such a machine learning which has the accuracy nearly 50%\n",
    "- If the accuracy is more than 90% such are good learners\n",
    "- In the ada boost we use the weak learners to make a strong learner . \n"
   ]
  },
  {
   "cell_type": "markdown",
   "id": "45efa19d",
   "metadata": {},
   "source": [
    "### **Decision Stumps**\n",
    "- It is one type of the weak learners. \n",
    "- In this case we make a single split along each axis and then fix to only one. That is we taste every splits and choose one which has the least entropy or high information gain. \n",
    "- This is here because we use Decision Stumps internally although we could use other algorithms."
   ]
  },
  {
   "cell_type": "markdown",
   "id": "7476001a",
   "metadata": {},
   "source": [
    "### **+1 and -1**\n",
    "- Here we will have the classes +1 and -1 in place of 0 and 1."
   ]
  },
  {
   "cell_type": "markdown",
   "id": "8e730f72",
   "metadata": {},
   "source": [
    "### **The Big Idea**\n",
    "- It is stage wise additive method. \n",
    "- Here we step wise add the weak learners.\n",
    "- Here we fit the decision stumps such that entropy will be minimum.\n",
    "- Then we will use the result of the first to the second stage with increased focus to the mistaken classification called upsampling. \n",
    "- We calcualte the weight of each of the decision stumps. "
   ]
  },
  {
   "cell_type": "markdown",
   "id": "6ea6554a",
   "metadata": {},
   "source": [
    "![image](1.png)"
   ]
  },
  {
   "cell_type": "markdown",
   "id": "57c3bf13",
   "metadata": {},
   "source": [
    "**The overall AdaBoost algorithm is :**\\\n",
    "$h(x)=sign(\\alpha_{1}*h1(x)+\\alpha_{2}*h2(x)+\\alpha_{3}*h3(x)+...)$"
   ]
  },
  {
   "cell_type": "markdown",
   "id": "1cd08801",
   "metadata": {},
   "source": []
  }
 ],
 "metadata": {
  "language_info": {
   "name": "python"
  }
 },
 "nbformat": 4,
 "nbformat_minor": 5
}
