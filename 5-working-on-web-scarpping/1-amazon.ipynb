{
 "cells": [
  {
   "cell_type": "code",
   "execution_count": 1,
   "id": "787b76a6",
   "metadata": {},
   "outputs": [],
   "source": [
    "from selenium import webdriver\n",
    "import time\n",
    "from selenium.webdriver.common.by import By\n",
    "from selenium.webdriver.common.keys import Keys\n",
    "from selenium.webdriver.support.wait import WebDriverWait\n",
    "from selenium.webdriver.support import expected_conditions as EC\n",
    "from bs4 import BeautifulSoup\n",
    "import pandas as pd\n",
    "import math\n"
   ]
  },
  {
   "cell_type": "code",
   "execution_count": 2,
   "id": "5c8aef25",
   "metadata": {},
   "outputs": [],
   "source": [
    "driver=webdriver.Chrome()\n",
    "htmls=[]"
   ]
  },
  {
   "cell_type": "code",
   "execution_count": 3,
   "id": "f84714d1",
   "metadata": {},
   "outputs": [],
   "source": [
    "#send the search item to the search box in the web\n",
    "def send_to_search(search_item):\n",
    "    try:\n",
    "        search_element=WebDriverWait(driver,10).until(\n",
    "            EC.element_to_be_clickable((By.ID,'twotabsearchtextbox'))\n",
    "        )\n",
    "        search_element.clear()\n",
    "        search_element.send_keys(search_item)\n",
    "        search_element.send_keys(Keys.RETURN)\n",
    "        \n",
    "    except:\n",
    "        print('Error occured during search')"
   ]
  },
  {
   "cell_type": "code",
   "execution_count": 4,
   "id": "68912c21",
   "metadata": {},
   "outputs": [],
   "source": [
    "def get_items():\n",
    "    try:\n",
    "        html=driver.page_source\n",
    "        #print(html)\n",
    "    except:\n",
    "        print(\"Error in getting items\")"
   ]
  },
  {
   "cell_type": "code",
   "execution_count": 5,
   "id": "d92d7747",
   "metadata": {},
   "outputs": [],
   "source": [
    "#function to click on the next in the web driver in the webpage\n",
    "def send_next_key():\n",
    "    #give maximum time of 10 sec to load and search for the web page\n",
    "    try:\n",
    "        next_elemnet=WebDriverWait(driver,10).until(\n",
    "            EC.element_to_be_clickable((By.CSS_SELECTOR,'a.s-pagination-next'))\n",
    "        )\n",
    "        next_elemnet.click()\n",
    "        time.sleep(3)\n",
    "        return True\n",
    "    except:\n",
    "        print(\"Error occured during sending next key\")\n",
    "        return False"
   ]
  },
  {
   "cell_type": "code",
   "execution_count": 6,
   "id": "1e211b05",
   "metadata": {},
   "outputs": [],
   "source": [
    "#parsing the page to select the appropriate element\n",
    "def parse_pages():\n",
    "    print(len(htmls))\n",
    "    #for html in htmls:\n",
    "    #    page=BeautifulSoup(html,'html.parser')\n",
    "    #    list_of_items=page.find_all('css_selector',{'div.a-spacing-top-small'})\n",
    "    #    print(list_of_items)"
   ]
  },
  {
   "cell_type": "code",
   "execution_count": 7,
   "id": "4043f219",
   "metadata": {},
   "outputs": [],
   "source": [
    "#it explores the website of amazon\n",
    "def amazon_bot(url,search_item):\n",
    "    driver.get(url)\n",
    "    time.sleep(20)\n",
    "    send_to_search(search_item)\n",
    "    html=get_items()\n",
    "    htmls.append(html)\n",
    "    #get the page html to parse from the web untill the next key is there\n",
    "    while send_next_key():\n",
    "        html=get_items()\n",
    "        htmls.append(html)\n",
    "    parse_pages()"
   ]
  },
  {
   "cell_type": "code",
   "execution_count": 8,
   "id": "de6468cf",
   "metadata": {},
   "outputs": [
    {
     "ename": "InvalidSessionIdException",
     "evalue": "Message: invalid session id: session deleted as the browser has closed the connection\nfrom disconnected: not connected to DevTools\n  (Session info: chrome=137.0.7151.57)\nStacktrace:\n\tGetHandleVerifier [0x0x7ff6a901fea5+79173]\n\tGetHandleVerifier [0x0x7ff6a901ff00+79264]\n\t(No symbol) [0x0x7ff6a8dd9e5a]\n\t(No symbol) [0x0x7ff6a8dc5c25]\n\t(No symbol) [0x0x7ff6a8deac44]\n\t(No symbol) [0x0x7ff6a8e603c5]\n\t(No symbol) [0x0x7ff6a8e80922]\n\t(No symbol) [0x0x7ff6a8e58743]\n\t(No symbol) [0x0x7ff6a8e214c1]\n\t(No symbol) [0x0x7ff6a8e22253]\n\tGetHandleVerifier [0x0x7ff6a92ea2dd+3004797]\n\tGetHandleVerifier [0x0x7ff6a92e472d+2981325]\n\tGetHandleVerifier [0x0x7ff6a9303380+3107360]\n\tGetHandleVerifier [0x0x7ff6a903aa2e+188622]\n\tGetHandleVerifier [0x0x7ff6a90422bf+219487]\n\tGetHandleVerifier [0x0x7ff6a9028df4+115860]\n\tGetHandleVerifier [0x0x7ff6a9028fa9+116297]\n\tGetHandleVerifier [0x0x7ff6a900f558+11256]\n\tBaseThreadInitThunk [0x0x7ff9901ee8d7+23]\n\tRtlUserThreadStart [0x0x7ff99109c5dc+44]\n",
     "output_type": "error",
     "traceback": [
      "\u001b[1;31m---------------------------------------------------------------------------\u001b[0m",
      "\u001b[1;31mInvalidSessionIdException\u001b[0m                 Traceback (most recent call last)",
      "Cell \u001b[1;32mIn[8], line 1\u001b[0m\n\u001b[1;32m----> 1\u001b[0m \u001b[38;5;28;01mif\u001b[39;00m \u001b[38;5;18m__name__\u001b[39m\u001b[38;5;241m==\u001b[39m\u001b[43mamazon_bot\u001b[49m\u001b[43m(\u001b[49m\u001b[38;5;124;43m'\u001b[39;49m\u001b[38;5;124;43mhttps://www.amazon.com\u001b[39;49m\u001b[38;5;124;43m'\u001b[39;49m\u001b[43m,\u001b[49m\u001b[38;5;124;43m'\u001b[39;49m\u001b[38;5;124;43mmost expensive laptops\u001b[39;49m\u001b[38;5;124;43m'\u001b[39;49m\u001b[43m)\u001b[49m:\n\u001b[0;32m      2\u001b[0m     amazon_bot()\n",
      "Cell \u001b[1;32mIn[7], line 3\u001b[0m, in \u001b[0;36mamazon_bot\u001b[1;34m(url, search_item)\u001b[0m\n\u001b[0;32m      2\u001b[0m \u001b[38;5;28;01mdef\u001b[39;00m \u001b[38;5;21mamazon_bot\u001b[39m(url,search_item):\n\u001b[1;32m----> 3\u001b[0m     \u001b[43mdriver\u001b[49m\u001b[38;5;241;43m.\u001b[39;49m\u001b[43mget\u001b[49m\u001b[43m(\u001b[49m\u001b[43murl\u001b[49m\u001b[43m)\u001b[49m\n\u001b[0;32m      4\u001b[0m     time\u001b[38;5;241m.\u001b[39msleep(\u001b[38;5;241m20\u001b[39m)\n\u001b[0;32m      5\u001b[0m     send_to_search(search_item)\n",
      "File \u001b[1;32m~\\AppData\\Roaming\\Python\\Python312\\site-packages\\selenium\\webdriver\\remote\\webdriver.py:454\u001b[0m, in \u001b[0;36mWebDriver.get\u001b[1;34m(self, url)\u001b[0m\n\u001b[0;32m    436\u001b[0m \u001b[38;5;28;01mdef\u001b[39;00m \u001b[38;5;21mget\u001b[39m(\u001b[38;5;28mself\u001b[39m, url: \u001b[38;5;28mstr\u001b[39m) \u001b[38;5;241m-\u001b[39m\u001b[38;5;241m>\u001b[39m \u001b[38;5;28;01mNone\u001b[39;00m:\n\u001b[0;32m    437\u001b[0m \u001b[38;5;250m    \u001b[39m\u001b[38;5;124;03m\"\"\"Navigate the browser to the specified URL in the current window or\u001b[39;00m\n\u001b[0;32m    438\u001b[0m \u001b[38;5;124;03m    tab.\u001b[39;00m\n\u001b[0;32m    439\u001b[0m \n\u001b[1;32m   (...)\u001b[0m\n\u001b[0;32m    452\u001b[0m \u001b[38;5;124;03m    >>> driver.get(\"https://example.com\")\u001b[39;00m\n\u001b[0;32m    453\u001b[0m \u001b[38;5;124;03m    \"\"\"\u001b[39;00m\n\u001b[1;32m--> 454\u001b[0m     \u001b[38;5;28;43mself\u001b[39;49m\u001b[38;5;241;43m.\u001b[39;49m\u001b[43mexecute\u001b[49m\u001b[43m(\u001b[49m\u001b[43mCommand\u001b[49m\u001b[38;5;241;43m.\u001b[39;49m\u001b[43mGET\u001b[49m\u001b[43m,\u001b[49m\u001b[43m \u001b[49m\u001b[43m{\u001b[49m\u001b[38;5;124;43m\"\u001b[39;49m\u001b[38;5;124;43murl\u001b[39;49m\u001b[38;5;124;43m\"\u001b[39;49m\u001b[43m:\u001b[49m\u001b[43m \u001b[49m\u001b[43murl\u001b[49m\u001b[43m}\u001b[49m\u001b[43m)\u001b[49m\n",
      "File \u001b[1;32m~\\AppData\\Roaming\\Python\\Python312\\site-packages\\selenium\\webdriver\\remote\\webdriver.py:429\u001b[0m, in \u001b[0;36mWebDriver.execute\u001b[1;34m(self, driver_command, params)\u001b[0m\n\u001b[0;32m    427\u001b[0m response \u001b[38;5;241m=\u001b[39m \u001b[38;5;28mself\u001b[39m\u001b[38;5;241m.\u001b[39mcommand_executor\u001b[38;5;241m.\u001b[39mexecute(driver_command, params)\n\u001b[0;32m    428\u001b[0m \u001b[38;5;28;01mif\u001b[39;00m response:\n\u001b[1;32m--> 429\u001b[0m     \u001b[38;5;28;43mself\u001b[39;49m\u001b[38;5;241;43m.\u001b[39;49m\u001b[43merror_handler\u001b[49m\u001b[38;5;241;43m.\u001b[39;49m\u001b[43mcheck_response\u001b[49m\u001b[43m(\u001b[49m\u001b[43mresponse\u001b[49m\u001b[43m)\u001b[49m\n\u001b[0;32m    430\u001b[0m     response[\u001b[38;5;124m\"\u001b[39m\u001b[38;5;124mvalue\u001b[39m\u001b[38;5;124m\"\u001b[39m] \u001b[38;5;241m=\u001b[39m \u001b[38;5;28mself\u001b[39m\u001b[38;5;241m.\u001b[39m_unwrap_value(response\u001b[38;5;241m.\u001b[39mget(\u001b[38;5;124m\"\u001b[39m\u001b[38;5;124mvalue\u001b[39m\u001b[38;5;124m\"\u001b[39m, \u001b[38;5;28;01mNone\u001b[39;00m))\n\u001b[0;32m    431\u001b[0m     \u001b[38;5;28;01mreturn\u001b[39;00m response\n",
      "File \u001b[1;32m~\\AppData\\Roaming\\Python\\Python312\\site-packages\\selenium\\webdriver\\remote\\errorhandler.py:232\u001b[0m, in \u001b[0;36mErrorHandler.check_response\u001b[1;34m(self, response)\u001b[0m\n\u001b[0;32m    230\u001b[0m         alert_text \u001b[38;5;241m=\u001b[39m value[\u001b[38;5;124m\"\u001b[39m\u001b[38;5;124malert\u001b[39m\u001b[38;5;124m\"\u001b[39m]\u001b[38;5;241m.\u001b[39mget(\u001b[38;5;124m\"\u001b[39m\u001b[38;5;124mtext\u001b[39m\u001b[38;5;124m\"\u001b[39m)\n\u001b[0;32m    231\u001b[0m     \u001b[38;5;28;01mraise\u001b[39;00m exception_class(message, screen, stacktrace, alert_text)  \u001b[38;5;66;03m# type: ignore[call-arg]  # mypy is not smart enough here\u001b[39;00m\n\u001b[1;32m--> 232\u001b[0m \u001b[38;5;28;01mraise\u001b[39;00m exception_class(message, screen, stacktrace)\n",
      "\u001b[1;31mInvalidSessionIdException\u001b[0m: Message: invalid session id: session deleted as the browser has closed the connection\nfrom disconnected: not connected to DevTools\n  (Session info: chrome=137.0.7151.57)\nStacktrace:\n\tGetHandleVerifier [0x0x7ff6a901fea5+79173]\n\tGetHandleVerifier [0x0x7ff6a901ff00+79264]\n\t(No symbol) [0x0x7ff6a8dd9e5a]\n\t(No symbol) [0x0x7ff6a8dc5c25]\n\t(No symbol) [0x0x7ff6a8deac44]\n\t(No symbol) [0x0x7ff6a8e603c5]\n\t(No symbol) [0x0x7ff6a8e80922]\n\t(No symbol) [0x0x7ff6a8e58743]\n\t(No symbol) [0x0x7ff6a8e214c1]\n\t(No symbol) [0x0x7ff6a8e22253]\n\tGetHandleVerifier [0x0x7ff6a92ea2dd+3004797]\n\tGetHandleVerifier [0x0x7ff6a92e472d+2981325]\n\tGetHandleVerifier [0x0x7ff6a9303380+3107360]\n\tGetHandleVerifier [0x0x7ff6a903aa2e+188622]\n\tGetHandleVerifier [0x0x7ff6a90422bf+219487]\n\tGetHandleVerifier [0x0x7ff6a9028df4+115860]\n\tGetHandleVerifier [0x0x7ff6a9028fa9+116297]\n\tGetHandleVerifier [0x0x7ff6a900f558+11256]\n\tBaseThreadInitThunk [0x0x7ff9901ee8d7+23]\n\tRtlUserThreadStart [0x0x7ff99109c5dc+44]\n"
     ]
    }
   ],
   "source": [
    "if __name__==amazon_bot('https://www.amazon.com','most expensive laptops'):\n",
    "    amazon_bot()"
   ]
  },
  {
   "cell_type": "code",
   "execution_count": null,
   "id": "9f65d88d",
   "metadata": {},
   "outputs": [],
   "source": []
  }
 ],
 "metadata": {
  "kernelspec": {
   "display_name": "Python 3",
   "language": "python",
   "name": "python3"
  },
  "language_info": {
   "codemirror_mode": {
    "name": "ipython",
    "version": 3
   },
   "file_extension": ".py",
   "mimetype": "text/x-python",
   "name": "python",
   "nbconvert_exporter": "python",
   "pygments_lexer": "ipython3",
   "version": "3.12.4"
  }
 },
 "nbformat": 4,
 "nbformat_minor": 5
}
