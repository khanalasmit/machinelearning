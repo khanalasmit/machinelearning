{
 "cells": [
  {
   "cell_type": "code",
   "execution_count": 19,
   "id": "787b76a6",
   "metadata": {},
   "outputs": [],
   "source": [
    "import time\n",
    "from bs4 import BeautifulSoup\n",
    "import pandas as pd\n",
    "import math\n",
    "from amazon_bot import Amazon_bot"
   ]
  },
  {
   "cell_type": "code",
   "execution_count": 20,
   "id": "3f15d5f5",
   "metadata": {},
   "outputs": [],
   "source": [
    "url='https://www.amazon.com'\n",
    "search_item='most expensive laptops'\n",
    "amazon_bot=Amazon_bot(url,search_item)\n"
   ]
  },
  {
   "cell_type": "code",
   "execution_count": 21,
   "id": "352e3e11",
   "metadata": {},
   "outputs": [
    {
     "name": "stdout",
     "output_type": "stream",
     "text": [
      "Error occurred during sending2 next key\n"
     ]
    }
   ],
   "source": [
    "htmls=amazon_bot.get_html()"
   ]
  },
  {
   "cell_type": "code",
   "execution_count": 39,
   "id": "1e211b05",
   "metadata": {},
   "outputs": [
    {
     "name": "stdout",
     "output_type": "stream",
     "text": [
      "Total pages loaded: 20\n",
      "Total products found: 303\n"
     ]
    }
   ],
   "source": [
    "def parse_pages():\n",
    "    print(f\"Total pages loaded: {len(htmls)}\")\n",
    "    products = []\n",
    "\n",
    "    for html in htmls:\n",
    "        if not html:\n",
    "            continue\n",
    "        soup = BeautifulSoup(html, 'html.parser')\n",
    "        items = soup.find_all('div', class_='puisg-col-inner')\n",
    "        for item in items:\n",
    "            # Extract product name\n",
    "            name = None\n",
    "            h2 = item.find('h2')\n",
    "            if h2:\n",
    "                span = h2.find('span')\n",
    "                if span and span.text.strip():\n",
    "                    name = span.text.strip()\n",
    "            else:\n",
    "                span = item.find('span', class_='a-size-medium')\n",
    "                if span and span.text.strip():\n",
    "                    name = span.text.strip()\n",
    "            # Extract price\n",
    "            price = None\n",
    "            price_span = item.find('span', class_='a-price-whole')\n",
    "            if price_span and price_span.text.strip():\n",
    "                price = price_span.text.strip()\n",
    "            else:\n",
    "                price_span = item.find('span', class_='a-color-base')\n",
    "                if price_span and price_span.text.strip():\n",
    "                    price = price_span.text.strip()\n",
    "            # Only append if both name and price are found\n",
    "            if name and price:\n",
    "                products.append({'Name of the product': name, 'Price': price})\n",
    "\n",
    "    df = pd.DataFrame(products)\n",
    "    print(f\"Total products found: {len(df)}\")\n",
    "    return df\n",
    "\n",
    "# Call the function\n",
    "price_data = parse_pages()"
   ]
  },
  {
   "cell_type": "code",
   "execution_count": 58,
   "id": "23e16bd9",
   "metadata": {},
   "outputs": [],
   "source": [
    "price_data_df=pd.DataFrame(price_data,columns=['Name of the product','Price'])"
   ]
  },
  {
   "cell_type": "code",
   "execution_count": 59,
   "id": "b1e889c4",
   "metadata": {},
   "outputs": [
    {
     "data": {
      "text/html": [
       "<div>\n",
       "<style scoped>\n",
       "    .dataframe tbody tr th:only-of-type {\n",
       "        vertical-align: middle;\n",
       "    }\n",
       "\n",
       "    .dataframe tbody tr th {\n",
       "        vertical-align: top;\n",
       "    }\n",
       "\n",
       "    .dataframe thead th {\n",
       "        text-align: right;\n",
       "    }\n",
       "</style>\n",
       "<table border=\"1\" class=\"dataframe\">\n",
       "  <thead>\n",
       "    <tr style=\"text-align: right;\">\n",
       "      <th></th>\n",
       "      <th>Name of the product</th>\n",
       "      <th>Price</th>\n",
       "    </tr>\n",
       "  </thead>\n",
       "  <tbody>\n",
       "    <tr>\n",
       "      <th>0</th>\n",
       "      <td>NIMO 15.6 IPS FHD-Laptop, 16GB RAM 1TB SSD Int...</td>\n",
       "      <td>Small Business</td>\n",
       "    </tr>\n",
       "    <tr>\n",
       "      <th>1</th>\n",
       "      <td>Alienware x14 R2 Gaming Laptop 14\" QHD+ 165Hz ...</td>\n",
       "      <td>$1,279.37</td>\n",
       "    </tr>\n",
       "    <tr>\n",
       "      <th>2</th>\n",
       "      <td>Lenovo V15 Laptop, 15.6\" FHD Display, AMD Ryze...</td>\n",
       "      <td>$450.00</td>\n",
       "    </tr>\n",
       "    <tr>\n",
       "      <th>3</th>\n",
       "      <td>HP 14 Laptop, Intel Celeron N4020, 4 GB RAM, 6...</td>\n",
       "      <td>$112.99</td>\n",
       "    </tr>\n",
       "    <tr>\n",
       "      <th>4</th>\n",
       "      <td>HP 15.6 inch Laptop, FHD Display, 12th Gen Int...</td>\n",
       "      <td>$329.56</td>\n",
       "    </tr>\n",
       "  </tbody>\n",
       "</table>\n",
       "</div>"
      ],
      "text/plain": [
       "                                 Name of the product           Price\n",
       "0  NIMO 15.6 IPS FHD-Laptop, 16GB RAM 1TB SSD Int...  Small Business\n",
       "1  Alienware x14 R2 Gaming Laptop 14\" QHD+ 165Hz ...       $1,279.37\n",
       "2  Lenovo V15 Laptop, 15.6\" FHD Display, AMD Ryze...         $450.00\n",
       "3  HP 14 Laptop, Intel Celeron N4020, 4 GB RAM, 6...         $112.99\n",
       "4  HP 15.6 inch Laptop, FHD Display, 12th Gen Int...         $329.56"
      ]
     },
     "execution_count": 59,
     "metadata": {},
     "output_type": "execute_result"
    }
   ],
   "source": [
    "price_data_df.head()"
   ]
  },
  {
   "cell_type": "code",
   "execution_count": 60,
   "id": "da312c9a",
   "metadata": {},
   "outputs": [],
   "source": [
    "price_data_df['Price_num']=price_data_df['Price'].apply(lambda s:s.split('$')[-1])"
   ]
  },
  {
   "cell_type": "code",
   "execution_count": 62,
   "id": "7a07959c",
   "metadata": {},
   "outputs": [
    {
     "data": {
      "text/html": [
       "<div>\n",
       "<style scoped>\n",
       "    .dataframe tbody tr th:only-of-type {\n",
       "        vertical-align: middle;\n",
       "    }\n",
       "\n",
       "    .dataframe tbody tr th {\n",
       "        vertical-align: top;\n",
       "    }\n",
       "\n",
       "    .dataframe thead th {\n",
       "        text-align: right;\n",
       "    }\n",
       "</style>\n",
       "<table border=\"1\" class=\"dataframe\">\n",
       "  <thead>\n",
       "    <tr style=\"text-align: right;\">\n",
       "      <th></th>\n",
       "      <th>Name of the product</th>\n",
       "      <th>Price</th>\n",
       "      <th>Price_num</th>\n",
       "    </tr>\n",
       "  </thead>\n",
       "  <tbody>\n",
       "    <tr>\n",
       "      <th>0</th>\n",
       "      <td>NIMO 15.6 IPS FHD-Laptop, 16GB RAM 1TB SSD Int...</td>\n",
       "      <td>Small Business</td>\n",
       "      <td>Small Business</td>\n",
       "    </tr>\n",
       "    <tr>\n",
       "      <th>1</th>\n",
       "      <td>Alienware x14 R2 Gaming Laptop 14\" QHD+ 165Hz ...</td>\n",
       "      <td>$1,279.37</td>\n",
       "      <td>1,279.37</td>\n",
       "    </tr>\n",
       "    <tr>\n",
       "      <th>2</th>\n",
       "      <td>Lenovo V15 Laptop, 15.6\" FHD Display, AMD Ryze...</td>\n",
       "      <td>$450.00</td>\n",
       "      <td>450.00</td>\n",
       "    </tr>\n",
       "    <tr>\n",
       "      <th>3</th>\n",
       "      <td>HP 14 Laptop, Intel Celeron N4020, 4 GB RAM, 6...</td>\n",
       "      <td>$112.99</td>\n",
       "      <td>112.99</td>\n",
       "    </tr>\n",
       "    <tr>\n",
       "      <th>4</th>\n",
       "      <td>HP 15.6 inch Laptop, FHD Display, 12th Gen Int...</td>\n",
       "      <td>$329.56</td>\n",
       "      <td>329.56</td>\n",
       "    </tr>\n",
       "  </tbody>\n",
       "</table>\n",
       "</div>"
      ],
      "text/plain": [
       "                                 Name of the product           Price  \\\n",
       "0  NIMO 15.6 IPS FHD-Laptop, 16GB RAM 1TB SSD Int...  Small Business   \n",
       "1  Alienware x14 R2 Gaming Laptop 14\" QHD+ 165Hz ...       $1,279.37   \n",
       "2  Lenovo V15 Laptop, 15.6\" FHD Display, AMD Ryze...         $450.00   \n",
       "3  HP 14 Laptop, Intel Celeron N4020, 4 GB RAM, 6...         $112.99   \n",
       "4  HP 15.6 inch Laptop, FHD Display, 12th Gen Int...         $329.56   \n",
       "\n",
       "        Price_num  \n",
       "0  Small Business  \n",
       "1        1,279.37  \n",
       "2          450.00  \n",
       "3          112.99  \n",
       "4          329.56  "
      ]
     },
     "execution_count": 62,
     "metadata": {},
     "output_type": "execute_result"
    }
   ],
   "source": [
    "price_data_df.head()"
   ]
  },
  {
   "cell_type": "code",
   "execution_count": null,
   "id": "3f43563d",
   "metadata": {},
   "outputs": [],
   "source": []
  }
 ],
 "metadata": {
  "kernelspec": {
   "display_name": "Python 3",
   "language": "python",
   "name": "python3"
  },
  "language_info": {
   "codemirror_mode": {
    "name": "ipython",
    "version": 3
   },
   "file_extension": ".py",
   "mimetype": "text/x-python",
   "name": "python",
   "nbconvert_exporter": "python",
   "pygments_lexer": "ipython3",
   "version": "3.12.4"
  }
 },
 "nbformat": 4,
 "nbformat_minor": 5
}
