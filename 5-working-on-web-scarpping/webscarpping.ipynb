{
 "cells": [
  {
   "cell_type": "markdown",
   "id": "9aa7e0b8",
   "metadata": {},
   "source": [
    "* <p style='font-size:25px'> WEB SCARPPING IS DONE IN THIS FILE USING SELENIUM </p>"
   ]
  },
  {
   "cell_type": "code",
   "execution_count": 79,
   "id": "9cf5c456",
   "metadata": {},
   "outputs": [],
   "source": [
    "from selenium import webdriver\n",
    "import time\n",
    "from selenium.webdriver.common.by import By\n",
    "from selenium.webdriver.common.keys import Keys\n",
    "from selenium.webdriver.support.wait import WebDriverWait\n",
    "from selenium.webdriver.support import expected_conditions as EC\n",
    "from bs4 import BeautifulSoup\n",
    "import pandas as pd\n",
    "import math"
   ]
  },
  {
   "cell_type": "markdown",
   "id": "13577611",
   "metadata": {},
   "source": [
    "* <p style='font:Aerial'><b>MAKING A AUTOMATED WEB SCRAPPING PIECE OF CODE TO GOTO YOUTUBE, SEARCH FOR A CHANNEL ENTRED THEN GOTO THE VIDEO SECTION AND THEN SCROLL TO THE BOTTOM TO LOAD ALL THE VIDEOS. THEN THE LOAD THE VIDEO TITLE VIEW AND THE TIME UPLOADED IN THE DATAFRAME</b></p>"
   ]
  },
  {
   "cell_type": "code",
   "execution_count": 82,
   "id": "0d497803",
   "metadata": {},
   "outputs": [],
   "source": [
    "def channel_bot(name):\n",
    "    driver = webdriver.Chrome()\n",
    "    driver.get('https://www.youtube.com')\n",
    "    try:\n",
    "        element = WebDriverWait(driver, 10).until(\n",
    "            EC.presence_of_element_located((By.NAME, 'search_query'))\n",
    "        )\n",
    "        element.clear()\n",
    "        element.send_keys(name)\n",
    "        element.send_keys(Keys.RETURN)  \n",
    "        channel_button = WebDriverWait(driver, 10).until(\n",
    "            EC.element_to_be_clickable((By.XPATH, \"(//ytd-channel-renderer//a[@id='main-link'])[1]\"))\n",
    "        )\n",
    "        #driver.execute_script(\"arguments[0].scrollIntoView();\", channel_button)\n",
    "        channel_button.click()\n",
    "        videos_button=WebDriverWait(driver,10).until(\n",
    "            EC.element_to_be_clickable((By.XPATH,\"//yt-tab-shape[@tab-title='Videos']\"))\n",
    "        )\n",
    "        videos_button.click()\n",
    "        scroll_time=120\n",
    "        start_time=time.time()\n",
    "        while time.time()-start_time < scroll_time:\n",
    "            driver.execute_script(\"window.scrollTo(0,document.documentElement.scrollHeight);\")\n",
    "            time.sleep(1)\n",
    "        html=driver.page_source\n",
    "        soup=BeautifulSoup(html,'html.parser')\n",
    "        return soup\n",
    "        \n",
    "    except:\n",
    "        print('some error occured')\n",
    "        driver.quit()\n",
    "    finally:\n",
    "        driver.quit()  \n"
   ]
  },
  {
   "cell_type": "code",
   "execution_count": 83,
   "id": "093baa53",
   "metadata": {},
   "outputs": [],
   "source": [
    "soup=channel_bot('freecodecamp.org')"
   ]
  },
  {
   "cell_type": "code",
   "execution_count": 88,
   "id": "67c386a3",
   "metadata": {},
   "outputs": [],
   "source": [
    "def extract_video_data(soup):\n",
    "    video_data = []\n",
    "    video_containers = soup.find_all('div', {'id': 'meta'})\n",
    "    \n",
    "    for container in video_containers:\n",
    "        try:\n",
    "            title = container.find('yt-formatted-string', {'id': 'video-title'}).get_text(strip=True)\n",
    "            metadata = container.find_all('span', {'class': 'inline-metadata-item'})\n",
    "            if len(metadata) >= 2:\n",
    "                views = metadata[0].get_text(strip=True)\n",
    "                time_uploaded = metadata[1].get_text(strip=True)\n",
    "            else:\n",
    "                views = 'N/A'\n",
    "                time_uploaded = 'N/A'\n",
    "            video_data.append({\n",
    "                'title': title,\n",
    "                'views': views,\n",
    "                'time': time_uploaded\n",
    "            })\n",
    "        except Exception as e:\n",
    "            print(f\"Error processing a video: {e}\")\n",
    "            continue\n",
    "            \n",
    "    return pd.DataFrame(video_data)\n"
   ]
  },
  {
   "cell_type": "code",
   "execution_count": 89,
   "id": "45732cbf",
   "metadata": {},
   "outputs": [
    {
     "name": "stdout",
     "output_type": "stream",
     "text": [
      "Error processing a video: 'NoneType' object has no attribute 'get_text'\n",
      "Error processing a video: 'NoneType' object has no attribute 'get_text'\n",
      "Error processing a video: 'NoneType' object has no attribute 'get_text'\n",
      "Error processing a video: 'NoneType' object has no attribute 'get_text'\n",
      "Error processing a video: 'NoneType' object has no attribute 'get_text'\n",
      "Error processing a video: 'NoneType' object has no attribute 'get_text'\n",
      "Error processing a video: 'NoneType' object has no attribute 'get_text'\n",
      "Error processing a video: 'NoneType' object has no attribute 'get_text'\n",
      "Error processing a video: 'NoneType' object has no attribute 'get_text'\n",
      "Error processing a video: 'NoneType' object has no attribute 'get_text'\n",
      "Error processing a video: 'NoneType' object has no attribute 'get_text'\n",
      "Error processing a video: 'NoneType' object has no attribute 'get_text'\n",
      "Error processing a video: 'NoneType' object has no attribute 'get_text'\n",
      "Error processing a video: 'NoneType' object has no attribute 'get_text'\n",
      "Error processing a video: 'NoneType' object has no attribute 'get_text'\n",
      "Error processing a video: 'NoneType' object has no attribute 'get_text'\n",
      "Error processing a video: 'NoneType' object has no attribute 'get_text'\n",
      "Error processing a video: 'NoneType' object has no attribute 'get_text'\n",
      "Error processing a video: 'NoneType' object has no attribute 'get_text'\n",
      "Error processing a video: 'NoneType' object has no attribute 'get_text'\n",
      "1490\n"
     ]
    }
   ],
   "source": [
    "view_df = extract_video_data(soup)\n",
    "print(len(view_df))  # This should show matching counts for all columns"
   ]
  },
  {
   "cell_type": "code",
   "execution_count": 91,
   "id": "6d015e37",
   "metadata": {},
   "outputs": [
    {
     "data": {
      "text/html": [
       "<div>\n",
       "<style scoped>\n",
       "    .dataframe tbody tr th:only-of-type {\n",
       "        vertical-align: middle;\n",
       "    }\n",
       "\n",
       "    .dataframe tbody tr th {\n",
       "        vertical-align: top;\n",
       "    }\n",
       "\n",
       "    .dataframe thead th {\n",
       "        text-align: right;\n",
       "    }\n",
       "</style>\n",
       "<table border=\"1\" class=\"dataframe\">\n",
       "  <thead>\n",
       "    <tr style=\"text-align: right;\">\n",
       "      <th></th>\n",
       "      <th>title</th>\n",
       "      <th>views</th>\n",
       "      <th>time</th>\n",
       "    </tr>\n",
       "  </thead>\n",
       "  <tbody>\n",
       "    <tr>\n",
       "      <th>0</th>\n",
       "      <td>Code Your Own Llama 4 LLM from Scratch – Full ...</td>\n",
       "      <td>9.5K views</td>\n",
       "      <td>14 hours ago</td>\n",
       "    </tr>\n",
       "    <tr>\n",
       "      <th>1</th>\n",
       "      <td>Everything You Need to Know About JavaScript A...</td>\n",
       "      <td>12K views</td>\n",
       "      <td>1 day ago</td>\n",
       "    </tr>\n",
       "    <tr>\n",
       "      <th>2</th>\n",
       "      <td>Essential Machine Learning and AI Concepts Ani...</td>\n",
       "      <td>53K views</td>\n",
       "      <td>2 days ago</td>\n",
       "    </tr>\n",
       "    <tr>\n",
       "      <th>3</th>\n",
       "      <td>From fast food worker to cybersecurity enginee...</td>\n",
       "      <td>13K views</td>\n",
       "      <td>3 days ago</td>\n",
       "    </tr>\n",
       "    <tr>\n",
       "      <th>4</th>\n",
       "      <td>Learn Laravel by Building a Medium Clone – Tut...</td>\n",
       "      <td>22K views</td>\n",
       "      <td>7 days ago</td>\n",
       "    </tr>\n",
       "  </tbody>\n",
       "</table>\n",
       "</div>"
      ],
      "text/plain": [
       "                                               title       views          time\n",
       "0  Code Your Own Llama 4 LLM from Scratch – Full ...  9.5K views  14 hours ago\n",
       "1  Everything You Need to Know About JavaScript A...   12K views     1 day ago\n",
       "2  Essential Machine Learning and AI Concepts Ani...   53K views    2 days ago\n",
       "3  From fast food worker to cybersecurity enginee...   13K views    3 days ago\n",
       "4  Learn Laravel by Building a Medium Clone – Tut...   22K views    7 days ago"
      ]
     },
     "execution_count": 91,
     "metadata": {},
     "output_type": "execute_result"
    }
   ],
   "source": [
    "view_df.head()"
   ]
  },
  {
   "cell_type": "code",
   "execution_count": null,
   "id": "13b5c963",
   "metadata": {},
   "outputs": [],
   "source": []
  }
 ],
 "metadata": {
  "kernelspec": {
   "display_name": "Python 3",
   "language": "python",
   "name": "python3"
  },
  "language_info": {
   "codemirror_mode": {
    "name": "ipython",
    "version": 3
   },
   "file_extension": ".py",
   "mimetype": "text/x-python",
   "name": "python",
   "nbconvert_exporter": "python",
   "pygments_lexer": "ipython3",
   "version": "3.12.4"
  }
 },
 "nbformat": 4,
 "nbformat_minor": 5
}
