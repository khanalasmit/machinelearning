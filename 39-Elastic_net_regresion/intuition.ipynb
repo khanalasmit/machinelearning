{
 "cells": [
  {
   "cell_type": "markdown",
   "id": "bc1ff755",
   "metadata": {},
   "source": [
    "### **ELASTIC NET REGRESSION**"
   ]
  },
  {
   "cell_type": "markdown",
   "id": "e824b583",
   "metadata": {},
   "source": [
    "*Elastic net regression* is the combination of the lasso and ridge regression. In both the cases we introduced the penalty term in the loss function which causes the value of the bias to increase and reducing the overfitting in both the cases. \\\n",
    "Mostly Lasso used the L1 norm as the peanalty term where it was used where the feautre selection was required. Ridge used the L2 norm as penalty term which was used where all the feature we equally important."
   ]
  },
  {
   "cell_type": "markdown",
   "id": "e644e99b",
   "metadata": {},
   "source": [
    "In the large data where we donot know among lasso and ridge regression which one to use we use the *elastic net regression*."
   ]
  },
  {
   "cell_type": "markdown",
   "id": "cdc480a8",
   "metadata": {},
   "source": [
    "The loss function of the elastic net regression is :\n",
    "$$\n",
    "L=\\sum_{i=1}^n (Y_{i}-\\hat{Y_{i}})^2+a||w||^2+b||w||\\\\\n",
    "\\lambda =a+b\\\\\n",
    "\\text{l1 ratio}=\\frac{a}{a+b}\\\\\n",
    "\\lambda =1,\\text{l1 ratio=0.5}\\\\\n",
    "a=0.5,b=0.5\n",
    "$$"
   ]
  },
  {
   "cell_type": "markdown",
   "id": "15f10be4",
   "metadata": {},
   "source": [
    "When the input columns has multicollinearity i.e when two input columns are strongly correlated to each other then we use elastic net regression."
   ]
  },
  {
   "cell_type": "code",
   "execution_count": 1,
   "id": "273dcfc8",
   "metadata": {},
   "outputs": [],
   "source": [
    "from sklearn.datasets import load_diabetes\n",
    "from sklearn.linear_model import LinearRegression,Ridge,Lasso,ElasticNet\n",
    "from sklearn.model_selection import train_test_split\n",
    "from sklearn.metrics import r2_score"
   ]
  },
  {
   "cell_type": "code",
   "execution_count": 2,
   "id": "ff59e256",
   "metadata": {},
   "outputs": [],
   "source": [
    "X,y=load_diabetes(return_X_y=True)\n"
   ]
  },
  {
   "cell_type": "code",
   "execution_count": 3,
   "id": "daac3766",
   "metadata": {},
   "outputs": [],
   "source": [
    "X_train,X_test,y_train,y_test=train_test_split(X,y,test_size=0.3,random_state=2)\n"
   ]
  },
  {
   "cell_type": "code",
   "execution_count": 4,
   "id": "d5a9be93",
   "metadata": {},
   "outputs": [
    {
     "data": {
      "text/plain": [
       "0.5012577617513012"
      ]
     },
     "execution_count": 4,
     "metadata": {},
     "output_type": "execute_result"
    }
   ],
   "source": [
    "reg=LinearRegression()\n",
    "reg.fit(X_train,y_train)\n",
    "y_pred=reg.predict(X_test)\n",
    "r2_score(y_test,y_pred)"
   ]
  },
  {
   "cell_type": "code",
   "execution_count": 5,
   "id": "2d5bc4df",
   "metadata": {},
   "outputs": [
    {
     "data": {
      "text/plain": [
       "0.4932825305587062"
      ]
     },
     "execution_count": 5,
     "metadata": {},
     "output_type": "execute_result"
    }
   ],
   "source": [
    "#ridge\n",
    "ridge=Ridge(alpha=0.1)\n",
    "ridge.fit(X_train,y_train)  \n",
    "y_pred=ridge.predict(X_test)\n",
    "r2_score(y_test,y_pred)"
   ]
  },
  {
   "cell_type": "code",
   "execution_count": 9,
   "id": "ceea3162",
   "metadata": {},
   "outputs": [
    {
     "data": {
      "text/plain": [
       "0.48761791935948295"
      ]
     },
     "execution_count": 9,
     "metadata": {},
     "output_type": "execute_result"
    }
   ],
   "source": [
    "#elasticnet\n",
    "elastic=ElasticNet(alpha=0.005,l1_ratio=0.9)\n",
    "elastic.fit(X_train,y_train)    \n",
    "y_pred=elastic.predict(X_test)\n",
    "r2_score(y_test,y_pred)\n"
   ]
  },
  {
   "cell_type": "code",
   "execution_count": 8,
   "id": "4140b2b7",
   "metadata": {},
   "outputs": [
    {
     "data": {
      "text/plain": [
       "0.500140773793244"
      ]
     },
     "execution_count": 8,
     "metadata": {},
     "output_type": "execute_result"
    }
   ],
   "source": [
    "#lasso\n",
    "lasso=Lasso(alpha=0.01)\n",
    "lasso.fit(X_train,y_train)\n",
    "y_pred=lasso.predict(X_test)\n",
    "r2_score(y_test,y_pred)"
   ]
  },
  {
   "cell_type": "code",
   "execution_count": null,
   "id": "0c78247f",
   "metadata": {},
   "outputs": [],
   "source": []
  }
 ],
 "metadata": {
  "kernelspec": {
   "display_name": "Python 3",
   "language": "python",
   "name": "python3"
  },
  "language_info": {
   "codemirror_mode": {
    "name": "ipython",
    "version": 3
   },
   "file_extension": ".py",
   "mimetype": "text/x-python",
   "name": "python",
   "nbconvert_exporter": "python",
   "pygments_lexer": "ipython3",
   "version": "3.12.4"
  }
 },
 "nbformat": 4,
 "nbformat_minor": 5
}
