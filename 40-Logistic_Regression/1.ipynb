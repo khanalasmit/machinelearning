{
 "cells": [
  {
   "cell_type": "markdown",
   "id": "7d8bfd35",
   "metadata": {},
   "source": [
    "## **LOGISTIC REGRESSION**"
   ]
  },
  {
   "cell_type": "markdown",
   "id": "aeece9eb",
   "metadata": {},
   "source": [
    "### **2-Perspectives of the logitstic Reresssion**\n",
    "- **Probablistic**\n",
    "- **Geometric**"
   ]
  },
  {
   "cell_type": "markdown",
   "id": "79afbbb6",
   "metadata": {},
   "source": [
    "### **Requirment**\n",
    "- should be linearly classified\\\n",
    "![image](1.png)"
   ]
  },
  {
   "cell_type": "markdown",
   "id": "e5af82ea",
   "metadata": {},
   "source": [
    "Linearly classified data is the data which can be separted by the line or plane or hyper plane i.e line shoule be almost linearly spearable"
   ]
  },
  {
   "cell_type": "markdown",
   "id": "227fddb9",
   "metadata": {},
   "source": [
    "### **PERCEPTRON TRICK**\n",
    "- We will predict the model to predict taking the data. Then first we would observe if the data is linearly separable. In the logistic regression we use the genearl equation of the line. $AX+BX+C=0$. To find the line, the objective is to find the value of the A,B,C that make the best fit line. We start with the random value of the number. We need to run a loop we select a random point to identify if the line is best fit(we check the if the line is predicting correctly for the point). If the line is not predicting correctly then the transformation is applied to adjust to the incorrect prediction. Doing this we get the line fitting perfectly. "
   ]
  },
  {
   "cell_type": "markdown",
   "id": "8fda2394",
   "metadata": {},
   "source": [
    "### **How to label regions?**\n",
    "- $AX+BY+C>0$ for a point then the region is postive. Otherwise the point is in the negetive region. "
   ]
  },
  {
   "cell_type": "markdown",
   "id": "1584786e",
   "metadata": {},
   "source": [
    "### **TRANSFORMATIONS**\n",
    "- for the line $2X+3Y+5=0$, to move the line to the point (4,5) then what we do is :\\\n",
    "2    3    5\\\n",
    "4    5    1 \\\n",
    "\\we subtract and get -2    -2     4. Then the new line is formed from that line. For the point in the negetive region we do the same but add the points and get the new line. "
   ]
  },
  {
   "cell_type": "markdown",
   "id": "af95c8ca",
   "metadata": {},
   "source": [
    "New coefficients will be obtained as $\\text{coef}-\\eta \\text{ coordinates}$. This makes the change gradual. "
   ]
  },
  {
   "cell_type": "markdown",
   "id": "b9e1300a",
   "metadata": {},
   "source": [
    "### **ALGORITHM FOR THE PERCEPRTON TRICK**"
   ]
  },
  {
   "cell_type": "markdown",
   "id": "ef0c628b",
   "metadata": {},
   "source": [
    "for the line $W_0+W_1X_1+W_2X_2=0$\n",
    "- To predict on the point $W_0 \\cdot 1 + W_1 \\cdot a + W_2 \\cdot b$, if the value is greater than 0, the prediction will be 1; if it is less than 0, the prediction will be 0.  \n",
    "- Represent the line in matrix form as $\\begin{bmatrix} W_0 & W_1 & W_2 \\end{bmatrix} \\begin{bmatrix}X_0\\\\X_1\\\\X_2\\end{bmatrix}$\\ for more the values we take the epoch and take the learning rate. "
   ]
  },
  {
   "cell_type": "markdown",
   "id": "e3f9dcf4",
   "metadata": {},
   "source": [
    "$$\n",
    "X_i \\in N \\text{ and } \\sum W_i X_i \\ge 0 \\\\\n",
    "W_n = W_0 - \\eta X_i \\\\\n",
    "X_i \\in N \\text{ and } \\sum W_i X_i < 0 \\\\\n",
    "W_n = W_0 + \\eta X_i \\\\\n",
    "$$\n"
   ]
  },
  {
   "cell_type": "markdown",
   "id": "0f500002",
   "metadata": {},
   "source": [
    "### **SIMPLIFIED ALGORTIHM**\n",
    "```\n",
    "for i in 1000:\n",
    "    $W_n=W_0 + \\eta(Y_i-\\hat{Y_i})X_i$\n",
    "    W_n=W_o\n"
   ]
  },
  {
   "cell_type": "markdown",
   "id": "cc8424a6",
   "metadata": {},
   "source": []
  }
 ],
 "metadata": {
  "language_info": {
   "name": "python"
  }
 },
 "nbformat": 4,
 "nbformat_minor": 5
}
