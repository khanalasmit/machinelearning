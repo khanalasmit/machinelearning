{
 "cells": [
  {
   "cell_type": "markdown",
   "id": "336ddb5a",
   "metadata": {},
   "source": [
    "## **LOSS FUNCTION**"
   ]
  },
  {
   "cell_type": "markdown",
   "id": "b38d8ee1",
   "metadata": {},
   "source": [
    "**WHAT IS THE PROBLEMW WITH THE SIGMOID FUNCTION?**\n",
    "- we are classifying the data based on the data, where the data points are pushing or pulling the classifying the line. We have no way to tell that line is the best line."
   ]
  },
  {
   "cell_type": "markdown",
   "id": "2b467302",
   "metadata": {},
   "source": [
    "### **Maximum likelihood function**"
   ]
  },
  {
   "cell_type": "markdown",
   "id": "00220cfe",
   "metadata": {},
   "source": [
    "The summation of the negetive log of the maximum likelihood is called cross entropy."
   ]
  },
  {
   "cell_type": "markdown",
   "id": "28a9a2b5",
   "metadata": {},
   "source": [
    "We pick the model with the minimum cross entropy. Now to give the mathematical modelling,\n",
    "$$\n",
    "L=\\sum_{i=1}^n -y_i log(\\hat{y_i})-(1-y_i)log(1-\\hat{y_i})\n",
    "$$\n",
    "The above formula is taken so that we can sum the probablity of the being true for eg. For a model to predict the green and red. suppose the sigmoid gives 0.7 for one and 0.3 for another that means that first one has the probablity of being green 0.7 and second 0.3. But for the first one the probalbity of being red is 0.3 and for secong one is 0.7. In cross entropy we add the higher probalbity. In the same eg above lets green be one and red be 0. For green one putting in the formula $-1*log(0.7)+(1-1)log(0.3)$ this means that the highere probalbity is added. Similar will happen for the red ball.\n"
   ]
  },
  {
   "cell_type": "markdown",
   "id": "fbd7cc9a",
   "metadata": {},
   "source": [
    "The error function, log-loss error is taken as \n",
    "$$\n",
    "L=\\frac{-1}{n}\\sum_{i=1}^n -y_i log(\\hat{y_i})-(1-y_i)log(1-\\hat{y_i})\n",
    "$$\n",
    "This is also called the binary cross entropy function."
   ]
  },
  {
   "cell_type": "markdown",
   "id": "c2b4307d",
   "metadata": {},
   "source": []
  }
 ],
 "metadata": {
  "language_info": {
   "name": "python"
  }
 },
 "nbformat": 4,
 "nbformat_minor": 5
}
