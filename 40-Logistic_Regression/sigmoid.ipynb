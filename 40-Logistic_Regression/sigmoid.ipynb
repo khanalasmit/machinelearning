{
 "cells": [
  {
   "cell_type": "markdown",
   "id": "73c30945",
   "metadata": {},
   "source": [
    "## **SIGMOID FUNCTION IN LOGISTIC REGRESSION**"
   ]
  },
  {
   "cell_type": "markdown",
   "id": "b76ee99a",
   "metadata": {},
   "source": [
    "Sigmoid function in the logistic regression is way to find the probality of the "
   ]
  }
 ],
 "metadata": {
  "language_info": {
   "name": "python"
  }
 },
 "nbformat": 4,
 "nbformat_minor": 5
}
