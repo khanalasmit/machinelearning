{
 "cells": [
  {
   "cell_type": "markdown",
   "id": "73c30945",
   "metadata": {},
   "source": [
    "## **SIGMOID FUNCTION IN LOGISTIC REGRESSION**"
   ]
  },
  {
   "cell_type": "markdown",
   "id": "b76ee99a",
   "metadata": {},
   "source": [
    "**Solution to the failure of the perceptron technique**\n",
    "* In the perceptron technique the incorrectly classified techniques pulled the line\n",
    "* In this technique we push the line through the correctly classified points \n",
    "* Thus the points push if even the points are correctly classified points"
   ]
  },
  {
   "cell_type": "markdown",
   "id": "e77fcfeb",
   "metadata": {},
   "source": [
    "The push will depend on the distance of the point from the line."
   ]
  },
  {
   "cell_type": "markdown",
   "id": "ac266e8c",
   "metadata": {},
   "source": [
    "We had the equation \n",
    "$$\n",
    "W_n=W_0+\\eta (Y_i-\\hat{Y_i})X_i\\\\\n",
    "$$\n",
    "\n"
   ]
  },
  {
   "cell_type": "markdown",
   "id": "f1cabf88",
   "metadata": {},
   "source": [
    "We had the prediction like 0 or 1 in the above function due to the use of the step function\n",
    "```\n",
    "def step(y_hat):\n",
    "    return 1 if y_hat>0 else 0\n",
    "```\n",
    "Thus we now want to change the value of the $(Y_i-\\hat{Y_i})$ to the non binary value i.e 0 or 1. We can do this by changing the step function to the sigmoid function."
   ]
  },
  {
   "cell_type": "markdown",
   "id": "1eb71542",
   "metadata": {},
   "source": [
    "### SIGMOID FUNCTION"
   ]
  },
  {
   "cell_type": "markdown",
   "id": "ef61f6f9",
   "metadata": {},
   "source": [
    "![image](2.png)"
   ]
  },
  {
   "cell_type": "markdown",
   "id": "232c3bf4",
   "metadata": {},
   "source": [
    "Sigmoid function is \n",
    "$$ \\frac{1}{1+e^{-z}}$$"
   ]
  },
  {
   "cell_type": "markdown",
   "id": "1d8ce526",
   "metadata": {},
   "source": [
    "If the value of $z$ is very high, the value of $y$ tends to 1. $-\\infty < z < \\infty$ &rarr; $0<y<1$"
   ]
  },
  {
   "cell_type": "markdown",
   "id": "b1fd57e5",
   "metadata": {},
   "source": [
    "**HOW IS THE SIGMOID FUNCTION BETTER THAN THE STEP FUNCTION USED IN THE PERCEPTRON TECHNIQUE?**\n",
    "- The step function provided the value either 0 or 1\n",
    "- The sigmoid function provides the value between 0 or 1. If the value of the simoid function for two points are 0.55 and 0.6 that means that the point with the value of the sigmoid function is to the positve side of the line but not far from the line. Similary the point with the value of 0.6 will also lie in the positve side of the line but the point is the farther from the line than the former one was.\n",
    "- The value of the sigmoid function provides the probabality. The value of the sigmoid function can be used as the probablity when required. \n",
    "- With the sigmoid function the probalbistic interpretation is obtained.\n"
   ]
  },
  {
   "cell_type": "markdown",
   "id": "1013a68c",
   "metadata": {},
   "source": [
    "![image](3.png)"
   ]
  },
  {
   "cell_type": "markdown",
   "id": "88dbeb8b",
   "metadata": {},
   "source": [
    "Here we can see that the correctly classified are pushing and wronlgy classified are pulling the line ."
   ]
  },
  {
   "cell_type": "markdown",
   "id": "fcc35074",
   "metadata": {},
   "source": [
    "The maginutude of the push depends upon the value of the sigmoid."
   ]
  },
  {
   "cell_type": "markdown",
   "id": "8d179de5",
   "metadata": {},
   "source": []
  }
 ],
 "metadata": {
  "language_info": {
   "name": "python"
  }
 },
 "nbformat": 4,
 "nbformat_minor": 5
}
