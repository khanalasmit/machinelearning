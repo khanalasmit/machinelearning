{
 "cells": [
  {
   "cell_type": "markdown",
   "id": "73c30945",
   "metadata": {},
   "source": [
    "## **SIGMOID FUNCTION IN LOGISTIC REGRESSION**"
   ]
  },
  {
   "cell_type": "markdown",
   "id": "b76ee99a",
   "metadata": {},
   "source": [
    "**Solution to the failure of the perceptron technique**\n",
    "* In the perceptron technique the incorrectly classified techniques pulled the line\n",
    "* In this technique we push the line through the correctly classified points \n",
    "* Thus the points push if even the points are correctly classified points"
   ]
  },
  {
   "cell_type": "markdown",
   "id": "e77fcfeb",
   "metadata": {},
   "source": [
    "The push will depend on the distance of the point from the line."
   ]
  },
  {
   "cell_type": "markdown",
   "id": "ac266e8c",
   "metadata": {},
   "source": [
    "We had the equation \n",
    "$$\n",
    "W_n=W_0+\\eta (Y_i-\\hat{Y_i})X_i\\\\\n",
    "$$\n",
    "\n"
   ]
  },
  {
   "cell_type": "markdown",
   "id": "f1cabf88",
   "metadata": {},
   "source": [
    "We had the prediction like 0 or 1 in the above function due to the use of the step function\n",
    "```\n",
    "def step(y_hat):\n",
    "    return 1 if y_hat>0 else 0\n",
    "```\n",
    "Thus we now want to change the value of the $(Y_i-\\hat{Y_i})$ to the non binary value i.e 0 or 1. We can do this by changing the step function to the sigmoid function."
   ]
  },
  {
   "cell_type": "markdown",
   "id": "1eb71542",
   "metadata": {},
   "source": [
    "### SIGMOID FUNCTION"
   ]
  },
  {
   "cell_type": "markdown",
   "id": "ef61f6f9",
   "metadata": {},
   "source": []
  }
 ],
 "metadata": {
  "language_info": {
   "name": "python"
  }
 },
 "nbformat": 4,
 "nbformat_minor": 5
}
