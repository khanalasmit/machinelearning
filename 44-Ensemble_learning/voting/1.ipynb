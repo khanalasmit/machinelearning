{
 "cells": [
  {
   "cell_type": "markdown",
   "id": "151f7cd2",
   "metadata": {},
   "source": [
    "### **INTUITION**"
   ]
  },
  {
   "cell_type": "markdown",
   "id": "709622ae",
   "metadata": {},
   "source": [
    "We take multiple base models and take the voting of the algorithms to classify the point."
   ]
  },
  {
   "cell_type": "markdown",
   "id": "fcbcb145",
   "metadata": {},
   "source": [
    "### **ASSUMPTIONS**"
   ]
  },
  {
   "cell_type": "markdown",
   "id": "55d9be84",
   "metadata": {},
   "source": [
    "* All the base models should be dissimilar and independent\n",
    "* Accuracy of the models should be more than 50% ."
   ]
  },
  {
   "cell_type": "markdown",
   "id": "447f154a",
   "metadata": {},
   "source": [
    "### **WHY VOTING WORKS?**"
   ]
  },
  {
   "cell_type": "markdown",
   "id": "d4cb8174",
   "metadata": {},
   "source": [
    "\n"
   ]
  }
 ],
 "metadata": {
  "language_info": {
   "name": "python"
  }
 },
 "nbformat": 4,
 "nbformat_minor": 5
}
