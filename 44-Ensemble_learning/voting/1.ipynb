{
 "cells": [
  {
   "cell_type": "markdown",
   "id": "151f7cd2",
   "metadata": {},
   "source": [
    "### **INTUITION**"
   ]
  },
  {
   "cell_type": "markdown",
   "id": "709622ae",
   "metadata": {},
   "source": [
    "We take multiple base models and take the voting of the algorithms to classify the point."
   ]
  },
  {
   "cell_type": "markdown",
   "id": "fcbcb145",
   "metadata": {},
   "source": [
    "### **ASSUMPTIONS**"
   ]
  },
  {
   "cell_type": "markdown",
   "id": "55d9be84",
   "metadata": {},
   "source": [
    "* All the base models should be dissimilar and independent\n",
    "* Accuracy of the models should be more than 50% ."
   ]
  },
  {
   "cell_type": "markdown",
   "id": "447f154a",
   "metadata": {},
   "source": [
    "### **WHY VOTING WORKS?**"
   ]
  },
  {
   "cell_type": "markdown",
   "id": "d4cb8174",
   "metadata": {},
   "source": [
    "**How is it that we can get higher accuracy from voting using the base models?**\n",
    "* One model fills the weakness of anothre.\n",
    "* Consider the accuracy of three independent models be 0.7\n",
    "* Now we are make votting classifier from above then \n",
    "    - We have to prove the accuracy of the voting classifier will be greater than 0.7\n",
    "    - Suppose we take the new point\n",
    "    - Then the probablity of getting the correct value from the model one is 0.7 and getting wrong is 0.3\n",
    "    - If we pass the value to the second model it has the same two values and for the third one also same two values.\n",
    "\n"
   ]
  },
  {
   "cell_type": "markdown",
   "id": "359661c8",
   "metadata": {},
   "source": [
    "![1](1.png)"
   ]
  },
  {
   "cell_type": "markdown",
   "id": "d53cfc40",
   "metadata": {},
   "source": [
    "- Now we need to select the case where at least two of the classifier is correct. We do that as follows \n",
    "    - First we 'AND' The probablities to get the wrong and right predictions through all the modesl\n",
    "    - Then 'OR' the probablities where there is at least two correct predictions or two models has correct predictions."
   ]
  },
  {
   "cell_type": "markdown",
   "id": "ea38cf62",
   "metadata": {},
   "source": [
    "![2](2.png)"
   ]
  },
  {
   "cell_type": "markdown",
   "id": "b7bbd0ac",
   "metadata": {},
   "source": [
    "Here summing the probalbity we get total 78."
   ]
  },
  {
   "cell_type": "markdown",
   "id": "762115e3",
   "metadata": {},
   "source": [
    "<class style='color:red'>But if we had the accuracy less than 0.5 then we would do the 'And' and then do the 'OR' getting very less accuracy."
   ]
  },
  {
   "cell_type": "markdown",
   "id": "f83803dd",
   "metadata": {},
   "source": []
  }
 ],
 "metadata": {
  "language_info": {
   "name": "python"
  }
 },
 "nbformat": 4,
 "nbformat_minor": 5
}
