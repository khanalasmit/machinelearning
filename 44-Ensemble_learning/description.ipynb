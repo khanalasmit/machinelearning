{
 "cells": [
  {
   "cell_type": "markdown",
   "id": "bb4f4065",
   "metadata": {},
   "source": [
    "### **WISDOM OF THE CROWD**"
   ]
  },
  {
   "cell_type": "markdown",
   "id": "cf092633",
   "metadata": {},
   "source": [
    "Some how the crowd always gives the right answer. In the crowd there is always the right answer which is wisdom of the crowd."
   ]
  },
  {
   "cell_type": "markdown",
   "id": "becd8bda",
   "metadata": {},
   "source": [
    "### **CORE IDEA OF ENSEMBLE LEARNING**"
   ]
  },
  {
   "cell_type": "markdown",
   "id": "c9d67235",
   "metadata": {},
   "source": [
    "For the classification we use the choose the mulitple models. And what ever classification has the highest frequncy we take that model.\\\n",
    "For the regression, we choose multiple models and from the multiple ones we take the mean value to be our prediction"
   ]
  },
  {
   "cell_type": "markdown",
   "id": "3d43f837",
   "metadata": {},
   "source": [
    "### **TYPES OF ENSEMBLE LEARNING**"
   ]
  },
  {
   "cell_type": "markdown",
   "id": "ac4a75d6",
   "metadata": {},
   "source": [
    "* VOTTING\n",
    "* BAGGING\n",
    "* BOOSTING\n",
    "* STACKING"
   ]
  },
  {
   "cell_type": "markdown",
   "id": "ea39a2fb",
   "metadata": {},
   "source": [
    "These all types exist because all the types has different idea of the what to use for the base models. "
   ]
  },
  {
   "cell_type": "markdown",
   "id": "990a3834",
   "metadata": {},
   "source": [
    "* In case of **voting**, we have different base models.\n",
    "* In case of **stacking**, we put the knn or any other model and put the predictions of all base models and the result to the model and calculate the different weightage for each models.\n",
    "* Bagging: We give different data to each different base models, and do the later procces of the votting.\n",
    "* In case of **boosting**, it counts for all the mistakes it did on the previous base models, and in a way we are boosting our data and in series we make very less mistakes. It is the most powerful algorithm."
   ]
  },
  {
   "cell_type": "markdown",
   "id": "e7bf0d00",
   "metadata": {},
   "source": [
    "### **BENIFTIS**"
   ]
  },
  {
   "cell_type": "markdown",
   "id": "89b76c7e",
   "metadata": {},
   "source": [
    "* Improvment is performance\n",
    "* Reduce bias and varience\n",
    "* Robustness\n"
   ]
  },
  {
   "cell_type": "markdown",
   "id": "106b691c",
   "metadata": {},
   "source": [
    "### **WHEN TO USE**\n",
    "* In most of the times used at the last."
   ]
  },
  {
   "cell_type": "markdown",
   "id": "8a4cb6ce",
   "metadata": {},
   "source": []
  }
 ],
 "metadata": {
  "language_info": {
   "name": "python"
  }
 },
 "nbformat": 4,
 "nbformat_minor": 5
}
