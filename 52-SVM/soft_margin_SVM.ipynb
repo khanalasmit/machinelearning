{
 "cells": [
  {
   "cell_type": "markdown",
   "id": "ff16ec2c",
   "metadata": {},
   "source": [
    "### **SOFT MARGIN SVM**\n",
    "-  "
   ]
  }
 ],
 "metadata": {
  "language_info": {
   "name": "python"
  }
 },
 "nbformat": 4,
 "nbformat_minor": 5
}
