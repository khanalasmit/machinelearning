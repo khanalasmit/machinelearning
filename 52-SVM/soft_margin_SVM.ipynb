{
 "cells": [
  {
   "cell_type": "markdown",
   "id": "ff16ec2c",
   "metadata": {},
   "source": [
    "### **SOFT MARGIN SVM**\n",
    "-  argmin=$\\frac{||W||}{2}+\\sum_{i=1}^n \\zeta_i$\n",
    "- Now we will calculte the value of $\\zeta$ for all the points and try to minimize\n",
    "- The $\\zeta$ here is the error term. It is the distanc of the point in the opposite direction of the negetive and postive hyperplane. \n",
    "- Here we want to minimize the error that is $\\zeta$. Thus two terms will appear. Thus SVM error will be margin error and the classification error.\n",
    "- $\\text{Margin error}+\\text{Classification error}=\\text{SVM error}$.\n",
    "- The hyperparameter is introduced called hyperparameter.\n",
    "- $\\text{argmin}\\frac{||w||}{2} +c\\sum_{i=1}^n \\zeta _i$\n",
    "- The focus should be here to reduce the misclassification rather than to maximize the margin.\n",
    "- c help to determine the optimal value of the margin error and classification error.\n"
   ]
  },
  {
   "cell_type": "markdown",
   "id": "14774c62",
   "metadata": {},
   "source": []
  }
 ],
 "metadata": {
  "language_info": {
   "name": "python"
  }
 },
 "nbformat": 4,
 "nbformat_minor": 5
}
