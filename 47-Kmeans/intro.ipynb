{
 "cells": [
  {
   "cell_type": "markdown",
   "id": "5be01fb2",
   "metadata": {},
   "source": [
    "## **K-MEANS CLUSTERING**"
   ]
  },
  {
   "cell_type": "markdown",
   "id": "22b27be5",
   "metadata": {},
   "source": [
    "**Steps:**\n",
    "- Decide n clusters\\\n",
    "&darr;\n",
    "- Init Centroids\\\n",
    "&darr;\n",
    "- Assign clusters\\\n",
    "&darr;\n",
    "- Move centroids\\\n",
    "&darr;\n",
    "- Finish"
   ]
  },
  {
   "cell_type": "markdown",
   "id": "553e80b2",
   "metadata": {},
   "source": [
    "### **ELBOW METHOD**\n",
    "- To find the number of the clusters in the k means clustering.\n",
    "![elbow-method](1.png)\n",
    "- We take the sum of the square of the distances from the centroid to the points. This is we call **WCSS**.\n",
    "- The overall WCSS is sum of WCSS of all the clusters.\n",
    "- The minimum WCSS is zero for the number of clusters equal to the number of the points."
   ]
  },
  {
   "cell_type": "markdown",
   "id": "cfe136f0",
   "metadata": {},
   "source": []
  }
 ],
 "metadata": {
  "kernelspec": {
   "display_name": "Python 3",
   "language": "python",
   "name": "python3"
  },
  "language_info": {
   "codemirror_mode": {
    "name": "ipython",
    "version": 3
   },
   "file_extension": ".py",
   "mimetype": "text/x-python",
   "name": "python",
   "nbconvert_exporter": "python",
   "pygments_lexer": "ipython3",
   "version": "3.12.4"
  }
 },
 "nbformat": 4,
 "nbformat_minor": 5
}
