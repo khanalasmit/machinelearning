{
 "cells": [
  {
   "cell_type": "markdown",
   "id": "87b07a44",
   "metadata": {},
   "source": [
    "### **Multiple linear Regression**"
   ]
  },
  {
   "cell_type": "markdown",
   "id": "68e5f10f",
   "metadata": {},
   "source": [
    "When we have more than one columns in the input then we take input columns. Here we have multiple predictors for a single predictor.\\\n",
    "For eg: for the salary per annum we take cgpa, iq etc then it is multiple linear regression."
   ]
  },
  {
   "cell_type": "markdown",
   "id": "f9dc8d2e",
   "metadata": {},
   "source": [
    "In most of the cases we use multiple linear regresssion. It is the extended version of the simple linear regresion."
   ]
  },
  {
   "cell_type": "markdown",
   "id": "9256952d",
   "metadata": {},
   "source": [
    "If there are two predictors then the equations becomes:\\\n",
    "$Y=\\beta_{0}+\\beta_{1}X_1+\\beta_{2}X_2$\\\n",
    "If there are three predictors then the equations becomes:\\\n",
    "$Y=\\beta_{0}+\\beta_{1}X_1+\\beta_{2}X_2+\\beta_{3}X_3$\\\n",
    "Here $\\beta_{1} and \\beta_{2}$ give the weights. If first one is more which means $X_1$ has more impact in the predicate than second one."
   ]
  },
  {
   "cell_type": "markdown",
   "id": "d6f247e8",
   "metadata": {},
   "source": [
    "**Code Example**"
   ]
  },
  {
   "cell_type": "code",
   "execution_count": 20,
   "id": "8db9d4cf",
   "metadata": {},
   "outputs": [],
   "source": [
    "import numpy as np\n",
    "from sklearn.datasets import make_regression\n",
    "from sklearn.metrics import accuracy_score,r2_score,mean_squared_error\n",
    "import pandas as pd\n",
    "import plotly.express as px\n",
    "import plotly.graph_objects as go"
   ]
  },
  {
   "cell_type": "code",
   "execution_count": 21,
   "id": "eeff2d33",
   "metadata": {},
   "outputs": [],
   "source": [
    "#here n_features gives the no of features,n_targets gives the pedicate, n_inforamtive spectfies how many features to be used to find the target variable\n",
    "#noise gives the siginificant randomness added to y\n",
    "X,y=make_regression(n_samples=100,n_features=2,n_informative=2,n_targets=1,noise=50)"
   ]
  },
  {
   "cell_type": "code",
   "execution_count": 22,
   "id": "1516d6d2",
   "metadata": {},
   "outputs": [
    {
     "data": {
      "text/html": [
       "<div>\n",
       "<style scoped>\n",
       "    .dataframe tbody tr th:only-of-type {\n",
       "        vertical-align: middle;\n",
       "    }\n",
       "\n",
       "    .dataframe tbody tr th {\n",
       "        vertical-align: top;\n",
       "    }\n",
       "\n",
       "    .dataframe thead th {\n",
       "        text-align: right;\n",
       "    }\n",
       "</style>\n",
       "<table border=\"1\" class=\"dataframe\">\n",
       "  <thead>\n",
       "    <tr style=\"text-align: right;\">\n",
       "      <th></th>\n",
       "      <th>feature1</th>\n",
       "      <th>feature2</th>\n",
       "      <th>target</th>\n",
       "    </tr>\n",
       "  </thead>\n",
       "  <tbody>\n",
       "    <tr>\n",
       "      <th>0</th>\n",
       "      <td>0.209997</td>\n",
       "      <td>1.378709</td>\n",
       "      <td>84.328579</td>\n",
       "    </tr>\n",
       "    <tr>\n",
       "      <th>1</th>\n",
       "      <td>0.199214</td>\n",
       "      <td>-0.470146</td>\n",
       "      <td>-97.746187</td>\n",
       "    </tr>\n",
       "    <tr>\n",
       "      <th>2</th>\n",
       "      <td>-1.546189</td>\n",
       "      <td>2.087442</td>\n",
       "      <td>-9.310065</td>\n",
       "    </tr>\n",
       "    <tr>\n",
       "      <th>3</th>\n",
       "      <td>-0.903457</td>\n",
       "      <td>-0.086640</td>\n",
       "      <td>-103.535169</td>\n",
       "    </tr>\n",
       "    <tr>\n",
       "      <th>4</th>\n",
       "      <td>0.443443</td>\n",
       "      <td>0.576474</td>\n",
       "      <td>131.141976</td>\n",
       "    </tr>\n",
       "  </tbody>\n",
       "</table>\n",
       "</div>"
      ],
      "text/plain": [
       "   feature1  feature2      target\n",
       "0  0.209997  1.378709   84.328579\n",
       "1  0.199214 -0.470146  -97.746187\n",
       "2 -1.546189  2.087442   -9.310065\n",
       "3 -0.903457 -0.086640 -103.535169\n",
       "4  0.443443  0.576474  131.141976"
      ]
     },
     "execution_count": 22,
     "metadata": {},
     "output_type": "execute_result"
    }
   ],
   "source": [
    "df=pd.DataFrame({'feature1':X[:,0],'feature2':X[:,1],'target':y})\n",
    "df.head()"
   ]
  },
  {
   "cell_type": "code",
   "execution_count": 23,
   "id": "fc6013ce",
   "metadata": {},
   "outputs": [
    {
     "data": {
      "application/vnd.plotly.v1+json": {
       "config": {
        "plotlyServerURL": "https://plot.ly"
       },
       "data": [
        {
         "hovertemplate": "feature1=%{x}<br>feature2=%{y}<br>target=%{z}<extra></extra>",
         "legendgroup": "",
         "marker": {
          "color": "#636efa",
          "symbol": "circle"
         },
         "mode": "markers",
         "name": "",
         "scene": "scene",
         "showlegend": false,
         "type": "scatter3d",
         "x": [
          0.20999717703755744,
          0.19921361649758557,
          -1.5461889534237958,
          -0.9034574095087228,
          0.4434429699649353,
          0.8775366896513136,
          1.880726451021101,
          -0.6844126392934646,
          2.1923500899280874,
          1.03089525095932,
          -0.808792426894451,
          0.23139901416293615,
          0.10810019440090286,
          -0.10788169630458852,
          1.34248216357535,
          -1.1679551565785802,
          -0.2771482118958283,
          0.5110356865753785,
          -0.24163683248612594,
          0.4464460289064851,
          -0.29651287721829456,
          -0.9824744123012543,
          0.4959712953124724,
          -0.013755384590532644,
          0.167244119648073,
          -0.6366570785814968,
          -1.494857692290574,
          0.1015288641264478,
          -0.0955044555567623,
          1.085220697146333,
          -0.09487782533393582,
          0.2878683019299205,
          -0.8398878303237581,
          -0.18823957523108525,
          0.40088277364865366,
          0.25705147114372634,
          -1.531470975358525,
          -1.167592478395926,
          0.37246189069398516,
          -0.12307116386511034,
          -0.8496173209372043,
          1.6263056418676267,
          2.2435939083896987,
          -0.36952279813773137,
          1.0438624929147076,
          0.33846205188553063,
          1.1975596786352904,
          -0.7892363407859679,
          0.9054242425888854,
          -1.097872895527346,
          -1.3621696818282265,
          -0.6051454434826624,
          -0.829619904071461,
          -1.7410895837130973,
          -0.7822447793561027,
          1.6902195875890962,
          -0.7688392726746489,
          1.3812507099720932,
          -2.2000757280202583,
          -1.1066288707962264,
          0.6342112731879408,
          0.05903919088460776,
          0.0980672067771256,
          -0.020050358584814378,
          -0.5325693591310359,
          -1.2188919525689899,
          1.3183524498975423,
          0.3136534823995191,
          -0.21729062869564228,
          -0.0341883322001416,
          -1.2920760070851298,
          -0.38336927450038205,
          -1.452332588517475,
          0.3408574179082714,
          -1.0435593207073495,
          1.0132566030727608,
          -0.44869708834192984,
          -1.2995756563452028,
          -1.5609588186072576,
          0.04337554719204413,
          -0.5884482738488684,
          -0.33682254759123015,
          0.5695966013980095,
          -1.547894406171076,
          0.2936570854515198,
          -1.817380093068388,
          0.5341414856100376,
          -0.8602115561725356,
          -1.8395985015798546,
          -0.9311666735808695,
          -0.6997649925188331,
          -1.030409408168574,
          0.21761951041031413,
          -0.7412945486578697,
          0.6056859059730441,
          0.9185997602863195,
          -0.9113929928238328,
          0.391498369771429,
          1.1043069786908517,
          -0.39012880055919363
         ],
         "y": [
          1.3787091148712753,
          -0.47014647284965083,
          2.087441772657499,
          -0.08664039073827574,
          0.5764738300030477,
          -0.4341548179344912,
          2.5688463265315944,
          0.09932759924140752,
          1.483239738539457,
          0.3266000538159939,
          0.12026054891881213,
          -0.7585071297544518,
          1.5188746951959913,
          -0.5329409788313807,
          -0.791880158075123,
          -0.9427834243850424,
          0.07318102012018553,
          -1.546040781984628,
          -1.2414117011071215,
          -0.8106275290072517,
          0.029723520341211385,
          -0.6926841162238422,
          -1.385877124227748,
          1.400706554885083,
          -0.06329701947263669,
          -0.7604642372748341,
          2.2883788605380797,
          0.16399551292927772,
          0.7916161442751064,
          -0.6594174227116111,
          -0.23141298543614952,
          0.6384180712999774,
          0.0338861795721303,
          0.36202915148289483,
          0.506836621373508,
          0.8581000737936575,
          1.4866479696035797,
          -0.6895931673495042,
          0.34285187828282593,
          0.014016504855697444,
          -0.9882676992869166,
          -0.6657078203159877,
          1.1058703663344172,
          -0.9542121876394615,
          0.23207322048020776,
          -1.2642992719825417,
          0.6184662005677279,
          0.8510224731451772,
          0.3658351509580771,
          0.3990168108692849,
          0.6007978753273897,
          0.8166130155837631,
          1.2109756413283441,
          -0.4747713459471154,
          -0.23095757386395485,
          -0.6576488751342511,
          0.25656814044226167,
          -2.4804678845016843,
          0.7813414847576001,
          1.2068768150354252,
          0.35373032587351416,
          -0.022989568811369668,
          -1.5023677227950414,
          -1.8007677999897902,
          0.052215774508892004,
          -1.3009311867724147,
          -0.32620307328513837,
          -1.3093220232457559,
          0.27644201020627046,
          -0.9445326051984824,
          -1.288059170681084,
          -0.010427613538289998,
          -0.5552490501062817,
          -1.344858135092967,
          0.5888681168017965,
          1.1919938842348263,
          -1.7768877091451944,
          0.9154148935300911,
          0.7368574211565666,
          0.859832843435973,
          -0.5534694261394489,
          0.5822966474556277,
          1.0466933503589795,
          -1.3046876880203,
          -0.6925897079177551,
          1.1156288900300428,
          -0.20695290702281371,
          -1.1333740490614115,
          -0.25298487031192307,
          -0.9448881982024516,
          2.0515390140584806,
          0.5555536130007012,
          -0.5666705260300556,
          1.896287138603534,
          0.7036778041021828,
          0.4536752150188848,
          -0.553055408143357,
          1.1985730271013062,
          -1.2770695836193922,
          -1.0048695356287451
         ],
         "z": [
          84.32857853269957,
          -97.74618738558878,
          -9.310065214846118,
          -103.53516886880051,
          131.1419764448545,
          41.07198618954803,
          143.5860314708552,
          11.111512147458438,
          162.18615463223423,
          43.50067330581149,
          21.689220135612636,
          -10.057383821386157,
          25.78398716915485,
          -63.28961632766659,
          62.663745372384504,
          -26.12824481052924,
          -11.86366304401932,
          36.958410499492416,
          54.903488243156076,
          -25.594142076368787,
          17.397038652525957,
          -94.47073595080379,
          54.84037958319165,
          8.225511353302121,
          -56.3771890469094,
          -10.622182185817664,
          17.843671252366743,
          12.185124810335331,
          16.116222864810535,
          43.91386859400626,
          -14.713346920194208,
          18.954015972265797,
          -87.11239664065549,
          130.22994971565439,
          -101.97753145539141,
          3.5579540995359267,
          28.433395232749376,
          -113.06724138139299,
          1.2841023789220216,
          -7.564327476165876,
          -22.312906287569525,
          67.66379500197064,
          109.51949561975151,
          -55.38706454408506,
          40.740935229634346,
          -57.33372970371444,
          105.20678179908698,
          19.5329107472667,
          3.3789205148745296,
          -34.33907679890136,
          -25.08559619996603,
          -112.19801405346239,
          45.619434810748274,
          -153.38402477179062,
          -43.86722120228216,
          85.3547701019126,
          -9.991138094943853,
          -45.4218776315448,
          -31.34060836061427,
          22.729477331854714,
          66.60177095767642,
          15.93948891510734,
          -53.73915365108694,
          -53.32983270952607,
          -12.18480739253897,
          -69.93349450185266,
          11.510082696525764,
          -78.89069034304588,
          20.999712562113242,
          15.987436087133556,
          -56.073430971288495,
          -16.178619980003493,
          -15.185963974213564,
          -33.81487720897448,
          9.961195617639461,
          149.82587780713953,
          -97.20034158737026,
          -41.24986157573255,
          20.704128529115934,
          -46.88545888677011,
          -12.649878663644305,
          61.926878680357916,
          88.99027170141416,
          -141.1565261590507,
          -0.6238819075790545,
          -47.8367874001663,
          47.87348079183579,
          -109.26096232973391,
          -145.55905992783397,
          -103.01113774893383,
          109.19622984581528,
          12.141882159700963,
          15.248657233515729,
          35.10104517292643,
          -22.764412053487725,
          43.047592094845015,
          -79.62848583547354,
          29.167222540877194,
          36.723377463960645,
          -59.03488188024741
         ]
        }
       ],
       "layout": {
        "legend": {
         "tracegroupgap": 0
        },
        "margin": {
         "t": 60
        },
        "scene": {
         "domain": {
          "x": [
           0,
           1
          ],
          "y": [
           0,
           1
          ]
         },
         "xaxis": {
          "title": {
           "text": "feature1"
          }
         },
         "yaxis": {
          "title": {
           "text": "feature2"
          }
         },
         "zaxis": {
          "title": {
           "text": "target"
          }
         }
        },
        "template": {
         "data": {
          "bar": [
           {
            "error_x": {
             "color": "#2a3f5f"
            },
            "error_y": {
             "color": "#2a3f5f"
            },
            "marker": {
             "line": {
              "color": "#E5ECF6",
              "width": 0.5
             },
             "pattern": {
              "fillmode": "overlay",
              "size": 10,
              "solidity": 0.2
             }
            },
            "type": "bar"
           }
          ],
          "barpolar": [
           {
            "marker": {
             "line": {
              "color": "#E5ECF6",
              "width": 0.5
             },
             "pattern": {
              "fillmode": "overlay",
              "size": 10,
              "solidity": 0.2
             }
            },
            "type": "barpolar"
           }
          ],
          "carpet": [
           {
            "aaxis": {
             "endlinecolor": "#2a3f5f",
             "gridcolor": "white",
             "linecolor": "white",
             "minorgridcolor": "white",
             "startlinecolor": "#2a3f5f"
            },
            "baxis": {
             "endlinecolor": "#2a3f5f",
             "gridcolor": "white",
             "linecolor": "white",
             "minorgridcolor": "white",
             "startlinecolor": "#2a3f5f"
            },
            "type": "carpet"
           }
          ],
          "choropleth": [
           {
            "colorbar": {
             "outlinewidth": 0,
             "ticks": ""
            },
            "type": "choropleth"
           }
          ],
          "contour": [
           {
            "colorbar": {
             "outlinewidth": 0,
             "ticks": ""
            },
            "colorscale": [
             [
              0,
              "#0d0887"
             ],
             [
              0.1111111111111111,
              "#46039f"
             ],
             [
              0.2222222222222222,
              "#7201a8"
             ],
             [
              0.3333333333333333,
              "#9c179e"
             ],
             [
              0.4444444444444444,
              "#bd3786"
             ],
             [
              0.5555555555555556,
              "#d8576b"
             ],
             [
              0.6666666666666666,
              "#ed7953"
             ],
             [
              0.7777777777777778,
              "#fb9f3a"
             ],
             [
              0.8888888888888888,
              "#fdca26"
             ],
             [
              1,
              "#f0f921"
             ]
            ],
            "type": "contour"
           }
          ],
          "contourcarpet": [
           {
            "colorbar": {
             "outlinewidth": 0,
             "ticks": ""
            },
            "type": "contourcarpet"
           }
          ],
          "heatmap": [
           {
            "colorbar": {
             "outlinewidth": 0,
             "ticks": ""
            },
            "colorscale": [
             [
              0,
              "#0d0887"
             ],
             [
              0.1111111111111111,
              "#46039f"
             ],
             [
              0.2222222222222222,
              "#7201a8"
             ],
             [
              0.3333333333333333,
              "#9c179e"
             ],
             [
              0.4444444444444444,
              "#bd3786"
             ],
             [
              0.5555555555555556,
              "#d8576b"
             ],
             [
              0.6666666666666666,
              "#ed7953"
             ],
             [
              0.7777777777777778,
              "#fb9f3a"
             ],
             [
              0.8888888888888888,
              "#fdca26"
             ],
             [
              1,
              "#f0f921"
             ]
            ],
            "type": "heatmap"
           }
          ],
          "heatmapgl": [
           {
            "colorbar": {
             "outlinewidth": 0,
             "ticks": ""
            },
            "colorscale": [
             [
              0,
              "#0d0887"
             ],
             [
              0.1111111111111111,
              "#46039f"
             ],
             [
              0.2222222222222222,
              "#7201a8"
             ],
             [
              0.3333333333333333,
              "#9c179e"
             ],
             [
              0.4444444444444444,
              "#bd3786"
             ],
             [
              0.5555555555555556,
              "#d8576b"
             ],
             [
              0.6666666666666666,
              "#ed7953"
             ],
             [
              0.7777777777777778,
              "#fb9f3a"
             ],
             [
              0.8888888888888888,
              "#fdca26"
             ],
             [
              1,
              "#f0f921"
             ]
            ],
            "type": "heatmapgl"
           }
          ],
          "histogram": [
           {
            "marker": {
             "pattern": {
              "fillmode": "overlay",
              "size": 10,
              "solidity": 0.2
             }
            },
            "type": "histogram"
           }
          ],
          "histogram2d": [
           {
            "colorbar": {
             "outlinewidth": 0,
             "ticks": ""
            },
            "colorscale": [
             [
              0,
              "#0d0887"
             ],
             [
              0.1111111111111111,
              "#46039f"
             ],
             [
              0.2222222222222222,
              "#7201a8"
             ],
             [
              0.3333333333333333,
              "#9c179e"
             ],
             [
              0.4444444444444444,
              "#bd3786"
             ],
             [
              0.5555555555555556,
              "#d8576b"
             ],
             [
              0.6666666666666666,
              "#ed7953"
             ],
             [
              0.7777777777777778,
              "#fb9f3a"
             ],
             [
              0.8888888888888888,
              "#fdca26"
             ],
             [
              1,
              "#f0f921"
             ]
            ],
            "type": "histogram2d"
           }
          ],
          "histogram2dcontour": [
           {
            "colorbar": {
             "outlinewidth": 0,
             "ticks": ""
            },
            "colorscale": [
             [
              0,
              "#0d0887"
             ],
             [
              0.1111111111111111,
              "#46039f"
             ],
             [
              0.2222222222222222,
              "#7201a8"
             ],
             [
              0.3333333333333333,
              "#9c179e"
             ],
             [
              0.4444444444444444,
              "#bd3786"
             ],
             [
              0.5555555555555556,
              "#d8576b"
             ],
             [
              0.6666666666666666,
              "#ed7953"
             ],
             [
              0.7777777777777778,
              "#fb9f3a"
             ],
             [
              0.8888888888888888,
              "#fdca26"
             ],
             [
              1,
              "#f0f921"
             ]
            ],
            "type": "histogram2dcontour"
           }
          ],
          "mesh3d": [
           {
            "colorbar": {
             "outlinewidth": 0,
             "ticks": ""
            },
            "type": "mesh3d"
           }
          ],
          "parcoords": [
           {
            "line": {
             "colorbar": {
              "outlinewidth": 0,
              "ticks": ""
             }
            },
            "type": "parcoords"
           }
          ],
          "pie": [
           {
            "automargin": true,
            "type": "pie"
           }
          ],
          "scatter": [
           {
            "fillpattern": {
             "fillmode": "overlay",
             "size": 10,
             "solidity": 0.2
            },
            "type": "scatter"
           }
          ],
          "scatter3d": [
           {
            "line": {
             "colorbar": {
              "outlinewidth": 0,
              "ticks": ""
             }
            },
            "marker": {
             "colorbar": {
              "outlinewidth": 0,
              "ticks": ""
             }
            },
            "type": "scatter3d"
           }
          ],
          "scattercarpet": [
           {
            "marker": {
             "colorbar": {
              "outlinewidth": 0,
              "ticks": ""
             }
            },
            "type": "scattercarpet"
           }
          ],
          "scattergeo": [
           {
            "marker": {
             "colorbar": {
              "outlinewidth": 0,
              "ticks": ""
             }
            },
            "type": "scattergeo"
           }
          ],
          "scattergl": [
           {
            "marker": {
             "colorbar": {
              "outlinewidth": 0,
              "ticks": ""
             }
            },
            "type": "scattergl"
           }
          ],
          "scattermapbox": [
           {
            "marker": {
             "colorbar": {
              "outlinewidth": 0,
              "ticks": ""
             }
            },
            "type": "scattermapbox"
           }
          ],
          "scatterpolar": [
           {
            "marker": {
             "colorbar": {
              "outlinewidth": 0,
              "ticks": ""
             }
            },
            "type": "scatterpolar"
           }
          ],
          "scatterpolargl": [
           {
            "marker": {
             "colorbar": {
              "outlinewidth": 0,
              "ticks": ""
             }
            },
            "type": "scatterpolargl"
           }
          ],
          "scatterternary": [
           {
            "marker": {
             "colorbar": {
              "outlinewidth": 0,
              "ticks": ""
             }
            },
            "type": "scatterternary"
           }
          ],
          "surface": [
           {
            "colorbar": {
             "outlinewidth": 0,
             "ticks": ""
            },
            "colorscale": [
             [
              0,
              "#0d0887"
             ],
             [
              0.1111111111111111,
              "#46039f"
             ],
             [
              0.2222222222222222,
              "#7201a8"
             ],
             [
              0.3333333333333333,
              "#9c179e"
             ],
             [
              0.4444444444444444,
              "#bd3786"
             ],
             [
              0.5555555555555556,
              "#d8576b"
             ],
             [
              0.6666666666666666,
              "#ed7953"
             ],
             [
              0.7777777777777778,
              "#fb9f3a"
             ],
             [
              0.8888888888888888,
              "#fdca26"
             ],
             [
              1,
              "#f0f921"
             ]
            ],
            "type": "surface"
           }
          ],
          "table": [
           {
            "cells": {
             "fill": {
              "color": "#EBF0F8"
             },
             "line": {
              "color": "white"
             }
            },
            "header": {
             "fill": {
              "color": "#C8D4E3"
             },
             "line": {
              "color": "white"
             }
            },
            "type": "table"
           }
          ]
         },
         "layout": {
          "annotationdefaults": {
           "arrowcolor": "#2a3f5f",
           "arrowhead": 0,
           "arrowwidth": 1
          },
          "autotypenumbers": "strict",
          "coloraxis": {
           "colorbar": {
            "outlinewidth": 0,
            "ticks": ""
           }
          },
          "colorscale": {
           "diverging": [
            [
             0,
             "#8e0152"
            ],
            [
             0.1,
             "#c51b7d"
            ],
            [
             0.2,
             "#de77ae"
            ],
            [
             0.3,
             "#f1b6da"
            ],
            [
             0.4,
             "#fde0ef"
            ],
            [
             0.5,
             "#f7f7f7"
            ],
            [
             0.6,
             "#e6f5d0"
            ],
            [
             0.7,
             "#b8e186"
            ],
            [
             0.8,
             "#7fbc41"
            ],
            [
             0.9,
             "#4d9221"
            ],
            [
             1,
             "#276419"
            ]
           ],
           "sequential": [
            [
             0,
             "#0d0887"
            ],
            [
             0.1111111111111111,
             "#46039f"
            ],
            [
             0.2222222222222222,
             "#7201a8"
            ],
            [
             0.3333333333333333,
             "#9c179e"
            ],
            [
             0.4444444444444444,
             "#bd3786"
            ],
            [
             0.5555555555555556,
             "#d8576b"
            ],
            [
             0.6666666666666666,
             "#ed7953"
            ],
            [
             0.7777777777777778,
             "#fb9f3a"
            ],
            [
             0.8888888888888888,
             "#fdca26"
            ],
            [
             1,
             "#f0f921"
            ]
           ],
           "sequentialminus": [
            [
             0,
             "#0d0887"
            ],
            [
             0.1111111111111111,
             "#46039f"
            ],
            [
             0.2222222222222222,
             "#7201a8"
            ],
            [
             0.3333333333333333,
             "#9c179e"
            ],
            [
             0.4444444444444444,
             "#bd3786"
            ],
            [
             0.5555555555555556,
             "#d8576b"
            ],
            [
             0.6666666666666666,
             "#ed7953"
            ],
            [
             0.7777777777777778,
             "#fb9f3a"
            ],
            [
             0.8888888888888888,
             "#fdca26"
            ],
            [
             1,
             "#f0f921"
            ]
           ]
          },
          "colorway": [
           "#636efa",
           "#EF553B",
           "#00cc96",
           "#ab63fa",
           "#FFA15A",
           "#19d3f3",
           "#FF6692",
           "#B6E880",
           "#FF97FF",
           "#FECB52"
          ],
          "font": {
           "color": "#2a3f5f"
          },
          "geo": {
           "bgcolor": "white",
           "lakecolor": "white",
           "landcolor": "#E5ECF6",
           "showlakes": true,
           "showland": true,
           "subunitcolor": "white"
          },
          "hoverlabel": {
           "align": "left"
          },
          "hovermode": "closest",
          "mapbox": {
           "style": "light"
          },
          "paper_bgcolor": "white",
          "plot_bgcolor": "#E5ECF6",
          "polar": {
           "angularaxis": {
            "gridcolor": "white",
            "linecolor": "white",
            "ticks": ""
           },
           "bgcolor": "#E5ECF6",
           "radialaxis": {
            "gridcolor": "white",
            "linecolor": "white",
            "ticks": ""
           }
          },
          "scene": {
           "xaxis": {
            "backgroundcolor": "#E5ECF6",
            "gridcolor": "white",
            "gridwidth": 2,
            "linecolor": "white",
            "showbackground": true,
            "ticks": "",
            "zerolinecolor": "white"
           },
           "yaxis": {
            "backgroundcolor": "#E5ECF6",
            "gridcolor": "white",
            "gridwidth": 2,
            "linecolor": "white",
            "showbackground": true,
            "ticks": "",
            "zerolinecolor": "white"
           },
           "zaxis": {
            "backgroundcolor": "#E5ECF6",
            "gridcolor": "white",
            "gridwidth": 2,
            "linecolor": "white",
            "showbackground": true,
            "ticks": "",
            "zerolinecolor": "white"
           }
          },
          "shapedefaults": {
           "line": {
            "color": "#2a3f5f"
           }
          },
          "ternary": {
           "aaxis": {
            "gridcolor": "white",
            "linecolor": "white",
            "ticks": ""
           },
           "baxis": {
            "gridcolor": "white",
            "linecolor": "white",
            "ticks": ""
           },
           "bgcolor": "#E5ECF6",
           "caxis": {
            "gridcolor": "white",
            "linecolor": "white",
            "ticks": ""
           }
          },
          "title": {
           "x": 0.05
          },
          "xaxis": {
           "automargin": true,
           "gridcolor": "white",
           "linecolor": "white",
           "ticks": "",
           "title": {
            "standoff": 15
           },
           "zerolinecolor": "white",
           "zerolinewidth": 2
          },
          "yaxis": {
           "automargin": true,
           "gridcolor": "white",
           "linecolor": "white",
           "ticks": "",
           "title": {
            "standoff": 15
           },
           "zerolinecolor": "white",
           "zerolinewidth": 2
          }
         }
        }
       }
      }
     },
     "metadata": {},
     "output_type": "display_data"
    }
   ],
   "source": [
    "fig=px.scatter_3d(df,x='feature1',y='feature2',z='target')\n",
    "fig.show()"
   ]
  },
  {
   "cell_type": "code",
   "execution_count": 24,
   "id": "8b62fa5f",
   "metadata": {},
   "outputs": [],
   "source": [
    "from sklearn.model_selection import train_test_split\n",
    "from sklearn.linear_model import LinearRegression"
   ]
  },
  {
   "cell_type": "code",
   "execution_count": 25,
   "id": "a489e349",
   "metadata": {},
   "outputs": [],
   "source": [
    "x_train,x_test,y_train,y_test=train_test_split(X,y,random_state=42,test_size=0.3)"
   ]
  },
  {
   "cell_type": "code",
   "execution_count": 26,
   "id": "f5ca5ec9",
   "metadata": {},
   "outputs": [
    {
     "data": {
      "text/html": [
       "<style>#sk-container-id-2 {\n",
       "  /* Definition of color scheme common for light and dark mode */\n",
       "  --sklearn-color-text: #000;\n",
       "  --sklearn-color-text-muted: #666;\n",
       "  --sklearn-color-line: gray;\n",
       "  /* Definition of color scheme for unfitted estimators */\n",
       "  --sklearn-color-unfitted-level-0: #fff5e6;\n",
       "  --sklearn-color-unfitted-level-1: #f6e4d2;\n",
       "  --sklearn-color-unfitted-level-2: #ffe0b3;\n",
       "  --sklearn-color-unfitted-level-3: chocolate;\n",
       "  /* Definition of color scheme for fitted estimators */\n",
       "  --sklearn-color-fitted-level-0: #f0f8ff;\n",
       "  --sklearn-color-fitted-level-1: #d4ebff;\n",
       "  --sklearn-color-fitted-level-2: #b3dbfd;\n",
       "  --sklearn-color-fitted-level-3: cornflowerblue;\n",
       "\n",
       "  /* Specific color for light theme */\n",
       "  --sklearn-color-text-on-default-background: var(--sg-text-color, var(--theme-code-foreground, var(--jp-content-font-color1, black)));\n",
       "  --sklearn-color-background: var(--sg-background-color, var(--theme-background, var(--jp-layout-color0, white)));\n",
       "  --sklearn-color-border-box: var(--sg-text-color, var(--theme-code-foreground, var(--jp-content-font-color1, black)));\n",
       "  --sklearn-color-icon: #696969;\n",
       "\n",
       "  @media (prefers-color-scheme: dark) {\n",
       "    /* Redefinition of color scheme for dark theme */\n",
       "    --sklearn-color-text-on-default-background: var(--sg-text-color, var(--theme-code-foreground, var(--jp-content-font-color1, white)));\n",
       "    --sklearn-color-background: var(--sg-background-color, var(--theme-background, var(--jp-layout-color0, #111)));\n",
       "    --sklearn-color-border-box: var(--sg-text-color, var(--theme-code-foreground, var(--jp-content-font-color1, white)));\n",
       "    --sklearn-color-icon: #878787;\n",
       "  }\n",
       "}\n",
       "\n",
       "#sk-container-id-2 {\n",
       "  color: var(--sklearn-color-text);\n",
       "}\n",
       "\n",
       "#sk-container-id-2 pre {\n",
       "  padding: 0;\n",
       "}\n",
       "\n",
       "#sk-container-id-2 input.sk-hidden--visually {\n",
       "  border: 0;\n",
       "  clip: rect(1px 1px 1px 1px);\n",
       "  clip: rect(1px, 1px, 1px, 1px);\n",
       "  height: 1px;\n",
       "  margin: -1px;\n",
       "  overflow: hidden;\n",
       "  padding: 0;\n",
       "  position: absolute;\n",
       "  width: 1px;\n",
       "}\n",
       "\n",
       "#sk-container-id-2 div.sk-dashed-wrapped {\n",
       "  border: 1px dashed var(--sklearn-color-line);\n",
       "  margin: 0 0.4em 0.5em 0.4em;\n",
       "  box-sizing: border-box;\n",
       "  padding-bottom: 0.4em;\n",
       "  background-color: var(--sklearn-color-background);\n",
       "}\n",
       "\n",
       "#sk-container-id-2 div.sk-container {\n",
       "  /* jupyter's `normalize.less` sets `[hidden] { display: none; }`\n",
       "     but bootstrap.min.css set `[hidden] { display: none !important; }`\n",
       "     so we also need the `!important` here to be able to override the\n",
       "     default hidden behavior on the sphinx rendered scikit-learn.org.\n",
       "     See: https://github.com/scikit-learn/scikit-learn/issues/21755 */\n",
       "  display: inline-block !important;\n",
       "  position: relative;\n",
       "}\n",
       "\n",
       "#sk-container-id-2 div.sk-text-repr-fallback {\n",
       "  display: none;\n",
       "}\n",
       "\n",
       "div.sk-parallel-item,\n",
       "div.sk-serial,\n",
       "div.sk-item {\n",
       "  /* draw centered vertical line to link estimators */\n",
       "  background-image: linear-gradient(var(--sklearn-color-text-on-default-background), var(--sklearn-color-text-on-default-background));\n",
       "  background-size: 2px 100%;\n",
       "  background-repeat: no-repeat;\n",
       "  background-position: center center;\n",
       "}\n",
       "\n",
       "/* Parallel-specific style estimator block */\n",
       "\n",
       "#sk-container-id-2 div.sk-parallel-item::after {\n",
       "  content: \"\";\n",
       "  width: 100%;\n",
       "  border-bottom: 2px solid var(--sklearn-color-text-on-default-background);\n",
       "  flex-grow: 1;\n",
       "}\n",
       "\n",
       "#sk-container-id-2 div.sk-parallel {\n",
       "  display: flex;\n",
       "  align-items: stretch;\n",
       "  justify-content: center;\n",
       "  background-color: var(--sklearn-color-background);\n",
       "  position: relative;\n",
       "}\n",
       "\n",
       "#sk-container-id-2 div.sk-parallel-item {\n",
       "  display: flex;\n",
       "  flex-direction: column;\n",
       "}\n",
       "\n",
       "#sk-container-id-2 div.sk-parallel-item:first-child::after {\n",
       "  align-self: flex-end;\n",
       "  width: 50%;\n",
       "}\n",
       "\n",
       "#sk-container-id-2 div.sk-parallel-item:last-child::after {\n",
       "  align-self: flex-start;\n",
       "  width: 50%;\n",
       "}\n",
       "\n",
       "#sk-container-id-2 div.sk-parallel-item:only-child::after {\n",
       "  width: 0;\n",
       "}\n",
       "\n",
       "/* Serial-specific style estimator block */\n",
       "\n",
       "#sk-container-id-2 div.sk-serial {\n",
       "  display: flex;\n",
       "  flex-direction: column;\n",
       "  align-items: center;\n",
       "  background-color: var(--sklearn-color-background);\n",
       "  padding-right: 1em;\n",
       "  padding-left: 1em;\n",
       "}\n",
       "\n",
       "\n",
       "/* Toggleable style: style used for estimator/Pipeline/ColumnTransformer box that is\n",
       "clickable and can be expanded/collapsed.\n",
       "- Pipeline and ColumnTransformer use this feature and define the default style\n",
       "- Estimators will overwrite some part of the style using the `sk-estimator` class\n",
       "*/\n",
       "\n",
       "/* Pipeline and ColumnTransformer style (default) */\n",
       "\n",
       "#sk-container-id-2 div.sk-toggleable {\n",
       "  /* Default theme specific background. It is overwritten whether we have a\n",
       "  specific estimator or a Pipeline/ColumnTransformer */\n",
       "  background-color: var(--sklearn-color-background);\n",
       "}\n",
       "\n",
       "/* Toggleable label */\n",
       "#sk-container-id-2 label.sk-toggleable__label {\n",
       "  cursor: pointer;\n",
       "  display: flex;\n",
       "  width: 100%;\n",
       "  margin-bottom: 0;\n",
       "  padding: 0.5em;\n",
       "  box-sizing: border-box;\n",
       "  text-align: center;\n",
       "  align-items: start;\n",
       "  justify-content: space-between;\n",
       "  gap: 0.5em;\n",
       "}\n",
       "\n",
       "#sk-container-id-2 label.sk-toggleable__label .caption {\n",
       "  font-size: 0.6rem;\n",
       "  font-weight: lighter;\n",
       "  color: var(--sklearn-color-text-muted);\n",
       "}\n",
       "\n",
       "#sk-container-id-2 label.sk-toggleable__label-arrow:before {\n",
       "  /* Arrow on the left of the label */\n",
       "  content: \"▸\";\n",
       "  float: left;\n",
       "  margin-right: 0.25em;\n",
       "  color: var(--sklearn-color-icon);\n",
       "}\n",
       "\n",
       "#sk-container-id-2 label.sk-toggleable__label-arrow:hover:before {\n",
       "  color: var(--sklearn-color-text);\n",
       "}\n",
       "\n",
       "/* Toggleable content - dropdown */\n",
       "\n",
       "#sk-container-id-2 div.sk-toggleable__content {\n",
       "  max-height: 0;\n",
       "  max-width: 0;\n",
       "  overflow: hidden;\n",
       "  text-align: left;\n",
       "  /* unfitted */\n",
       "  background-color: var(--sklearn-color-unfitted-level-0);\n",
       "}\n",
       "\n",
       "#sk-container-id-2 div.sk-toggleable__content.fitted {\n",
       "  /* fitted */\n",
       "  background-color: var(--sklearn-color-fitted-level-0);\n",
       "}\n",
       "\n",
       "#sk-container-id-2 div.sk-toggleable__content pre {\n",
       "  margin: 0.2em;\n",
       "  border-radius: 0.25em;\n",
       "  color: var(--sklearn-color-text);\n",
       "  /* unfitted */\n",
       "  background-color: var(--sklearn-color-unfitted-level-0);\n",
       "}\n",
       "\n",
       "#sk-container-id-2 div.sk-toggleable__content.fitted pre {\n",
       "  /* unfitted */\n",
       "  background-color: var(--sklearn-color-fitted-level-0);\n",
       "}\n",
       "\n",
       "#sk-container-id-2 input.sk-toggleable__control:checked~div.sk-toggleable__content {\n",
       "  /* Expand drop-down */\n",
       "  max-height: 200px;\n",
       "  max-width: 100%;\n",
       "  overflow: auto;\n",
       "}\n",
       "\n",
       "#sk-container-id-2 input.sk-toggleable__control:checked~label.sk-toggleable__label-arrow:before {\n",
       "  content: \"▾\";\n",
       "}\n",
       "\n",
       "/* Pipeline/ColumnTransformer-specific style */\n",
       "\n",
       "#sk-container-id-2 div.sk-label input.sk-toggleable__control:checked~label.sk-toggleable__label {\n",
       "  color: var(--sklearn-color-text);\n",
       "  background-color: var(--sklearn-color-unfitted-level-2);\n",
       "}\n",
       "\n",
       "#sk-container-id-2 div.sk-label.fitted input.sk-toggleable__control:checked~label.sk-toggleable__label {\n",
       "  background-color: var(--sklearn-color-fitted-level-2);\n",
       "}\n",
       "\n",
       "/* Estimator-specific style */\n",
       "\n",
       "/* Colorize estimator box */\n",
       "#sk-container-id-2 div.sk-estimator input.sk-toggleable__control:checked~label.sk-toggleable__label {\n",
       "  /* unfitted */\n",
       "  background-color: var(--sklearn-color-unfitted-level-2);\n",
       "}\n",
       "\n",
       "#sk-container-id-2 div.sk-estimator.fitted input.sk-toggleable__control:checked~label.sk-toggleable__label {\n",
       "  /* fitted */\n",
       "  background-color: var(--sklearn-color-fitted-level-2);\n",
       "}\n",
       "\n",
       "#sk-container-id-2 div.sk-label label.sk-toggleable__label,\n",
       "#sk-container-id-2 div.sk-label label {\n",
       "  /* The background is the default theme color */\n",
       "  color: var(--sklearn-color-text-on-default-background);\n",
       "}\n",
       "\n",
       "/* On hover, darken the color of the background */\n",
       "#sk-container-id-2 div.sk-label:hover label.sk-toggleable__label {\n",
       "  color: var(--sklearn-color-text);\n",
       "  background-color: var(--sklearn-color-unfitted-level-2);\n",
       "}\n",
       "\n",
       "/* Label box, darken color on hover, fitted */\n",
       "#sk-container-id-2 div.sk-label.fitted:hover label.sk-toggleable__label.fitted {\n",
       "  color: var(--sklearn-color-text);\n",
       "  background-color: var(--sklearn-color-fitted-level-2);\n",
       "}\n",
       "\n",
       "/* Estimator label */\n",
       "\n",
       "#sk-container-id-2 div.sk-label label {\n",
       "  font-family: monospace;\n",
       "  font-weight: bold;\n",
       "  display: inline-block;\n",
       "  line-height: 1.2em;\n",
       "}\n",
       "\n",
       "#sk-container-id-2 div.sk-label-container {\n",
       "  text-align: center;\n",
       "}\n",
       "\n",
       "/* Estimator-specific */\n",
       "#sk-container-id-2 div.sk-estimator {\n",
       "  font-family: monospace;\n",
       "  border: 1px dotted var(--sklearn-color-border-box);\n",
       "  border-radius: 0.25em;\n",
       "  box-sizing: border-box;\n",
       "  margin-bottom: 0.5em;\n",
       "  /* unfitted */\n",
       "  background-color: var(--sklearn-color-unfitted-level-0);\n",
       "}\n",
       "\n",
       "#sk-container-id-2 div.sk-estimator.fitted {\n",
       "  /* fitted */\n",
       "  background-color: var(--sklearn-color-fitted-level-0);\n",
       "}\n",
       "\n",
       "/* on hover */\n",
       "#sk-container-id-2 div.sk-estimator:hover {\n",
       "  /* unfitted */\n",
       "  background-color: var(--sklearn-color-unfitted-level-2);\n",
       "}\n",
       "\n",
       "#sk-container-id-2 div.sk-estimator.fitted:hover {\n",
       "  /* fitted */\n",
       "  background-color: var(--sklearn-color-fitted-level-2);\n",
       "}\n",
       "\n",
       "/* Specification for estimator info (e.g. \"i\" and \"?\") */\n",
       "\n",
       "/* Common style for \"i\" and \"?\" */\n",
       "\n",
       ".sk-estimator-doc-link,\n",
       "a:link.sk-estimator-doc-link,\n",
       "a:visited.sk-estimator-doc-link {\n",
       "  float: right;\n",
       "  font-size: smaller;\n",
       "  line-height: 1em;\n",
       "  font-family: monospace;\n",
       "  background-color: var(--sklearn-color-background);\n",
       "  border-radius: 1em;\n",
       "  height: 1em;\n",
       "  width: 1em;\n",
       "  text-decoration: none !important;\n",
       "  margin-left: 0.5em;\n",
       "  text-align: center;\n",
       "  /* unfitted */\n",
       "  border: var(--sklearn-color-unfitted-level-1) 1pt solid;\n",
       "  color: var(--sklearn-color-unfitted-level-1);\n",
       "}\n",
       "\n",
       ".sk-estimator-doc-link.fitted,\n",
       "a:link.sk-estimator-doc-link.fitted,\n",
       "a:visited.sk-estimator-doc-link.fitted {\n",
       "  /* fitted */\n",
       "  border: var(--sklearn-color-fitted-level-1) 1pt solid;\n",
       "  color: var(--sklearn-color-fitted-level-1);\n",
       "}\n",
       "\n",
       "/* On hover */\n",
       "div.sk-estimator:hover .sk-estimator-doc-link:hover,\n",
       ".sk-estimator-doc-link:hover,\n",
       "div.sk-label-container:hover .sk-estimator-doc-link:hover,\n",
       ".sk-estimator-doc-link:hover {\n",
       "  /* unfitted */\n",
       "  background-color: var(--sklearn-color-unfitted-level-3);\n",
       "  color: var(--sklearn-color-background);\n",
       "  text-decoration: none;\n",
       "}\n",
       "\n",
       "div.sk-estimator.fitted:hover .sk-estimator-doc-link.fitted:hover,\n",
       ".sk-estimator-doc-link.fitted:hover,\n",
       "div.sk-label-container:hover .sk-estimator-doc-link.fitted:hover,\n",
       ".sk-estimator-doc-link.fitted:hover {\n",
       "  /* fitted */\n",
       "  background-color: var(--sklearn-color-fitted-level-3);\n",
       "  color: var(--sklearn-color-background);\n",
       "  text-decoration: none;\n",
       "}\n",
       "\n",
       "/* Span, style for the box shown on hovering the info icon */\n",
       ".sk-estimator-doc-link span {\n",
       "  display: none;\n",
       "  z-index: 9999;\n",
       "  position: relative;\n",
       "  font-weight: normal;\n",
       "  right: .2ex;\n",
       "  padding: .5ex;\n",
       "  margin: .5ex;\n",
       "  width: min-content;\n",
       "  min-width: 20ex;\n",
       "  max-width: 50ex;\n",
       "  color: var(--sklearn-color-text);\n",
       "  box-shadow: 2pt 2pt 4pt #999;\n",
       "  /* unfitted */\n",
       "  background: var(--sklearn-color-unfitted-level-0);\n",
       "  border: .5pt solid var(--sklearn-color-unfitted-level-3);\n",
       "}\n",
       "\n",
       ".sk-estimator-doc-link.fitted span {\n",
       "  /* fitted */\n",
       "  background: var(--sklearn-color-fitted-level-0);\n",
       "  border: var(--sklearn-color-fitted-level-3);\n",
       "}\n",
       "\n",
       ".sk-estimator-doc-link:hover span {\n",
       "  display: block;\n",
       "}\n",
       "\n",
       "/* \"?\"-specific style due to the `<a>` HTML tag */\n",
       "\n",
       "#sk-container-id-2 a.estimator_doc_link {\n",
       "  float: right;\n",
       "  font-size: 1rem;\n",
       "  line-height: 1em;\n",
       "  font-family: monospace;\n",
       "  background-color: var(--sklearn-color-background);\n",
       "  border-radius: 1rem;\n",
       "  height: 1rem;\n",
       "  width: 1rem;\n",
       "  text-decoration: none;\n",
       "  /* unfitted */\n",
       "  color: var(--sklearn-color-unfitted-level-1);\n",
       "  border: var(--sklearn-color-unfitted-level-1) 1pt solid;\n",
       "}\n",
       "\n",
       "#sk-container-id-2 a.estimator_doc_link.fitted {\n",
       "  /* fitted */\n",
       "  border: var(--sklearn-color-fitted-level-1) 1pt solid;\n",
       "  color: var(--sklearn-color-fitted-level-1);\n",
       "}\n",
       "\n",
       "/* On hover */\n",
       "#sk-container-id-2 a.estimator_doc_link:hover {\n",
       "  /* unfitted */\n",
       "  background-color: var(--sklearn-color-unfitted-level-3);\n",
       "  color: var(--sklearn-color-background);\n",
       "  text-decoration: none;\n",
       "}\n",
       "\n",
       "#sk-container-id-2 a.estimator_doc_link.fitted:hover {\n",
       "  /* fitted */\n",
       "  background-color: var(--sklearn-color-fitted-level-3);\n",
       "}\n",
       "</style><div id=\"sk-container-id-2\" class=\"sk-top-container\"><div class=\"sk-text-repr-fallback\"><pre>LinearRegression()</pre><b>In a Jupyter environment, please rerun this cell to show the HTML representation or trust the notebook. <br />On GitHub, the HTML representation is unable to render, please try loading this page with nbviewer.org.</b></div><div class=\"sk-container\" hidden><div class=\"sk-item\"><div class=\"sk-estimator fitted sk-toggleable\"><input class=\"sk-toggleable__control sk-hidden--visually\" id=\"sk-estimator-id-2\" type=\"checkbox\" checked><label for=\"sk-estimator-id-2\" class=\"sk-toggleable__label fitted sk-toggleable__label-arrow\"><div><div>LinearRegression</div></div><div><a class=\"sk-estimator-doc-link fitted\" rel=\"noreferrer\" target=\"_blank\" href=\"https://scikit-learn.org/1.6/modules/generated/sklearn.linear_model.LinearRegression.html\">?<span>Documentation for LinearRegression</span></a><span class=\"sk-estimator-doc-link fitted\">i<span>Fitted</span></span></div></label><div class=\"sk-toggleable__content fitted\"><pre>LinearRegression()</pre></div> </div></div></div></div>"
      ],
      "text/plain": [
       "LinearRegression()"
      ]
     },
     "execution_count": 26,
     "metadata": {},
     "output_type": "execute_result"
    }
   ],
   "source": [
    "lr=LinearRegression()\n",
    "lr.fit(x_train,y_train)"
   ]
  },
  {
   "cell_type": "code",
   "execution_count": 27,
   "id": "12e5f014",
   "metadata": {},
   "outputs": [],
   "source": [
    "y_pred=lr.predict(x_test)"
   ]
  },
  {
   "cell_type": "code",
   "execution_count": 28,
   "id": "c6e06af1",
   "metadata": {},
   "outputs": [
    {
     "name": "stdout",
     "output_type": "stream",
     "text": [
      "MSE: 2765.579145124706\n",
      "R2 score: 0.1272117407235388\n"
     ]
    }
   ],
   "source": [
    "print('MSE:',mean_squared_error(y_pred,y_test))\n",
    "print('R2 score:',r2_score(y_pred,y_test))\n"
   ]
  },
  {
   "cell_type": "code",
   "execution_count": 29,
   "id": "ff95fe2c",
   "metadata": {},
   "outputs": [
    {
     "data": {
      "text/plain": [
       "(array([[-5.        , -3.88888889, -2.77777778, -1.66666667, -0.55555556,\n",
       "          0.55555556,  1.66666667,  2.77777778,  3.88888889,  5.        ],\n",
       "        [-5.        , -3.88888889, -2.77777778, -1.66666667, -0.55555556,\n",
       "          0.55555556,  1.66666667,  2.77777778,  3.88888889,  5.        ],\n",
       "        [-5.        , -3.88888889, -2.77777778, -1.66666667, -0.55555556,\n",
       "          0.55555556,  1.66666667,  2.77777778,  3.88888889,  5.        ],\n",
       "        [-5.        , -3.88888889, -2.77777778, -1.66666667, -0.55555556,\n",
       "          0.55555556,  1.66666667,  2.77777778,  3.88888889,  5.        ],\n",
       "        [-5.        , -3.88888889, -2.77777778, -1.66666667, -0.55555556,\n",
       "          0.55555556,  1.66666667,  2.77777778,  3.88888889,  5.        ],\n",
       "        [-5.        , -3.88888889, -2.77777778, -1.66666667, -0.55555556,\n",
       "          0.55555556,  1.66666667,  2.77777778,  3.88888889,  5.        ],\n",
       "        [-5.        , -3.88888889, -2.77777778, -1.66666667, -0.55555556,\n",
       "          0.55555556,  1.66666667,  2.77777778,  3.88888889,  5.        ],\n",
       "        [-5.        , -3.88888889, -2.77777778, -1.66666667, -0.55555556,\n",
       "          0.55555556,  1.66666667,  2.77777778,  3.88888889,  5.        ],\n",
       "        [-5.        , -3.88888889, -2.77777778, -1.66666667, -0.55555556,\n",
       "          0.55555556,  1.66666667,  2.77777778,  3.88888889,  5.        ],\n",
       "        [-5.        , -3.88888889, -2.77777778, -1.66666667, -0.55555556,\n",
       "          0.55555556,  1.66666667,  2.77777778,  3.88888889,  5.        ]]),\n",
       " array([[-5.        , -5.        , -5.        , -5.        , -5.        ,\n",
       "         -5.        , -5.        , -5.        , -5.        , -5.        ],\n",
       "        [-3.88888889, -3.88888889, -3.88888889, -3.88888889, -3.88888889,\n",
       "         -3.88888889, -3.88888889, -3.88888889, -3.88888889, -3.88888889],\n",
       "        [-2.77777778, -2.77777778, -2.77777778, -2.77777778, -2.77777778,\n",
       "         -2.77777778, -2.77777778, -2.77777778, -2.77777778, -2.77777778],\n",
       "        [-1.66666667, -1.66666667, -1.66666667, -1.66666667, -1.66666667,\n",
       "         -1.66666667, -1.66666667, -1.66666667, -1.66666667, -1.66666667],\n",
       "        [-0.55555556, -0.55555556, -0.55555556, -0.55555556, -0.55555556,\n",
       "         -0.55555556, -0.55555556, -0.55555556, -0.55555556, -0.55555556],\n",
       "        [ 0.55555556,  0.55555556,  0.55555556,  0.55555556,  0.55555556,\n",
       "          0.55555556,  0.55555556,  0.55555556,  0.55555556,  0.55555556],\n",
       "        [ 1.66666667,  1.66666667,  1.66666667,  1.66666667,  1.66666667,\n",
       "          1.66666667,  1.66666667,  1.66666667,  1.66666667,  1.66666667],\n",
       "        [ 2.77777778,  2.77777778,  2.77777778,  2.77777778,  2.77777778,\n",
       "          2.77777778,  2.77777778,  2.77777778,  2.77777778,  2.77777778],\n",
       "        [ 3.88888889,  3.88888889,  3.88888889,  3.88888889,  3.88888889,\n",
       "          3.88888889,  3.88888889,  3.88888889,  3.88888889,  3.88888889],\n",
       "        [ 5.        ,  5.        ,  5.        ,  5.        ,  5.        ,\n",
       "          5.        ,  5.        ,  5.        ,  5.        ,  5.        ]]))"
      ]
     },
     "execution_count": 29,
     "metadata": {},
     "output_type": "execute_result"
    }
   ],
   "source": [
    "x1=np.linspace(-5,5,10)\n",
    "x2=np.linspace(-5,5,10)\n",
    "xGrid,yGrid=np.meshgrid(x1,x2)\n",
    "xGrid,yGrid"
   ]
  },
  {
   "cell_type": "code",
   "execution_count": 30,
   "id": "86687725",
   "metadata": {},
   "outputs": [],
   "source": [
    "final=np.vstack((xGrid.ravel().reshape(1,100),yGrid.ravel().reshape(1,100))).T\n",
    "z_final=lr.predict(final).reshape(10,10)\n",
    "z=z_final"
   ]
  },
  {
   "cell_type": "code",
   "execution_count": 32,
   "id": "76e5021f",
   "metadata": {},
   "outputs": [
    {
     "data": {
      "application/vnd.plotly.v1+json": {
       "config": {
        "plotlyServerURL": "https://plot.ly"
       },
       "data": [
        {
         "hovertemplate": "feature1=%{x}<br>feature2=%{y}<br>target=%{z}<extra></extra>",
         "legendgroup": "",
         "marker": {
          "color": "#636efa",
          "symbol": "circle"
         },
         "mode": "markers",
         "name": "",
         "scene": "scene",
         "showlegend": false,
         "type": "scatter3d",
         "x": [
          0.20999717703755744,
          0.19921361649758557,
          -1.5461889534237958,
          -0.9034574095087228,
          0.4434429699649353,
          0.8775366896513136,
          1.880726451021101,
          -0.6844126392934646,
          2.1923500899280874,
          1.03089525095932,
          -0.808792426894451,
          0.23139901416293615,
          0.10810019440090286,
          -0.10788169630458852,
          1.34248216357535,
          -1.1679551565785802,
          -0.2771482118958283,
          0.5110356865753785,
          -0.24163683248612594,
          0.4464460289064851,
          -0.29651287721829456,
          -0.9824744123012543,
          0.4959712953124724,
          -0.013755384590532644,
          0.167244119648073,
          -0.6366570785814968,
          -1.494857692290574,
          0.1015288641264478,
          -0.0955044555567623,
          1.085220697146333,
          -0.09487782533393582,
          0.2878683019299205,
          -0.8398878303237581,
          -0.18823957523108525,
          0.40088277364865366,
          0.25705147114372634,
          -1.531470975358525,
          -1.167592478395926,
          0.37246189069398516,
          -0.12307116386511034,
          -0.8496173209372043,
          1.6263056418676267,
          2.2435939083896987,
          -0.36952279813773137,
          1.0438624929147076,
          0.33846205188553063,
          1.1975596786352904,
          -0.7892363407859679,
          0.9054242425888854,
          -1.097872895527346,
          -1.3621696818282265,
          -0.6051454434826624,
          -0.829619904071461,
          -1.7410895837130973,
          -0.7822447793561027,
          1.6902195875890962,
          -0.7688392726746489,
          1.3812507099720932,
          -2.2000757280202583,
          -1.1066288707962264,
          0.6342112731879408,
          0.05903919088460776,
          0.0980672067771256,
          -0.020050358584814378,
          -0.5325693591310359,
          -1.2188919525689899,
          1.3183524498975423,
          0.3136534823995191,
          -0.21729062869564228,
          -0.0341883322001416,
          -1.2920760070851298,
          -0.38336927450038205,
          -1.452332588517475,
          0.3408574179082714,
          -1.0435593207073495,
          1.0132566030727608,
          -0.44869708834192984,
          -1.2995756563452028,
          -1.5609588186072576,
          0.04337554719204413,
          -0.5884482738488684,
          -0.33682254759123015,
          0.5695966013980095,
          -1.547894406171076,
          0.2936570854515198,
          -1.817380093068388,
          0.5341414856100376,
          -0.8602115561725356,
          -1.8395985015798546,
          -0.9311666735808695,
          -0.6997649925188331,
          -1.030409408168574,
          0.21761951041031413,
          -0.7412945486578697,
          0.6056859059730441,
          0.9185997602863195,
          -0.9113929928238328,
          0.391498369771429,
          1.1043069786908517,
          -0.39012880055919363
         ],
         "y": [
          1.3787091148712753,
          -0.47014647284965083,
          2.087441772657499,
          -0.08664039073827574,
          0.5764738300030477,
          -0.4341548179344912,
          2.5688463265315944,
          0.09932759924140752,
          1.483239738539457,
          0.3266000538159939,
          0.12026054891881213,
          -0.7585071297544518,
          1.5188746951959913,
          -0.5329409788313807,
          -0.791880158075123,
          -0.9427834243850424,
          0.07318102012018553,
          -1.546040781984628,
          -1.2414117011071215,
          -0.8106275290072517,
          0.029723520341211385,
          -0.6926841162238422,
          -1.385877124227748,
          1.400706554885083,
          -0.06329701947263669,
          -0.7604642372748341,
          2.2883788605380797,
          0.16399551292927772,
          0.7916161442751064,
          -0.6594174227116111,
          -0.23141298543614952,
          0.6384180712999774,
          0.0338861795721303,
          0.36202915148289483,
          0.506836621373508,
          0.8581000737936575,
          1.4866479696035797,
          -0.6895931673495042,
          0.34285187828282593,
          0.014016504855697444,
          -0.9882676992869166,
          -0.6657078203159877,
          1.1058703663344172,
          -0.9542121876394615,
          0.23207322048020776,
          -1.2642992719825417,
          0.6184662005677279,
          0.8510224731451772,
          0.3658351509580771,
          0.3990168108692849,
          0.6007978753273897,
          0.8166130155837631,
          1.2109756413283441,
          -0.4747713459471154,
          -0.23095757386395485,
          -0.6576488751342511,
          0.25656814044226167,
          -2.4804678845016843,
          0.7813414847576001,
          1.2068768150354252,
          0.35373032587351416,
          -0.022989568811369668,
          -1.5023677227950414,
          -1.8007677999897902,
          0.052215774508892004,
          -1.3009311867724147,
          -0.32620307328513837,
          -1.3093220232457559,
          0.27644201020627046,
          -0.9445326051984824,
          -1.288059170681084,
          -0.010427613538289998,
          -0.5552490501062817,
          -1.344858135092967,
          0.5888681168017965,
          1.1919938842348263,
          -1.7768877091451944,
          0.9154148935300911,
          0.7368574211565666,
          0.859832843435973,
          -0.5534694261394489,
          0.5822966474556277,
          1.0466933503589795,
          -1.3046876880203,
          -0.6925897079177551,
          1.1156288900300428,
          -0.20695290702281371,
          -1.1333740490614115,
          -0.25298487031192307,
          -0.9448881982024516,
          2.0515390140584806,
          0.5555536130007012,
          -0.5666705260300556,
          1.896287138603534,
          0.7036778041021828,
          0.4536752150188848,
          -0.553055408143357,
          1.1985730271013062,
          -1.2770695836193922,
          -1.0048695356287451
         ],
         "z": [
          84.32857853269957,
          -97.74618738558878,
          -9.310065214846118,
          -103.53516886880051,
          131.1419764448545,
          41.07198618954803,
          143.5860314708552,
          11.111512147458438,
          162.18615463223423,
          43.50067330581149,
          21.689220135612636,
          -10.057383821386157,
          25.78398716915485,
          -63.28961632766659,
          62.663745372384504,
          -26.12824481052924,
          -11.86366304401932,
          36.958410499492416,
          54.903488243156076,
          -25.594142076368787,
          17.397038652525957,
          -94.47073595080379,
          54.84037958319165,
          8.225511353302121,
          -56.3771890469094,
          -10.622182185817664,
          17.843671252366743,
          12.185124810335331,
          16.116222864810535,
          43.91386859400626,
          -14.713346920194208,
          18.954015972265797,
          -87.11239664065549,
          130.22994971565439,
          -101.97753145539141,
          3.5579540995359267,
          28.433395232749376,
          -113.06724138139299,
          1.2841023789220216,
          -7.564327476165876,
          -22.312906287569525,
          67.66379500197064,
          109.51949561975151,
          -55.38706454408506,
          40.740935229634346,
          -57.33372970371444,
          105.20678179908698,
          19.5329107472667,
          3.3789205148745296,
          -34.33907679890136,
          -25.08559619996603,
          -112.19801405346239,
          45.619434810748274,
          -153.38402477179062,
          -43.86722120228216,
          85.3547701019126,
          -9.991138094943853,
          -45.4218776315448,
          -31.34060836061427,
          22.729477331854714,
          66.60177095767642,
          15.93948891510734,
          -53.73915365108694,
          -53.32983270952607,
          -12.18480739253897,
          -69.93349450185266,
          11.510082696525764,
          -78.89069034304588,
          20.999712562113242,
          15.987436087133556,
          -56.073430971288495,
          -16.178619980003493,
          -15.185963974213564,
          -33.81487720897448,
          9.961195617639461,
          149.82587780713953,
          -97.20034158737026,
          -41.24986157573255,
          20.704128529115934,
          -46.88545888677011,
          -12.649878663644305,
          61.926878680357916,
          88.99027170141416,
          -141.1565261590507,
          -0.6238819075790545,
          -47.8367874001663,
          47.87348079183579,
          -109.26096232973391,
          -145.55905992783397,
          -103.01113774893383,
          109.19622984581528,
          12.141882159700963,
          15.248657233515729,
          35.10104517292643,
          -22.764412053487725,
          43.047592094845015,
          -79.62848583547354,
          29.167222540877194,
          36.723377463960645,
          -59.03488188024741
         ]
        },
        {
         "type": "surface",
         "x": [
          -5,
          -3.888888888888889,
          -2.7777777777777777,
          -1.6666666666666665,
          -0.5555555555555554,
          0.5555555555555554,
          1.666666666666667,
          2.7777777777777786,
          3.8888888888888893,
          5
         ],
         "y": [
          -5,
          -3.888888888888889,
          -2.7777777777777777,
          -1.6666666666666665,
          -0.5555555555555554,
          0.5555555555555554,
          1.666666666666667,
          2.7777777777777786,
          3.8888888888888893,
          5
         ],
         "z": [
          [
           -370.73481959779093,
           -326.651490012387,
           -282.56816042698307,
           -238.48483084157914,
           -194.4015012561752,
           -150.31817167077128,
           -106.23484208536733,
           -62.15151249996339,
           -18.068182914559472,
           26.01514667084443
          ],
          [
           -333.1584616365038,
           -289.07513205109984,
           -244.9918024656959,
           -200.90847288029198,
           -156.82514329488808,
           -112.74181370948415,
           -68.6584841240802,
           -24.57515453867626,
           19.508175046727658,
           63.59150463213156
          ],
          [
           -295.5821036752166,
           -251.49877408981268,
           -207.41544450440875,
           -163.33211491900482,
           -119.24878533360089,
           -75.16545574819699,
           -31.082126162793045,
           13.001203422610898,
           57.084533008014816,
           101.16786259341872
          ],
          [
           -258.00574571392946,
           -213.92241612852553,
           -169.83908654312162,
           -125.75575695771768,
           -81.67242737231375,
           -37.58909778690983,
           6.494231798494104,
           50.57756138389805,
           94.66089096930197,
           138.74422055470586
          ],
          [
           -220.42938775264233,
           -176.3460581672384,
           -132.26272858183447,
           -88.17939899643052,
           -44.0960694110266,
           -0.012739825622690049,
           44.07058975978126,
           88.1539193451852,
           132.2372489305891,
           176.320578515993
          ],
          [
           -182.85302979135517,
           -138.76970020595124,
           -94.68637062054732,
           -50.60304103514339,
           -6.519711449739463,
           37.56361813566445,
           81.64694772106839,
           125.73027730647233,
           169.81360689187625,
           213.89693647728015
          ],
          [
           -145.276671830068,
           -101.19334224466407,
           -57.11001265926016,
           -13.026683073856228,
           31.056646511547697,
           75.13997609695161,
           119.22330568235556,
           163.30663526775948,
           207.3899648531634,
           251.4732944385673
          ],
          [
           -107.70031386878084,
           -63.61698428337691,
           -19.53365469797299,
           24.54967488743094,
           68.63300447283487,
           112.71633405823877,
           156.7996636436427,
           200.88299322904663,
           244.96632281445056,
           289.04965239985444
          ],
          [
           -70.12395590749371,
           -26.04062632208978,
           18.042703263314138,
           62.12603284871807,
           106.209362434122,
           150.2926920195259,
           194.37602160492983,
           238.4593511903338,
           282.54268077573767,
           326.6260103611416
          ],
          [
           -32.54759794620658,
           11.53573163919735,
           55.61906122460127,
           99.7023908100052,
           143.7857203954091,
           187.86904998081303,
           231.95237956621696,
           276.0357091516209,
           320.1190387370248,
           364.20236832242875
          ]
         ]
        }
       ],
       "layout": {
        "legend": {
         "tracegroupgap": 0
        },
        "margin": {
         "t": 60
        },
        "scene": {
         "domain": {
          "x": [
           0,
           1
          ],
          "y": [
           0,
           1
          ]
         },
         "xaxis": {
          "title": {
           "text": "feature1"
          }
         },
         "yaxis": {
          "title": {
           "text": "feature2"
          }
         },
         "zaxis": {
          "title": {
           "text": "target"
          }
         }
        },
        "template": {
         "data": {
          "bar": [
           {
            "error_x": {
             "color": "#2a3f5f"
            },
            "error_y": {
             "color": "#2a3f5f"
            },
            "marker": {
             "line": {
              "color": "#E5ECF6",
              "width": 0.5
             },
             "pattern": {
              "fillmode": "overlay",
              "size": 10,
              "solidity": 0.2
             }
            },
            "type": "bar"
           }
          ],
          "barpolar": [
           {
            "marker": {
             "line": {
              "color": "#E5ECF6",
              "width": 0.5
             },
             "pattern": {
              "fillmode": "overlay",
              "size": 10,
              "solidity": 0.2
             }
            },
            "type": "barpolar"
           }
          ],
          "carpet": [
           {
            "aaxis": {
             "endlinecolor": "#2a3f5f",
             "gridcolor": "white",
             "linecolor": "white",
             "minorgridcolor": "white",
             "startlinecolor": "#2a3f5f"
            },
            "baxis": {
             "endlinecolor": "#2a3f5f",
             "gridcolor": "white",
             "linecolor": "white",
             "minorgridcolor": "white",
             "startlinecolor": "#2a3f5f"
            },
            "type": "carpet"
           }
          ],
          "choropleth": [
           {
            "colorbar": {
             "outlinewidth": 0,
             "ticks": ""
            },
            "type": "choropleth"
           }
          ],
          "contour": [
           {
            "colorbar": {
             "outlinewidth": 0,
             "ticks": ""
            },
            "colorscale": [
             [
              0,
              "#0d0887"
             ],
             [
              0.1111111111111111,
              "#46039f"
             ],
             [
              0.2222222222222222,
              "#7201a8"
             ],
             [
              0.3333333333333333,
              "#9c179e"
             ],
             [
              0.4444444444444444,
              "#bd3786"
             ],
             [
              0.5555555555555556,
              "#d8576b"
             ],
             [
              0.6666666666666666,
              "#ed7953"
             ],
             [
              0.7777777777777778,
              "#fb9f3a"
             ],
             [
              0.8888888888888888,
              "#fdca26"
             ],
             [
              1,
              "#f0f921"
             ]
            ],
            "type": "contour"
           }
          ],
          "contourcarpet": [
           {
            "colorbar": {
             "outlinewidth": 0,
             "ticks": ""
            },
            "type": "contourcarpet"
           }
          ],
          "heatmap": [
           {
            "colorbar": {
             "outlinewidth": 0,
             "ticks": ""
            },
            "colorscale": [
             [
              0,
              "#0d0887"
             ],
             [
              0.1111111111111111,
              "#46039f"
             ],
             [
              0.2222222222222222,
              "#7201a8"
             ],
             [
              0.3333333333333333,
              "#9c179e"
             ],
             [
              0.4444444444444444,
              "#bd3786"
             ],
             [
              0.5555555555555556,
              "#d8576b"
             ],
             [
              0.6666666666666666,
              "#ed7953"
             ],
             [
              0.7777777777777778,
              "#fb9f3a"
             ],
             [
              0.8888888888888888,
              "#fdca26"
             ],
             [
              1,
              "#f0f921"
             ]
            ],
            "type": "heatmap"
           }
          ],
          "heatmapgl": [
           {
            "colorbar": {
             "outlinewidth": 0,
             "ticks": ""
            },
            "colorscale": [
             [
              0,
              "#0d0887"
             ],
             [
              0.1111111111111111,
              "#46039f"
             ],
             [
              0.2222222222222222,
              "#7201a8"
             ],
             [
              0.3333333333333333,
              "#9c179e"
             ],
             [
              0.4444444444444444,
              "#bd3786"
             ],
             [
              0.5555555555555556,
              "#d8576b"
             ],
             [
              0.6666666666666666,
              "#ed7953"
             ],
             [
              0.7777777777777778,
              "#fb9f3a"
             ],
             [
              0.8888888888888888,
              "#fdca26"
             ],
             [
              1,
              "#f0f921"
             ]
            ],
            "type": "heatmapgl"
           }
          ],
          "histogram": [
           {
            "marker": {
             "pattern": {
              "fillmode": "overlay",
              "size": 10,
              "solidity": 0.2
             }
            },
            "type": "histogram"
           }
          ],
          "histogram2d": [
           {
            "colorbar": {
             "outlinewidth": 0,
             "ticks": ""
            },
            "colorscale": [
             [
              0,
              "#0d0887"
             ],
             [
              0.1111111111111111,
              "#46039f"
             ],
             [
              0.2222222222222222,
              "#7201a8"
             ],
             [
              0.3333333333333333,
              "#9c179e"
             ],
             [
              0.4444444444444444,
              "#bd3786"
             ],
             [
              0.5555555555555556,
              "#d8576b"
             ],
             [
              0.6666666666666666,
              "#ed7953"
             ],
             [
              0.7777777777777778,
              "#fb9f3a"
             ],
             [
              0.8888888888888888,
              "#fdca26"
             ],
             [
              1,
              "#f0f921"
             ]
            ],
            "type": "histogram2d"
           }
          ],
          "histogram2dcontour": [
           {
            "colorbar": {
             "outlinewidth": 0,
             "ticks": ""
            },
            "colorscale": [
             [
              0,
              "#0d0887"
             ],
             [
              0.1111111111111111,
              "#46039f"
             ],
             [
              0.2222222222222222,
              "#7201a8"
             ],
             [
              0.3333333333333333,
              "#9c179e"
             ],
             [
              0.4444444444444444,
              "#bd3786"
             ],
             [
              0.5555555555555556,
              "#d8576b"
             ],
             [
              0.6666666666666666,
              "#ed7953"
             ],
             [
              0.7777777777777778,
              "#fb9f3a"
             ],
             [
              0.8888888888888888,
              "#fdca26"
             ],
             [
              1,
              "#f0f921"
             ]
            ],
            "type": "histogram2dcontour"
           }
          ],
          "mesh3d": [
           {
            "colorbar": {
             "outlinewidth": 0,
             "ticks": ""
            },
            "type": "mesh3d"
           }
          ],
          "parcoords": [
           {
            "line": {
             "colorbar": {
              "outlinewidth": 0,
              "ticks": ""
             }
            },
            "type": "parcoords"
           }
          ],
          "pie": [
           {
            "automargin": true,
            "type": "pie"
           }
          ],
          "scatter": [
           {
            "fillpattern": {
             "fillmode": "overlay",
             "size": 10,
             "solidity": 0.2
            },
            "type": "scatter"
           }
          ],
          "scatter3d": [
           {
            "line": {
             "colorbar": {
              "outlinewidth": 0,
              "ticks": ""
             }
            },
            "marker": {
             "colorbar": {
              "outlinewidth": 0,
              "ticks": ""
             }
            },
            "type": "scatter3d"
           }
          ],
          "scattercarpet": [
           {
            "marker": {
             "colorbar": {
              "outlinewidth": 0,
              "ticks": ""
             }
            },
            "type": "scattercarpet"
           }
          ],
          "scattergeo": [
           {
            "marker": {
             "colorbar": {
              "outlinewidth": 0,
              "ticks": ""
             }
            },
            "type": "scattergeo"
           }
          ],
          "scattergl": [
           {
            "marker": {
             "colorbar": {
              "outlinewidth": 0,
              "ticks": ""
             }
            },
            "type": "scattergl"
           }
          ],
          "scattermapbox": [
           {
            "marker": {
             "colorbar": {
              "outlinewidth": 0,
              "ticks": ""
             }
            },
            "type": "scattermapbox"
           }
          ],
          "scatterpolar": [
           {
            "marker": {
             "colorbar": {
              "outlinewidth": 0,
              "ticks": ""
             }
            },
            "type": "scatterpolar"
           }
          ],
          "scatterpolargl": [
           {
            "marker": {
             "colorbar": {
              "outlinewidth": 0,
              "ticks": ""
             }
            },
            "type": "scatterpolargl"
           }
          ],
          "scatterternary": [
           {
            "marker": {
             "colorbar": {
              "outlinewidth": 0,
              "ticks": ""
             }
            },
            "type": "scatterternary"
           }
          ],
          "surface": [
           {
            "colorbar": {
             "outlinewidth": 0,
             "ticks": ""
            },
            "colorscale": [
             [
              0,
              "#0d0887"
             ],
             [
              0.1111111111111111,
              "#46039f"
             ],
             [
              0.2222222222222222,
              "#7201a8"
             ],
             [
              0.3333333333333333,
              "#9c179e"
             ],
             [
              0.4444444444444444,
              "#bd3786"
             ],
             [
              0.5555555555555556,
              "#d8576b"
             ],
             [
              0.6666666666666666,
              "#ed7953"
             ],
             [
              0.7777777777777778,
              "#fb9f3a"
             ],
             [
              0.8888888888888888,
              "#fdca26"
             ],
             [
              1,
              "#f0f921"
             ]
            ],
            "type": "surface"
           }
          ],
          "table": [
           {
            "cells": {
             "fill": {
              "color": "#EBF0F8"
             },
             "line": {
              "color": "white"
             }
            },
            "header": {
             "fill": {
              "color": "#C8D4E3"
             },
             "line": {
              "color": "white"
             }
            },
            "type": "table"
           }
          ]
         },
         "layout": {
          "annotationdefaults": {
           "arrowcolor": "#2a3f5f",
           "arrowhead": 0,
           "arrowwidth": 1
          },
          "autotypenumbers": "strict",
          "coloraxis": {
           "colorbar": {
            "outlinewidth": 0,
            "ticks": ""
           }
          },
          "colorscale": {
           "diverging": [
            [
             0,
             "#8e0152"
            ],
            [
             0.1,
             "#c51b7d"
            ],
            [
             0.2,
             "#de77ae"
            ],
            [
             0.3,
             "#f1b6da"
            ],
            [
             0.4,
             "#fde0ef"
            ],
            [
             0.5,
             "#f7f7f7"
            ],
            [
             0.6,
             "#e6f5d0"
            ],
            [
             0.7,
             "#b8e186"
            ],
            [
             0.8,
             "#7fbc41"
            ],
            [
             0.9,
             "#4d9221"
            ],
            [
             1,
             "#276419"
            ]
           ],
           "sequential": [
            [
             0,
             "#0d0887"
            ],
            [
             0.1111111111111111,
             "#46039f"
            ],
            [
             0.2222222222222222,
             "#7201a8"
            ],
            [
             0.3333333333333333,
             "#9c179e"
            ],
            [
             0.4444444444444444,
             "#bd3786"
            ],
            [
             0.5555555555555556,
             "#d8576b"
            ],
            [
             0.6666666666666666,
             "#ed7953"
            ],
            [
             0.7777777777777778,
             "#fb9f3a"
            ],
            [
             0.8888888888888888,
             "#fdca26"
            ],
            [
             1,
             "#f0f921"
            ]
           ],
           "sequentialminus": [
            [
             0,
             "#0d0887"
            ],
            [
             0.1111111111111111,
             "#46039f"
            ],
            [
             0.2222222222222222,
             "#7201a8"
            ],
            [
             0.3333333333333333,
             "#9c179e"
            ],
            [
             0.4444444444444444,
             "#bd3786"
            ],
            [
             0.5555555555555556,
             "#d8576b"
            ],
            [
             0.6666666666666666,
             "#ed7953"
            ],
            [
             0.7777777777777778,
             "#fb9f3a"
            ],
            [
             0.8888888888888888,
             "#fdca26"
            ],
            [
             1,
             "#f0f921"
            ]
           ]
          },
          "colorway": [
           "#636efa",
           "#EF553B",
           "#00cc96",
           "#ab63fa",
           "#FFA15A",
           "#19d3f3",
           "#FF6692",
           "#B6E880",
           "#FF97FF",
           "#FECB52"
          ],
          "font": {
           "color": "#2a3f5f"
          },
          "geo": {
           "bgcolor": "white",
           "lakecolor": "white",
           "landcolor": "#E5ECF6",
           "showlakes": true,
           "showland": true,
           "subunitcolor": "white"
          },
          "hoverlabel": {
           "align": "left"
          },
          "hovermode": "closest",
          "mapbox": {
           "style": "light"
          },
          "paper_bgcolor": "white",
          "plot_bgcolor": "#E5ECF6",
          "polar": {
           "angularaxis": {
            "gridcolor": "white",
            "linecolor": "white",
            "ticks": ""
           },
           "bgcolor": "#E5ECF6",
           "radialaxis": {
            "gridcolor": "white",
            "linecolor": "white",
            "ticks": ""
           }
          },
          "scene": {
           "xaxis": {
            "backgroundcolor": "#E5ECF6",
            "gridcolor": "white",
            "gridwidth": 2,
            "linecolor": "white",
            "showbackground": true,
            "ticks": "",
            "zerolinecolor": "white"
           },
           "yaxis": {
            "backgroundcolor": "#E5ECF6",
            "gridcolor": "white",
            "gridwidth": 2,
            "linecolor": "white",
            "showbackground": true,
            "ticks": "",
            "zerolinecolor": "white"
           },
           "zaxis": {
            "backgroundcolor": "#E5ECF6",
            "gridcolor": "white",
            "gridwidth": 2,
            "linecolor": "white",
            "showbackground": true,
            "ticks": "",
            "zerolinecolor": "white"
           }
          },
          "shapedefaults": {
           "line": {
            "color": "#2a3f5f"
           }
          },
          "ternary": {
           "aaxis": {
            "gridcolor": "white",
            "linecolor": "white",
            "ticks": ""
           },
           "baxis": {
            "gridcolor": "white",
            "linecolor": "white",
            "ticks": ""
           },
           "bgcolor": "#E5ECF6",
           "caxis": {
            "gridcolor": "white",
            "linecolor": "white",
            "ticks": ""
           }
          },
          "title": {
           "x": 0.05
          },
          "xaxis": {
           "automargin": true,
           "gridcolor": "white",
           "linecolor": "white",
           "ticks": "",
           "title": {
            "standoff": 15
           },
           "zerolinecolor": "white",
           "zerolinewidth": 2
          },
          "yaxis": {
           "automargin": true,
           "gridcolor": "white",
           "linecolor": "white",
           "ticks": "",
           "title": {
            "standoff": 15
           },
           "zerolinecolor": "white",
           "zerolinewidth": 2
          }
         }
        }
       }
      }
     },
     "metadata": {},
     "output_type": "display_data"
    }
   ],
   "source": [
    "fig=px.scatter_3d(df,x='feature1',y='feature2',z='target')\n",
    "fig.add_trace(go.Surface(x=x1,y=x2,z=z))\n",
    "fig.show()"
   ]
  },
  {
   "cell_type": "code",
   "execution_count": 33,
   "id": "9961e10a",
   "metadata": {},
   "outputs": [
    {
     "data": {
      "text/plain": [
       "array([39.67499663, 33.81872217])"
      ]
     },
     "execution_count": 33,
     "metadata": {},
     "output_type": "execute_result"
    }
   ],
   "source": [
    "lr.coef_"
   ]
  },
  {
   "cell_type": "code",
   "execution_count": 34,
   "id": "ce4d06dc",
   "metadata": {},
   "outputs": [
    {
     "data": {
      "text/plain": [
       "np.float64(-3.2662256376810763)"
      ]
     },
     "execution_count": 34,
     "metadata": {},
     "output_type": "execute_result"
    }
   ],
   "source": [
    "lr.intercept_"
   ]
  },
  {
   "cell_type": "code",
   "execution_count": null,
   "id": "79a12a02",
   "metadata": {},
   "outputs": [],
   "source": []
  }
 ],
 "metadata": {
  "kernelspec": {
   "display_name": "Python 3",
   "language": "python",
   "name": "python3"
  },
  "language_info": {
   "codemirror_mode": {
    "name": "ipython",
    "version": 3
   },
   "file_extension": ".py",
   "mimetype": "text/x-python",
   "name": "python",
   "nbconvert_exporter": "python",
   "pygments_lexer": "ipython3",
   "version": "3.12.4"
  }
 },
 "nbformat": 4,
 "nbformat_minor": 5
}
