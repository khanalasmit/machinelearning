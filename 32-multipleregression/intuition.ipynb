{
 "cells": [
  {
   "cell_type": "markdown",
   "id": "87b07a44",
   "metadata": {},
   "source": [
    "### **Multiple linear Regression**"
   ]
  },
  {
   "cell_type": "markdown",
   "id": "68e5f10f",
   "metadata": {},
   "source": [
    "When we have more than one columns in the input then we take input columns. Here we have multiple predictors for a single predictor.\\\n",
    "For eg: for the salary per annum we take cgpa, iq etc then it is multiple linear regression."
   ]
  },
  {
   "cell_type": "markdown",
   "id": "f9dc8d2e",
   "metadata": {},
   "source": [
    "In most of the cases we use multiple linear regresssion. It is the extended version of the simple linear regresion."
   ]
  },
  {
   "cell_type": "markdown",
   "id": "9256952d",
   "metadata": {},
   "source": [
    "If there are two predictors then the equations becomes:\\\n",
    "$Y=\\beta_{0}+\\beta_{1}X_1+\\beta_{2}X_2$\\\n",
    "If there are three predictors then the equations becomes:\\\n",
    "$Y=\\beta_{0}+\\beta_{1}X_1+\\beta_{2}X_2+\\beta_{3}X_3$\\\n",
    "Here $\\beta_{1} and \\beta_{2}$ give the weights. If first one is more which means $X_1$ has more impact in the predicate than second one."
   ]
  },
  {
   "cell_type": "markdown",
   "id": "d6f247e8",
   "metadata": {},
   "source": [
    "**Code Example**"
   ]
  },
  {
   "cell_type": "code",
   "execution_count": 2,
   "id": "8db9d4cf",
   "metadata": {},
   "outputs": [],
   "source": [
    "import numpy as np\n",
    "from sklearn.datasets import make_regression\n",
    "from sklearn.metrics import accuracy_score,r2_score,mean_squared_error\n",
    "import pandas as pd\n",
    "import plotly.express as px\n",
    "import plotly.graph_objects as go"
   ]
  },
  {
   "cell_type": "code",
   "execution_count": 3,
   "id": "eeff2d33",
   "metadata": {},
   "outputs": [],
   "source": [
    "#here n_features gives the no of features,n_targets gives the pedicate, n_inforamtive spectfies how many features to be used to find the target variable\n",
    "#noise gives the siginificant randomness added to y\n",
    "X,y=make_regression(n_samples=100,n_features=2,n_informative=2,n_targets=1,noise=50)"
   ]
  },
  {
   "cell_type": "code",
   "execution_count": 4,
   "id": "1516d6d2",
   "metadata": {},
   "outputs": [
    {
     "data": {
      "text/html": [
       "<div>\n",
       "<style scoped>\n",
       "    .dataframe tbody tr th:only-of-type {\n",
       "        vertical-align: middle;\n",
       "    }\n",
       "\n",
       "    .dataframe tbody tr th {\n",
       "        vertical-align: top;\n",
       "    }\n",
       "\n",
       "    .dataframe thead th {\n",
       "        text-align: right;\n",
       "    }\n",
       "</style>\n",
       "<table border=\"1\" class=\"dataframe\">\n",
       "  <thead>\n",
       "    <tr style=\"text-align: right;\">\n",
       "      <th></th>\n",
       "      <th>feature1</th>\n",
       "      <th>feature2</th>\n",
       "      <th>target</th>\n",
       "    </tr>\n",
       "  </thead>\n",
       "  <tbody>\n",
       "    <tr>\n",
       "      <th>0</th>\n",
       "      <td>-0.549065</td>\n",
       "      <td>2.275080</td>\n",
       "      <td>110.638132</td>\n",
       "    </tr>\n",
       "    <tr>\n",
       "      <th>1</th>\n",
       "      <td>-1.361872</td>\n",
       "      <td>-0.856191</td>\n",
       "      <td>-236.754544</td>\n",
       "    </tr>\n",
       "    <tr>\n",
       "      <th>2</th>\n",
       "      <td>0.632687</td>\n",
       "      <td>-0.178297</td>\n",
       "      <td>54.268453</td>\n",
       "    </tr>\n",
       "    <tr>\n",
       "      <th>3</th>\n",
       "      <td>-1.475960</td>\n",
       "      <td>0.748488</td>\n",
       "      <td>-25.359386</td>\n",
       "    </tr>\n",
       "    <tr>\n",
       "      <th>4</th>\n",
       "      <td>-0.569066</td>\n",
       "      <td>2.315670</td>\n",
       "      <td>86.025981</td>\n",
       "    </tr>\n",
       "  </tbody>\n",
       "</table>\n",
       "</div>"
      ],
      "text/plain": [
       "   feature1  feature2      target\n",
       "0 -0.549065  2.275080  110.638132\n",
       "1 -1.361872 -0.856191 -236.754544\n",
       "2  0.632687 -0.178297   54.268453\n",
       "3 -1.475960  0.748488  -25.359386\n",
       "4 -0.569066  2.315670   86.025981"
      ]
     },
     "execution_count": 4,
     "metadata": {},
     "output_type": "execute_result"
    }
   ],
   "source": [
    "df=pd.DataFrame({'feature1':X[:,0],'feature2':X[:,1],'target':y})\n",
    "df.head()"
   ]
  },
  {
   "cell_type": "code",
   "execution_count": 5,
   "id": "fc6013ce",
   "metadata": {},
   "outputs": [
    {
     "data": {
      "application/vnd.plotly.v1+json": {
       "config": {
        "plotlyServerURL": "https://plot.ly"
       },
       "data": [
        {
         "hovertemplate": "feature1=%{x}<br>feature2=%{y}<br>target=%{z}<extra></extra>",
         "legendgroup": "",
         "marker": {
          "color": "#636efa",
          "symbol": "circle"
         },
         "mode": "markers",
         "name": "",
         "scene": "scene",
         "showlegend": false,
         "type": "scatter3d",
         "x": [
          -0.5490649473555127,
          -1.3618720923419172,
          0.6326866197531725,
          -1.4759597757292782,
          -0.5690661014571031,
          -0.8339924038289447,
          1.6372571053531724,
          -0.5754421399969046,
          0.013991368420588818,
          0.3966390771333701,
          0.21925571627064258,
          0.6199706481263954,
          0.15450150827378048,
          1.0193833580407385,
          -1.388982921909997,
          0.5671650947091502,
          0.6352357624962938,
          -0.6292495026835794,
          0.1552248853995398,
          -0.6283595535394837,
          -0.00513813458766391,
          -0.12506833212513183,
          0.47567857865424834,
          1.6146701059459403,
          0.606990332884136,
          -0.31662156427827104,
          -0.30239527436919067,
          -2.20454644052928,
          0.38416784358479455,
          1.156866161114455,
          1.0558098689484077,
          -1.3373158805237964,
          0.17794087510790238,
          1.135804300654158,
          0.26271716561052,
          1.5104816320844607,
          0.94666325932179,
          -0.001556826554424035,
          1.837307521404039,
          -0.7485686513078532,
          -0.21765479537588756,
          -0.47173314638201574,
          -1.1687117007852983,
          0.014631319315235917,
          0.8658894945676244,
          0.01621155899574577,
          -0.3422807517234476,
          -0.13825014736955396,
          0.6396017988341588,
          -0.396164715849251,
          -0.4469449018002283,
          -1.1716853979015847,
          0.7553080863526683,
          0.8519171080733562,
          1.6325386020854373,
          -0.5741462274021081,
          0.13857241023204767,
          0.7233692607162906,
          0.3756577704183553,
          0.43750111198148084,
          -0.8640902180782385,
          -1.3436281782620942,
          -0.008761127263846756,
          0.30403779402987685,
          0.052888077596874576,
          -0.5966131890121382,
          -0.45202065684892706,
          0.42050025571175104,
          -0.4980013042862,
          1.1842941321159444,
          0.8420228111313903,
          -1.0786579755393357,
          -0.049693814337052354,
          -0.08757460263140322,
          0.5247807102013102,
          1.3078176564743682,
          -1.4635214143520519,
          0.3429467607429758,
          -0.31032749723282593,
          -0.19747771179062662,
          -0.17487000637383673,
          0.35539147381346153,
          -1.059723225305006,
          0.8593781660134445,
          -0.4750446385428582,
          1.4717227281018683,
          -1.0377377767391822,
          0.07062294427924838,
          2.1624324877116803,
          -1.3528750462289114,
          1.3294959119943603,
          -0.7651260871410284,
          0.21090784433538579,
          2.2069412490921185,
          -0.292159879305912,
          0.03537251413048088,
          0.754036501083547,
          0.3631305820260203,
          0.8767587013609177,
          -0.8922816830515288
         ],
         "y": [
          2.275080381842892,
          -0.8561912855162258,
          -0.17829745897781266,
          0.7484880661012866,
          2.315669733572146,
          0.6435037068947648,
          -0.7949030641434045,
          -0.9869069867890238,
          -1.0946423068750617,
          0.4958873907241603,
          2.647932129110726,
          -0.3331194286545158,
          -0.6967623395506766,
          -0.1421442618502963,
          0.3308637065634339,
          -0.9131826097292677,
          -0.5709910827505128,
          0.3225983936284686,
          0.28339599168901664,
          0.6298099047226028,
          -0.6465477294552794,
          -0.705007077022483,
          -0.9232670167457515,
          -0.08986016966664191,
          1.6000080721975711,
          -1.8043631544039322,
          -1.6564493761031178,
          0.26201921887259105,
          -0.12460821306964852,
          0.541890296707569,
          0.9882281836761942,
          0.1022459228863017,
          -0.23212115493770474,
          -0.03813632724916835,
          -1.6603960740162735,
          -1.246186177176907,
          -1.4575554615506712,
          0.27483409951410204,
          -1.185193526558448,
          2.736378556440283,
          -0.8794279803728006,
          -0.3786377033187397,
          -0.3017553841649604,
          -1.0474703923559041,
          -1.152290619782415,
          0.8955895500532692,
          0.15478808980189132,
          -1.82427730700263,
          0.29723194706020145,
          -0.31597920395090373,
          -1.8010668612428928,
          0.9135617682529158,
          0.14822380334038135,
          -0.058321316194209834,
          -0.5933849657176365,
          -1.0295354559288845,
          1.2725887436213839,
          0.7045713018762061,
          0.3584842715862416,
          1.4741875570884495,
          0.9179525932066511,
          -0.49504583872679225,
          -0.35212478143756104,
          -0.1800789884599677,
          0.33351153297614183,
          0.3188278028245109,
          1.2046005829468625,
          0.2530446645118221,
          2.068008089726575,
          -0.4295433312564195,
          0.08748285468597067,
          1.3926861978216671,
          0.9056434511783137,
          -0.8099324486368572,
          0.44459891381494565,
          1.8438123574229148,
          0.4817054967280363,
          -0.24858720866638462,
          0.926081117193533,
          0.7342661031479548,
          0.2084970019386849,
          0.6518365042159917,
          0.20079196144851477,
          -1.2076596807471307,
          0.4343228076882594,
          -0.7846543398243556,
          1.3436229211933217,
          -0.684823859587516,
          -1.4903495518825893,
          0.5010795733988251,
          -0.23122075571907705,
          -2.096860712846392,
          0.5562320112008653,
          0.11801853248331563,
          -0.3395986630593798,
          0.040393620331396325,
          -0.03915011873958701,
          1.7574904487988352,
          -0.4897224608504968,
          1.029201756632372
         ],
         "z": [
          110.6381321917323,
          -236.7545435798246,
          54.268452517833005,
          -25.359386423429868,
          86.02598109375273,
          81.51739855096801,
          39.52418989729379,
          -109.71510774512731,
          -53.851138069337885,
          63.07394741880274,
          180.76686914484694,
          16.39924847093605,
          -25.01248978901189,
          44.924462904079675,
          -46.93943239512132,
          -13.995988604548414,
          20.801449794648182,
          -1.6688387915593879,
          95.85836661373938,
          58.04441972485438,
          -28.924890091187084,
          -92.15972480003562,
          -21.89924654090263,
          101.90277408735966,
          120.6391651423116,
          -126.53688602849024,
          -127.35301257541919,
          -204.4723927672764,
          43.10450754906806,
          117.87470352750134,
          211.88373885008565,
          -38.15023699387905,
          -57.61127608754256,
          94.8733068714695,
          -136.51036567939454,
          22.831245493294855,
          -7.445542912353478,
          100.57694889341388,
          81.52204026767305,
          131.43731527833827,
          -131.9754045260065,
          -124.06930179537363,
          -129.53240036762278,
          -66.02694384054664,
          1.6048147110214828,
          30.51607547907995,
          -12.447690558835486,
          -159.03654950634504,
          12.945749651536076,
          -31.804556947282062,
          -165.76519719426886,
          -20.911377271444717,
          142.16999459646556,
          130.4995860802492,
          117.69791493117384,
          -53.67476037873682,
          65.2572405821098,
          116.72430240265697,
          46.15249703640909,
          162.43699549124543,
          -33.03981056642746,
          -150.29784306560094,
          -41.072777340901546,
          76.5006634893905,
          60.78053659612376,
          -70.68463013409237,
          63.23737632267115,
          34.81255316403366,
          218.1647707914521,
          2.453455845064454,
          143.30155876366732,
          3.591663648269485,
          48.262906347775825,
          -110.59874266202569,
          66.77848634157941,
          245.67639818580332,
          -106.79723163615857,
          51.41919648673977,
          110.16589860229247,
          30.182214301293257,
          57.46462033960301,
          1.631289322421651,
          -124.5943297507875,
          -8.754646877589284,
          -26.01534303755756,
          75.38947615714854,
          -24.506038438076754,
          -25.377817403025848,
          11.206585626706861,
          -17.687059616561974,
          156.1105623417784,
          -234.88747056998739,
          77.36108969701189,
          260.03746616844757,
          -69.44536030543739,
          111.76425275893266,
          60.626900208374835,
          199.45161988790687,
          -38.89497216392916,
          118.25679958841846
         ]
        }
       ],
       "layout": {
        "legend": {
         "tracegroupgap": 0
        },
        "margin": {
         "t": 60
        },
        "scene": {
         "domain": {
          "x": [
           0,
           1
          ],
          "y": [
           0,
           1
          ]
         },
         "xaxis": {
          "title": {
           "text": "feature1"
          }
         },
         "yaxis": {
          "title": {
           "text": "feature2"
          }
         },
         "zaxis": {
          "title": {
           "text": "target"
          }
         }
        },
        "template": {
         "data": {
          "bar": [
           {
            "error_x": {
             "color": "#2a3f5f"
            },
            "error_y": {
             "color": "#2a3f5f"
            },
            "marker": {
             "line": {
              "color": "#E5ECF6",
              "width": 0.5
             },
             "pattern": {
              "fillmode": "overlay",
              "size": 10,
              "solidity": 0.2
             }
            },
            "type": "bar"
           }
          ],
          "barpolar": [
           {
            "marker": {
             "line": {
              "color": "#E5ECF6",
              "width": 0.5
             },
             "pattern": {
              "fillmode": "overlay",
              "size": 10,
              "solidity": 0.2
             }
            },
            "type": "barpolar"
           }
          ],
          "carpet": [
           {
            "aaxis": {
             "endlinecolor": "#2a3f5f",
             "gridcolor": "white",
             "linecolor": "white",
             "minorgridcolor": "white",
             "startlinecolor": "#2a3f5f"
            },
            "baxis": {
             "endlinecolor": "#2a3f5f",
             "gridcolor": "white",
             "linecolor": "white",
             "minorgridcolor": "white",
             "startlinecolor": "#2a3f5f"
            },
            "type": "carpet"
           }
          ],
          "choropleth": [
           {
            "colorbar": {
             "outlinewidth": 0,
             "ticks": ""
            },
            "type": "choropleth"
           }
          ],
          "contour": [
           {
            "colorbar": {
             "outlinewidth": 0,
             "ticks": ""
            },
            "colorscale": [
             [
              0,
              "#0d0887"
             ],
             [
              0.1111111111111111,
              "#46039f"
             ],
             [
              0.2222222222222222,
              "#7201a8"
             ],
             [
              0.3333333333333333,
              "#9c179e"
             ],
             [
              0.4444444444444444,
              "#bd3786"
             ],
             [
              0.5555555555555556,
              "#d8576b"
             ],
             [
              0.6666666666666666,
              "#ed7953"
             ],
             [
              0.7777777777777778,
              "#fb9f3a"
             ],
             [
              0.8888888888888888,
              "#fdca26"
             ],
             [
              1,
              "#f0f921"
             ]
            ],
            "type": "contour"
           }
          ],
          "contourcarpet": [
           {
            "colorbar": {
             "outlinewidth": 0,
             "ticks": ""
            },
            "type": "contourcarpet"
           }
          ],
          "heatmap": [
           {
            "colorbar": {
             "outlinewidth": 0,
             "ticks": ""
            },
            "colorscale": [
             [
              0,
              "#0d0887"
             ],
             [
              0.1111111111111111,
              "#46039f"
             ],
             [
              0.2222222222222222,
              "#7201a8"
             ],
             [
              0.3333333333333333,
              "#9c179e"
             ],
             [
              0.4444444444444444,
              "#bd3786"
             ],
             [
              0.5555555555555556,
              "#d8576b"
             ],
             [
              0.6666666666666666,
              "#ed7953"
             ],
             [
              0.7777777777777778,
              "#fb9f3a"
             ],
             [
              0.8888888888888888,
              "#fdca26"
             ],
             [
              1,
              "#f0f921"
             ]
            ],
            "type": "heatmap"
           }
          ],
          "heatmapgl": [
           {
            "colorbar": {
             "outlinewidth": 0,
             "ticks": ""
            },
            "colorscale": [
             [
              0,
              "#0d0887"
             ],
             [
              0.1111111111111111,
              "#46039f"
             ],
             [
              0.2222222222222222,
              "#7201a8"
             ],
             [
              0.3333333333333333,
              "#9c179e"
             ],
             [
              0.4444444444444444,
              "#bd3786"
             ],
             [
              0.5555555555555556,
              "#d8576b"
             ],
             [
              0.6666666666666666,
              "#ed7953"
             ],
             [
              0.7777777777777778,
              "#fb9f3a"
             ],
             [
              0.8888888888888888,
              "#fdca26"
             ],
             [
              1,
              "#f0f921"
             ]
            ],
            "type": "heatmapgl"
           }
          ],
          "histogram": [
           {
            "marker": {
             "pattern": {
              "fillmode": "overlay",
              "size": 10,
              "solidity": 0.2
             }
            },
            "type": "histogram"
           }
          ],
          "histogram2d": [
           {
            "colorbar": {
             "outlinewidth": 0,
             "ticks": ""
            },
            "colorscale": [
             [
              0,
              "#0d0887"
             ],
             [
              0.1111111111111111,
              "#46039f"
             ],
             [
              0.2222222222222222,
              "#7201a8"
             ],
             [
              0.3333333333333333,
              "#9c179e"
             ],
             [
              0.4444444444444444,
              "#bd3786"
             ],
             [
              0.5555555555555556,
              "#d8576b"
             ],
             [
              0.6666666666666666,
              "#ed7953"
             ],
             [
              0.7777777777777778,
              "#fb9f3a"
             ],
             [
              0.8888888888888888,
              "#fdca26"
             ],
             [
              1,
              "#f0f921"
             ]
            ],
            "type": "histogram2d"
           }
          ],
          "histogram2dcontour": [
           {
            "colorbar": {
             "outlinewidth": 0,
             "ticks": ""
            },
            "colorscale": [
             [
              0,
              "#0d0887"
             ],
             [
              0.1111111111111111,
              "#46039f"
             ],
             [
              0.2222222222222222,
              "#7201a8"
             ],
             [
              0.3333333333333333,
              "#9c179e"
             ],
             [
              0.4444444444444444,
              "#bd3786"
             ],
             [
              0.5555555555555556,
              "#d8576b"
             ],
             [
              0.6666666666666666,
              "#ed7953"
             ],
             [
              0.7777777777777778,
              "#fb9f3a"
             ],
             [
              0.8888888888888888,
              "#fdca26"
             ],
             [
              1,
              "#f0f921"
             ]
            ],
            "type": "histogram2dcontour"
           }
          ],
          "mesh3d": [
           {
            "colorbar": {
             "outlinewidth": 0,
             "ticks": ""
            },
            "type": "mesh3d"
           }
          ],
          "parcoords": [
           {
            "line": {
             "colorbar": {
              "outlinewidth": 0,
              "ticks": ""
             }
            },
            "type": "parcoords"
           }
          ],
          "pie": [
           {
            "automargin": true,
            "type": "pie"
           }
          ],
          "scatter": [
           {
            "fillpattern": {
             "fillmode": "overlay",
             "size": 10,
             "solidity": 0.2
            },
            "type": "scatter"
           }
          ],
          "scatter3d": [
           {
            "line": {
             "colorbar": {
              "outlinewidth": 0,
              "ticks": ""
             }
            },
            "marker": {
             "colorbar": {
              "outlinewidth": 0,
              "ticks": ""
             }
            },
            "type": "scatter3d"
           }
          ],
          "scattercarpet": [
           {
            "marker": {
             "colorbar": {
              "outlinewidth": 0,
              "ticks": ""
             }
            },
            "type": "scattercarpet"
           }
          ],
          "scattergeo": [
           {
            "marker": {
             "colorbar": {
              "outlinewidth": 0,
              "ticks": ""
             }
            },
            "type": "scattergeo"
           }
          ],
          "scattergl": [
           {
            "marker": {
             "colorbar": {
              "outlinewidth": 0,
              "ticks": ""
             }
            },
            "type": "scattergl"
           }
          ],
          "scattermapbox": [
           {
            "marker": {
             "colorbar": {
              "outlinewidth": 0,
              "ticks": ""
             }
            },
            "type": "scattermapbox"
           }
          ],
          "scatterpolar": [
           {
            "marker": {
             "colorbar": {
              "outlinewidth": 0,
              "ticks": ""
             }
            },
            "type": "scatterpolar"
           }
          ],
          "scatterpolargl": [
           {
            "marker": {
             "colorbar": {
              "outlinewidth": 0,
              "ticks": ""
             }
            },
            "type": "scatterpolargl"
           }
          ],
          "scatterternary": [
           {
            "marker": {
             "colorbar": {
              "outlinewidth": 0,
              "ticks": ""
             }
            },
            "type": "scatterternary"
           }
          ],
          "surface": [
           {
            "colorbar": {
             "outlinewidth": 0,
             "ticks": ""
            },
            "colorscale": [
             [
              0,
              "#0d0887"
             ],
             [
              0.1111111111111111,
              "#46039f"
             ],
             [
              0.2222222222222222,
              "#7201a8"
             ],
             [
              0.3333333333333333,
              "#9c179e"
             ],
             [
              0.4444444444444444,
              "#bd3786"
             ],
             [
              0.5555555555555556,
              "#d8576b"
             ],
             [
              0.6666666666666666,
              "#ed7953"
             ],
             [
              0.7777777777777778,
              "#fb9f3a"
             ],
             [
              0.8888888888888888,
              "#fdca26"
             ],
             [
              1,
              "#f0f921"
             ]
            ],
            "type": "surface"
           }
          ],
          "table": [
           {
            "cells": {
             "fill": {
              "color": "#EBF0F8"
             },
             "line": {
              "color": "white"
             }
            },
            "header": {
             "fill": {
              "color": "#C8D4E3"
             },
             "line": {
              "color": "white"
             }
            },
            "type": "table"
           }
          ]
         },
         "layout": {
          "annotationdefaults": {
           "arrowcolor": "#2a3f5f",
           "arrowhead": 0,
           "arrowwidth": 1
          },
          "autotypenumbers": "strict",
          "coloraxis": {
           "colorbar": {
            "outlinewidth": 0,
            "ticks": ""
           }
          },
          "colorscale": {
           "diverging": [
            [
             0,
             "#8e0152"
            ],
            [
             0.1,
             "#c51b7d"
            ],
            [
             0.2,
             "#de77ae"
            ],
            [
             0.3,
             "#f1b6da"
            ],
            [
             0.4,
             "#fde0ef"
            ],
            [
             0.5,
             "#f7f7f7"
            ],
            [
             0.6,
             "#e6f5d0"
            ],
            [
             0.7,
             "#b8e186"
            ],
            [
             0.8,
             "#7fbc41"
            ],
            [
             0.9,
             "#4d9221"
            ],
            [
             1,
             "#276419"
            ]
           ],
           "sequential": [
            [
             0,
             "#0d0887"
            ],
            [
             0.1111111111111111,
             "#46039f"
            ],
            [
             0.2222222222222222,
             "#7201a8"
            ],
            [
             0.3333333333333333,
             "#9c179e"
            ],
            [
             0.4444444444444444,
             "#bd3786"
            ],
            [
             0.5555555555555556,
             "#d8576b"
            ],
            [
             0.6666666666666666,
             "#ed7953"
            ],
            [
             0.7777777777777778,
             "#fb9f3a"
            ],
            [
             0.8888888888888888,
             "#fdca26"
            ],
            [
             1,
             "#f0f921"
            ]
           ],
           "sequentialminus": [
            [
             0,
             "#0d0887"
            ],
            [
             0.1111111111111111,
             "#46039f"
            ],
            [
             0.2222222222222222,
             "#7201a8"
            ],
            [
             0.3333333333333333,
             "#9c179e"
            ],
            [
             0.4444444444444444,
             "#bd3786"
            ],
            [
             0.5555555555555556,
             "#d8576b"
            ],
            [
             0.6666666666666666,
             "#ed7953"
            ],
            [
             0.7777777777777778,
             "#fb9f3a"
            ],
            [
             0.8888888888888888,
             "#fdca26"
            ],
            [
             1,
             "#f0f921"
            ]
           ]
          },
          "colorway": [
           "#636efa",
           "#EF553B",
           "#00cc96",
           "#ab63fa",
           "#FFA15A",
           "#19d3f3",
           "#FF6692",
           "#B6E880",
           "#FF97FF",
           "#FECB52"
          ],
          "font": {
           "color": "#2a3f5f"
          },
          "geo": {
           "bgcolor": "white",
           "lakecolor": "white",
           "landcolor": "#E5ECF6",
           "showlakes": true,
           "showland": true,
           "subunitcolor": "white"
          },
          "hoverlabel": {
           "align": "left"
          },
          "hovermode": "closest",
          "mapbox": {
           "style": "light"
          },
          "paper_bgcolor": "white",
          "plot_bgcolor": "#E5ECF6",
          "polar": {
           "angularaxis": {
            "gridcolor": "white",
            "linecolor": "white",
            "ticks": ""
           },
           "bgcolor": "#E5ECF6",
           "radialaxis": {
            "gridcolor": "white",
            "linecolor": "white",
            "ticks": ""
           }
          },
          "scene": {
           "xaxis": {
            "backgroundcolor": "#E5ECF6",
            "gridcolor": "white",
            "gridwidth": 2,
            "linecolor": "white",
            "showbackground": true,
            "ticks": "",
            "zerolinecolor": "white"
           },
           "yaxis": {
            "backgroundcolor": "#E5ECF6",
            "gridcolor": "white",
            "gridwidth": 2,
            "linecolor": "white",
            "showbackground": true,
            "ticks": "",
            "zerolinecolor": "white"
           },
           "zaxis": {
            "backgroundcolor": "#E5ECF6",
            "gridcolor": "white",
            "gridwidth": 2,
            "linecolor": "white",
            "showbackground": true,
            "ticks": "",
            "zerolinecolor": "white"
           }
          },
          "shapedefaults": {
           "line": {
            "color": "#2a3f5f"
           }
          },
          "ternary": {
           "aaxis": {
            "gridcolor": "white",
            "linecolor": "white",
            "ticks": ""
           },
           "baxis": {
            "gridcolor": "white",
            "linecolor": "white",
            "ticks": ""
           },
           "bgcolor": "#E5ECF6",
           "caxis": {
            "gridcolor": "white",
            "linecolor": "white",
            "ticks": ""
           }
          },
          "title": {
           "x": 0.05
          },
          "xaxis": {
           "automargin": true,
           "gridcolor": "white",
           "linecolor": "white",
           "ticks": "",
           "title": {
            "standoff": 15
           },
           "zerolinecolor": "white",
           "zerolinewidth": 2
          },
          "yaxis": {
           "automargin": true,
           "gridcolor": "white",
           "linecolor": "white",
           "ticks": "",
           "title": {
            "standoff": 15
           },
           "zerolinecolor": "white",
           "zerolinewidth": 2
          }
         }
        }
       }
      }
     },
     "metadata": {},
     "output_type": "display_data"
    }
   ],
   "source": [
    "fig=px.scatter_3d(df,x='feature1',y='feature2',z='target')\n",
    "fig.show()"
   ]
  },
  {
   "cell_type": "code",
   "execution_count": 6,
   "id": "8b62fa5f",
   "metadata": {},
   "outputs": [],
   "source": [
    "from sklearn.model_selection import train_test_split\n",
    "from sklearn.linear_model import LinearRegression"
   ]
  },
  {
   "cell_type": "code",
   "execution_count": 7,
   "id": "a489e349",
   "metadata": {},
   "outputs": [],
   "source": [
    "x_train,x_test,y_train,y_test=train_test_split(X,y,random_state=42,test_size=0.3)"
   ]
  },
  {
   "cell_type": "code",
   "execution_count": 8,
   "id": "f5ca5ec9",
   "metadata": {},
   "outputs": [
    {
     "data": {
      "text/html": [
       "<style>#sk-container-id-1 {\n",
       "  /* Definition of color scheme common for light and dark mode */\n",
       "  --sklearn-color-text: #000;\n",
       "  --sklearn-color-text-muted: #666;\n",
       "  --sklearn-color-line: gray;\n",
       "  /* Definition of color scheme for unfitted estimators */\n",
       "  --sklearn-color-unfitted-level-0: #fff5e6;\n",
       "  --sklearn-color-unfitted-level-1: #f6e4d2;\n",
       "  --sklearn-color-unfitted-level-2: #ffe0b3;\n",
       "  --sklearn-color-unfitted-level-3: chocolate;\n",
       "  /* Definition of color scheme for fitted estimators */\n",
       "  --sklearn-color-fitted-level-0: #f0f8ff;\n",
       "  --sklearn-color-fitted-level-1: #d4ebff;\n",
       "  --sklearn-color-fitted-level-2: #b3dbfd;\n",
       "  --sklearn-color-fitted-level-3: cornflowerblue;\n",
       "\n",
       "  /* Specific color for light theme */\n",
       "  --sklearn-color-text-on-default-background: var(--sg-text-color, var(--theme-code-foreground, var(--jp-content-font-color1, black)));\n",
       "  --sklearn-color-background: var(--sg-background-color, var(--theme-background, var(--jp-layout-color0, white)));\n",
       "  --sklearn-color-border-box: var(--sg-text-color, var(--theme-code-foreground, var(--jp-content-font-color1, black)));\n",
       "  --sklearn-color-icon: #696969;\n",
       "\n",
       "  @media (prefers-color-scheme: dark) {\n",
       "    /* Redefinition of color scheme for dark theme */\n",
       "    --sklearn-color-text-on-default-background: var(--sg-text-color, var(--theme-code-foreground, var(--jp-content-font-color1, white)));\n",
       "    --sklearn-color-background: var(--sg-background-color, var(--theme-background, var(--jp-layout-color0, #111)));\n",
       "    --sklearn-color-border-box: var(--sg-text-color, var(--theme-code-foreground, var(--jp-content-font-color1, white)));\n",
       "    --sklearn-color-icon: #878787;\n",
       "  }\n",
       "}\n",
       "\n",
       "#sk-container-id-1 {\n",
       "  color: var(--sklearn-color-text);\n",
       "}\n",
       "\n",
       "#sk-container-id-1 pre {\n",
       "  padding: 0;\n",
       "}\n",
       "\n",
       "#sk-container-id-1 input.sk-hidden--visually {\n",
       "  border: 0;\n",
       "  clip: rect(1px 1px 1px 1px);\n",
       "  clip: rect(1px, 1px, 1px, 1px);\n",
       "  height: 1px;\n",
       "  margin: -1px;\n",
       "  overflow: hidden;\n",
       "  padding: 0;\n",
       "  position: absolute;\n",
       "  width: 1px;\n",
       "}\n",
       "\n",
       "#sk-container-id-1 div.sk-dashed-wrapped {\n",
       "  border: 1px dashed var(--sklearn-color-line);\n",
       "  margin: 0 0.4em 0.5em 0.4em;\n",
       "  box-sizing: border-box;\n",
       "  padding-bottom: 0.4em;\n",
       "  background-color: var(--sklearn-color-background);\n",
       "}\n",
       "\n",
       "#sk-container-id-1 div.sk-container {\n",
       "  /* jupyter's `normalize.less` sets `[hidden] { display: none; }`\n",
       "     but bootstrap.min.css set `[hidden] { display: none !important; }`\n",
       "     so we also need the `!important` here to be able to override the\n",
       "     default hidden behavior on the sphinx rendered scikit-learn.org.\n",
       "     See: https://github.com/scikit-learn/scikit-learn/issues/21755 */\n",
       "  display: inline-block !important;\n",
       "  position: relative;\n",
       "}\n",
       "\n",
       "#sk-container-id-1 div.sk-text-repr-fallback {\n",
       "  display: none;\n",
       "}\n",
       "\n",
       "div.sk-parallel-item,\n",
       "div.sk-serial,\n",
       "div.sk-item {\n",
       "  /* draw centered vertical line to link estimators */\n",
       "  background-image: linear-gradient(var(--sklearn-color-text-on-default-background), var(--sklearn-color-text-on-default-background));\n",
       "  background-size: 2px 100%;\n",
       "  background-repeat: no-repeat;\n",
       "  background-position: center center;\n",
       "}\n",
       "\n",
       "/* Parallel-specific style estimator block */\n",
       "\n",
       "#sk-container-id-1 div.sk-parallel-item::after {\n",
       "  content: \"\";\n",
       "  width: 100%;\n",
       "  border-bottom: 2px solid var(--sklearn-color-text-on-default-background);\n",
       "  flex-grow: 1;\n",
       "}\n",
       "\n",
       "#sk-container-id-1 div.sk-parallel {\n",
       "  display: flex;\n",
       "  align-items: stretch;\n",
       "  justify-content: center;\n",
       "  background-color: var(--sklearn-color-background);\n",
       "  position: relative;\n",
       "}\n",
       "\n",
       "#sk-container-id-1 div.sk-parallel-item {\n",
       "  display: flex;\n",
       "  flex-direction: column;\n",
       "}\n",
       "\n",
       "#sk-container-id-1 div.sk-parallel-item:first-child::after {\n",
       "  align-self: flex-end;\n",
       "  width: 50%;\n",
       "}\n",
       "\n",
       "#sk-container-id-1 div.sk-parallel-item:last-child::after {\n",
       "  align-self: flex-start;\n",
       "  width: 50%;\n",
       "}\n",
       "\n",
       "#sk-container-id-1 div.sk-parallel-item:only-child::after {\n",
       "  width: 0;\n",
       "}\n",
       "\n",
       "/* Serial-specific style estimator block */\n",
       "\n",
       "#sk-container-id-1 div.sk-serial {\n",
       "  display: flex;\n",
       "  flex-direction: column;\n",
       "  align-items: center;\n",
       "  background-color: var(--sklearn-color-background);\n",
       "  padding-right: 1em;\n",
       "  padding-left: 1em;\n",
       "}\n",
       "\n",
       "\n",
       "/* Toggleable style: style used for estimator/Pipeline/ColumnTransformer box that is\n",
       "clickable and can be expanded/collapsed.\n",
       "- Pipeline and ColumnTransformer use this feature and define the default style\n",
       "- Estimators will overwrite some part of the style using the `sk-estimator` class\n",
       "*/\n",
       "\n",
       "/* Pipeline and ColumnTransformer style (default) */\n",
       "\n",
       "#sk-container-id-1 div.sk-toggleable {\n",
       "  /* Default theme specific background. It is overwritten whether we have a\n",
       "  specific estimator or a Pipeline/ColumnTransformer */\n",
       "  background-color: var(--sklearn-color-background);\n",
       "}\n",
       "\n",
       "/* Toggleable label */\n",
       "#sk-container-id-1 label.sk-toggleable__label {\n",
       "  cursor: pointer;\n",
       "  display: flex;\n",
       "  width: 100%;\n",
       "  margin-bottom: 0;\n",
       "  padding: 0.5em;\n",
       "  box-sizing: border-box;\n",
       "  text-align: center;\n",
       "  align-items: start;\n",
       "  justify-content: space-between;\n",
       "  gap: 0.5em;\n",
       "}\n",
       "\n",
       "#sk-container-id-1 label.sk-toggleable__label .caption {\n",
       "  font-size: 0.6rem;\n",
       "  font-weight: lighter;\n",
       "  color: var(--sklearn-color-text-muted);\n",
       "}\n",
       "\n",
       "#sk-container-id-1 label.sk-toggleable__label-arrow:before {\n",
       "  /* Arrow on the left of the label */\n",
       "  content: \"▸\";\n",
       "  float: left;\n",
       "  margin-right: 0.25em;\n",
       "  color: var(--sklearn-color-icon);\n",
       "}\n",
       "\n",
       "#sk-container-id-1 label.sk-toggleable__label-arrow:hover:before {\n",
       "  color: var(--sklearn-color-text);\n",
       "}\n",
       "\n",
       "/* Toggleable content - dropdown */\n",
       "\n",
       "#sk-container-id-1 div.sk-toggleable__content {\n",
       "  max-height: 0;\n",
       "  max-width: 0;\n",
       "  overflow: hidden;\n",
       "  text-align: left;\n",
       "  /* unfitted */\n",
       "  background-color: var(--sklearn-color-unfitted-level-0);\n",
       "}\n",
       "\n",
       "#sk-container-id-1 div.sk-toggleable__content.fitted {\n",
       "  /* fitted */\n",
       "  background-color: var(--sklearn-color-fitted-level-0);\n",
       "}\n",
       "\n",
       "#sk-container-id-1 div.sk-toggleable__content pre {\n",
       "  margin: 0.2em;\n",
       "  border-radius: 0.25em;\n",
       "  color: var(--sklearn-color-text);\n",
       "  /* unfitted */\n",
       "  background-color: var(--sklearn-color-unfitted-level-0);\n",
       "}\n",
       "\n",
       "#sk-container-id-1 div.sk-toggleable__content.fitted pre {\n",
       "  /* unfitted */\n",
       "  background-color: var(--sklearn-color-fitted-level-0);\n",
       "}\n",
       "\n",
       "#sk-container-id-1 input.sk-toggleable__control:checked~div.sk-toggleable__content {\n",
       "  /* Expand drop-down */\n",
       "  max-height: 200px;\n",
       "  max-width: 100%;\n",
       "  overflow: auto;\n",
       "}\n",
       "\n",
       "#sk-container-id-1 input.sk-toggleable__control:checked~label.sk-toggleable__label-arrow:before {\n",
       "  content: \"▾\";\n",
       "}\n",
       "\n",
       "/* Pipeline/ColumnTransformer-specific style */\n",
       "\n",
       "#sk-container-id-1 div.sk-label input.sk-toggleable__control:checked~label.sk-toggleable__label {\n",
       "  color: var(--sklearn-color-text);\n",
       "  background-color: var(--sklearn-color-unfitted-level-2);\n",
       "}\n",
       "\n",
       "#sk-container-id-1 div.sk-label.fitted input.sk-toggleable__control:checked~label.sk-toggleable__label {\n",
       "  background-color: var(--sklearn-color-fitted-level-2);\n",
       "}\n",
       "\n",
       "/* Estimator-specific style */\n",
       "\n",
       "/* Colorize estimator box */\n",
       "#sk-container-id-1 div.sk-estimator input.sk-toggleable__control:checked~label.sk-toggleable__label {\n",
       "  /* unfitted */\n",
       "  background-color: var(--sklearn-color-unfitted-level-2);\n",
       "}\n",
       "\n",
       "#sk-container-id-1 div.sk-estimator.fitted input.sk-toggleable__control:checked~label.sk-toggleable__label {\n",
       "  /* fitted */\n",
       "  background-color: var(--sklearn-color-fitted-level-2);\n",
       "}\n",
       "\n",
       "#sk-container-id-1 div.sk-label label.sk-toggleable__label,\n",
       "#sk-container-id-1 div.sk-label label {\n",
       "  /* The background is the default theme color */\n",
       "  color: var(--sklearn-color-text-on-default-background);\n",
       "}\n",
       "\n",
       "/* On hover, darken the color of the background */\n",
       "#sk-container-id-1 div.sk-label:hover label.sk-toggleable__label {\n",
       "  color: var(--sklearn-color-text);\n",
       "  background-color: var(--sklearn-color-unfitted-level-2);\n",
       "}\n",
       "\n",
       "/* Label box, darken color on hover, fitted */\n",
       "#sk-container-id-1 div.sk-label.fitted:hover label.sk-toggleable__label.fitted {\n",
       "  color: var(--sklearn-color-text);\n",
       "  background-color: var(--sklearn-color-fitted-level-2);\n",
       "}\n",
       "\n",
       "/* Estimator label */\n",
       "\n",
       "#sk-container-id-1 div.sk-label label {\n",
       "  font-family: monospace;\n",
       "  font-weight: bold;\n",
       "  display: inline-block;\n",
       "  line-height: 1.2em;\n",
       "}\n",
       "\n",
       "#sk-container-id-1 div.sk-label-container {\n",
       "  text-align: center;\n",
       "}\n",
       "\n",
       "/* Estimator-specific */\n",
       "#sk-container-id-1 div.sk-estimator {\n",
       "  font-family: monospace;\n",
       "  border: 1px dotted var(--sklearn-color-border-box);\n",
       "  border-radius: 0.25em;\n",
       "  box-sizing: border-box;\n",
       "  margin-bottom: 0.5em;\n",
       "  /* unfitted */\n",
       "  background-color: var(--sklearn-color-unfitted-level-0);\n",
       "}\n",
       "\n",
       "#sk-container-id-1 div.sk-estimator.fitted {\n",
       "  /* fitted */\n",
       "  background-color: var(--sklearn-color-fitted-level-0);\n",
       "}\n",
       "\n",
       "/* on hover */\n",
       "#sk-container-id-1 div.sk-estimator:hover {\n",
       "  /* unfitted */\n",
       "  background-color: var(--sklearn-color-unfitted-level-2);\n",
       "}\n",
       "\n",
       "#sk-container-id-1 div.sk-estimator.fitted:hover {\n",
       "  /* fitted */\n",
       "  background-color: var(--sklearn-color-fitted-level-2);\n",
       "}\n",
       "\n",
       "/* Specification for estimator info (e.g. \"i\" and \"?\") */\n",
       "\n",
       "/* Common style for \"i\" and \"?\" */\n",
       "\n",
       ".sk-estimator-doc-link,\n",
       "a:link.sk-estimator-doc-link,\n",
       "a:visited.sk-estimator-doc-link {\n",
       "  float: right;\n",
       "  font-size: smaller;\n",
       "  line-height: 1em;\n",
       "  font-family: monospace;\n",
       "  background-color: var(--sklearn-color-background);\n",
       "  border-radius: 1em;\n",
       "  height: 1em;\n",
       "  width: 1em;\n",
       "  text-decoration: none !important;\n",
       "  margin-left: 0.5em;\n",
       "  text-align: center;\n",
       "  /* unfitted */\n",
       "  border: var(--sklearn-color-unfitted-level-1) 1pt solid;\n",
       "  color: var(--sklearn-color-unfitted-level-1);\n",
       "}\n",
       "\n",
       ".sk-estimator-doc-link.fitted,\n",
       "a:link.sk-estimator-doc-link.fitted,\n",
       "a:visited.sk-estimator-doc-link.fitted {\n",
       "  /* fitted */\n",
       "  border: var(--sklearn-color-fitted-level-1) 1pt solid;\n",
       "  color: var(--sklearn-color-fitted-level-1);\n",
       "}\n",
       "\n",
       "/* On hover */\n",
       "div.sk-estimator:hover .sk-estimator-doc-link:hover,\n",
       ".sk-estimator-doc-link:hover,\n",
       "div.sk-label-container:hover .sk-estimator-doc-link:hover,\n",
       ".sk-estimator-doc-link:hover {\n",
       "  /* unfitted */\n",
       "  background-color: var(--sklearn-color-unfitted-level-3);\n",
       "  color: var(--sklearn-color-background);\n",
       "  text-decoration: none;\n",
       "}\n",
       "\n",
       "div.sk-estimator.fitted:hover .sk-estimator-doc-link.fitted:hover,\n",
       ".sk-estimator-doc-link.fitted:hover,\n",
       "div.sk-label-container:hover .sk-estimator-doc-link.fitted:hover,\n",
       ".sk-estimator-doc-link.fitted:hover {\n",
       "  /* fitted */\n",
       "  background-color: var(--sklearn-color-fitted-level-3);\n",
       "  color: var(--sklearn-color-background);\n",
       "  text-decoration: none;\n",
       "}\n",
       "\n",
       "/* Span, style for the box shown on hovering the info icon */\n",
       ".sk-estimator-doc-link span {\n",
       "  display: none;\n",
       "  z-index: 9999;\n",
       "  position: relative;\n",
       "  font-weight: normal;\n",
       "  right: .2ex;\n",
       "  padding: .5ex;\n",
       "  margin: .5ex;\n",
       "  width: min-content;\n",
       "  min-width: 20ex;\n",
       "  max-width: 50ex;\n",
       "  color: var(--sklearn-color-text);\n",
       "  box-shadow: 2pt 2pt 4pt #999;\n",
       "  /* unfitted */\n",
       "  background: var(--sklearn-color-unfitted-level-0);\n",
       "  border: .5pt solid var(--sklearn-color-unfitted-level-3);\n",
       "}\n",
       "\n",
       ".sk-estimator-doc-link.fitted span {\n",
       "  /* fitted */\n",
       "  background: var(--sklearn-color-fitted-level-0);\n",
       "  border: var(--sklearn-color-fitted-level-3);\n",
       "}\n",
       "\n",
       ".sk-estimator-doc-link:hover span {\n",
       "  display: block;\n",
       "}\n",
       "\n",
       "/* \"?\"-specific style due to the `<a>` HTML tag */\n",
       "\n",
       "#sk-container-id-1 a.estimator_doc_link {\n",
       "  float: right;\n",
       "  font-size: 1rem;\n",
       "  line-height: 1em;\n",
       "  font-family: monospace;\n",
       "  background-color: var(--sklearn-color-background);\n",
       "  border-radius: 1rem;\n",
       "  height: 1rem;\n",
       "  width: 1rem;\n",
       "  text-decoration: none;\n",
       "  /* unfitted */\n",
       "  color: var(--sklearn-color-unfitted-level-1);\n",
       "  border: var(--sklearn-color-unfitted-level-1) 1pt solid;\n",
       "}\n",
       "\n",
       "#sk-container-id-1 a.estimator_doc_link.fitted {\n",
       "  /* fitted */\n",
       "  border: var(--sklearn-color-fitted-level-1) 1pt solid;\n",
       "  color: var(--sklearn-color-fitted-level-1);\n",
       "}\n",
       "\n",
       "/* On hover */\n",
       "#sk-container-id-1 a.estimator_doc_link:hover {\n",
       "  /* unfitted */\n",
       "  background-color: var(--sklearn-color-unfitted-level-3);\n",
       "  color: var(--sklearn-color-background);\n",
       "  text-decoration: none;\n",
       "}\n",
       "\n",
       "#sk-container-id-1 a.estimator_doc_link.fitted:hover {\n",
       "  /* fitted */\n",
       "  background-color: var(--sklearn-color-fitted-level-3);\n",
       "}\n",
       "</style><div id=\"sk-container-id-1\" class=\"sk-top-container\"><div class=\"sk-text-repr-fallback\"><pre>LinearRegression()</pre><b>In a Jupyter environment, please rerun this cell to show the HTML representation or trust the notebook. <br />On GitHub, the HTML representation is unable to render, please try loading this page with nbviewer.org.</b></div><div class=\"sk-container\" hidden><div class=\"sk-item\"><div class=\"sk-estimator fitted sk-toggleable\"><input class=\"sk-toggleable__control sk-hidden--visually\" id=\"sk-estimator-id-1\" type=\"checkbox\" checked><label for=\"sk-estimator-id-1\" class=\"sk-toggleable__label fitted sk-toggleable__label-arrow\"><div><div>LinearRegression</div></div><div><a class=\"sk-estimator-doc-link fitted\" rel=\"noreferrer\" target=\"_blank\" href=\"https://scikit-learn.org/1.6/modules/generated/sklearn.linear_model.LinearRegression.html\">?<span>Documentation for LinearRegression</span></a><span class=\"sk-estimator-doc-link fitted\">i<span>Fitted</span></span></div></label><div class=\"sk-toggleable__content fitted\"><pre>LinearRegression()</pre></div> </div></div></div></div>"
      ],
      "text/plain": [
       "LinearRegression()"
      ]
     },
     "execution_count": 8,
     "metadata": {},
     "output_type": "execute_result"
    }
   ],
   "source": [
    "lr=LinearRegression()\n",
    "lr.fit(x_train,y_train)"
   ]
  },
  {
   "cell_type": "code",
   "execution_count": 9,
   "id": "12e5f014",
   "metadata": {},
   "outputs": [],
   "source": [
    "y_pred=lr.predict(x_test)"
   ]
  },
  {
   "cell_type": "code",
   "execution_count": 10,
   "id": "c6e06af1",
   "metadata": {},
   "outputs": [
    {
     "name": "stdout",
     "output_type": "stream",
     "text": [
      "MSE: 1831.7535743387757\n",
      "R2 score: 0.8022368630340223\n"
     ]
    }
   ],
   "source": [
    "print('MSE:',mean_squared_error(y_pred,y_test))\n",
    "print('R2 score:',r2_score(y_pred,y_test))\n"
   ]
  },
  {
   "cell_type": "code",
   "execution_count": 11,
   "id": "ff95fe2c",
   "metadata": {},
   "outputs": [
    {
     "data": {
      "text/plain": [
       "(array([[-5.        , -3.88888889, -2.77777778, -1.66666667, -0.55555556,\n",
       "          0.55555556,  1.66666667,  2.77777778,  3.88888889,  5.        ],\n",
       "        [-5.        , -3.88888889, -2.77777778, -1.66666667, -0.55555556,\n",
       "          0.55555556,  1.66666667,  2.77777778,  3.88888889,  5.        ],\n",
       "        [-5.        , -3.88888889, -2.77777778, -1.66666667, -0.55555556,\n",
       "          0.55555556,  1.66666667,  2.77777778,  3.88888889,  5.        ],\n",
       "        [-5.        , -3.88888889, -2.77777778, -1.66666667, -0.55555556,\n",
       "          0.55555556,  1.66666667,  2.77777778,  3.88888889,  5.        ],\n",
       "        [-5.        , -3.88888889, -2.77777778, -1.66666667, -0.55555556,\n",
       "          0.55555556,  1.66666667,  2.77777778,  3.88888889,  5.        ],\n",
       "        [-5.        , -3.88888889, -2.77777778, -1.66666667, -0.55555556,\n",
       "          0.55555556,  1.66666667,  2.77777778,  3.88888889,  5.        ],\n",
       "        [-5.        , -3.88888889, -2.77777778, -1.66666667, -0.55555556,\n",
       "          0.55555556,  1.66666667,  2.77777778,  3.88888889,  5.        ],\n",
       "        [-5.        , -3.88888889, -2.77777778, -1.66666667, -0.55555556,\n",
       "          0.55555556,  1.66666667,  2.77777778,  3.88888889,  5.        ],\n",
       "        [-5.        , -3.88888889, -2.77777778, -1.66666667, -0.55555556,\n",
       "          0.55555556,  1.66666667,  2.77777778,  3.88888889,  5.        ],\n",
       "        [-5.        , -3.88888889, -2.77777778, -1.66666667, -0.55555556,\n",
       "          0.55555556,  1.66666667,  2.77777778,  3.88888889,  5.        ]]),\n",
       " array([[-5.        , -5.        , -5.        , -5.        , -5.        ,\n",
       "         -5.        , -5.        , -5.        , -5.        , -5.        ],\n",
       "        [-3.88888889, -3.88888889, -3.88888889, -3.88888889, -3.88888889,\n",
       "         -3.88888889, -3.88888889, -3.88888889, -3.88888889, -3.88888889],\n",
       "        [-2.77777778, -2.77777778, -2.77777778, -2.77777778, -2.77777778,\n",
       "         -2.77777778, -2.77777778, -2.77777778, -2.77777778, -2.77777778],\n",
       "        [-1.66666667, -1.66666667, -1.66666667, -1.66666667, -1.66666667,\n",
       "         -1.66666667, -1.66666667, -1.66666667, -1.66666667, -1.66666667],\n",
       "        [-0.55555556, -0.55555556, -0.55555556, -0.55555556, -0.55555556,\n",
       "         -0.55555556, -0.55555556, -0.55555556, -0.55555556, -0.55555556],\n",
       "        [ 0.55555556,  0.55555556,  0.55555556,  0.55555556,  0.55555556,\n",
       "          0.55555556,  0.55555556,  0.55555556,  0.55555556,  0.55555556],\n",
       "        [ 1.66666667,  1.66666667,  1.66666667,  1.66666667,  1.66666667,\n",
       "          1.66666667,  1.66666667,  1.66666667,  1.66666667,  1.66666667],\n",
       "        [ 2.77777778,  2.77777778,  2.77777778,  2.77777778,  2.77777778,\n",
       "          2.77777778,  2.77777778,  2.77777778,  2.77777778,  2.77777778],\n",
       "        [ 3.88888889,  3.88888889,  3.88888889,  3.88888889,  3.88888889,\n",
       "          3.88888889,  3.88888889,  3.88888889,  3.88888889,  3.88888889],\n",
       "        [ 5.        ,  5.        ,  5.        ,  5.        ,  5.        ,\n",
       "          5.        ,  5.        ,  5.        ,  5.        ,  5.        ]]))"
      ]
     },
     "execution_count": 11,
     "metadata": {},
     "output_type": "execute_result"
    }
   ],
   "source": [
    "x1=np.linspace(-5,5,10)\n",
    "x2=np.linspace(-5,5,10)\n",
    "xGrid,yGrid=np.meshgrid(x1,x2)\n",
    "xGrid,yGrid"
   ]
  },
  {
   "cell_type": "code",
   "execution_count": 13,
   "id": "86687725",
   "metadata": {},
   "outputs": [],
   "source": [
    "final=np.vstack((xGrid.ravel().reshape(1,100),yGrid.ravel().reshape(1,100))).T\n",
    "z_final=lr.predict(final).reshape(10,10)\n",
    "z=z_final"
   ]
  },
  {
   "cell_type": "code",
   "execution_count": 14,
   "id": "76e5021f",
   "metadata": {},
   "outputs": [
    {
     "data": {
      "application/vnd.plotly.v1+json": {
       "config": {
        "plotlyServerURL": "https://plot.ly"
       },
       "data": [
        {
         "hovertemplate": "feature1=%{x}<br>feature2=%{y}<br>target=%{z}<extra></extra>",
         "legendgroup": "",
         "marker": {
          "color": "#636efa",
          "symbol": "circle"
         },
         "mode": "markers",
         "name": "",
         "scene": "scene",
         "showlegend": false,
         "type": "scatter3d",
         "x": [
          -0.5490649473555127,
          -1.3618720923419172,
          0.6326866197531725,
          -1.4759597757292782,
          -0.5690661014571031,
          -0.8339924038289447,
          1.6372571053531724,
          -0.5754421399969046,
          0.013991368420588818,
          0.3966390771333701,
          0.21925571627064258,
          0.6199706481263954,
          0.15450150827378048,
          1.0193833580407385,
          -1.388982921909997,
          0.5671650947091502,
          0.6352357624962938,
          -0.6292495026835794,
          0.1552248853995398,
          -0.6283595535394837,
          -0.00513813458766391,
          -0.12506833212513183,
          0.47567857865424834,
          1.6146701059459403,
          0.606990332884136,
          -0.31662156427827104,
          -0.30239527436919067,
          -2.20454644052928,
          0.38416784358479455,
          1.156866161114455,
          1.0558098689484077,
          -1.3373158805237964,
          0.17794087510790238,
          1.135804300654158,
          0.26271716561052,
          1.5104816320844607,
          0.94666325932179,
          -0.001556826554424035,
          1.837307521404039,
          -0.7485686513078532,
          -0.21765479537588756,
          -0.47173314638201574,
          -1.1687117007852983,
          0.014631319315235917,
          0.8658894945676244,
          0.01621155899574577,
          -0.3422807517234476,
          -0.13825014736955396,
          0.6396017988341588,
          -0.396164715849251,
          -0.4469449018002283,
          -1.1716853979015847,
          0.7553080863526683,
          0.8519171080733562,
          1.6325386020854373,
          -0.5741462274021081,
          0.13857241023204767,
          0.7233692607162906,
          0.3756577704183553,
          0.43750111198148084,
          -0.8640902180782385,
          -1.3436281782620942,
          -0.008761127263846756,
          0.30403779402987685,
          0.052888077596874576,
          -0.5966131890121382,
          -0.45202065684892706,
          0.42050025571175104,
          -0.4980013042862,
          1.1842941321159444,
          0.8420228111313903,
          -1.0786579755393357,
          -0.049693814337052354,
          -0.08757460263140322,
          0.5247807102013102,
          1.3078176564743682,
          -1.4635214143520519,
          0.3429467607429758,
          -0.31032749723282593,
          -0.19747771179062662,
          -0.17487000637383673,
          0.35539147381346153,
          -1.059723225305006,
          0.8593781660134445,
          -0.4750446385428582,
          1.4717227281018683,
          -1.0377377767391822,
          0.07062294427924838,
          2.1624324877116803,
          -1.3528750462289114,
          1.3294959119943603,
          -0.7651260871410284,
          0.21090784433538579,
          2.2069412490921185,
          -0.292159879305912,
          0.03537251413048088,
          0.754036501083547,
          0.3631305820260203,
          0.8767587013609177,
          -0.8922816830515288
         ],
         "y": [
          2.275080381842892,
          -0.8561912855162258,
          -0.17829745897781266,
          0.7484880661012866,
          2.315669733572146,
          0.6435037068947648,
          -0.7949030641434045,
          -0.9869069867890238,
          -1.0946423068750617,
          0.4958873907241603,
          2.647932129110726,
          -0.3331194286545158,
          -0.6967623395506766,
          -0.1421442618502963,
          0.3308637065634339,
          -0.9131826097292677,
          -0.5709910827505128,
          0.3225983936284686,
          0.28339599168901664,
          0.6298099047226028,
          -0.6465477294552794,
          -0.705007077022483,
          -0.9232670167457515,
          -0.08986016966664191,
          1.6000080721975711,
          -1.8043631544039322,
          -1.6564493761031178,
          0.26201921887259105,
          -0.12460821306964852,
          0.541890296707569,
          0.9882281836761942,
          0.1022459228863017,
          -0.23212115493770474,
          -0.03813632724916835,
          -1.6603960740162735,
          -1.246186177176907,
          -1.4575554615506712,
          0.27483409951410204,
          -1.185193526558448,
          2.736378556440283,
          -0.8794279803728006,
          -0.3786377033187397,
          -0.3017553841649604,
          -1.0474703923559041,
          -1.152290619782415,
          0.8955895500532692,
          0.15478808980189132,
          -1.82427730700263,
          0.29723194706020145,
          -0.31597920395090373,
          -1.8010668612428928,
          0.9135617682529158,
          0.14822380334038135,
          -0.058321316194209834,
          -0.5933849657176365,
          -1.0295354559288845,
          1.2725887436213839,
          0.7045713018762061,
          0.3584842715862416,
          1.4741875570884495,
          0.9179525932066511,
          -0.49504583872679225,
          -0.35212478143756104,
          -0.1800789884599677,
          0.33351153297614183,
          0.3188278028245109,
          1.2046005829468625,
          0.2530446645118221,
          2.068008089726575,
          -0.4295433312564195,
          0.08748285468597067,
          1.3926861978216671,
          0.9056434511783137,
          -0.8099324486368572,
          0.44459891381494565,
          1.8438123574229148,
          0.4817054967280363,
          -0.24858720866638462,
          0.926081117193533,
          0.7342661031479548,
          0.2084970019386849,
          0.6518365042159917,
          0.20079196144851477,
          -1.2076596807471307,
          0.4343228076882594,
          -0.7846543398243556,
          1.3436229211933217,
          -0.684823859587516,
          -1.4903495518825893,
          0.5010795733988251,
          -0.23122075571907705,
          -2.096860712846392,
          0.5562320112008653,
          0.11801853248331563,
          -0.3395986630593798,
          0.040393620331396325,
          -0.03915011873958701,
          1.7574904487988352,
          -0.4897224608504968,
          1.029201756632372
         ],
         "z": [
          110.6381321917323,
          -236.7545435798246,
          54.268452517833005,
          -25.359386423429868,
          86.02598109375273,
          81.51739855096801,
          39.52418989729379,
          -109.71510774512731,
          -53.851138069337885,
          63.07394741880274,
          180.76686914484694,
          16.39924847093605,
          -25.01248978901189,
          44.924462904079675,
          -46.93943239512132,
          -13.995988604548414,
          20.801449794648182,
          -1.6688387915593879,
          95.85836661373938,
          58.04441972485438,
          -28.924890091187084,
          -92.15972480003562,
          -21.89924654090263,
          101.90277408735966,
          120.6391651423116,
          -126.53688602849024,
          -127.35301257541919,
          -204.4723927672764,
          43.10450754906806,
          117.87470352750134,
          211.88373885008565,
          -38.15023699387905,
          -57.61127608754256,
          94.8733068714695,
          -136.51036567939454,
          22.831245493294855,
          -7.445542912353478,
          100.57694889341388,
          81.52204026767305,
          131.43731527833827,
          -131.9754045260065,
          -124.06930179537363,
          -129.53240036762278,
          -66.02694384054664,
          1.6048147110214828,
          30.51607547907995,
          -12.447690558835486,
          -159.03654950634504,
          12.945749651536076,
          -31.804556947282062,
          -165.76519719426886,
          -20.911377271444717,
          142.16999459646556,
          130.4995860802492,
          117.69791493117384,
          -53.67476037873682,
          65.2572405821098,
          116.72430240265697,
          46.15249703640909,
          162.43699549124543,
          -33.03981056642746,
          -150.29784306560094,
          -41.072777340901546,
          76.5006634893905,
          60.78053659612376,
          -70.68463013409237,
          63.23737632267115,
          34.81255316403366,
          218.1647707914521,
          2.453455845064454,
          143.30155876366732,
          3.591663648269485,
          48.262906347775825,
          -110.59874266202569,
          66.77848634157941,
          245.67639818580332,
          -106.79723163615857,
          51.41919648673977,
          110.16589860229247,
          30.182214301293257,
          57.46462033960301,
          1.631289322421651,
          -124.5943297507875,
          -8.754646877589284,
          -26.01534303755756,
          75.38947615714854,
          -24.506038438076754,
          -25.377817403025848,
          11.206585626706861,
          -17.687059616561974,
          156.1105623417784,
          -234.88747056998739,
          77.36108969701189,
          260.03746616844757,
          -69.44536030543739,
          111.76425275893266,
          60.626900208374835,
          199.45161988790687,
          -38.89497216392916,
          118.25679958841846
         ]
        },
        {
         "type": "surface",
         "x": [
          -5,
          -3.888888888888889,
          -2.7777777777777777,
          -1.6666666666666665,
          -0.5555555555555554,
          0.5555555555555554,
          1.666666666666667,
          2.7777777777777786,
          3.8888888888888893,
          5
         ],
         "y": [
          -5,
          -3.888888888888889,
          -2.7777777777777777,
          -1.6666666666666665,
          -0.5555555555555554,
          0.5555555555555554,
          1.666666666666667,
          2.7777777777777786,
          3.8888888888888893,
          5
         ],
         "z": [
          [
           -808.1469156323328,
           -717.8938330484746,
           -627.6407504646165,
           -537.3876678807583,
           -447.1345852969001,
           -356.881502713042,
           -266.6284201291838,
           -176.37533754532555,
           -86.1222549614674,
           4.130827622390736
          ],
          [
           -717.5701755782079,
           -627.3170929943497,
           -537.0640104104916,
           -446.81092782663336,
           -356.5578452427752,
           -266.30476265891707,
           -176.05168007505884,
           -85.79859749120064,
           4.454485092657503,
           94.70756767651565
          ],
          [
           -626.993435524083,
           -536.7403529402247,
           -446.4872703563666,
           -356.23418777250845,
           -265.9811051886503,
           -175.7280226047921,
           -85.4749400209339,
           4.778142562924298,
           95.03122514678245,
           185.2843077306406
          ],
          [
           -536.4166954699581,
           -446.1636128860998,
           -355.9105303022417,
           -265.65744771838354,
           -175.4043651345253,
           -85.15128255066716,
           5.1018000331910365,
           95.35488261704924,
           185.6079652009074,
           275.8610477847655
          ],
          [
           -445.8399554158331,
           -355.5868728319749,
           -265.33379024811677,
           -175.08070766425857,
           -84.8276250804004,
           5.4254575034577535,
           95.67854008731595,
           185.93162267117415,
           276.18470525503227,
           366.4377878388904
          ],
          [
           -355.2632153617082,
           -265.01013277785,
           -174.75705019399183,
           -84.50396761013366,
           5.749114973724506,
           96.00219755758266,
           186.25528014144086,
           276.50836272529904,
           366.7614453091572,
           457.0145278930153
          ],
          [
           -264.68647530758324,
           -174.433392723725,
           -84.18031013986686,
           6.072772443991308,
           96.32585502784949,
           186.57893761170763,
           276.8320201955658,
           367.085102779424,
           457.33818536328215,
           547.5912679471403
          ],
          [
           -174.10973525345827,
           -83.85665266960007,
           6.396429914258075,
           96.64951249811625,
           186.90259508197443,
           277.1556776658325,
           367.4087602496908,
           457.6618428335489,
           547.9149254174071,
           638.1680080012652
          ],
          [
           -83.53299519933339,
           6.720087384524813,
           96.97316996838296,
           187.22625255224114,
           277.4793351360993,
           367.7324177199574,
           457.9855003038156,
           548.2385828876738,
           638.491665471532,
           728.7447480553901
          ],
          [
           7.043744854791523,
           97.29682743864973,
           187.54991002250787,
           277.80299260636605,
           368.0560751902242,
           458.30915777408234,
           548.5622403579405,
           638.8153229417987,
           729.0684055256569,
           819.321488109515
          ]
         ]
        }
       ],
       "layout": {
        "legend": {
         "tracegroupgap": 0
        },
        "margin": {
         "t": 60
        },
        "scene": {
         "domain": {
          "x": [
           0,
           1
          ],
          "y": [
           0,
           1
          ]
         },
         "xaxis": {
          "title": {
           "text": "feature1"
          }
         },
         "yaxis": {
          "title": {
           "text": "feature2"
          }
         },
         "zaxis": {
          "title": {
           "text": "target"
          }
         }
        },
        "template": {
         "data": {
          "bar": [
           {
            "error_x": {
             "color": "#2a3f5f"
            },
            "error_y": {
             "color": "#2a3f5f"
            },
            "marker": {
             "line": {
              "color": "#E5ECF6",
              "width": 0.5
             },
             "pattern": {
              "fillmode": "overlay",
              "size": 10,
              "solidity": 0.2
             }
            },
            "type": "bar"
           }
          ],
          "barpolar": [
           {
            "marker": {
             "line": {
              "color": "#E5ECF6",
              "width": 0.5
             },
             "pattern": {
              "fillmode": "overlay",
              "size": 10,
              "solidity": 0.2
             }
            },
            "type": "barpolar"
           }
          ],
          "carpet": [
           {
            "aaxis": {
             "endlinecolor": "#2a3f5f",
             "gridcolor": "white",
             "linecolor": "white",
             "minorgridcolor": "white",
             "startlinecolor": "#2a3f5f"
            },
            "baxis": {
             "endlinecolor": "#2a3f5f",
             "gridcolor": "white",
             "linecolor": "white",
             "minorgridcolor": "white",
             "startlinecolor": "#2a3f5f"
            },
            "type": "carpet"
           }
          ],
          "choropleth": [
           {
            "colorbar": {
             "outlinewidth": 0,
             "ticks": ""
            },
            "type": "choropleth"
           }
          ],
          "contour": [
           {
            "colorbar": {
             "outlinewidth": 0,
             "ticks": ""
            },
            "colorscale": [
             [
              0,
              "#0d0887"
             ],
             [
              0.1111111111111111,
              "#46039f"
             ],
             [
              0.2222222222222222,
              "#7201a8"
             ],
             [
              0.3333333333333333,
              "#9c179e"
             ],
             [
              0.4444444444444444,
              "#bd3786"
             ],
             [
              0.5555555555555556,
              "#d8576b"
             ],
             [
              0.6666666666666666,
              "#ed7953"
             ],
             [
              0.7777777777777778,
              "#fb9f3a"
             ],
             [
              0.8888888888888888,
              "#fdca26"
             ],
             [
              1,
              "#f0f921"
             ]
            ],
            "type": "contour"
           }
          ],
          "contourcarpet": [
           {
            "colorbar": {
             "outlinewidth": 0,
             "ticks": ""
            },
            "type": "contourcarpet"
           }
          ],
          "heatmap": [
           {
            "colorbar": {
             "outlinewidth": 0,
             "ticks": ""
            },
            "colorscale": [
             [
              0,
              "#0d0887"
             ],
             [
              0.1111111111111111,
              "#46039f"
             ],
             [
              0.2222222222222222,
              "#7201a8"
             ],
             [
              0.3333333333333333,
              "#9c179e"
             ],
             [
              0.4444444444444444,
              "#bd3786"
             ],
             [
              0.5555555555555556,
              "#d8576b"
             ],
             [
              0.6666666666666666,
              "#ed7953"
             ],
             [
              0.7777777777777778,
              "#fb9f3a"
             ],
             [
              0.8888888888888888,
              "#fdca26"
             ],
             [
              1,
              "#f0f921"
             ]
            ],
            "type": "heatmap"
           }
          ],
          "heatmapgl": [
           {
            "colorbar": {
             "outlinewidth": 0,
             "ticks": ""
            },
            "colorscale": [
             [
              0,
              "#0d0887"
             ],
             [
              0.1111111111111111,
              "#46039f"
             ],
             [
              0.2222222222222222,
              "#7201a8"
             ],
             [
              0.3333333333333333,
              "#9c179e"
             ],
             [
              0.4444444444444444,
              "#bd3786"
             ],
             [
              0.5555555555555556,
              "#d8576b"
             ],
             [
              0.6666666666666666,
              "#ed7953"
             ],
             [
              0.7777777777777778,
              "#fb9f3a"
             ],
             [
              0.8888888888888888,
              "#fdca26"
             ],
             [
              1,
              "#f0f921"
             ]
            ],
            "type": "heatmapgl"
           }
          ],
          "histogram": [
           {
            "marker": {
             "pattern": {
              "fillmode": "overlay",
              "size": 10,
              "solidity": 0.2
             }
            },
            "type": "histogram"
           }
          ],
          "histogram2d": [
           {
            "colorbar": {
             "outlinewidth": 0,
             "ticks": ""
            },
            "colorscale": [
             [
              0,
              "#0d0887"
             ],
             [
              0.1111111111111111,
              "#46039f"
             ],
             [
              0.2222222222222222,
              "#7201a8"
             ],
             [
              0.3333333333333333,
              "#9c179e"
             ],
             [
              0.4444444444444444,
              "#bd3786"
             ],
             [
              0.5555555555555556,
              "#d8576b"
             ],
             [
              0.6666666666666666,
              "#ed7953"
             ],
             [
              0.7777777777777778,
              "#fb9f3a"
             ],
             [
              0.8888888888888888,
              "#fdca26"
             ],
             [
              1,
              "#f0f921"
             ]
            ],
            "type": "histogram2d"
           }
          ],
          "histogram2dcontour": [
           {
            "colorbar": {
             "outlinewidth": 0,
             "ticks": ""
            },
            "colorscale": [
             [
              0,
              "#0d0887"
             ],
             [
              0.1111111111111111,
              "#46039f"
             ],
             [
              0.2222222222222222,
              "#7201a8"
             ],
             [
              0.3333333333333333,
              "#9c179e"
             ],
             [
              0.4444444444444444,
              "#bd3786"
             ],
             [
              0.5555555555555556,
              "#d8576b"
             ],
             [
              0.6666666666666666,
              "#ed7953"
             ],
             [
              0.7777777777777778,
              "#fb9f3a"
             ],
             [
              0.8888888888888888,
              "#fdca26"
             ],
             [
              1,
              "#f0f921"
             ]
            ],
            "type": "histogram2dcontour"
           }
          ],
          "mesh3d": [
           {
            "colorbar": {
             "outlinewidth": 0,
             "ticks": ""
            },
            "type": "mesh3d"
           }
          ],
          "parcoords": [
           {
            "line": {
             "colorbar": {
              "outlinewidth": 0,
              "ticks": ""
             }
            },
            "type": "parcoords"
           }
          ],
          "pie": [
           {
            "automargin": true,
            "type": "pie"
           }
          ],
          "scatter": [
           {
            "fillpattern": {
             "fillmode": "overlay",
             "size": 10,
             "solidity": 0.2
            },
            "type": "scatter"
           }
          ],
          "scatter3d": [
           {
            "line": {
             "colorbar": {
              "outlinewidth": 0,
              "ticks": ""
             }
            },
            "marker": {
             "colorbar": {
              "outlinewidth": 0,
              "ticks": ""
             }
            },
            "type": "scatter3d"
           }
          ],
          "scattercarpet": [
           {
            "marker": {
             "colorbar": {
              "outlinewidth": 0,
              "ticks": ""
             }
            },
            "type": "scattercarpet"
           }
          ],
          "scattergeo": [
           {
            "marker": {
             "colorbar": {
              "outlinewidth": 0,
              "ticks": ""
             }
            },
            "type": "scattergeo"
           }
          ],
          "scattergl": [
           {
            "marker": {
             "colorbar": {
              "outlinewidth": 0,
              "ticks": ""
             }
            },
            "type": "scattergl"
           }
          ],
          "scattermapbox": [
           {
            "marker": {
             "colorbar": {
              "outlinewidth": 0,
              "ticks": ""
             }
            },
            "type": "scattermapbox"
           }
          ],
          "scatterpolar": [
           {
            "marker": {
             "colorbar": {
              "outlinewidth": 0,
              "ticks": ""
             }
            },
            "type": "scatterpolar"
           }
          ],
          "scatterpolargl": [
           {
            "marker": {
             "colorbar": {
              "outlinewidth": 0,
              "ticks": ""
             }
            },
            "type": "scatterpolargl"
           }
          ],
          "scatterternary": [
           {
            "marker": {
             "colorbar": {
              "outlinewidth": 0,
              "ticks": ""
             }
            },
            "type": "scatterternary"
           }
          ],
          "surface": [
           {
            "colorbar": {
             "outlinewidth": 0,
             "ticks": ""
            },
            "colorscale": [
             [
              0,
              "#0d0887"
             ],
             [
              0.1111111111111111,
              "#46039f"
             ],
             [
              0.2222222222222222,
              "#7201a8"
             ],
             [
              0.3333333333333333,
              "#9c179e"
             ],
             [
              0.4444444444444444,
              "#bd3786"
             ],
             [
              0.5555555555555556,
              "#d8576b"
             ],
             [
              0.6666666666666666,
              "#ed7953"
             ],
             [
              0.7777777777777778,
              "#fb9f3a"
             ],
             [
              0.8888888888888888,
              "#fdca26"
             ],
             [
              1,
              "#f0f921"
             ]
            ],
            "type": "surface"
           }
          ],
          "table": [
           {
            "cells": {
             "fill": {
              "color": "#EBF0F8"
             },
             "line": {
              "color": "white"
             }
            },
            "header": {
             "fill": {
              "color": "#C8D4E3"
             },
             "line": {
              "color": "white"
             }
            },
            "type": "table"
           }
          ]
         },
         "layout": {
          "annotationdefaults": {
           "arrowcolor": "#2a3f5f",
           "arrowhead": 0,
           "arrowwidth": 1
          },
          "autotypenumbers": "strict",
          "coloraxis": {
           "colorbar": {
            "outlinewidth": 0,
            "ticks": ""
           }
          },
          "colorscale": {
           "diverging": [
            [
             0,
             "#8e0152"
            ],
            [
             0.1,
             "#c51b7d"
            ],
            [
             0.2,
             "#de77ae"
            ],
            [
             0.3,
             "#f1b6da"
            ],
            [
             0.4,
             "#fde0ef"
            ],
            [
             0.5,
             "#f7f7f7"
            ],
            [
             0.6,
             "#e6f5d0"
            ],
            [
             0.7,
             "#b8e186"
            ],
            [
             0.8,
             "#7fbc41"
            ],
            [
             0.9,
             "#4d9221"
            ],
            [
             1,
             "#276419"
            ]
           ],
           "sequential": [
            [
             0,
             "#0d0887"
            ],
            [
             0.1111111111111111,
             "#46039f"
            ],
            [
             0.2222222222222222,
             "#7201a8"
            ],
            [
             0.3333333333333333,
             "#9c179e"
            ],
            [
             0.4444444444444444,
             "#bd3786"
            ],
            [
             0.5555555555555556,
             "#d8576b"
            ],
            [
             0.6666666666666666,
             "#ed7953"
            ],
            [
             0.7777777777777778,
             "#fb9f3a"
            ],
            [
             0.8888888888888888,
             "#fdca26"
            ],
            [
             1,
             "#f0f921"
            ]
           ],
           "sequentialminus": [
            [
             0,
             "#0d0887"
            ],
            [
             0.1111111111111111,
             "#46039f"
            ],
            [
             0.2222222222222222,
             "#7201a8"
            ],
            [
             0.3333333333333333,
             "#9c179e"
            ],
            [
             0.4444444444444444,
             "#bd3786"
            ],
            [
             0.5555555555555556,
             "#d8576b"
            ],
            [
             0.6666666666666666,
             "#ed7953"
            ],
            [
             0.7777777777777778,
             "#fb9f3a"
            ],
            [
             0.8888888888888888,
             "#fdca26"
            ],
            [
             1,
             "#f0f921"
            ]
           ]
          },
          "colorway": [
           "#636efa",
           "#EF553B",
           "#00cc96",
           "#ab63fa",
           "#FFA15A",
           "#19d3f3",
           "#FF6692",
           "#B6E880",
           "#FF97FF",
           "#FECB52"
          ],
          "font": {
           "color": "#2a3f5f"
          },
          "geo": {
           "bgcolor": "white",
           "lakecolor": "white",
           "landcolor": "#E5ECF6",
           "showlakes": true,
           "showland": true,
           "subunitcolor": "white"
          },
          "hoverlabel": {
           "align": "left"
          },
          "hovermode": "closest",
          "mapbox": {
           "style": "light"
          },
          "paper_bgcolor": "white",
          "plot_bgcolor": "#E5ECF6",
          "polar": {
           "angularaxis": {
            "gridcolor": "white",
            "linecolor": "white",
            "ticks": ""
           },
           "bgcolor": "#E5ECF6",
           "radialaxis": {
            "gridcolor": "white",
            "linecolor": "white",
            "ticks": ""
           }
          },
          "scene": {
           "xaxis": {
            "backgroundcolor": "#E5ECF6",
            "gridcolor": "white",
            "gridwidth": 2,
            "linecolor": "white",
            "showbackground": true,
            "ticks": "",
            "zerolinecolor": "white"
           },
           "yaxis": {
            "backgroundcolor": "#E5ECF6",
            "gridcolor": "white",
            "gridwidth": 2,
            "linecolor": "white",
            "showbackground": true,
            "ticks": "",
            "zerolinecolor": "white"
           },
           "zaxis": {
            "backgroundcolor": "#E5ECF6",
            "gridcolor": "white",
            "gridwidth": 2,
            "linecolor": "white",
            "showbackground": true,
            "ticks": "",
            "zerolinecolor": "white"
           }
          },
          "shapedefaults": {
           "line": {
            "color": "#2a3f5f"
           }
          },
          "ternary": {
           "aaxis": {
            "gridcolor": "white",
            "linecolor": "white",
            "ticks": ""
           },
           "baxis": {
            "gridcolor": "white",
            "linecolor": "white",
            "ticks": ""
           },
           "bgcolor": "#E5ECF6",
           "caxis": {
            "gridcolor": "white",
            "linecolor": "white",
            "ticks": ""
           }
          },
          "title": {
           "x": 0.05
          },
          "xaxis": {
           "automargin": true,
           "gridcolor": "white",
           "linecolor": "white",
           "ticks": "",
           "title": {
            "standoff": 15
           },
           "zerolinecolor": "white",
           "zerolinewidth": 2
          },
          "yaxis": {
           "automargin": true,
           "gridcolor": "white",
           "linecolor": "white",
           "ticks": "",
           "title": {
            "standoff": 15
           },
           "zerolinecolor": "white",
           "zerolinewidth": 2
          }
         }
        }
       }
      }
     },
     "metadata": {},
     "output_type": "display_data"
    }
   ],
   "source": [
    "fig=px.scatter_3d(df,x='feature1',y='feature2',z='target')\n",
    "fig.add_trace(go.Surface(x=x1,y=x2,z=z))\n",
    "fig.show()"
   ]
  },
  {
   "cell_type": "code",
   "execution_count": 15,
   "id": "9961e10a",
   "metadata": {},
   "outputs": [
    {
     "data": {
      "text/plain": [
       "array([81.22777433, 81.51906605])"
      ]
     },
     "execution_count": 15,
     "metadata": {},
     "output_type": "execute_result"
    }
   ],
   "source": [
    "lr.coef_"
   ]
  },
  {
   "cell_type": "code",
   "execution_count": 16,
   "id": "ce4d06dc",
   "metadata": {},
   "outputs": [
    {
     "data": {
      "text/plain": [
       "np.float64(5.58728623859113)"
      ]
     },
     "execution_count": 16,
     "metadata": {},
     "output_type": "execute_result"
    }
   ],
   "source": [
    "lr.intercept_"
   ]
  },
  {
   "cell_type": "code",
   "execution_count": null,
   "id": "79a12a02",
   "metadata": {},
   "outputs": [],
   "source": []
  }
 ],
 "metadata": {
  "kernelspec": {
   "display_name": "Python 3",
   "language": "python",
   "name": "python3"
  },
  "language_info": {
   "codemirror_mode": {
    "name": "ipython",
    "version": 3
   },
   "file_extension": ".py",
   "mimetype": "text/x-python",
   "name": "python",
   "nbconvert_exporter": "python",
   "pygments_lexer": "ipython3",
   "version": "3.12.4"
  }
 },
 "nbformat": 4,
 "nbformat_minor": 5
}
