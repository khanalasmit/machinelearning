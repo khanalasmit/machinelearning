{
 "cells": [
  {
   "cell_type": "markdown",
   "id": "4232e66f",
   "metadata": {},
   "source": [
    "## **MULTIPLE LINEAR REGRESSION**"
   ]
  },
  {
   "cell_type": "markdown",
   "id": "5bf323ec",
   "metadata": {},
   "source": [
    "$$\n",
    "\\begin{bmatrix}\n",
    "\\hat{y_1}\\\\\n",
    "\\hat{y_2}\\\\\n",
    "\\hat{y_3}\\\\.\\\\\\hat{y_n}\\end{bmatrix}=\\begin{bmatrix} \\beta_{0} & \\beta_{1}X_{11}&\\beta_{2}X_{12}&\\beta_{3}X_{13}\\\\\n",
    "\\beta_{0} & \\beta_{1}X_{21}&\\beta_{2}X_{22}&\\beta_{3}X_{23}\\\\\n",
    "\\beta_{0} & \\beta_{1}X_{31}&\\beta_{2}X_{32}&\\beta_{3}X_{33}\\\\\n",
    ".&.&.&.\\\\\n",
    "\\beta_{0} & \\beta_{1}X_{n1}&\\beta_{2}X_{n2}&\\beta_{3}X_{n3}\\\\\n",
    "\\end{bmatrix}\n",
    "$$\n",
    "$$\n",
    "=\\begin{bmatrix}\n",
    "1 & X_{11}&X_{12}&X{13}\\\\\n",
    "1 & X_{21}&X_{22}&X{23}\\\\\n",
    "1 & X_{31}&X_{32}&X{33}\\\\\n",
    ".&.&.&.\\\\\n",
    "1 & X_{n1}&X_{n2}&X{n3}\\\\\n",
    "\\end{bmatrix}\n",
    "\\begin{bmatrix}\n",
    "\\beta{0}\\\\\n",
    "\\beta{1}\\\\\n",
    "\\beta{2}\\\\\n",
    "\\beta{3}\n",
    "\\end{bmatrix}\n",
    "$$\n",
    "$$\n",
    "Y=X\\beta\n",
    "$$"
   ]
  },
  {
   "cell_type": "markdown",
   "id": "86a82bff",
   "metadata": {},
   "source": [
    "$$\n",
    "e = \\begin{bmatrix}\n",
    "Y_1 - \\hat{Y}_1 \\\\\n",
    "Y_2 - \\hat{Y}_2 \\\\\n",
    "Y_3 - \\hat{Y}_3 \\\\\n",
    "\\vdots \\\\\n",
    "Y_n - \\hat{Y}_n\n",
    "\\end{bmatrix}\n",
    "$$\n",
    "$$\n",
    "E=\\sum_{i=1}^{n} (Y_i - \\hat{Y_i})^2\\\\\n",
    "e=Y - \\hat{Y}\\\\\n",
    "E=e^{T} e\\\\\n",
    "=(Y^{T}-\\hat{Y^{T}})(Y-\\hat{Y})\\\\\n",
    "=[Y^{T}-(X\\beta)^{T}](Y-X\\beta)\\\\\n",
    "=[Y^{T}Y-Y^{T}X\\beta - (X\\beta)^{T}Y+(X\\beta)^{T}X\\beta](we have,Y^{T}X\\beta = (X\\beta)^{T}Y)\\\\\n",
    "=\n"
   ]
  },
  {
   "cell_type": "markdown",
   "id": "bbd903df",
   "metadata": {},
   "source": []
  }
 ],
 "metadata": {
  "language_info": {
   "name": "python"
  }
 },
 "nbformat": 4,
 "nbformat_minor": 5
}
