{
 "cells": [
  {
   "cell_type": "markdown",
   "id": "4232e66f",
   "metadata": {},
   "source": [
    "## **MULTIPLE LINEAR REGRESSION**"
   ]
  },
  {
   "cell_type": "markdown",
   "id": "5bf323ec",
   "metadata": {},
   "source": [
    "$$\n",
    "\\begin{bmatrix}\n",
    "\\hat{y_1}\\\\\n",
    "\\hat{y_2}\\\\\n",
    "\\hat{y_3}\\\\.\\\\\\hat{y_n}\\end{bmatrix}=\\begin{bmatrix} \\beta_{0} & \\beta_{1}X_{11}&\\beta_{2}X_{12}&\\beta_{3}X_{13}\\\\\n",
    "\\beta_{0} & \\beta_{1}X_{21}&\\beta_{2}X_{22}&\\beta_{3}X_{23}\\\\\n",
    "\\beta_{0} & \\beta_{1}X_{31}&\\beta_{2}X_{32}&\\beta_{3}X_{33}\\\\\n",
    ".&.&.&.\\\\\n",
    "\\beta_{0} & \\beta_{1}X_{n1}&\\beta_{2}X_{n2}&\\beta_{3}X_{n3}\\\\\n",
    "\\end{bmatrix}\n",
    "$$\n",
    "$$\n",
    "=\\begin{bmatrix}\n",
    "1 & X_{11}&X_{12}&X{13}\\\\\n",
    "1 & X_{21}&X_{22}&X{23}\\\\\n",
    "1 & X_{31}&X_{32}&X{33}\\\\\n",
    ".&.&.&.\\\\\n",
    "1 & X_{n1}&X_{n2}&X{n3}\\\\\n",
    "\\end{bmatrix}\n",
    "\\begin{bmatrix}\n",
    "\\beta{0}\\\\\n",
    "\\beta{1}\\\\\n",
    "\\beta{2}\\\\\n",
    "\\beta{3}\n",
    "\\end{bmatrix}\n",
    "$$\n",
    "$$\n",
    "Y=X\\beta\n",
    "$$"
   ]
  },
  {
   "cell_type": "markdown",
   "id": "86a82bff",
   "metadata": {},
   "source": [
    "$$\n",
    "e = \\begin{bmatrix}\n",
    "Y_1 - \\hat{Y}_1 \\\\\n",
    "Y_2 - \\hat{Y}_2 \\\\\n",
    "Y_3 - \\hat{Y}_3 \\\\\n",
    "\\vdots \\\\\n",
    "Y_n - \\hat{Y}_n\n",
    "\\end{bmatrix}\n",
    "$$\n",
    "$$\n",
    "E=\\sum_{i=1}^{n} (Y_i - \\hat{Y_i})^2\\\\\n",
    "e=Y - \\hat{Y}\\\\\n",
    "E=e^{T} e\\\\\n",
    "=(Y^{T}-\\hat{Y^{T}})(Y-\\hat{Y})\\\\\n",
    "=[Y^{T}-(X\\beta)^{T}](Y-X\\beta)\\\\\n",
    "=[Y^{T}Y-Y^{T}X\\beta - (X\\beta)^{T}Y+(X\\beta)^{T}X\\beta](we have,Y^{T}X\\beta = (X\\beta)^{T}Y)\\\\\n",
    "=Y^{T}-2Y^{T}X\\beta + \\beta^{T}X^{T}X\\beta\\\\\n",
    "$$\n"
   ]
  },
  {
   "cell_type": "markdown",
   "id": "bbd903df",
   "metadata": {},
   "source": [
    "$$\n",
    "\\frac{dE}{d\\beta}=\\frac{d}{d\\beta}[Y^{T}Y-2Y^{T}X\\beta+\\beta^{T}X^{T}X\\beta]=0\\\\\n",
    "=0-2Y^{T}X+\\frac{d}{d\\beta}[\\beta^{T}X^{T}X\\beta]=0\\\\\n",
    "-2Y_{T}X+2X^{T}X\\beta^{T}\\\\=0\n",
    "2X^{T}X\\beta^{T}=2Y^{T}X\\\\\n",
    "\\beta^{T}=Y^{T}X(X^{T}X)^{-1}\\\\\n",
    "\\beta=[(X^{T}X)^{-1}](Y^{T}X)^{T}(\\text{taking transpose on both then we got the result})\\\\\n",
    "\\beta=[(X^{T}X)^{-1}]X^{T}Y\\\\\n",
    "\\beta=(X^{T}X)^{-1}X^{T}Y\n",
    "$$\n",
    "\n"
   ]
  },
  {
   "cell_type": "markdown",
   "id": "2e8d75dd",
   "metadata": {},
   "source": [
    "When we use the inverse of the matrix for the calculation it is so much time consuming so the gradient descent is used."
   ]
  },
  {
   "cell_type": "markdown",
   "id": "13439736",
   "metadata": {},
   "source": [
    "## **Code example**"
   ]
  },
  {
   "cell_type": "code",
   "execution_count": 17,
   "id": "3b30b88a",
   "metadata": {},
   "outputs": [],
   "source": [
    "import numpy as np\n",
    "import pandas as pd\n",
    "import plotly.express as px\n",
    "import matplotlib.pyplot as plt\n"
   ]
  },
  {
   "cell_type": "code",
   "execution_count": 18,
   "id": "f105dffb",
   "metadata": {},
   "outputs": [],
   "source": [
    "from sklearn.datasets import load_diabetes"
   ]
  },
  {
   "cell_type": "code",
   "execution_count": 19,
   "id": "5fd88b0f",
   "metadata": {},
   "outputs": [],
   "source": [
    "X,Y=load_diabetes(return_X_y=True)"
   ]
  },
  {
   "cell_type": "code",
   "execution_count": 20,
   "id": "3d0662d2",
   "metadata": {},
   "outputs": [
    {
     "data": {
      "text/plain": [
       "array([[ 0.03807591,  0.05068012,  0.06169621, ..., -0.00259226,\n",
       "         0.01990749, -0.01764613],\n",
       "       [-0.00188202, -0.04464164, -0.05147406, ..., -0.03949338,\n",
       "        -0.06833155, -0.09220405],\n",
       "       [ 0.08529891,  0.05068012,  0.04445121, ..., -0.00259226,\n",
       "         0.00286131, -0.02593034],\n",
       "       ...,\n",
       "       [ 0.04170844,  0.05068012, -0.01590626, ..., -0.01107952,\n",
       "        -0.04688253,  0.01549073],\n",
       "       [-0.04547248, -0.04464164,  0.03906215, ...,  0.02655962,\n",
       "         0.04452873, -0.02593034],\n",
       "       [-0.04547248, -0.04464164, -0.0730303 , ..., -0.03949338,\n",
       "        -0.00422151,  0.00306441]])"
      ]
     },
     "execution_count": 20,
     "metadata": {},
     "output_type": "execute_result"
    }
   ],
   "source": [
    "X"
   ]
  },
  {
   "cell_type": "code",
   "execution_count": 21,
   "id": "b5ba31dc",
   "metadata": {},
   "outputs": [
    {
     "data": {
      "text/plain": [
       "array([151.,  75., 141., 206., 135.,  97., 138.,  63., 110., 310., 101.,\n",
       "        69., 179., 185., 118., 171., 166., 144.,  97., 168.,  68.,  49.,\n",
       "        68., 245., 184., 202., 137.,  85., 131., 283., 129.,  59., 341.,\n",
       "        87.,  65., 102., 265., 276., 252.,  90., 100.,  55.,  61.,  92.,\n",
       "       259.,  53., 190., 142.,  75., 142., 155., 225.,  59., 104., 182.,\n",
       "       128.,  52.,  37., 170., 170.,  61., 144.,  52., 128.,  71., 163.,\n",
       "       150.,  97., 160., 178.,  48., 270., 202., 111.,  85.,  42., 170.,\n",
       "       200., 252., 113., 143.,  51.,  52., 210.,  65., 141.,  55., 134.,\n",
       "        42., 111.,  98., 164.,  48.,  96.,  90., 162., 150., 279.,  92.,\n",
       "        83., 128., 102., 302., 198.,  95.,  53., 134., 144., 232.,  81.,\n",
       "       104.,  59., 246., 297., 258., 229., 275., 281., 179., 200., 200.,\n",
       "       173., 180.,  84., 121., 161.,  99., 109., 115., 268., 274., 158.,\n",
       "       107.,  83., 103., 272.,  85., 280., 336., 281., 118., 317., 235.,\n",
       "        60., 174., 259., 178., 128.,  96., 126., 288.,  88., 292.,  71.,\n",
       "       197., 186.,  25.,  84.,  96., 195.,  53., 217., 172., 131., 214.,\n",
       "        59.,  70., 220., 268., 152.,  47.,  74., 295., 101., 151., 127.,\n",
       "       237., 225.,  81., 151., 107.,  64., 138., 185., 265., 101., 137.,\n",
       "       143., 141.,  79., 292., 178.,  91., 116.,  86., 122.,  72., 129.,\n",
       "       142.,  90., 158.,  39., 196., 222., 277.,  99., 196., 202., 155.,\n",
       "        77., 191.,  70.,  73.,  49.,  65., 263., 248., 296., 214., 185.,\n",
       "        78.,  93., 252., 150.,  77., 208.,  77., 108., 160.,  53., 220.,\n",
       "       154., 259.,  90., 246., 124.,  67.,  72., 257., 262., 275., 177.,\n",
       "        71.,  47., 187., 125.,  78.,  51., 258., 215., 303., 243.,  91.,\n",
       "       150., 310., 153., 346.,  63.,  89.,  50.,  39., 103., 308., 116.,\n",
       "       145.,  74.,  45., 115., 264.,  87., 202., 127., 182., 241.,  66.,\n",
       "        94., 283.,  64., 102., 200., 265.,  94., 230., 181., 156., 233.,\n",
       "        60., 219.,  80.,  68., 332., 248.,  84., 200.,  55.,  85.,  89.,\n",
       "        31., 129.,  83., 275.,  65., 198., 236., 253., 124.,  44., 172.,\n",
       "       114., 142., 109., 180., 144., 163., 147.,  97., 220., 190., 109.,\n",
       "       191., 122., 230., 242., 248., 249., 192., 131., 237.,  78., 135.,\n",
       "       244., 199., 270., 164.,  72.,  96., 306.,  91., 214.,  95., 216.,\n",
       "       263., 178., 113., 200., 139., 139.,  88., 148.,  88., 243.,  71.,\n",
       "        77., 109., 272.,  60.,  54., 221.,  90., 311., 281., 182., 321.,\n",
       "        58., 262., 206., 233., 242., 123., 167.,  63., 197.,  71., 168.,\n",
       "       140., 217., 121., 235., 245.,  40.,  52., 104., 132.,  88.,  69.,\n",
       "       219.,  72., 201., 110.,  51., 277.,  63., 118.,  69., 273., 258.,\n",
       "        43., 198., 242., 232., 175.,  93., 168., 275., 293., 281.,  72.,\n",
       "       140., 189., 181., 209., 136., 261., 113., 131., 174., 257.,  55.,\n",
       "        84.,  42., 146., 212., 233.,  91., 111., 152., 120.,  67., 310.,\n",
       "        94., 183.,  66., 173.,  72.,  49.,  64.,  48., 178., 104., 132.,\n",
       "       220.,  57.])"
      ]
     },
     "execution_count": 21,
     "metadata": {},
     "output_type": "execute_result"
    }
   ],
   "source": [
    "Y"
   ]
  },
  {
   "cell_type": "code",
   "execution_count": 22,
   "id": "a7e0492b",
   "metadata": {},
   "outputs": [
    {
     "data": {
      "text/plain": [
       "(442, 10)"
      ]
     },
     "execution_count": 22,
     "metadata": {},
     "output_type": "execute_result"
    }
   ],
   "source": [
    "X.shape"
   ]
  },
  {
   "cell_type": "code",
   "execution_count": 23,
   "id": "3afcccd0",
   "metadata": {},
   "outputs": [
    {
     "data": {
      "text/plain": [
       "(442,)"
      ]
     },
     "execution_count": 23,
     "metadata": {},
     "output_type": "execute_result"
    }
   ],
   "source": [
    "Y.shape"
   ]
  },
  {
   "cell_type": "code",
   "execution_count": 24,
   "id": "882eb5e1",
   "metadata": {},
   "outputs": [],
   "source": [
    "#using sklearn llinear regression\n",
    "from sklearn.model_selection import train_test_split\n",
    "from sklearn.linear_model import LinearRegression"
   ]
  },
  {
   "cell_type": "code",
   "execution_count": 25,
   "id": "0da1fd40",
   "metadata": {},
   "outputs": [],
   "source": [
    "x_train,x_test,y_train,y_test=train_test_split(X,Y,random_state=2,test_size=0.2)\n"
   ]
  },
  {
   "cell_type": "code",
   "execution_count": 26,
   "id": "b0ee6dc3",
   "metadata": {},
   "outputs": [
    {
     "data": {
      "text/plain": [
       "((353, 10), (89, 10))"
      ]
     },
     "execution_count": 26,
     "metadata": {},
     "output_type": "execute_result"
    }
   ],
   "source": [
    "x_train.shape,x_test.shape"
   ]
  },
  {
   "cell_type": "code",
   "execution_count": 27,
   "id": "abc7a1ad",
   "metadata": {},
   "outputs": [],
   "source": [
    "#making a sklearn linear regrssion model\n",
    "reg=LinearRegression()\n",
    "reg.fit(x_train,y_train)\n",
    "y_pred=reg.predict(x_test)"
   ]
  },
  {
   "cell_type": "code",
   "execution_count": 28,
   "id": "8c90203b",
   "metadata": {},
   "outputs": [
    {
     "data": {
      "text/plain": [
       "array([154.1213881 , 204.81835118, 124.93755353, 106.08950893,\n",
       "       258.5348576 , 256.3310074 , 118.75087616, 119.52440696,\n",
       "       101.50816735, 190.54048661, 141.70656811, 172.51883961,\n",
       "       174.33861649, 134.80942706, 294.13994537,  94.11798038,\n",
       "       211.97059795, 156.49579378, 134.21000428, 119.62664644,\n",
       "       148.87842251, 165.00873409, 151.10021038, 176.04063756,\n",
       "       133.27769647, 221.29555392, 197.17324941,  96.1577688 ,\n",
       "        50.26012711, 230.48580317, 242.06073866, 114.11129218,\n",
       "        67.07532417,  94.52943825, 201.21415375, 167.05136201,\n",
       "       159.881268  , 192.78746659, 114.49551325, 233.48234551,\n",
       "       140.82563045, 121.0680409 , 192.27480772, 191.12738845,\n",
       "       179.16865788, 148.34935601, 163.47414622, 276.81647884,\n",
       "       100.17926432, 164.10555298, 255.80762189, 136.9466204 ,\n",
       "       152.37503699, 107.92237882, 194.21924678,  77.34670792,\n",
       "       118.50482479,  68.38335763, 154.29258529, 162.48840259,\n",
       "       168.36788326, 156.87790322,  97.14191797, 238.1671215 ,\n",
       "       145.46179904, 117.65702433, 168.88784311, 198.38683887,\n",
       "       118.24053714, 124.64552812, 223.17700368, 200.63012386,\n",
       "       129.54414666, 158.1584765 , 154.332565  , 114.47070769,\n",
       "        70.44906407,  76.3973879 , 172.41584591,  80.56270077,\n",
       "        80.2722834 ,  89.46150248, 186.21572052, 275.46275403,\n",
       "       208.26784222, 143.79451509, 291.28766846, 206.32474844,\n",
       "        94.22935404])"
      ]
     },
     "execution_count": 28,
     "metadata": {},
     "output_type": "execute_result"
    }
   ],
   "source": [
    "y_pred"
   ]
  },
  {
   "cell_type": "code",
   "execution_count": 29,
   "id": "2ca1ba59",
   "metadata": {},
   "outputs": [],
   "source": [
    "from sklearn.metrics import r2_score"
   ]
  },
  {
   "cell_type": "code",
   "execution_count": 31,
   "id": "1a951c8f",
   "metadata": {},
   "outputs": [
    {
     "name": "stdout",
     "output_type": "stream",
     "text": [
      "R2 score is: 0.4399338661568968\n"
     ]
    }
   ],
   "source": [
    "print(\"R2 score is:\",r2_score(y_test,y_pred))#remember the order when passing first the test then predicted values"
   ]
  },
  {
   "cell_type": "code",
   "execution_count": 32,
   "id": "6c937eae",
   "metadata": {},
   "outputs": [
    {
     "data": {
      "text/plain": [
       "array([  -9.15865318, -205.45432163,  516.69374454,  340.61999905,\n",
       "       -895.5520019 ,  561.22067904,  153.89310954,  126.73139688,\n",
       "        861.12700152,   52.42112238])"
      ]
     },
     "execution_count": 32,
     "metadata": {},
     "output_type": "execute_result"
    }
   ],
   "source": [
    "reg.coef_"
   ]
  },
  {
   "cell_type": "code",
   "execution_count": 33,
   "id": "0b3f265f",
   "metadata": {},
   "outputs": [
    {
     "data": {
      "text/plain": [
       "np.float64(151.88331005254167)"
      ]
     },
     "execution_count": 33,
     "metadata": {},
     "output_type": "execute_result"
    }
   ],
   "source": [
    "reg.intercept_"
   ]
  },
  {
   "cell_type": "markdown",
   "id": "3e271b4c",
   "metadata": {},
   "source": [
    "### **Making regrssion class**"
   ]
  },
  {
   "cell_type": "code",
   "execution_count": 45,
   "id": "72a8be0b",
   "metadata": {},
   "outputs": [],
   "source": [
    "class Multipleregression:\n",
    "    def __init__(self):\n",
    "        self.intercept_=None\n",
    "        self.coef_=None\n",
    "    \n",
    "    def fit(self,x_train,y_train):\n",
    "        #inserting 1 at the begining of the array in each rows of the array\n",
    "        x_train=np.insert(x_train,0,1,axis=1)\n",
    "        a=x_train.T@x_train\n",
    "        b=np.linalg.inv(a)\n",
    "        betas=b@x_train.T@y_train\n",
    "        self.intercept_=betas[0]\n",
    "        self.coef_=betas[1:]\n",
    "    def predict(self,x_test):\n",
    "        y_pred=x_test@self.coef_+self.intercept_\n",
    "        return y_pred"
   ]
  },
  {
   "cell_type": "code",
   "execution_count": 46,
   "id": "7329cb74",
   "metadata": {},
   "outputs": [],
   "source": [
    "mlt=Multipleregression()\n",
    "mlt.fit(x_train,y_train)\n",
    "y_pred=mlt.predict(x_test)"
   ]
  },
  {
   "cell_type": "code",
   "execution_count": 47,
   "id": "364b623e",
   "metadata": {},
   "outputs": [
    {
     "name": "stdout",
     "output_type": "stream",
     "text": [
      "r2_score 0.43993386615689756\n"
     ]
    }
   ],
   "source": [
    "print('r2_score',r2_score(y_test,y_pred))"
   ]
  },
  {
   "cell_type": "markdown",
   "id": "201ffc32",
   "metadata": {},
   "source": [
    "We got the same result with the sklearn model adn the model we created."
   ]
  },
  {
   "cell_type": "code",
   "execution_count": null,
   "id": "8074084a",
   "metadata": {},
   "outputs": [],
   "source": []
  }
 ],
 "metadata": {
  "kernelspec": {
   "display_name": "Python 3",
   "language": "python",
   "name": "python3"
  },
  "language_info": {
   "codemirror_mode": {
    "name": "ipython",
    "version": 3
   },
   "file_extension": ".py",
   "mimetype": "text/x-python",
   "name": "python",
   "nbconvert_exporter": "python",
   "pygments_lexer": "ipython3",
   "version": "3.12.4"
  }
 },
 "nbformat": 4,
 "nbformat_minor": 5
}
